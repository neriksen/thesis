{
 "cells": [
  {
   "cell_type": "code",
   "execution_count": null,
   "metadata": {},
   "outputs": [],
   "source": [
    "import numpy as np\n",
    "import matplotlib.pyplot as plt\n",
    "plt.style.use(\"seaborn\")\n",
    "import yfinance as yf\n",
    "import matplotlib"
   ]
  },
  {
   "cell_type": "code",
   "execution_count": null,
   "metadata": {},
   "outputs": [],
   "source": [
    "t = 50\n",
    "num_params = 2"
   ]
  },
  {
   "cell_type": "code",
   "execution_count": null,
   "metadata": {},
   "outputs": [],
   "source": [
    "alpha = [0.3414, 0.3414]\n",
    "beta = [0, 0.6586]"
   ]
  },
  {
   "cell_type": "code",
   "execution_count": null,
   "metadata": {},
   "outputs": [],
   "source": [
    "cond_var = lambda omega, alpha, epsilon, beta, sigma: omega + alpha*epsilon**2 + beta*sigma"
   ]
  },
  {
   "cell_type": "code",
   "execution_count": null,
   "metadata": {},
   "outputs": [],
   "source": [
    "\n",
    "epsilon = np.full((t), 0)\n",
    "epsilon[int(t/2)] = 8"
   ]
  },
  {
   "cell_type": "code",
   "execution_count": null,
   "metadata": {},
   "outputs": [],
   "source": [
    "#omega = np.linspace(1.5, 0.05, num_params)\n",
    "omega = [1.5174, 0.5]\n",
    "#omega = [1, 1]\n",
    "sigma_t = [[1]*len(alpha)]"
   ]
  },
  {
   "cell_type": "code",
   "execution_count": null,
   "metadata": {},
   "outputs": [],
   "source": [
    "for i, e in enumerate(epsilon):\n",
    "    tmp = []\n",
    "    for j, (a, b, o) in enumerate(zip(alpha, beta, omega)):\n",
    "        tmp.append(cond_var(o, a, e, b, sigma_t[i][j]))\n",
    "    sigma_t.append(tmp)"
   ]
  },
  {
   "cell_type": "code",
   "execution_count": null,
   "metadata": {},
   "outputs": [],
   "source": [
    "\n",
    "plt.style.use('seaborn')\n",
    "#Omdanner til np.array\n",
    "sigma=np.array(sigma_t)\n",
    "#Laver figur\n",
    "fig, ax = plt.subplots(1, 1, figsize=(9,7), dpi=192)\n",
    "ax.plot(sigma[:,0], linewidth = 1.5,label=\"ARCH(1)\")\n",
    "ax.plot(sigma[:,1], linewidth = 1.5,label=\"GARCH(1,1)\")\n",
    "ax.set_xlabel(\"Periods, $t$\",size=18)\n",
    "ax.set_ylabel(\"Conditional Variance, $\\sigma^2_t$\",loc='top', rotation = 0, labelpad = -225,size=18)\n",
    "ax.set_xlim(xmin=10)\n",
    "ax.set_xlim(xmax=50)\n",
    "plt.tight_layout()\n",
    "plt.legend(fontsize='x-large')\n",
    "plt.xticks(fontsize=18)\n",
    "plt.yticks(fontsize=18)\n",
    "fig.savefig('irf_(G)ARCH.png', bbox_inches=\"tight\")"
   ]
  }
 ],
 "metadata": {
  "kernelspec": {
   "display_name": "Python 3",
   "language": "python",
   "name": "python3"
  },
  "language_info": {
   "codemirror_mode": {
    "name": "ipython",
    "version": 3
   },
   "file_extension": ".py",
   "mimetype": "text/x-python",
   "name": "python",
   "nbconvert_exporter": "python",
   "pygments_lexer": "ipython3",
   "version": "3.7.0"
  }
 },
 "nbformat": 4,
 "nbformat_minor": 4
}
