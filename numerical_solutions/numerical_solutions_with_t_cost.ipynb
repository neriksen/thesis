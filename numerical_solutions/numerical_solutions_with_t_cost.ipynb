{
 "cells": [
  {
   "cell_type": "code",
   "execution_count": null,
   "metadata": {},
   "outputs": [],
   "source": [
    "import quadprog\n",
    "from scipy.optimize import minimize\n",
    "from scipy.optimize import LinearConstraint\n",
    "import numpy as np\n",
    "import pandas as pd\n",
    "from numpy.linalg import multi_dot as mdot\n",
    "from numpy import dot\n",
    "from numpy import divide\n",
    "from numpy.linalg import inv"
   ]
  },
  {
   "cell_type": "markdown",
   "metadata": {},
   "source": [
    "## Solving for $A_{vv}$"
   ]
  },
  {
   "attachments": {
    "14ed913b-0dcb-46f7-88c9-21fc17ce4d8b.png": {
     "image/png": "[encoded data removed]"
    }
   },
   "cell_type": "markdown",
   "metadata": {},
   "source": [
    "![Avv.png](attachment:14ed913b-0dcb-46f7-88c9-21fc17ce4d8b.png)"
   ]
  },
  {
   "attachments": {
    "474bc2c5-ea5a-4539-b9f1-7d830ba84f74.png": {
     "image/png": "[encoded data removed]"
    }
   },
   "cell_type": "markdown",
   "metadata": {},
   "source": [
    "![J_t.png](attachment:474bc2c5-ea5a-4539-b9f1-7d830ba84f74.png)"
   ]
  },
  {
   "cell_type": "code",
   "execution_count": null,
   "metadata": {},
   "outputs": [],
   "source": [
    "# Setup\n",
    "rho = 1-np.exp(-0.02/260)\n",
    "Omega_t_plus_1 = np.array([[.2, .4, .6],\n",
    "                           [.2, 40, 3],\n",
    "                           [.1, .9, 5]])\n",
    "gamma_D = 8.4e-4\n",
    "Lambda_t = (gamma_D*Omega_t_plus_1)/(1-rho)\n",
    "\n",
    "\n",
    "\n",
    "Avv_guess = np.array([[12, 0.16459002, 0.10984029],\n",
    "                      [0.16459002, 0.19736949, 0.66823957],\n",
    "                      [0.0002, 123, 0.48578228]])\n",
    "\n",
    "\n",
    "p = Omega_t_plus_1.shape[0]\n",
    "gamma = 2\n",
    "ones = np.ones((p, 1))"
   ]
  },
  {
   "cell_type": "code",
   "execution_count": null,
   "metadata": {},
   "outputs": [],
   "source": [
    "def J_t_inv(Avv):\n",
    "    Avv = np.reshape(Avv, (p, p))\n",
    "    return inv(Omega_t_plus_1 + Avv + Lambda_t)"
   ]
  },
  {
   "cell_type": "code",
   "execution_count": null,
   "metadata": {},
   "outputs": [],
   "source": [
    "def LHS(Avv):\n",
    "    Avv = np.reshape(Avv, (p, p))\n",
    "    return (1/(1-rho))*Avv"
   ]
  },
  {
   "cell_type": "code",
   "execution_count": null,
   "metadata": {},
   "outputs": [],
   "source": [
    "def RHS(Avv):\n",
    "    Avv = np.reshape(Avv, (p, p))\n",
    "    return mdot([Lambda_t, J_t_inv(Avv), ones, 1/(mdot([ones.T, J_t_inv(Avv), ones])), ones.T, J_t_inv(Avv), Lambda_t])-mdot([Lambda_t, J_t_inv(Avv), Lambda_t]) + Lambda_t"
   ]
  },
  {
   "cell_type": "code",
   "execution_count": null,
   "metadata": {},
   "outputs": [],
   "source": [
    "def compare_sides(Avv):\n",
    "    Avv = np.reshape(Avv, (p, p))\n",
    "    Avv = np.triu(Avv)\n",
    "    Avv = Avv.T + Avv - np.diag(np.diag(Avv))    # Enforcing a diagonal\n",
    "    Left = LHS(Avv)\n",
    "    Right = RHS(Avv)\n",
    "    diff = np.abs(Left-Right)**2\n",
    "    return np.sum(diff)"
   ]
  },
  {
   "cell_type": "code",
   "execution_count": null,
   "metadata": {},
   "outputs": [],
   "source": [
    "def solve_Avv():\n",
    "    options = {\"maxiter\": 4000, \"ftol\": 11e-23}\n",
    "    res =minimize(fun = compare_sides, \n",
    "             x0 = Avv_guess,\n",
    "            method = 'SLSQP',\n",
    "            options = options,\n",
    "            tol = 1e-13)\n",
    "    return res"
   ]
  },
  {
   "cell_type": "code",
   "execution_count": null,
   "metadata": {},
   "outputs": [],
   "source": [
    "res = solve_Avv()"
   ]
  },
  {
   "cell_type": "code",
   "execution_count": null,
   "metadata": {},
   "outputs": [],
   "source": [
    "res"
   ]
  },
  {
   "cell_type": "code",
   "execution_count": null,
   "metadata": {},
   "outputs": [],
   "source": [
    "Avv = np.reshape(res.x, (p, p))\n",
    "Avv = np.triu(Avv)\n",
    "Avv = Avv.T + Avv - np.diag(np.diag(Avv))"
   ]
  },
  {
   "cell_type": "code",
   "execution_count": null,
   "metadata": {},
   "outputs": [],
   "source": [
    "LHS(Avv)-RHS(Avv)"
   ]
  },
  {
   "cell_type": "code",
   "execution_count": null,
   "metadata": {},
   "outputs": [],
   "source": [
    "LHS(Avv)"
   ]
  },
  {
   "cell_type": "code",
   "execution_count": null,
   "metadata": {},
   "outputs": [],
   "source": [
    "RHS(Avv)"
   ]
  },
  {
   "cell_type": "code",
   "execution_count": null,
   "metadata": {},
   "outputs": [],
   "source": [
    "Avv"
   ]
  },
  {
   "cell_type": "markdown",
   "metadata": {},
   "source": [
    "## Solving for $A_{v\\textbf{1}}$"
   ]
  },
  {
   "attachments": {
    "b5c58ba3-b7a9-4105-ae63-05f8207e2d6b.png": {
     "image/png": "[encoded data removed]"
    }
   },
   "cell_type": "markdown",
   "metadata": {},
   "source": [
    "![Av1.png](attachment:b5c58ba3-b7a9-4105-ae63-05f8207e2d6b.png)"
   ]
  },
  {
   "cell_type": "code",
   "execution_count": null,
   "metadata": {},
   "outputs": [],
   "source": [
    "fraction = (2*dot(Lambda_t, J_t_inv(Avv)))/(mdot([ones.T, J_t_inv(Avv), ones]))"
   ]
  },
  {
   "cell_type": "code",
   "execution_count": null,
   "metadata": {},
   "outputs": [],
   "source": [
    "ones.T"
   ]
  },
  {
   "cell_type": "code",
   "execution_count": null,
   "metadata": {},
   "outputs": [],
   "source": [
    "dot(ones.T, J_t_inv(Avv))"
   ]
  },
  {
   "cell_type": "code",
   "execution_count": null,
   "metadata": {},
   "outputs": [],
   "source": [
    "big_paranthesis = inv((1-rho)**(-1)+2*dot(Lambda_t, J_t_inv(Avv))-mdot([fraction, ones, ones.T, J_t_inv(Avv)]))"
   ]
  },
  {
   "cell_type": "code",
   "execution_count": null,
   "metadata": {},
   "outputs": [],
   "source": [
    "big_paranthesis"
   ]
  },
  {
   "cell_type": "code",
   "execution_count": null,
   "metadata": {},
   "outputs": [],
   "source": [
    "Av1 = dot(big_paranthesis, fraction)"
   ]
  },
  {
   "cell_type": "markdown",
   "metadata": {},
   "source": [
    "## Solving for $A_{\\textbf{1}\\textbf{1}}$"
   ]
  },
  {
   "attachments": {
    "d0ac8d5d-fd1a-4b41-b7a3-a0fbd43954e2.png": {
     "image/png": "[encoded data removed]"
    }
   },
   "cell_type": "markdown",
   "metadata": {},
   "source": [
    "![A11.png](attachment:d0ac8d5d-fd1a-4b41-b7a3-a0fbd43954e2.png)"
   ]
  },
  {
   "cell_type": "code",
   "execution_count": null,
   "metadata": {},
   "outputs": [],
   "source": [
    "first_paranthesis = (1-rho)/(1-rho+1)"
   ]
  },
  {
   "cell_type": "code",
   "execution_count": null,
   "metadata": {},
   "outputs": [],
   "source": [
    "square_brackets = mdot([Av1, J_t_inv(Avv), ones, ones.T, J_t_inv(Avv), Av1])+J_t_inv(Avv)/mdot([ones.T, J_t_inv(Avv), ones]) - 2*dot(J_t_inv(Avv), Av1)"
   ]
  },
  {
   "cell_type": "code",
   "execution_count": null,
   "metadata": {},
   "outputs": [],
   "source": [
    "curly_brackets = (1/mdot([ones.T, J_t_inv(Avv), ones]))*square_brackets-mdot([Av1, J_t_inv(Avv), Av1])"
   ]
  },
  {
   "cell_type": "code",
   "execution_count": null,
   "metadata": {},
   "outputs": [],
   "source": [
    "A11 = dot(first_paranthesis, curly_brackets)"
   ]
  },
  {
   "cell_type": "code",
   "execution_count": null,
   "metadata": {},
   "outputs": [],
   "source": [
    "A11"
   ]
  }
 ],
 "metadata": {
  "kernelspec": {
   "display_name": "Python 3",
   "language": "python",
   "name": "python3"
  },
  "language_info": {
   "codemirror_mode": {
    "name": "ipython",
    "version": 3
   },
   "file_extension": ".py",
   "mimetype": "text/x-python",
   "name": "python",
   "nbconvert_exporter": "python",
   "pygments_lexer": "ipython3",
   "version": "3.7.0"
  }
 },
 "nbformat": 4,
 "nbformat_minor": 4
}
