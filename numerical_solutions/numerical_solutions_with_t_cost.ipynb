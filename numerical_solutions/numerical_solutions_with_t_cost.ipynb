{
 "cells": [
  {
   "cell_type": "markdown",
   "metadata": {},
   "source": [
    "### Numerical solutions"
   ]
  },
  {
   "cell_type": "markdown",
   "metadata": {},
   "source": [
    "### 1. GARCH vol with trading costs"
   ]
  },
  {
   "cell_type": "markdown",
   "metadata": {},
   "source": [
    "Solve:\n",
    "$    V(v_{t-1})=\\min_{v_t}\\Bigg[\\frac{1}{2}(v_t-v_{t-1})'\\Lambda_t(v_t-v_{t-1})+(1-\\rho)\\bigg(\\frac{1}{2}v_{t}'\\mathbb{E}_{t}\\big[\\Omega_{t+1}]v_{t} +\\mathbb{E}_t[V(v_{t})] \\bigg)\\Bigg] - \\lambda_{t} (v_{t}'\\textbf{1}-1)$"
   ]
  },
  {
   "cell_type": "code",
   "execution_count": 2,
   "metadata": {},
   "outputs": [],
   "source": [
    "import quadprog\n",
    "from scipy.optimize import minimize\n",
    "from scipy.optimize import LinearConstraint\n",
    "import numpy as np\n",
    "import pandas as pd\n",
    "from numpy.linalg import multi_dot as mdot\n",
    "from numpy import dot\n",
    "from numpy import divide\n",
    "from numpy.linalg import inv"
   ]
  },
  {
   "cell_type": "code",
   "execution_count": 3,
   "metadata": {
    "tags": []
   },
   "outputs": [],
   "source": [
    "# Setup\n",
    "rho = 0.001\n",
    "Omega_t_plus_1 = np.array([[3, .4, .6],\n",
    "                           [.2, 4, .7],\n",
    "                           [.1, .9, 5]])\n",
    "gamma = 2"
   ]
  },
  {
   "cell_type": "code",
   "execution_count": 4,
   "metadata": {},
   "outputs": [],
   "source": [
    "def v_t_analytical(Omega_t_plus_1):\n",
    "    p = len(Omega_t_plus_1)\n",
    "    ones = np.ones((p, 1))\n",
    "    v_t_anal = divide(dot(inv(Omega_t_plus_1), ones), mdot([ones.T, inv(Omega_t_plus_1), ones]))\n",
    "    return np.ravel(v_t_anal)"
   ]
  },
  {
   "cell_type": "code",
   "execution_count": 30,
   "metadata": {},
   "outputs": [],
   "source": [
    "def Lambda(Omega, gamma):\n",
    "    return dot(Omega, gamma)"
   ]
  },
  {
   "cell_type": "code",
   "execution_count": 26,
   "metadata": {},
   "outputs": [],
   "source": [
    "def eq_constraint(v_t):\n",
    "    return np.sum(v_t)-1"
   ]
  },
  {
   "cell_type": "code",
   "execution_count": 27,
   "metadata": {
    "tags": []
   },
   "outputs": [],
   "source": [
    "def V_t(v_t, v_t_1, Omega_t_plus_1, rho, gamma):\n",
    "    first_term = 0.5*mdot([(v_t-v_t_1).T, Lambda(Omega_t_plus_1, gamma), (v_t-v_t_1)])\n",
    "    second_term = (1-rho)*(0.5*(mdot([v_t.T, Omega_t_plus_1, v_t])))\n",
    "    return (first_term + second_term)"
   ]
  },
  {
   "cell_type": "code",
   "execution_count": 28,
   "metadata": {},
   "outputs": [],
   "source": [
    "def solve_V_t(Omega_t_plus_1):\n",
    "    p = Omega_t_plus_1.shape[0]\n",
    "    constraint = [{'type': 'eq', 'fun': eq_constraint}]\n",
    "    res =minimize(fun = V_t, \n",
    "             x0 = np.full((p, 1), 1/p),\n",
    "             args = (v_t_analytical(Omega_t_plus_1), Omega_t_plus_1, rho),\n",
    "             constraints=constraint,\n",
    "             method=\"SLSQP\")\n",
    "    v_t_num = res.x"
   ]
  },
  {
   "cell_type": "markdown",
   "metadata": {},
   "source": [
    "## Testing how to solve for $A_{vv}$"
   ]
  },
  {
   "attachments": {
    "14ed913b-0dcb-46f7-88c9-21fc17ce4d8b.png": {
     "image/png": "[encoded data removed]"
    }
   },
   "cell_type": "markdown",
   "metadata": {},
   "source": [
    "![Avv.png](attachment:14ed913b-0dcb-46f7-88c9-21fc17ce4d8b.png)"
   ]
  },
  {
   "attachments": {
    "474bc2c5-ea5a-4539-b9f1-7d830ba84f74.png": {
     "image/png": "[encoded data removed]"
    }
   },
   "cell_type": "markdown",
   "metadata": {},
   "source": [
    "![J_t.png](attachment:474bc2c5-ea5a-4539-b9f1-7d830ba84f74.png)"
   ]
  },
  {
   "cell_type": "code",
   "execution_count": 237,
   "metadata": {},
   "outputs": [],
   "source": [
    "# Setup\n",
    "rho = 0.001\n",
    "Omega_t_plus_1 = np.array([[.2, .4, .6],\n",
    "                           [.2, 4, .7],\n",
    "                           [.1, .9, 5]])\n",
    "Lambda_t = np.array([[0.03, 0.02, 0.16],\n",
    "                           [.2, .2, 0.7],\n",
    "                           [.1, 0.09, 0.5]])\n",
    "Avv_guess = np.array([[0.02992854, 0.02003987, 0.15647208],\n",
    "       [0.19801891, 0.1983378 , 0.68126664],\n",
    "       [0.09885875, 0.08914228, 0.48635607]])\n",
    "\n",
    "p = Omega_t_plus_1.shape[0]\n",
    "gamma = 2\n",
    "ones = np.ones((p, 1))"
   ]
  },
  {
   "cell_type": "code",
   "execution_count": 238,
   "metadata": {},
   "outputs": [],
   "source": [
    "def J_t_inv(Avv):\n",
    "    Avv = np.reshape(Avv, (p, p))\n",
    "    return np.linalg.inv(Omega_t_plus_1 + Avv + Lambda_t)"
   ]
  },
  {
   "cell_type": "code",
   "execution_count": 239,
   "metadata": {},
   "outputs": [],
   "source": [
    "def LHS(Avv):\n",
    "    Avv = np.reshape(Avv, (p, p))\n",
    "    return (1/(1-rho))*Avv"
   ]
  },
  {
   "cell_type": "code",
   "execution_count": 240,
   "metadata": {},
   "outputs": [],
   "source": [
    "def RHS(Avv):\n",
    "    Avv = np.reshape(Avv, (p, p))\n",
    "    return mdot([Lambda_t, J_t_inv(Avv), ones, 1/(mdot([ones.T, J_t_inv(Avv), ones])), ones.T, J_t_inv(Avv), Lambda_t])-mdot([Lambda_t, J_t_inv(Avv), Lambda_t]) + Lambda_t"
   ]
  },
  {
   "cell_type": "code",
   "execution_count": 241,
   "metadata": {},
   "outputs": [],
   "source": [
    "def compare_sides(Avv):\n",
    "    Avv = np.reshape(Avv, (p, p))\n",
    "    Left = LHS(Avv)\n",
    "    Right = RHS(Avv)\n",
    "    diff = np.abs(Left-Right)\n",
    "    return np.sum(diff)"
   ]
  },
  {
   "cell_type": "code",
   "execution_count": 242,
   "metadata": {},
   "outputs": [],
   "source": [
    "def check_symmetric(Avv, rtol=1e-05, atol=1e-08):\n",
    "    Avv = np.reshape(Avv, (p, p))\n",
    "    diff = np.abs(Avv-Avv.T)\n",
    "    return np.sum(diff)"
   ]
  },
  {
   "cell_type": "code",
   "execution_count": 295,
   "metadata": {},
   "outputs": [],
   "source": [
    "def solve_Avv():\n",
    "    constraint = [{'type': 'eq', 'fun': check_symmetric}]\n",
    "    options = {\"maxiter\": 2000}\n",
    "    res =minimize(fun = compare_sides, \n",
    "             x0 = Avv_guess,\n",
    "            constraints=constraint,\n",
    "            method = 'SLSQP',\n",
    "                  options = options,\n",
    "                 tol = 1e-8)\n",
    "    return res"
   ]
  },
  {
   "cell_type": "code",
   "execution_count": 296,
   "metadata": {},
   "outputs": [],
   "source": [
    "res = solve_Avv()"
   ]
  },
  {
   "cell_type": "code",
   "execution_count": 297,
   "metadata": {},
   "outputs": [
    {
     "data": {
      "text/plain": [
       "     fun: 0.8295705384957806\n",
       "     jac: array([-0.9930369 ,  0.99447197, -1.00243606, -0.99815899, -1.00328188,\n",
       "       -1.00156215,  0.99019488,  1.00981088,  1.00299722])\n",
       " message: 'Optimization terminated successfully.'\n",
       "    nfev: 4786\n",
       "     nit: 269\n",
       "    njev: 269\n",
       "  status: 0\n",
       " success: True\n",
       "       x: array([0.02848504, 0.16459002, 0.10984029, 0.16459002, 0.19736949,\n",
       "       0.66823957, 0.10984029, 0.66823957, 0.48578228])"
      ]
     },
     "execution_count": 297,
     "metadata": {},
     "output_type": "execute_result"
    }
   ],
   "source": [
    "res"
   ]
  },
  {
   "cell_type": "code",
   "execution_count": 298,
   "metadata": {},
   "outputs": [],
   "source": [
    "Avv_try = np.reshape(res.x, (p, p))"
   ]
  },
  {
   "cell_type": "code",
   "execution_count": 299,
   "metadata": {},
   "outputs": [
    {
     "data": {
      "text/plain": [
       "array([[-1.40733876e-03,  1.44724940e-01, -4.65528331e-02],\n",
       "       [-3.31180153e-02, -6.09117926e-04, -1.20909548e-02],\n",
       "       [ 1.11780518e-02,  5.79863513e-01,  2.57745870e-05]])"
      ]
     },
     "execution_count": 299,
     "metadata": {},
     "output_type": "execute_result"
    }
   ],
   "source": [
    "LHS(Avv_try)-RHS(Avv_try)"
   ]
  },
  {
   "cell_type": "code",
   "execution_count": 300,
   "metadata": {},
   "outputs": [
    {
     "data": {
      "text/plain": [
       "array([[0.02992089, 0.02002983, 0.15650308],\n",
       "       [0.19787279, 0.19817618, 0.68099944],\n",
       "       [0.09877219, 0.08904497, 0.48624277]])"
      ]
     },
     "execution_count": 300,
     "metadata": {},
     "output_type": "execute_result"
    }
   ],
   "source": [
    "RHS(Avv_try)"
   ]
  },
  {
   "cell_type": "code",
   "execution_count": 301,
   "metadata": {},
   "outputs": [
    {
     "data": {
      "text/plain": [
       "array([[0.02848504, 0.16459002, 0.10984029],\n",
       "       [0.16459002, 0.19736949, 0.66823957],\n",
       "       [0.10984029, 0.66823957, 0.48578228]])"
      ]
     },
     "execution_count": 301,
     "metadata": {},
     "output_type": "execute_result"
    }
   ],
   "source": [
    "Avv_try"
   ]
  },
  {
   "cell_type": "code",
   "execution_count": null,
   "metadata": {},
   "outputs": [],
   "source": []
  }
 ],
 "metadata": {
  "kernelspec": {
   "display_name": "Python 3",
   "language": "python",
   "name": "python3"
  },
  "language_info": {
   "codemirror_mode": {
    "name": "ipython",
    "version": 3
   },
   "file_extension": ".py",
   "mimetype": "text/x-python",
   "name": "python",
   "nbconvert_exporter": "python",
   "pygments_lexer": "ipython3",
   "version": "3.7.0"
  }
 },
 "nbformat": 4,
 "nbformat_minor": 4
}
