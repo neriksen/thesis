{
 "cells": [
  {
   "cell_type": "code",
   "execution_count": 1,
   "metadata": {},
   "outputs": [],
   "source": [
    "import sys\n",
    "sys.path.append(\"..\\\\backtesting\\\\utils\")\n",
    "import dynamic_backtesting as db\n",
    "import compare_strategies as cs\n",
    "import matplotlib.pyplot as plt\n",
    "import pandas as pd\n",
    "import matplotlib\n",
    "import numpy as np\n",
    "from matplotlib.dates import DateFormatter\n",
    "from matplotlib.dates import YearLocator\n",
    "plt.style.use('seaborn')\n",
    "matplotlib.rcParams['axes.prop_cycle'] = matplotlib.cycler(color=[\"grey\", \"green\", \"black\", \"deepskyblue\", \"orange\", \"lime\", \"purple\", \"Gold\", \"brown\", \"blue\", \"pink\"])\n",
    "plt.rcParams.update({\n",
    "   \"text.usetex\": True,\n",
    "   \"font.family\": ['Latin Modern Roman'],\n",
    "   \"xtick.labelsize\": 20.0,\n",
    "   \"ytick.labelsize\": 20.0,\n",
    "   \"axes.labelsize\":  20.0,\n",
    "   \"legend.fontsize\": 18.0\n",
    "})  \n"
   ]
  },
  {
   "cell_type": "code",
   "execution_count": 2,
   "metadata": {},
   "outputs": [],
   "source": [
    "assets = {\"EEM\": \"Emerging Markets\",\n",
    "           \"IVV\": \"S&P 500\",\n",
    "           \"IEV\": \"MSCI Europe\",\n",
    "           \"IXN\": \"Global Tech\",\n",
    "           \"IYR\": \"US Real Estate\",\n",
    "           \"IXG\": \"Global Financials\",\n",
    "           \"EXI\": \"Global Industrials\",\n",
    "           \"GC=F\": \"Gold Futures\", \n",
    "           \"BZ=F\": \"Brent Crude Oil Futures\",\n",
    "           \"HYG\": \"High-Yield Corporate Bonds\",\n",
    "           \"TLT\": \"20+ Year Treasury Bonds\"}\n",
    "tickers = list(assets.keys())\n",
    "stocks = tickers[:7]\n",
    "commodities = tickers[7:9]\n",
    "bonds = tickers[9:]"
   ]
  },
  {
   "cell_type": "markdown",
   "metadata": {},
   "source": [
    "**Henter return data udfra tickers**"
   ]
  },
  {
   "cell_type": "code",
   "execution_count": null,
   "metadata": {},
   "outputs": [],
   "source": [
    "return_data =db.download_return_data(tickers)"
   ]
  },
  {
   "cell_type": "markdown",
   "metadata": {},
   "source": [
    "**Simulere Non central t-fordelinger til $r_t$. Bemærk at disse ikke er dem fra MGARCH modellen**"
   ]
  },
  {
   "cell_type": "code",
   "execution_count": null,
   "metadata": {},
   "outputs": [],
   "source": [
    "#fitter NCT fordeling til return data\n",
    "t_dist= return_data.apply(scipy.nct.fit, axis=0) \n",
    "stat = pd.DataFrame([t_dist.iloc[0],t_dist.iloc[1],t_dist.iloc[2],t_dist.iloc[3]], columns = tickers, index = ['DF','NC','LOC','SCALE']).transpose()\n",
    "\n",
    "#Sætter længde af simuleringen og random state\n",
    "T=len(return_data)\n",
    "state=2016\n",
    "\n",
    "#Simulere data og ligger det i et dataframe\n",
    "for index,row in stat.iterrows():\n",
    "    simulated_returns_1=scipy.nct.rvs(row['DF'],row['NC'],loc=row['LOC'],scale=row['SCALE'],size=T,random_state=state)\n",
    "    if index==\"EEM\":\n",
    "        simulated_returns=pd.DataFrame(simulated_returns_1, columns = [\"EEM\"])\n",
    "    else:\n",
    "        simulated_returns[index]=simulated_returns_1"
   ]
  },
  {
   "cell_type": "markdown",
   "metadata": {},
   "source": [
    "**Laver funktioner MGARCH model fit og udregning af vægte**"
   ]
  },
  {
   "cell_type": "code",
   "execution_count": null,
   "metadata": {},
   "outputs": [],
   "source": [
    "def GARCH_MODEL(ugarch_model=\"sGARCH\", garch_order=(1, 1)):\n",
    "    \"\"\"\n",
    "    Estimate af GARCH model and parse parameters, sigmas and residuals\n",
    "    ugarch_model: sGARCH, gjrGARCH\n",
    "    garch_order: (1, 1), (1,0)\n",
    "    \"\"\"\n",
    "    coef, residuals, sigmas = db.fit_garch_model()\n",
    "    return coef, residuals, sigmas"
   ]
  },
  {
   "cell_type": "code",
   "execution_count": null,
   "metadata": {},
   "outputs": [],
   "source": [
    "def Simulation_maker(GARCHTYPE,Data, coef, residuals, sigmas):\n",
    "    \"\"\"\n",
    "    Makes data for an simulations with a GARCH type model using the data in the csv file and simulation\n",
    "\n",
    "    Variables:\n",
    "    GARCHTYPE: sGARCH11, sGARCH10, gjrGARCH11\n",
    "    Data: Data used to find Omega_t to the simulated data\n",
    "    Residuals: Past residuals\n",
    "    Sigmas: Past sigmas\n",
    "    \"\"\"\n",
    "    #unpacks paramters\n",
    "    params_dict = db.parse_garch_coef(coef, 11, GARCHTYPE)\n",
    "    #udregner omega\n",
    "    sim_omega_s=db.calc_Omega_ts(Data,sigmas,residuals, **params_dict)\n",
    "    #udregner vægte\n",
    "    sim_weights=db.calc_weights_garch_no_trading_cost(sim_omega_s)\n",
    "    return sim_weights"
   ]
  },
  {
   "cell_type": "markdown",
   "metadata": {},
   "source": [
    "Simulating med $t_v$-distributed returns"
   ]
  },
  {
   "cell_type": "code",
   "execution_count": null,
   "metadata": {},
   "outputs": [],
   "source": [
    "#v_t_ARCH_t, out_of_sample_ARCH_t, _, Omega_ts_ARCH_T = db.garch_with_trading_cost(tickers, number_of_out_of_sample_days=4*250, model_type=\"sGARCH10\",tuning_gamma_D=None, simulation=True, ugarch_dist_model=\"std\")\n",
    "v_t_GARCH_t, out_of_sample_GARCH_t, _, Omega_ts_GARCH_T = db.garch_with_trading_cost(tickers, number_of_out_of_sample_days=4*250, model_type=\"sGARCH11\",tuning_gamma_D=None, simulation=True, ugarch_dist_model=\"std\")\n",
    "#v_t_GJR_t, out_of_sample_GJR_t, _, Omega_ts_GJR_T = db.garch_with_trading_cost(tickers, number_of_out_of_sample_days=4*250, model_type=\"gjrGARCH11\",tuning_gamma_D=None, simulation=True, ugarch_dist_model=\"std\")"
   ]
  },
  {
   "cell_type": "code",
   "execution_count": null,
   "metadata": {},
   "outputs": [],
   "source": [
    "#res_ARCH_t, perf_table_ARCH_t = cs.performance_table(v_t_ARCH_t, out_of_sample_ARCH_t,Omega_ts_ARCH_T,portfolio_value=1e9)\n",
    "res_GARCH_t, perf_table_GARCH_t = cs.performance_table(v_t_GARCH_t, out_of_sample_GARCH_t,Omega_ts_GARCH_T,portfolio_value=1e9)\n",
    "#res_GJR_t, perf_table_GJR_t = cs.performance_table(v_t_GJR_t, out_of_sample_GJR_t,Omega_ts_GJR_T,portfolio_value=1e9)"
   ]
  },
  {
   "cell_type": "code",
   "execution_count": null,
   "metadata": {},
   "outputs": [],
   "source": [
    "out_of_sample_GARCH_t.index = pd.to_datetime(out_of_sample_GARCH_t.index)\n",
    "fig, ax = plt.subplots(1, 1, figsize=(9,7), dpi=300)\n",
    "ax.plot(out_of_sample_GARCH_t[\"IEV\"])\n",
    "ax.xaxis.set_major_locator(YearLocator())\n",
    "ax.xaxis.set_major_formatter(DateFormatter(\"%Y\"))"
   ]
  },
  {
   "cell_type": "code",
   "execution_count": null,
   "metadata": {},
   "outputs": [],
   "source": [
    "perf_total_TC=[]\n",
    "perf_total= []"
   ]
  },
  {
   "cell_type": "code",
   "execution_count": null,
   "metadata": {},
   "outputs": [],
   "source": [
    "for seed in range(10,15):\n",
    "    v_t, out_of_sample, _,  Omega_ts= db.garch_with_trading_cost(tickers, number_of_out_of_sample_days=4*250, model_type=\"sGARCH11\",tuning_gamma_D=None, simulation=True, ugarch_dist_model=\"std\",rseed=seed)\n",
    "    res, perf_table = cs.performance_table(v_t, out_of_sample,Omega_ts,portfolio_value=1e9)\n",
    "    perf_table[\"seed\"]=seed\n",
    "    perf_total.append(perf_table.loc[\"GARCH\"])\n",
    "    perf_total_TC.append(perf_table.loc[\"GARCH TC\"])"
   ]
  },
  {
   "cell_type": "code",
   "execution_count": null,
   "metadata": {},
   "outputs": [],
   "source": [
    "test=pd.DataFrame(perf_total).set_index('seed')"
   ]
  },
  {
   "cell_type": "code",
   "execution_count": null,
   "metadata": {},
   "outputs": [],
   "source": [
    "out_of_sample.index = pd.to_datetime(out_of_sample.index)\n",
    "fig, ax = plt.subplots(1, 1, figsize=(9,7), dpi=300)\n",
    "ax.plot(out_of_sample[\"TLT\"])\n",
    "ax.xaxis.set_major_locator(YearLocator())\n",
    "ax.xaxis.set_major_formatter(DateFormatter(\"%Y\"))"
   ]
  },
  {
   "cell_type": "markdown",
   "metadata": {},
   "source": [
    "Simulating med Gaussian returns"
   ]
  },
  {
   "cell_type": "code",
   "execution_count": null,
   "metadata": {},
   "outputs": [],
   "source": [
    "v_t_ARCH_n, out_of_sample_ARCH_n, _, Omega_ts_ARCH_n = db.garch_with_trading_cost(tickers, number_of_out_of_sample_days=4*250,\n",
    " model_type=\"sGARCH10\",tuning_gamma_D=None, simulation=True, ugarch_dist_model=\"norm\")\n",
    "v_t_GARCH_n, out_of_sample_GARCH_n, _, Omega_ts_GARCH_n = db.garch_with_trading_cost(tickers, number_of_out_of_sample_days=4*250,\n",
    " model_type=\"sGARCH11\",tuning_gamma_D=None, simulation=True, ugarch_dist_model=\"norm\")\n",
    "v_t_GJR_n, out_of_sample_GJR_n, _, Omega_ts_GJR_n = db.garch_with_trading_cost(tickers, number_of_out_of_sample_days=4*250,\n",
    " model_type=\"gjrGARCH11\",tuning_gamma_D=None, simulation=True, ugarch_dist_model=\"norm\")"
   ]
  },
  {
   "cell_type": "code",
   "execution_count": null,
   "metadata": {},
   "outputs": [],
   "source": [
    "res_ARCH_n, perf_table_ARCH_n = cs.performance_table(v_t_ARCH_n, out_of_sample_ARCH_n,Omega_ts_ARCH_n,portfolio_value=1e9)\n",
    "res_GARCH_n, perf_table_GARCH_n = cs.performance_table(v_t_GARCH_n, out_of_sample_GARCH_n,Omega_ts_GARCH_n,portfolio_value=1e9)\n",
    "res_GJR_n, perf_table_GJR_t = cs.performance_table(v_t_GJR_n, out_of_sample_GJR_n,Omega_ts_GJR_n,portfolio_value=1e9)"
   ]
  },
  {
   "cell_type": "code",
   "execution_count": null,
   "metadata": {},
   "outputs": [],
   "source": [
    "out_of_sample_ARCH_n.index = pd.to_datetime(out_of_sample_ARCH_n.index)\n",
    "fig, ax = plt.subplots(1, 1, figsize=(9,7), dpi=300)\n",
    "ax.plot(out_of_sample_GJR_n[\"IVV\"])\n",
    "ax.xaxis.set_major_locator(YearLocator())\n",
    "ax.xaxis.set_major_formatter(DateFormatter(\"%Y\"))"
   ]
  },
  {
   "cell_type": "code",
   "execution_count": null,
   "metadata": {},
   "outputs": [],
   "source": [
    "Omega_ts_ARCH_T"
   ]
  },
  {
   "cell_type": "code",
   "execution_count": null,
   "metadata": {},
   "outputs": [],
   "source": []
  },
  {
   "cell_type": "code",
   "execution_count": 3,
   "metadata": {},
   "outputs": [],
   "source": [
    "coef_1, sim_returns_1, sigmas_1=db.fit_garch_model(tickers, len_out_of_sample=1000, ugarch_model=\"sGARCH\", garch_order=(1, 1), simulation=True, ugarch_dist_model=\"std\",number_of_sim=1)"
   ]
  },
  {
   "cell_type": "code",
   "execution_count": 4,
   "metadata": {},
   "outputs": [
    {
     "data": {
      "text/plain": [
       "array([[ 1.931845  ,  2.90945102,  2.53253092, ..., -0.78027398,\n",
       "         0.86130227, -0.11815209],\n",
       "       [-1.147178  , -2.33217682, -0.19330994, ...,  0.09682175,\n",
       "        -0.64843313,  0.65921895],\n",
       "       [ 0.97283483,  0.76161659,  0.34114295, ...,  0.51075733,\n",
       "         0.0365239 , -0.13901111],\n",
       "       ...,\n",
       "       [-0.2145697 , -0.36012006, -0.49463506, ..., -1.890107  ,\n",
       "         0.0246763 , -0.57926814],\n",
       "       [-1.04887079, -0.74085021, -1.0041015 , ...,  1.07848108,\n",
       "         0.2821147 ,  0.60787276],\n",
       "       [-0.61726918,  0.19245035, -0.7469907 , ..., -1.78256502,\n",
       "         0.16431853,  0.42583187]])"
      ]
     },
     "execution_count": 4,
     "metadata": {},
     "output_type": "execute_result"
    }
   ],
   "source": [
    "sim_returns_1"
   ]
  },
  {
   "cell_type": "code",
   "execution_count": 5,
   "metadata": {},
   "outputs": [],
   "source": [
    "coef_2, sim_returns_2, sigmas_2=db.fit_garch_model(tickers, len_out_of_sample=1000, ugarch_model=\"sGARCH\", garch_order=(1, 1), simulation=True, ugarch_dist_model=\"std\",number_of_sim=10)"
   ]
  },
  {
   "cell_type": "code",
   "execution_count": 6,
   "metadata": {},
   "outputs": [
    {
     "data": {
      "text/plain": [
       "array([[ 1.931845  ,  2.90945102,  2.53253092, ..., -0.78027398,\n",
       "         0.86130227, -0.11815209],\n",
       "       [-1.147178  , -2.33217682, -0.19330994, ...,  0.09682175,\n",
       "        -0.64843313,  0.65921895],\n",
       "       [ 0.97283483,  0.76161659,  0.34114295, ...,  0.51075733,\n",
       "         0.0365239 , -0.13901111],\n",
       "       ...,\n",
       "       [-0.2145697 , -0.36012006, -0.49463506, ..., -1.890107  ,\n",
       "         0.0246763 , -0.57926814],\n",
       "       [-1.04887079, -0.74085021, -1.0041015 , ...,  1.07848108,\n",
       "         0.2821147 ,  0.60787276],\n",
       "       [-0.61726918,  0.19245035, -0.7469907 , ..., -1.78256502,\n",
       "         0.16431853,  0.42583187]])"
      ]
     },
     "execution_count": 6,
     "metadata": {},
     "output_type": "execute_result"
    }
   ],
   "source": [
    "sim_returns_2"
   ]
  },
  {
   "cell_type": "code",
   "execution_count": null,
   "metadata": {},
   "outputs": [],
   "source": []
  }
 ],
 "metadata": {
  "interpreter": {
   "hash": "035a4835455b69dd03d840b7a1daac0c5382153a24200b5f58c2216ec44fc40f"
  },
  "kernelspec": {
   "display_name": "Python 3.8.5 64-bit ('base': conda)",
   "name": "python3"
  },
  "language_info": {
   "codemirror_mode": {
    "name": "ipython",
    "version": 3
   },
   "file_extension": ".py",
   "mimetype": "text/x-python",
   "name": "python",
   "nbconvert_exporter": "python",
   "pygments_lexer": "ipython3",
   "version": "3.8.5"
  },
  "orig_nbformat": 4
 },
 "nbformat": 4,
 "nbformat_minor": 2
}
