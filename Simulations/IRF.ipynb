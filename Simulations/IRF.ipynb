{
 "cells": [
  {
   "cell_type": "code",
   "execution_count": 121,
   "metadata": {},
   "outputs": [],
   "source": [
    "import sys\n",
    "import pandas as pd\n",
    "import matplotlib.pyplot as plt\n",
    "import matplotlib\n",
    "import numpy as np\n",
    "import scipy.stats as scipy\n",
    "sys.path.append(\"..\\\\backtesting\\\\utils\")\n",
    "import dynamic_backtesting as db\n",
    "plt.style.use('seaborn')\n",
    "matplotlib.rcParams['axes.prop_cycle'] = matplotlib.cycler(color=[\"black\", \"green\",  \"deepskyblue\", \"orange\",\"grey\", \"lime\", \"purple\", \"Gold\", \"brown\", \"blue\", \"pink\"]) \n",
    "plt.rcParams.update({\n",
    "   \"text.usetex\": True,\n",
    "   \"font.family\": ['Latin Modern Roman'],\n",
    "   \"xtick.labelsize\": 20.0,\n",
    "   \"ytick.labelsize\": 20.0,\n",
    "   \"axes.labelsize\":  20.0,\n",
    "   \"legend.fontsize\": 18.0\n",
    "}) "
   ]
  },
  {
   "cell_type": "code",
   "execution_count": 122,
   "metadata": {},
   "outputs": [],
   "source": [
    "assets = {\"EEM\": \"Emerging Markets\",\n",
    "           \"IVV\": \"S&P 500\",\n",
    "           \"IEV\": \"MSCI Europe\",\n",
    "           \"IXN\": \"Global Tech\",\n",
    "           \"IYR\": \"US Real Estate\",\n",
    "           \"IXG\": \"Global Financials\",\n",
    "           \"EXI\": \"Global Industrials\",\n",
    "           \"GC=F\": \"Gold Futures\", \n",
    "           \"BZ=F\": \"Brent Crude Oil Futures\",\n",
    "           \"HYG\": \"High-Yield Corporate Bonds\",\n",
    "           \"TLT\": \"20+ Year Treasury Bonds\"}\n",
    "tickers = list(assets.keys())\n",
    "asset_names = list(assets.values())\n",
    "#spx = pd.read_csv('../data/spx.csv').stack().tolist()"
   ]
  },
  {
   "cell_type": "markdown",
   "metadata": {},
   "source": [
    "**Henter return data udfra tickers**"
   ]
  },
  {
   "cell_type": "code",
   "execution_count": null,
   "metadata": {},
   "outputs": [],
   "source": [
    "return_data =db.download_return_data([\"IVV\",\"BZ=F\",\"TLT\"])\n",
    "#laver ny dictionary\n",
    "included_asset = {asset: assets[asset] for asset in return_data.columns.to_list() }"
   ]
  },
  {
   "cell_type": "markdown",
   "metadata": {},
   "source": [
    "**Henter parametre**"
   ]
  },
  {
   "cell_type": "code",
   "execution_count": null,
   "metadata": {},
   "outputs": [],
   "source": [
    "def GARCH_MODEL(tickers,ugarch_model=\"sGARCH\", garch_order=(1, 1)):\n",
    "    \"\"\"\n",
    "    Estimate af GARCH model and parse parameters, sigmas and residuals\n",
    "    ugarch_model: sGARCH, gjrGARCH\n",
    "    garch_order: (1, 1), (1,0)\n",
    "    \"\"\"\n",
    "    coef, residuals, sigmas = db.fit_garch_model(tickers=tickers,ugarch_model=ugarch_model,garch_order=garch_order)\n",
    "    return coef, residuals, sigmas"
   ]
  },
  {
   "cell_type": "markdown",
   "metadata": {},
   "source": [
    "**Laver data til IRF plot**"
   ]
  },
  {
   "cell_type": "code",
   "execution_count": null,
   "metadata": {},
   "outputs": [],
   "source": [
    "def IRF_maker(GARCHTYPE,t,Asset_number,shock_size, coef, residuals, sigmas):\n",
    "    \"\"\"\n",
    "    Makes data for an IRF plot with a GARCH type model using the data in the csv file and simulation\n",
    "\n",
    "    Variables:\n",
    "    t (int): the length of sample\n",
    "    Asset_number: The asset that receive the shock\n",
    "    shock_size: the stock to the mean\n",
    "    GARCHTYPE: sGARCH11, sGARCH10, gjrGARCH11\n",
    "    Residuals: Past residuals\n",
    "    Sigmas: Past sigmas\n",
    "    \"\"\"\n",
    "    #unpacks paramters\n",
    "    params_dict = db.parse_garch_coef(coef, np.shape(residuals)[1], GARCHTYPE)\n",
    "    print(params_dict[\"kappa\"])\n",
    "    print(params_dict[\"alpha\"])\n",
    "    mu_T=params_dict[\"mu\"].transpose()\n",
    "    irf_data=pd.DataFrame(mu_T.repeat(t,axis=0),columns=included_asset)\n",
    "    #Indsætter chok\n",
    "    irf_data.iloc[int(t/2),Asset_number]=shock_size\n",
    "    #udregner omega\n",
    "    irf_omega_s=db.calc_Omega_ts(irf_data,irf_data,sigmas,residuals,**params_dict)\n",
    "    irf_sigma_s=pd.DataFrame([np.diag(Omega) for Omega in db.remove_Omega_timestamp(irf_omega_s)],columns=included_asset)\n",
    "    irf_sigma_s.index=irf_sigma_s.index-int(t/2)+1\n",
    "    #udregner vægte\n",
    "    irf_weights=pd.DataFrame(db.calc_weights_garch_no_trading_cost(irf_omega_s),columns=included_asset)\n",
    "    irf_weights.index=irf_weights.index-int(t/2)\n",
    "    return irf_weights,irf_sigma_s"
   ]
  },
  {
   "cell_type": "markdown",
   "metadata": {},
   "source": [
    "**Laver figur for ARCH(1)**"
   ]
  },
  {
   "cell_type": "code",
   "execution_count": null,
   "metadata": {},
   "outputs": [],
   "source": [
    "coef_ARCH, residuals_ARCH, sigmas_ARCH= GARCH_MODEL([\"IVV\",\"BZ=F\",\"TLT\"],\"sGARCH\",(1,0))"
   ]
  },
  {
   "cell_type": "code",
   "execution_count": null,
   "metadata": {},
   "outputs": [],
   "source": [
    "irf_weights_ARCH,irf_sigma_ARCH=IRF_maker(\"sGARCH10\",10000,0,-2,coef_ARCH, residuals_ARCH, sigmas_ARCH)"
   ]
  },
  {
   "cell_type": "code",
   "execution_count": null,
   "metadata": {},
   "outputs": [],
   "source": [
    "\n",
    "fig, ax = plt.subplots(1, 1, figsize=(9,7), dpi=300)\n",
    "ax.plot(irf_weights_ARCH)\n",
    "ax.set_ylim(0.0,0.8)\n",
    "ax.set_xlim(-5,50)\n",
    "ax.legend([r\"\\textbf{S\\&P 500}\",r\"\\textbf{Brent Crude Oil Futures}\",r\"\\textbf{20+ Year Treasury Bonds}\"], loc='upper right')\n",
    "ax.set_xlabel(r\"\\textbf{Period, $t$}\" ) \n",
    "ax.set_ylabel(r\"\\textbf{Weight, $v_t$}\",loc='top', rotation = 0, labelpad = -128) \n",
    "fig.savefig(\"IRF_ARCH(1)_weight.png\", bbox_inches = 'tight', pad_inches = 0.1)\n",
    "\n",
    "fig1, ax1 = plt.subplots(1, 1, figsize=(9,7), dpi=300)\n",
    "ax1.plot(np.sqrt(irf_sigma_ARCH))\n",
    "ax1.set_ylim(0.7,2.6)\n",
    "ax1.set_xlim(-5,50)\n",
    "ax1.legend([r\"\\textbf{S\\&P 500}\",r\"\\textbf{Brent Crude Oil Futures}\",r\"\\textbf{20+ Year Treasury Bonds}\"], loc='upper right')\n",
    "ax1.set_xlabel(r\"\\textbf{Period, $t$}\" ) \n",
    "ax1.set_ylabel(r\"\\textbf{Volatility, $\\sigma_t$}\",loc='top', rotation = 0, labelpad = -158) \n",
    "\n",
    "fig1.savefig(\"IRF_ARCH(1)_vol.png\", bbox_inches = 'tight', pad_inches = 0.1)"
   ]
  },
  {
   "cell_type": "markdown",
   "metadata": {},
   "source": [
    "**Laver figur til GARCH(1,1)**"
   ]
  },
  {
   "cell_type": "code",
   "execution_count": null,
   "metadata": {},
   "outputs": [],
   "source": [
    "coef_GARCH, residuals_GARCH, sigmas_GARCH= GARCH_MODEL([\"IVV\",\"BZ=F\",\"TLT\"],\"sGARCH\",(1,1))"
   ]
  },
  {
   "cell_type": "code",
   "execution_count": null,
   "metadata": {},
   "outputs": [],
   "source": [
    "irf_weights_GARCH,irf_sigma_GARCH=IRF_maker(\"sGARCH11\",10000,0,-2,coef_GARCH, residuals_GARCH, sigmas_GARCH)"
   ]
  },
  {
   "cell_type": "code",
   "execution_count": null,
   "metadata": {},
   "outputs": [],
   "source": [
    "fig, ax = plt.subplots(1, 1, figsize=(9,7), dpi=300)\n",
    "ax.plot(irf_weights_GARCH)\n",
    "ax.set_ylim(0.0,0.8)\n",
    "ax.set_xlim(-5,100)\n",
    "ax.legend([r\"\\textbf{S\\&P 500}\",r\"\\textbf{Brent Crude Oil Futures}\",r\"\\textbf{20+ Year Treasury Bonds}\"], loc='upper right')\n",
    "ax.set_xlabel(r\"\\textbf{Period, $t$}\" ) \n",
    "ax.set_ylabel(r\"\\textbf{Weight, $v_t$}\",loc='top', rotation = 0, labelpad = -128) \n",
    "fig.savefig(\"IRF_GARCH(1,1)_weight.png\", bbox_inches = 'tight', pad_inches = 0.1)\n",
    "\n",
    "fig1, ax1 = plt.subplots(1, 1, figsize=(9,7), dpi=300)\n",
    "ax1.plot(np.sqrt(irf_sigma_GARCH))\n",
    "ax1.set_xlim(-5,100)\n",
    "ax1.set_ylim(0.3,1.25)\n",
    "ax1.legend([r\"\\textbf{S\\&P 500}\",r\"\\textbf{Brent Crude Oil Futures}\",r\"\\textbf{20+ Year Treasury Bonds}\"], loc='upper right')\n",
    "ax1.set_xlabel(r\"\\textbf{Period, $t$}\" ) \n",
    "ax1.set_ylabel(r\"\\textbf{Volatility, $\\sigma_t$}\",loc='top', rotation = 0, labelpad = -150) \n",
    "fig1.savefig(\"IRF_GARCH(1,1)_vol.png\", bbox_inches = 'tight', pad_inches = 0.1)"
   ]
  },
  {
   "cell_type": "markdown",
   "metadata": {},
   "source": [
    "**Laver figur til GJR-GARCH(1,1) med et negativt stød**"
   ]
  },
  {
   "cell_type": "code",
   "execution_count": null,
   "metadata": {},
   "outputs": [],
   "source": [
    "coef_GJRGARCH, residuals_GJRGARCH, sigmas_GJRGARCH= GARCH_MODEL([\"IVV\",\"BZ=F\",\"TLT\"],\"gjrGARCH\",(1,1))"
   ]
  },
  {
   "cell_type": "code",
   "execution_count": null,
   "metadata": {},
   "outputs": [],
   "source": [
    "irf_weights_GJRGARCH,irf_sigma_GJRGARCH=IRF_maker(\"gjrGARCH11\",10000,0,-2,coef_GJRGARCH, residuals_GJRGARCH, sigmas_GJRGARCH)"
   ]
  },
  {
   "cell_type": "code",
   "execution_count": null,
   "metadata": {},
   "outputs": [],
   "source": [
    "#plt.style.use('seaborn')\n",
    "fig, ax = plt.subplots(1, 1, figsize=(9,7), dpi=300)\n",
    "ax.plot(irf_weights_GJRGARCH)\n",
    "ax.set_ylim(0.0,0.8)\n",
    "ax.set_xlim(-5,100)\n",
    "ax.legend([r\"\\textbf{S\\&P 500}\",r\"\\textbf{Brent Crude Oil Futures}\",r\"\\textbf{20+ Year Treasury Bonds}\"], loc='upper right')\n",
    "ax.set_xlabel(r\"\\textbf{Period, $t$}\" ) \n",
    "ax.set_ylabel(r\"\\textbf{Weight, $v_t$}\",loc='top', rotation = 0, labelpad = -128) \n",
    "fig.savefig(\"IRF_GJRGARCH(1,1)_weight.png\", bbox_inches = 'tight', pad_inches = 0.1)\n",
    "\n",
    "\n",
    "fig1, ax1 = plt.subplots(1, 1, figsize=(9,7), dpi=300)\n",
    "ax1.plot(np.sqrt(irf_sigma_GJRGARCH))\n",
    "ax1.set_xlim(-5,100)\n",
    "ax1.set_ylim(0.3,1.25)\n",
    "ax1.legend([r\"\\textbf{S\\&P 500}\",r\"\\textbf{Brent Crude Oil Futures}\",r\"\\textbf{20+ Year Treasury Bonds}\"], loc='upper right')\n",
    "ax1.set_xlabel(r\"\\textbf{Period, $t$}\" ) \n",
    "ax1.set_ylabel(r\"\\textbf{Volatility, $\\sigma_t$}\",loc='top', rotation = 0, labelpad = -150) \n",
    "fig1.savefig(\"IRF_GJRGARCH(1,1)_vol.png\", bbox_inches = 'tight', pad_inches = 0.1)"
   ]
  },
  {
   "cell_type": "markdown",
   "metadata": {},
   "source": [
    "**Samme som ovenstående, men med positivt stød**"
   ]
  },
  {
   "cell_type": "code",
   "execution_count": null,
   "metadata": {},
   "outputs": [],
   "source": [
    "irf_weights_GJRGARCH_p,irf_sigma_GJRGARCH_p=IRF_maker(\"gjrGARCH11\",10000,0,2,coef_GJRGARCH, residuals_GJRGARCH, sigmas_GJRGARCH)"
   ]
  },
  {
   "cell_type": "code",
   "execution_count": null,
   "metadata": {},
   "outputs": [],
   "source": [
    "fig, ax = plt.subplots(1, 1, figsize=(9,7), dpi=300)\n",
    "ax.plot(irf_weights_GJRGARCH_p)\n",
    "ax.set_ylim(0,0.8)\n",
    "ax.set_xlim(-5,100)\n",
    "ax.legend([r\"\\textbf{S\\&P 500}\",r\"\\textbf{Brent Crude Oil Futures}\",r\"\\textbf{20+ Year Treasury Bonds}\"], loc='upper right')\n",
    "ax.set_xlabel(r\"\\textbf{Period, $t$}\" ) \n",
    "ax.set_ylabel(r\"\\textbf{Weight, $v_t$}\",loc='top', rotation = 0, labelpad = -128) \n",
    "fig.savefig(\"IRF_GJRGARCH(1,1)_p_vol.png\", bbox_inches = 'tight', pad_inches = 0.1)\n",
    "\n",
    "fig1, ax1 = plt.subplots(1, 1, figsize=(9,7), dpi=300)\n",
    "ax1.plot(np.sqrt(irf_sigma_GJRGARCH_p))\n",
    "ax1.set_xlim(-5,100)\n",
    "ax1.set_ylim(0.3,1.25)\n",
    "ax1.legend([r\"\\textbf{S\\&P 500}\",r\"\\textbf{Brent Crude Oil Futures}\",r\"\\textbf{20+ Year Treasury Bonds}\"], loc='upper right')\n",
    "ax1.set_xlabel(r\"\\textbf{Period, $t$}\" ) \n",
    "ax1.set_ylabel(r\"\\textbf{Volatility, $\\sigma_t$}\",loc='top', rotation = 0, labelpad = -150) \n",
    "fig1.savefig(\"IRF_GJRGARCH(1,1)_p_weight.png\", bbox_inches = 'tight', pad_inches = 0.1)"
   ]
  },
  {
   "cell_type": "markdown",
   "metadata": {},
   "source": [
    "**Ubetinget vægte til sammenligning**"
   ]
  },
  {
   "cell_type": "code",
   "execution_count": null,
   "metadata": {},
   "outputs": [],
   "source": [
    "Assets_u=[\"IVV\",\"TLT\"]"
   ]
  },
  {
   "cell_type": "code",
   "execution_count": null,
   "metadata": {},
   "outputs": [],
   "source": [
    "v_t_ARCH, out_of_sample_s_ARCH_s, in_sample_s_ARCH_s, Omega_t_ARCH_s = db.garch_no_trading_cost(Assets_u, number_of_out_of_sample_days=4*250, model_type=\"sGARCH10\") \n",
    "included_asset_arch = {asset: assets[asset] for asset in v_t_ARCH.columns.to_list() }"
   ]
  },
  {
   "cell_type": "code",
   "execution_count": null,
   "metadata": {},
   "outputs": [],
   "source": [
    "v_t_GARCH, out_of_sample_s_GARCH_s, in_sample_s_GARCH_s,Omega_t_GARCH_s = db.garch_no_trading_cost(Assets_u, number_of_out_of_sample_days=4*250, model_type=\"sGARCH11\")\n",
    "included_asset_garch = {asset: assets[asset] for asset in v_t_GARCH.columns.to_list() }"
   ]
  },
  {
   "cell_type": "code",
   "execution_count": null,
   "metadata": {},
   "outputs": [],
   "source": [
    "v_t_UC= db.unconditional_weights(tickers=Assets_u, number_of_out_of_sample_days=4*250)"
   ]
  },
  {
   "cell_type": "markdown",
   "metadata": {},
   "source": [
    "**Laver figurer**"
   ]
  },
  {
   "cell_type": "code",
   "execution_count": null,
   "metadata": {},
   "outputs": [],
   "source": [
    "fig, ax = plt.subplots(1, 1, figsize=(9,7), dpi=300)\n",
    "ax.set_prop_cycle(matplotlib.cycler(color=[\"black\", \"green\"]))\n",
    "ax.plot(v_t_ARCH,linewidth=0.5)\n",
    "ax.plot(v_t_UC,linewidth=2, linestyle='--')\n",
    "ax.set_ylim(0,1.1)\n",
    "ax.set_xlim('2017-10-11','2021-10-11')\n",
    "ax.legend([r\"\\textbf{S\\&P 500}\",r\"\\textbf{20+ Year Treasury Bonds}\"], loc='upper right')\n",
    "ax.xaxis.set_major_locator(plt.MaxNLocator(6))\n",
    "ax.set_ylabel(r\"\\textbf{Weight, $v_t$}\",loc='top', rotation = 0, labelpad = -128) \n",
    "plt.xticks(rotation=45)\n",
    "fig.savefig(\"ARCH_weight_unconditional.png\", bbox_inches = 'tight', pad_inches = 0.1)"
   ]
  },
  {
   "cell_type": "code",
   "execution_count": null,
   "metadata": {},
   "outputs": [],
   "source": [
    "fig, ax = plt.subplots(1, 1, figsize=(9,7), dpi=300)\n",
    "ax.set_prop_cycle(matplotlib.cycler(color=[\"black\", \"green\"]))\n",
    "ax.plot(v_t_GARCH,linewidth=0.5)\n",
    "ax.plot(v_t_UC,linewidth=2, linestyle='--')\n",
    "ax.set_ylim(0,1.1)\n",
    "ax.set_xlim('2017-10-11','2021-10-11')\n",
    "ax.legend([r\"\\textbf{S\\&P 500}\",r\"\\textbf{20+ Year Treasury Bonds}\"], loc='upper right')\n",
    "ax.xaxis.set_major_locator(plt.MaxNLocator(6))\n",
    "ax.set_ylabel(r\"\\textbf{Weight, $v_t$}\",loc='top', rotation = 0, labelpad = -128) \n",
    "plt.xticks(rotation=45)\n",
    "fig.savefig(\"GARCH_weight_unconditional.png\", bbox_inches = 'tight', pad_inches = 0.1)"
   ]
  },
  {
   "cell_type": "markdown",
   "metadata": {},
   "source": [
    "**IRF plots with transaction cost**"
   ]
  },
  {
   "cell_type": "code",
   "execution_count": null,
   "metadata": {},
   "outputs": [],
   "source": [
    "return_data_TC =db.download_return_data([\"IVV\",\"BZ=F\",\"TLT\"])\n",
    "#laver ny dictionary\n",
    "included_asset_TC = {asset: assets[asset] for asset in return_data_TC.columns.to_list()}"
   ]
  },
  {
   "cell_type": "code",
   "execution_count": null,
   "metadata": {},
   "outputs": [],
   "source": [
    "def IRF_maker_TC(GARCHTYPE,t,Asset_number,shock_size, coef, residuals, sigmas,Gamma):\n",
    "    \"\"\"\n",
    "    Makes data for an IRF plot with a GARCH type model using the data in the csv file and simulation\n",
    "\n",
    "    Variables:\n",
    "    t (int): the length of sample\n",
    "    Asset_number: The asset that receive the shock\n",
    "    shock_size: the stock to the mean\n",
    "    GARCHTYPE: sGARCH11, sGARCH10, gjrGARCH11\n",
    "    Residuals: Past residuals\n",
    "    Sigmas: Past sigmas\n",
    "    \"\"\"\n",
    "    #unpacks paramters\n",
    "    params_dict = db.parse_garch_coef(coef, np.shape(residuals)[1], GARCHTYPE)\n",
    "    print(params_dict[\"kappa\"])\n",
    "    print(params_dict[\"alpha\"])\n",
    "    mu_T=params_dict[\"mu\"].transpose()\n",
    "    irf_data=pd.DataFrame(mu_T.repeat(t,axis=0),columns=included_asset_TC)\n",
    "    #Indsætter chok\n",
    "    irf_data.iloc[int(t/2),Asset_number]=shock_size\n",
    "    #udregner omega\n",
    "    irf_omega_s=db.calc_Omega_ts(irf_data,irf_data,sigmas,residuals,**params_dict)\n",
    "    irf_sigma_TC=pd.DataFrame([np.diag(Omega) for Omega in db.remove_Omega_timestamp(irf_omega_s)],columns=included_asset_TC)\n",
    "    irf_sigma_TC.index=irf_sigma_TC.index-int(t/2)+1\n",
    "    #udregner vægte, modifier og aim\n",
    "    irf_weights_TC_raw,irf_aim_TC_raw,irf_modifier_TC_raw=db.calc_weights_garch_with_trading_cost(irf_omega_s,irf_data,Gamma)\n",
    "    #laver om til datafram\n",
    "    irf_weights_TC=pd.DataFrame(irf_weights_TC_raw,columns=included_asset_TC)\n",
    "    irf_aim_TC=pd.DataFrame(irf_aim_TC_raw,columns=included_asset_TC)\n",
    "    irf_modifier_TC=pd.DataFrame(irf_modifier_TC_raw,columns=included_asset_TC)\n",
    "    #laver index\n",
    "    irf_weights_TC.index=irf_weights_TC.index-int(t/2)\n",
    "    irf_aim_TC.index=irf_aim_TC.index-int(t/2)+1\n",
    "    irf_modifier_TC.index=irf_modifier_TC.index-int(t/2)+1\n",
    "    return irf_weights_TC,irf_aim_TC,irf_modifier_TC,irf_sigma_TC"
   ]
  },
  {
   "cell_type": "code",
   "execution_count": null,
   "metadata": {},
   "outputs": [],
   "source": [
    "coef_ARCH, residuals_ARCH, sigmas_ARCH= GARCH_MODEL([\"IVV\",\"BZ=F\",\"TLT\"],\"sGARCH\",(1,0))"
   ]
  },
  {
   "cell_type": "code",
   "execution_count": null,
   "metadata": {},
   "outputs": [],
   "source": [
    "irf_weights_TC_ARCH,irf_aim_TC_ARCH,irf_modifier_TC_ARCH,irf_sigma_TC_ARCH=IRF_maker_TC(\n",
    "    \"sGARCH10\",10000,0,-2,coef_ARCH, residuals_ARCH, sigmas_ARCH,0.00001)\n",
    "    \n",
    "#gamma_low=None #gamma_medium=0.000003 #gamma_high=0.00001"
   ]
  },
  {
   "cell_type": "code",
   "execution_count": null,
   "metadata": {},
   "outputs": [],
   "source": [
    "fig, ax = plt.subplots(1, 1, figsize=(9,7), dpi=300)\n",
    "ax.set_prop_cycle(matplotlib.cycler(color=[\"black\", \"green\",  \"deepskyblue\",]))\n",
    "ax.plot(irf_weights_TC_ARCH,linestyle=\"-\",alpha=0.5,linewidth=4)\n",
    "ax.plot(irf_aim_TC_ARCH,linestyle=\"--\")\n",
    "ax.set_ylim(0,0.9)\n",
    "ax.set_xlim(-5,50)\n",
    "ax.legend([r\"\\textbf{S\\&P 500}\",r\"\\textbf{Brent Crude Oil Futures}\",r\"\\textbf{20+ Year Treasury Bonds}\"], loc='upper right')\n",
    "ax.set_xlabel(r\"\\textbf{Period, $t$}\" ) \n",
    "ax.set_ylabel(r\"\\textbf{Weight, $v_t$}\",loc='top', rotation = 0, labelpad = -128) \n",
    "#fig.savefig(\"IRF_ARCH(1)_weight_TC_low.png\", bbox_inches = 'tight', pad_inches = 0.1)\n",
    "#fig.savefig(\"IRF_ARCH(1)_weight_TC_medium.png\", bbox_inches = 'tight', pad_inches = 0.1)\n",
    "fig.savefig(\"IRF_ARCH(1)_weight_TC_high.png\", bbox_inches = 'tight', pad_inches = 0.1)\n",
    "\n",
    "fig1, ax1 = plt.subplots(1, 1, figsize=(9,7), dpi=300)\n",
    "ax1.plot(np.sqrt(irf_sigma_TC_ARCH))\n",
    "ax1.set_xlim(-5,50)\n",
    "ax1.set_ylim(0.7,2.6)\n",
    "ax1.legend([r\"\\textbf{S\\&P 500}\",r\"\\textbf{Brent Crude Oil Futures}\",r\"\\textbf{20+ Year Treasury Bonds}\"], loc='upper right')\n",
    "ax1.set_xlabel(r\"\\textbf{Period, $t$}\" ) \n",
    "ax1.set_ylabel(r\"\\textbf{Volatility, $\\sigma_t$}\",loc='top', rotation = 0, labelpad = -160) \n",
    "#fig1.savefig(\"IRF_ARCH(1)_vol_TC.png\", bbox_inches = 'tight', pad_inches = 0.1)"
   ]
  },
  {
   "cell_type": "markdown",
   "metadata": {},
   "source": [
    "GARCH(1,1)"
   ]
  },
  {
   "cell_type": "code",
   "execution_count": null,
   "metadata": {},
   "outputs": [],
   "source": [
    "coef_GARCH, residuals_GARCH, sigmas_GARCH= GARCH_MODEL([\"IVV\",\"BZ=F\",\"TLT\"],\"sGARCH\",(1,1))"
   ]
  },
  {
   "cell_type": "code",
   "execution_count": null,
   "metadata": {},
   "outputs": [],
   "source": [
    "irf_weights_TC_GARCH,irf_aim_TC_GARCH,irf_modifier_TC_GARCH,irf_sigma_TC_GARCH=IRF_maker_TC(\n",
    "    \"sGARCH11\",10000,0,-2,coef_GARCH, residuals_GARCH, sigmas_GARCH,0.00001) \n",
    "#gamma_low=None #gamma_medium=0.000003 #gamma_high=0.00001\n",
    "#irf_weights_TC_GARCH.loc[0:4,:]=irf_aim_TC_GARCH.loc[0:4,:]"
   ]
  },
  {
   "cell_type": "code",
   "execution_count": null,
   "metadata": {},
   "outputs": [],
   "source": [
    "fig, ax = plt.subplots(1, 1, figsize=(9,7), dpi=300)\n",
    "ax.set_prop_cycle(matplotlib.cycler(color=[\"black\", \"green\",  \"deepskyblue\",]))\n",
    "ax.plot(irf_weights_TC_GARCH,linestyle=\"-\",alpha=0.5,linewidth=4)\n",
    "ax.plot(irf_aim_TC_GARCH,linestyle=\"--\")\n",
    "ax.set_ylim(-0.15,0.8)\n",
    "ax.set_xlim(-5,100)\n",
    "ax.legend([r\"\\textbf{S\\&P 500}\",r\"\\textbf{Brent Crude Oil Futures}\",r\"\\textbf{20+ Year Treasury Bonds}\"], loc='upper right')\n",
    "ax.set_xlabel(r\"\\textbf{Period, $t$}\" ) \n",
    "ax.set_ylabel(r\"\\textbf{Weight, $v_t$}\",loc='top', rotation = 0, labelpad = -128) \n",
    "#fig.savefig(\"IRF_GARCH(1,1)_weight_TC_low.png\", bbox_inches = 'tight', pad_inches = 0.1)\n",
    "#fig.savefig(\"IRF_GARCH(1,1)_weight_TC_medium.png\", bbox_inches = 'tight', pad_inches = 0.1)\n",
    "fig.savefig(\"IRF_GARCH(1,1)_weight_TC_high.png\", bbox_inches = 'tight', pad_inches = 0.1)\n",
    "\n",
    "fig1, ax1 = plt.subplots(1, 1, figsize=(9,7), dpi=300)\n",
    "ax1.plot(np.sqrt(irf_sigma_TC_GARCH))\n",
    "ax1.set_xlim(-5,100)\n",
    "ax1.set_ylim(0.3,1.25)\n",
    "ax1.legend([r\"\\textbf{S\\&P 500}\",r\"\\textbf{Brent Crude Oil Futures}\",r\"\\textbf{20+ Year Treasury Bonds}\"], loc='upper right')\n",
    "ax1.set_xlabel(r\"\\textbf{Period, $t$}\" ) \n",
    "ax1.set_ylabel(r\"\\textbf{Volatility, $\\sigma_t$}\",loc='top', rotation = 0, labelpad = -150) \n",
    "#fig1.savefig(\"IRF_GARCH(1)_vol_TC.png\", bbox_inches = 'tight', pad_inches = 0.1)"
   ]
  },
  {
   "cell_type": "markdown",
   "metadata": {},
   "source": [
    "GJR-GARCH(1,1)"
   ]
  },
  {
   "cell_type": "code",
   "execution_count": null,
   "metadata": {},
   "outputs": [],
   "source": [
    "coef_GJRGARCH, residuals_GJRGARCH, sigmas_GJRGARCH= GARCH_MODEL([\"IVV\",\"BZ=F\",\"TLT\"],\"gjrGARCH\",(1,1))"
   ]
  },
  {
   "cell_type": "code",
   "execution_count": null,
   "metadata": {},
   "outputs": [],
   "source": [
    "irf_weights_TC_GJRGARCH,irf_aim_TC_GJRGARCH,irf_modifier_TC_GJRGARCH,irf_sigma_TC_GJRGARCH=IRF_maker_TC(\n",
    "    \"gjrGARCH11\",10000,0,-2,coef_GJRGARCH, residuals_GJRGARCH, sigmas_GJRGARCH,0.00001 )\n",
    "    \n",
    "#gamma_low=None #gamma_medium=0.000003 #gamma_high=0.00001\n",
    "#irf_weights_TC_GJRGARCH.loc[0:4,:]=irf_aim_TC_GJRGARCH.loc[0:4,:]"
   ]
  },
  {
   "cell_type": "code",
   "execution_count": null,
   "metadata": {},
   "outputs": [],
   "source": [
    "fig, ax = plt.subplots(1, 1, figsize=(9,7), dpi=300)\n",
    "ax.set_prop_cycle(matplotlib.cycler(color=[\"black\", \"green\",  \"deepskyblue\",]))\n",
    "ax.plot(irf_weights_TC_GJRGARCH,linestyle=\"-\",alpha=0.5,linewidth=4)\n",
    "ax.plot(irf_aim_TC_GJRGARCH,linestyle=\"--\")\n",
    "ax.set_ylim(-0.15,0.8)\n",
    "ax.set_xlim(-5,100)\n",
    "ax.legend([r\"\\textbf{S\\&P 500}\",r\"\\textbf{Brent Crude Oil Futures}\",r\"\\textbf{20+ Year Treasury Bonds}\"], loc='upper right')\n",
    "ax.set_xlabel(r\"\\textbf{Period, $t$}\" ) \n",
    "ax.set_ylabel(r\"\\textbf{Weight, $v_t$}\",loc='top', rotation = 0, labelpad = -128) \n",
    "#fig.savefig(\"IRF_GJRGARCH(1,1)_weight_TC_low.png\", bbox_inches = 'tight', pad_inches = 0.1)\n",
    "#fig.savefig(\"IRF_GJRGARCH(1,1)_weight_TC_medium.png\", bbox_inches = 'tight', pad_inches = 0.1)\n",
    "fig.savefig(\"IRF_GJRGARCH(1,1)_weight_TC_high.png\", bbox_inches = 'tight', pad_inches = 0.1)\n",
    "\n",
    "fig1, ax1 = plt.subplots(1, 1, figsize=(9,7), dpi=300)\n",
    "ax1.plot(np.sqrt(irf_sigma_TC_GJRGARCH))\n",
    "ax1.set_xlim(-5,100)\n",
    "ax1.set_ylim(0.3,1.25)\n",
    "ax1.legend([r\"\\textbf{S\\&P 500}\",r\"\\textbf{Brent Crude Oil Futures}\",r\"\\textbf{20+ Year Treasury Bonds}\"], loc='upper right')\n",
    "ax1.set_xlabel(r\"\\textbf{Period, $t$}\" ) \n",
    "ax1.set_ylabel(r\"\\textbf{Volatility, $\\sigma_t$}\",loc='top', rotation = 0, labelpad = -150)\n",
    "#fig1.savefig(\"IRF_GJRARCH(1)_vol_TC.png\", bbox_inches = 'tight', pad_inches = 0.1)"
   ]
  },
  {
   "cell_type": "code",
   "execution_count": 127,
   "metadata": {},
   "outputs": [],
   "source": [
    "return_data_test =db.download_return_data(tickers)/100"
   ]
  },
  {
   "cell_type": "code",
   "execution_count": 128,
   "metadata": {},
   "outputs": [
    {
     "data": {
      "text/html": [
       "<div>\n",
       "<style scoped>\n",
       "    .dataframe tbody tr th:only-of-type {\n",
       "        vertical-align: middle;\n",
       "    }\n",
       "\n",
       "    .dataframe tbody tr th {\n",
       "        vertical-align: top;\n",
       "    }\n",
       "\n",
       "    .dataframe thead th {\n",
       "        text-align: right;\n",
       "    }\n",
       "</style>\n",
       "<table border=\"1\" class=\"dataframe\">\n",
       "  <thead>\n",
       "    <tr style=\"text-align: right;\">\n",
       "      <th></th>\n",
       "      <th>EEM</th>\n",
       "      <th>IVV</th>\n",
       "      <th>IEV</th>\n",
       "      <th>IXN</th>\n",
       "      <th>IYR</th>\n",
       "      <th>IXG</th>\n",
       "      <th>EXI</th>\n",
       "      <th>GC=F</th>\n",
       "      <th>BZ=F</th>\n",
       "      <th>HYG</th>\n",
       "      <th>TLT</th>\n",
       "    </tr>\n",
       "  </thead>\n",
       "  <tbody>\n",
       "    <tr>\n",
       "      <th>EEM</th>\n",
       "      <td>0.000358</td>\n",
       "      <td>0.000208</td>\n",
       "      <td>0.000253</td>\n",
       "      <td>0.000223</td>\n",
       "      <td>0.000263</td>\n",
       "      <td>0.000285</td>\n",
       "      <td>0.000226</td>\n",
       "      <td>0.000021</td>\n",
       "      <td>0.000166</td>\n",
       "      <td>0.000088</td>\n",
       "      <td>-0.000065</td>\n",
       "    </tr>\n",
       "    <tr>\n",
       "      <th>IVV</th>\n",
       "      <td>0.000208</td>\n",
       "      <td>0.000166</td>\n",
       "      <td>0.000178</td>\n",
       "      <td>0.000171</td>\n",
       "      <td>0.000201</td>\n",
       "      <td>0.000211</td>\n",
       "      <td>0.000168</td>\n",
       "      <td>0.000002</td>\n",
       "      <td>0.000108</td>\n",
       "      <td>0.000064</td>\n",
       "      <td>-0.000053</td>\n",
       "    </tr>\n",
       "    <tr>\n",
       "      <th>IEV</th>\n",
       "      <td>0.000253</td>\n",
       "      <td>0.000178</td>\n",
       "      <td>0.000243</td>\n",
       "      <td>0.000185</td>\n",
       "      <td>0.000216</td>\n",
       "      <td>0.000255</td>\n",
       "      <td>0.000204</td>\n",
       "      <td>0.000016</td>\n",
       "      <td>0.000143</td>\n",
       "      <td>0.000077</td>\n",
       "      <td>-0.000061</td>\n",
       "    </tr>\n",
       "    <tr>\n",
       "      <th>IXN</th>\n",
       "      <td>0.000223</td>\n",
       "      <td>0.000171</td>\n",
       "      <td>0.000185</td>\n",
       "      <td>0.000208</td>\n",
       "      <td>0.000195</td>\n",
       "      <td>0.000210</td>\n",
       "      <td>0.000174</td>\n",
       "      <td>0.000005</td>\n",
       "      <td>0.000110</td>\n",
       "      <td>0.000066</td>\n",
       "      <td>-0.000052</td>\n",
       "    </tr>\n",
       "    <tr>\n",
       "      <th>IYR</th>\n",
       "      <td>0.000263</td>\n",
       "      <td>0.000201</td>\n",
       "      <td>0.000216</td>\n",
       "      <td>0.000195</td>\n",
       "      <td>0.000392</td>\n",
       "      <td>0.000284</td>\n",
       "      <td>0.000205</td>\n",
       "      <td>0.000005</td>\n",
       "      <td>0.000099</td>\n",
       "      <td>0.000079</td>\n",
       "      <td>-0.000048</td>\n",
       "    </tr>\n",
       "    <tr>\n",
       "      <th>IXG</th>\n",
       "      <td>0.000285</td>\n",
       "      <td>0.000211</td>\n",
       "      <td>0.000255</td>\n",
       "      <td>0.000210</td>\n",
       "      <td>0.000284</td>\n",
       "      <td>0.000335</td>\n",
       "      <td>0.000233</td>\n",
       "      <td>-0.000002</td>\n",
       "      <td>0.000150</td>\n",
       "      <td>0.000091</td>\n",
       "      <td>-0.000079</td>\n",
       "    </tr>\n",
       "    <tr>\n",
       "      <th>EXI</th>\n",
       "      <td>0.000226</td>\n",
       "      <td>0.000168</td>\n",
       "      <td>0.000204</td>\n",
       "      <td>0.000174</td>\n",
       "      <td>0.000205</td>\n",
       "      <td>0.000233</td>\n",
       "      <td>0.000203</td>\n",
       "      <td>0.000010</td>\n",
       "      <td>0.000127</td>\n",
       "      <td>0.000071</td>\n",
       "      <td>-0.000059</td>\n",
       "    </tr>\n",
       "    <tr>\n",
       "      <th>GC=F</th>\n",
       "      <td>0.000021</td>\n",
       "      <td>0.000002</td>\n",
       "      <td>0.000016</td>\n",
       "      <td>0.000005</td>\n",
       "      <td>0.000005</td>\n",
       "      <td>-0.000002</td>\n",
       "      <td>0.000010</td>\n",
       "      <td>0.000131</td>\n",
       "      <td>0.000048</td>\n",
       "      <td>0.000002</td>\n",
       "      <td>0.000014</td>\n",
       "    </tr>\n",
       "    <tr>\n",
       "      <th>BZ=F</th>\n",
       "      <td>0.000166</td>\n",
       "      <td>0.000108</td>\n",
       "      <td>0.000143</td>\n",
       "      <td>0.000110</td>\n",
       "      <td>0.000099</td>\n",
       "      <td>0.000150</td>\n",
       "      <td>0.000127</td>\n",
       "      <td>0.000048</td>\n",
       "      <td>0.000584</td>\n",
       "      <td>0.000056</td>\n",
       "      <td>-0.000053</td>\n",
       "    </tr>\n",
       "    <tr>\n",
       "      <th>HYG</th>\n",
       "      <td>0.000088</td>\n",
       "      <td>0.000064</td>\n",
       "      <td>0.000077</td>\n",
       "      <td>0.000066</td>\n",
       "      <td>0.000079</td>\n",
       "      <td>0.000091</td>\n",
       "      <td>0.000071</td>\n",
       "      <td>0.000002</td>\n",
       "      <td>0.000056</td>\n",
       "      <td>0.000056</td>\n",
       "      <td>-0.000019</td>\n",
       "    </tr>\n",
       "    <tr>\n",
       "      <th>TLT</th>\n",
       "      <td>-0.000065</td>\n",
       "      <td>-0.000053</td>\n",
       "      <td>-0.000061</td>\n",
       "      <td>-0.000052</td>\n",
       "      <td>-0.000048</td>\n",
       "      <td>-0.000079</td>\n",
       "      <td>-0.000059</td>\n",
       "      <td>0.000014</td>\n",
       "      <td>-0.000053</td>\n",
       "      <td>-0.000019</td>\n",
       "      <td>0.000090</td>\n",
       "    </tr>\n",
       "  </tbody>\n",
       "</table>\n",
       "</div>"
      ],
      "text/plain": [
       "           EEM       IVV       IEV       IXN       IYR       IXG       EXI  \\\n",
       "EEM   0.000358  0.000208  0.000253  0.000223  0.000263  0.000285  0.000226   \n",
       "IVV   0.000208  0.000166  0.000178  0.000171  0.000201  0.000211  0.000168   \n",
       "IEV   0.000253  0.000178  0.000243  0.000185  0.000216  0.000255  0.000204   \n",
       "IXN   0.000223  0.000171  0.000185  0.000208  0.000195  0.000210  0.000174   \n",
       "IYR   0.000263  0.000201  0.000216  0.000195  0.000392  0.000284  0.000205   \n",
       "IXG   0.000285  0.000211  0.000255  0.000210  0.000284  0.000335  0.000233   \n",
       "EXI   0.000226  0.000168  0.000204  0.000174  0.000205  0.000233  0.000203   \n",
       "GC=F  0.000021  0.000002  0.000016  0.000005  0.000005 -0.000002  0.000010   \n",
       "BZ=F  0.000166  0.000108  0.000143  0.000110  0.000099  0.000150  0.000127   \n",
       "HYG   0.000088  0.000064  0.000077  0.000066  0.000079  0.000091  0.000071   \n",
       "TLT  -0.000065 -0.000053 -0.000061 -0.000052 -0.000048 -0.000079 -0.000059   \n",
       "\n",
       "          GC=F      BZ=F       HYG       TLT  \n",
       "EEM   0.000021  0.000166  0.000088 -0.000065  \n",
       "IVV   0.000002  0.000108  0.000064 -0.000053  \n",
       "IEV   0.000016  0.000143  0.000077 -0.000061  \n",
       "IXN   0.000005  0.000110  0.000066 -0.000052  \n",
       "IYR   0.000005  0.000099  0.000079 -0.000048  \n",
       "IXG  -0.000002  0.000150  0.000091 -0.000079  \n",
       "EXI   0.000010  0.000127  0.000071 -0.000059  \n",
       "GC=F  0.000131  0.000048  0.000002  0.000014  \n",
       "BZ=F  0.000048  0.000584  0.000056 -0.000053  \n",
       "HYG   0.000002  0.000056  0.000056 -0.000019  \n",
       "TLT   0.000014 -0.000053 -0.000019  0.000090  "
      ]
     },
     "execution_count": 128,
     "metadata": {},
     "output_type": "execute_result"
    }
   ],
   "source": [
    "return_data_test.cov()"
   ]
  },
  {
   "cell_type": "code",
   "execution_count": 130,
   "metadata": {},
   "outputs": [
    {
     "data": {
      "text/plain": [
       "0.0189208879284245"
      ]
     },
     "execution_count": 130,
     "metadata": {},
     "output_type": "execute_result"
    }
   ],
   "source": [
    "np.sqrt(0.000358)"
   ]
  },
  {
   "cell_type": "code",
   "execution_count": null,
   "metadata": {},
   "outputs": [],
   "source": []
  }
 ],
 "metadata": {
  "interpreter": {
   "hash": "035a4835455b69dd03d840b7a1daac0c5382153a24200b5f58c2216ec44fc40f"
  },
  "kernelspec": {
   "display_name": "Python 3.8.5 64-bit ('base': conda)",
   "name": "python3"
  },
  "language_info": {
   "codemirror_mode": {
    "name": "ipython",
    "version": 3
   },
   "file_extension": ".py",
   "mimetype": "text/x-python",
   "name": "python",
   "nbconvert_exporter": "python",
   "pygments_lexer": "ipython3",
   "version": "3.8.5"
  },
  "orig_nbformat": 4
 },
 "nbformat": 4,
 "nbformat_minor": 2
}
