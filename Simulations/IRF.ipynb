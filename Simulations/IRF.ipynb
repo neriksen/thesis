{
 "cells": [
  {
   "cell_type": "code",
   "execution_count": null,
   "metadata": {},
   "outputs": [],
   "source": [
    "import sys\n",
    "import pandas as pd\n",
    "import matplotlib.pyplot as plt\n",
    "import matplotlib\n",
    "import numpy as np\n",
    "import scipy.stats as scipy\n",
    "sys.path.append(\"..\\\\backtesting\")\n",
    "import dynamic_backtesting as db\n",
    "plt.style.use('seaborn')\n",
    "matplotlib.rcParams['axes.prop_cycle'] = matplotlib.cycler(color=[\"black\", \"green\",  \"deepskyblue\", \"orange\",\"grey\", \"lime\", \"purple\", \"Gold\", \"brown\", \"blue\", \"pink\"]) "
   ]
  },
  {
   "cell_type": "code",
   "execution_count": null,
   "metadata": {},
   "outputs": [],
   "source": [
    "assets = {\"EEM\": \"Emerging Markets\",\n",
    "           \"IVV\": \"S&P 500\",\n",
    "           \"IEV\": \"MSCI Europe\",\n",
    "           \"IXN\": \"Global Tech\",\n",
    "           \"IYR\": \"US Real Estate\",\n",
    "           \"IXG\": \"Global Financials\",\n",
    "           \"EXI\": \"Global Industrials\",\n",
    "           \"GC=F\": \"Gold Futures\", \n",
    "           \"BZ=F\": \"Brent Crude Oil Futures\",\n",
    "           \"HYG\": \"High-Yield Corporate Bonds\",\n",
    "           \"TLT\": \"20+ Year Treasury Bonds\"}\n",
    "tickers = list(assets.keys())\n",
    "asset_names = list(assets.values())\n",
    "#spx = pd.read_csv('../data/spx.csv').stack().tolist()"
   ]
  },
  {
   "cell_type": "markdown",
   "metadata": {},
   "source": [
    "**Henter return data udfra tickers**"
   ]
  },
  {
   "cell_type": "code",
   "execution_count": null,
   "metadata": {},
   "outputs": [],
   "source": [
    "return_data =db.download_return_data([\"IVV\",\"IYR\",\"EXI\",\"BZ=F\",\"TLT\"], save_to_csv=True)\n",
    "#laver ny dictionary\n",
    "included_asset = {asset: assets[asset] for asset in return_data.columns.to_list() }"
   ]
  },
  {
   "cell_type": "markdown",
   "metadata": {},
   "source": [
    "**Henter parametre**"
   ]
  },
  {
   "cell_type": "code",
   "execution_count": null,
   "metadata": {},
   "outputs": [],
   "source": [
    "def GARCH_MODEL(ugarch_model=\"sGARCH\", garch_order=(1, 1)):\n",
    "    \"\"\"\n",
    "    Estimate af GARCH model and parse parameters, sigmas and residuals\n",
    "    ugarch_model: sGARCH, gjrGARCH\n",
    "    garch_order: (1, 1), (1,0)\n",
    "    \"\"\"\n",
    "    coef, residuals, sigmas = db.fit_garch_model(ugarch_model=ugarch_model,garch_order=garch_order)\n",
    "    return coef, residuals, sigmas"
   ]
  },
  {
   "cell_type": "markdown",
   "metadata": {},
   "source": [
    "**Laver data til IRF plot**"
   ]
  },
  {
   "cell_type": "code",
   "execution_count": null,
   "metadata": {},
   "outputs": [],
   "source": [
    "def IRF_maker(GARCHTYPE,t,Asset_number,shock_size, coef, residuals, sigmas):\n",
    "    \"\"\"\n",
    "    Makes data for an IRF plot with a GARCH type model using the data in the csv file and simulation\n",
    "\n",
    "    Variables:\n",
    "    t (int): the length of sample\n",
    "    Asset_number: The asset that receive the shock\n",
    "    shock_size: the stock to the mean\n",
    "    GARCHTYPE: sGARCH11, sGARCH10, gjrGARCH11\n",
    "    Residuals: Past residuals\n",
    "    Sigmas: Past sigmas\n",
    "    \"\"\"\n",
    "    #unpacks paramters\n",
    "    params_dict = db.parse_garch_coef(coef, np.shape(residuals)[1], GARCHTYPE)\n",
    "    print(params_dict[\"kappa\"])\n",
    "    print(params_dict[\"alpha\"])\n",
    "    mu_T=params_dict[\"mu\"].transpose()\n",
    "    irf_data=pd.DataFrame(mu_T.repeat(t,axis=0),columns=included_asset)\n",
    "    #Indsætter chok\n",
    "    irf_data.iloc[int(t/2),Asset_number]=shock_size\n",
    "    #udregner omega\n",
    "    irf_omega_s=db.calc_Omega_ts(irf_data,sigmas,residuals,**params_dict)\n",
    "    irf_sigma_s=pd.DataFrame([np.diag(Omega) for Omega in irf_omega_s],columns=included_asset)\n",
    "    irf_sigma_s.index=irf_sigma_s.index-int(t/2)\n",
    "    #udregner vægte\n",
    "    irf_weights=pd.DataFrame(db.calc_weights_garch_no_trading_cost(irf_omega_s),columns=included_asset)\n",
    "    irf_weights.index=irf_weights.index-int(t/2)\n",
    "    return irf_weights,irf_sigma_s"
   ]
  },
  {
   "cell_type": "markdown",
   "metadata": {},
   "source": [
    "**Laver figur for ARCH(1)**"
   ]
  },
  {
   "cell_type": "code",
   "execution_count": null,
   "metadata": {},
   "outputs": [],
   "source": [
    "coef_ARCH, residuals_ARCH, sigmas_ARCH= GARCH_MODEL(\"sGARCH\",(1,0))"
   ]
  },
  {
   "cell_type": "code",
   "execution_count": null,
   "metadata": {},
   "outputs": [],
   "source": [
    "irf_weights_ARCH,irf_sigma_ARCH=IRF_maker(\"sGARCH10\",10000,0,-2,coef_ARCH, residuals_ARCH, sigmas_ARCH)"
   ]
  },
  {
   "cell_type": "code",
   "execution_count": null,
   "metadata": {},
   "outputs": [],
   "source": [
    "#plt.style.use('seaborn')\n",
    "fig, ax = plt.subplots(1, 1, figsize=(9,7), dpi=190)\n",
    "ax.plot(irf_weights_ARCH)\n",
    "ax.margins(0,0.2)\n",
    "ax.set_xlim(-5,150)\n",
    "ax.legend(included_asset.values(), loc='upper right')\n",
    "ax.set_xlabel('Period, $t$') \n",
    "ax.set_ylabel('Weight, $v_t$',loc='top', rotation = 0, labelpad = -78) \n",
    "fig.savefig(\"Simulations\\IRF_ARCH(1)_weight.png\", bbox_inches = 'tight', pad_inches = 0.1)\n",
    "\n",
    "fig1, ax1 = plt.subplots(1, 1, figsize=(9,7), dpi=190)\n",
    "ax1.plot(np.sqrt(irf_sigma_ARCH))\n",
    "ax1.set_xlim(int(0-2),int(0+50))\n",
    "ax1.legend(included_asset.values(), loc='upper right')\n",
    "ax1.set_xlabel('Period, $t$') \n",
    "ax1.set_ylabel('Volatility, $\\sigma_t$',loc='top', rotation = 0, labelpad = -78)\n",
    "fig1.savefig(\"Simulations\\IRF_ARCH(1)_vol.png\", bbox_inches = 'tight', pad_inches = 0.1)"
   ]
  },
  {
   "cell_type": "markdown",
   "metadata": {},
   "source": [
    "**Laver figur til GARCH(1,1)**"
   ]
  },
  {
   "cell_type": "code",
   "execution_count": null,
   "metadata": {},
   "outputs": [],
   "source": [
    "coef_GARCH, residuals_GARCH, sigmas_GARCH= GARCH_MODEL(\"sGARCH\",(1,1))"
   ]
  },
  {
   "cell_type": "code",
   "execution_count": null,
   "metadata": {},
   "outputs": [],
   "source": [
    "irf_weights_GARCH,irf_sigma_GARCH=IRF_maker(\"sGARCH11\",10000,0,-2,coef_GARCH, residuals_GARCH, sigmas_GARCH)"
   ]
  },
  {
   "cell_type": "code",
   "execution_count": null,
   "metadata": {},
   "outputs": [],
   "source": [
    "#plt.style.use('seaborn')\n",
    "fig, ax = plt.subplots(1, 1, figsize=(9,7), dpi=190)\n",
    "ax.plot(irf_weights_GARCH)\n",
    "ax.margins(0,0)\n",
    "ax.set_xlim(-5,150)\n",
    "ax.legend(included_asset.values(), loc='upper right')\n",
    "ax.set_xlabel('Period, $t$') \n",
    "ax.set_ylabel('Weight, $v_t$',loc='top', rotation = 0, labelpad = -72) \n",
    "fig.savefig(\"Simulations\\IRF_GARCH(1,1)_weight.png\", bbox_inches = 'tight', pad_inches = 0.1)\n",
    "\n",
    "fig1, ax1 = plt.subplots(1, 1, figsize=(9,7), dpi=190)\n",
    "ax1.plot(np.sqrt(irf_sigma_GARCH))\n",
    "ax1.set_xlim(-5,150)\n",
    "ax1.legend(included_asset.values(), loc='upper right')\n",
    "ax1.set_xlabel('Period, $t$') \n",
    "ax1.set_ylabel('Volatility, $\\sigma_t$',loc='top', rotation = 0, labelpad = -78) \n",
    "fig1.savefig(\"Simulations\\IRF_GARCH(1,1)_vol.png\", bbox_inches = 'tight', pad_inches = 0.1)"
   ]
  },
  {
   "cell_type": "markdown",
   "metadata": {},
   "source": [
    "**Laver figur til GJR-GARCH(1,1) med et negativt stød**"
   ]
  },
  {
   "cell_type": "code",
   "execution_count": null,
   "metadata": {},
   "outputs": [],
   "source": [
    "coef_GJRGARCH, residuals_GJRGARCH, sigmas_GJRGARCH= GARCH_MODEL(\"gjrGARCH\",(1,1))"
   ]
  },
  {
   "cell_type": "code",
   "execution_count": null,
   "metadata": {},
   "outputs": [],
   "source": [
    "irf_weights_GJRGARCH,irf_sigma_GJRGARCH=IRF_maker(\"gjrGARCH11\",10000,0,-2,coef_GJRGARCH, residuals_GJRGARCH, sigmas_GJRGARCH)"
   ]
  },
  {
   "cell_type": "code",
   "execution_count": null,
   "metadata": {},
   "outputs": [],
   "source": [
    "#plt.style.use('seaborn')\n",
    "fig, ax = plt.subplots(1, 1, figsize=(9,7), dpi=190)\n",
    "ax.plot(irf_weights_GJRGARCH)\n",
    "ax.margins(0,0)\n",
    "ax.set_xlim(-5,150)\n",
    "ax.legend(included_asset.values(), loc='upper right')\n",
    "ax.set_xlabel('Period, $t$') \n",
    "ax.set_ylabel('Weight, $v_t$',loc='top', rotation = 0, labelpad = -72)\n",
    "fig.savefig(\"Simulations\\IRF_GJRGARCH(1,1)_vol.png\", bbox_inches = 'tight', pad_inches = 0.1)\n",
    "\n",
    "fig1, ax1 = plt.subplots(1, 1, figsize=(9,7), dpi=190)\n",
    "ax1.plot(np.sqrt(irf_sigma_GJRGARCH))\n",
    "ax1.set_xlim(-5,150)\n",
    "ax1.legend(included_asset.values(), loc='upper right')\n",
    "ax1.set_xlabel('Period, $t$') \n",
    "ax1.set_ylabel('Volatility, $\\sigma_t$',loc='top', rotation = 0, labelpad = -78) \n",
    "fig1.savefig(\"Simulations\\IRF_GJRGARCH(1,1)_weight.png\", bbox_inches = 'tight', pad_inches = 0.1)"
   ]
  },
  {
   "cell_type": "markdown",
   "metadata": {},
   "source": [
    "**Samme som ovenstående, men med positivt stød**"
   ]
  },
  {
   "cell_type": "code",
   "execution_count": null,
   "metadata": {},
   "outputs": [],
   "source": [
    "irf_weights_GJRGARCH_p,irf_sigma_GJRGARCH_p=IRF_maker(\"gjrGARCH11\",10000,0,2,coef_GJRGARCH, residuals_GJRGARCH, sigmas_GJRGARCH)"
   ]
  },
  {
   "cell_type": "code",
   "execution_count": null,
   "metadata": {},
   "outputs": [],
   "source": [
    "fig, ax = plt.subplots(1, 1, figsize=(9,7), dpi=190)\n",
    "ax.plot(irf_weights_GJRGARCH_p)\n",
    "ax.margins(0,0)\n",
    "ax.set_xlim(-5,150)\n",
    "ax.legend(included_asset.values(), loc='upper right')\n",
    "ax.set_xlabel('Period, $t$') \n",
    "ax.set_ylabel('Weight, $v_t$',loc='top', rotation = 0, labelpad = -72)\n",
    "fig.savefig(\"Simulations\\IRF_GJRGARCH(1,1)_p_vol.png\", bbox_inches = 'tight', pad_inches = 0.1)\n",
    "\n",
    "fig1, ax1 = plt.subplots(1, 1, figsize=(9,7), dpi=190)\n",
    "ax1.plot(np.sqrt(irf_sigma_GJRGARCH_p))\n",
    "ax1.set_xlim(-5,150)\n",
    "ax1.legend(included_asset.values(), loc='upper right')\n",
    "ax1.set_xlabel('Period, $t$') \n",
    "ax1.set_ylabel('Volatility, $\\sigma_t$',loc='top', rotation = 0, labelpad = -78) \n",
    "fig1.savefig(\"Simulations\\IRF_GJRGARCH(1,1)_p_weight.png\", bbox_inches = 'tight', pad_inches = 0.1)"
   ]
  },
  {
   "cell_type": "code",
   "execution_count": null,
   "metadata": {},
   "outputs": [],
   "source": []
  }
 ],
 "metadata": {
  "interpreter": {
   "hash": "035a4835455b69dd03d840b7a1daac0c5382153a24200b5f58c2216ec44fc40f"
  },
  "kernelspec": {
   "display_name": "Python 3.8.5 64-bit ('base': conda)",
   "name": "python3"
  },
  "language_info": {
   "codemirror_mode": {
    "name": "ipython",
    "version": 3
   },
   "file_extension": ".py",
   "mimetype": "text/x-python",
   "name": "python",
   "nbconvert_exporter": "python",
   "pygments_lexer": "ipython3",
   "version": "3.8.5"
  },
  "orig_nbformat": 4
 },
 "nbformat": 4,
 "nbformat_minor": 2
}
