{
 "cells": [
  {
   "cell_type": "markdown",
   "metadata": {},
   "source": [
    "## Showing min variance and efficient portfolio"
   ]
  },
  {
   "cell_type": "code",
   "execution_count": null,
   "metadata": {},
   "outputs": [],
   "source": [
    "import datetime as dt\n",
    "import numpy as np\n",
    "import pandas as pd\n",
    "from numpy import dot\n",
    "from numpy import divide\n",
    "from numpy.linalg import multi_dot as mdot\n",
    "from numpy.linalg import inv\n",
    "import matplotlib.pyplot as plt\n",
    "from matplotlib import rc\n",
    "import matplotlib\n",
    "#import quadprog\n",
    "import yfinance\n",
    "plt.style.use('seaborn')\n",
    "plt.rcParams.update({\n",
    "   \"text.usetex\": True,\n",
    "   \"font.family\": ['Latin Modern Roman'],\n",
    "   \"xtick.labelsize\": 17.0,\n",
    "   \"ytick.labelsize\": 17.0,\n",
    "   \"axes.labelsize\":  17.0,\n",
    "   \"legend.fontsize\": 17.0\n",
    "})"
   ]
  },
  {
   "cell_type": "markdown",
   "metadata": {},
   "source": [
    "### Downloading historical data"
   ]
  },
  {
   "cell_type": "code",
   "execution_count": null,
   "metadata": {},
   "outputs": [],
   "source": [
    "spx = pd.read_csv('../data/spx.csv').stack().tolist()"
   ]
  },
  {
   "cell_type": "code",
   "execution_count": null,
   "metadata": {},
   "outputs": [],
   "source": [
    "raw_data = yfinance.download(spx, start=\"2013-1-1\", end=\"2021-10-02\", back_adjust=True, auto_adjust=True)\n",
    "closing_prices = raw_data['Close']\n",
    "r_f = 0.0\n",
    "returns = closing_prices.pct_change().iloc[1:].ffill()-((1+r_f)**(1/250)-1)"
   ]
  },
  {
   "cell_type": "markdown",
   "metadata": {},
   "source": [
    "### Calculating annual expected return $\\mu$ and volatility $\\sigma$"
   ]
  },
  {
   "cell_type": "code",
   "execution_count": null,
   "metadata": {},
   "outputs": [],
   "source": [
    "returns = returns.ffill()\n",
    "returns = returns.dropna(axis = 1, how = 'any')\n",
    "returns = returns*100\n",
    "mu = returns.mean()*250\n",
    "std = returns.std()*(250**0.5)"
   ]
  },
  {
   "cell_type": "markdown",
   "metadata": {},
   "source": [
    "### Calculating minimum variance portfolio"
   ]
  },
  {
   "cell_type": "code",
   "execution_count": null,
   "metadata": {},
   "outputs": [],
   "source": [
    "Sigma = returns.cov().values\n",
    "Sigma_inv = inv(Sigma)\n",
    "one = np.ones((len(Sigma_inv)))"
   ]
  },
  {
   "cell_type": "code",
   "execution_count": null,
   "metadata": {},
   "outputs": [],
   "source": [
    "v_t_mvp = dot(Sigma_inv, one)/mdot([one.T, Sigma_inv, one])"
   ]
  },
  {
   "cell_type": "markdown",
   "metadata": {},
   "source": [
    "### Using numerical solver"
   ]
  },
  {
   "cell_type": "code",
   "execution_count": null,
   "metadata": {},
   "outputs": [],
   "source": [
    "res = quadprog.solve_qp(G=Sigma, a = np.zeros(len(Sigma_inv)), C = np.ones((len(Sigma_inv), 1)), b=np.ones(1), meq=1)"
   ]
  },
  {
   "cell_type": "markdown",
   "metadata": {},
   "source": [
    "### Calculating efficient portfolio"
   ]
  },
  {
   "attachments": {
    "fc26d116-5952-4ebb-9829-d9e7796f7c27.png": {
     "image/png": "[encoded data removed]"
    }
   },
   "cell_type": "markdown",
   "metadata": {},
   "source": [
    "![ABCD.png](attachment:fc26d116-5952-4ebb-9829-d9e7796f7c27.png)"
   ]
  },
  {
   "attachments": {
    "a2311b60-8ef7-48cb-b7e7-89d9ca9762fc.png": {
     "image/png": "[encoded data removed]"
    }
   },
   "cell_type": "markdown",
   "metadata": {},
   "source": [
    "![efficient_weigths.png](attachment:a2311b60-8ef7-48cb-b7e7-89d9ca9762fc.png)"
   ]
  },
  {
   "attachments": {
    "572aaa52-50c6-4d90-9572-80fcf664d64b.png": {
     "image/png": "[encoded data removed]"
    }
   },
   "cell_type": "markdown",
   "metadata": {},
   "source": [
    "![k2.png](attachment:572aaa52-50c6-4d90-9572-80fcf664d64b.png)"
   ]
  },
  {
   "cell_type": "code",
   "execution_count": null,
   "metadata": {},
   "outputs": [],
   "source": [
    "expected_mu_mvp = (v_t_mvp.T*returns).sum(axis=1).mean()*250"
   ]
  },
  {
   "cell_type": "code",
   "execution_count": null,
   "metadata": {},
   "outputs": [],
   "source": [
    "A = mdot([one.T, Sigma_inv, one])\n",
    "B = mdot([one.T, Sigma_inv, mu])\n",
    "#C = mdot([mu_tilde.T, Sigma_inv, one])\n",
    "#D = mdot([mu_tilde.T, Sigma_inv, mu_tilde])\n",
    "\n",
    "_lambda = 100\n",
    "\n",
    "def efficient_port(mu, _lambda):\n",
    "    v_t_eff = v_t_mvp + 1/_lambda*(dot(Sigma_inv, mu)-dot(divide(B, A), dot(Sigma_inv, one)))\n",
    "    return v_t_eff\n",
    "\n",
    "v_t_eff = efficient_port(mu, _lambda)"
   ]
  },
  {
   "cell_type": "markdown",
   "metadata": {},
   "source": [
    "### Applying the two mutual fund theorem"
   ]
  },
  {
   "cell_type": "code",
   "execution_count": null,
   "metadata": {},
   "outputs": [],
   "source": [
    "def port_std(weights):\n",
    "    return mdot([weights.T, Sigma, weights])*(250**0.5)"
   ]
  },
  {
   "cell_type": "code",
   "execution_count": null,
   "metadata": {},
   "outputs": [],
   "source": [
    "#frontier_weights = [efficient_port(c) for c in np.arange(expected_mu_mvp, 250, 1)]\n",
    "#frontier_mu = [dot(mu_tilde.T, w) for w in frontier_weights]\n",
    "#frontier_std = [port_std(w) for w in frontier_weights]\n",
    "\n",
    "frontier_weights = [efficient_port(mu, l) for l in np.arange(30, 2000, .5)]\n",
    "frontier_mu = [dot(mu.T, w) for w in frontier_weights]\n",
    "frontier_std = [port_std(w) for w in frontier_weights]"
   ]
  },
  {
   "cell_type": "markdown",
   "metadata": {},
   "source": [
    "### Lower part of efficient frontier"
   ]
  },
  {
   "cell_type": "code",
   "execution_count": null,
   "metadata": {},
   "outputs": [],
   "source": [
    "# Not defined when using lambda\n",
    "lower_frontier_weights = [efficient_port(mu, l) for l in np.arange(-2000, -20, .5)]\n",
    "lower_frontier_mu = [dot(mu.T, w) for w in lower_frontier_weights]\n",
    "lower_frontier_std = [port_std(w) for w in lower_frontier_weights]"
   ]
  },
  {
   "cell_type": "code",
   "execution_count": null,
   "metadata": {},
   "outputs": [],
   "source": []
  },
  {
   "cell_type": "markdown",
   "metadata": {},
   "source": [
    "### Ilustation of feasible set"
   ]
  },
  {
   "cell_type": "code",
   "execution_count": null,
   "metadata": {
    "tags": []
   },
   "outputs": [],
   "source": [
    "s = 20\n",
    "fig, ax = plt.subplots(1, 1, figsize=(7, 6), dpi=300)\n",
    "ax.scatter(std, mu, color=\"grey\", label=r\"\\textbf{S\\&P 500 stocks}\", s=s, alpha=.5)\n",
    "ax.plot(frontier_std, frontier_mu, zorder=1, color=\"black\")\n",
    "ax.plot(lower_frontier_std, lower_frontier_mu, zorder=1, alpha = 0.8, color=\"red\", linestyle=\"dashed\")\n",
    "ax.set_xlabel(r\"\\textbf{Annualized volatility (\\%)}\",loc='right')\n",
    "ax.set_ylabel(r\"\\textbf{Annualized return (\\%)}\",loc='top', rotation = 0, labelpad = -135)\n",
    "ax.set_xlim(xmin=0)\n",
    "ax.set_xlim(xmax=120)\n",
    "ax.set_ylim(ymax=250)\n",
    "ax.set_ylim(ymin=-250)\n",
    "ax.legend()\n",
    "#fig.savefig('feasible_set.png', bbox_inches=\"tight\")"
   ]
  },
  {
   "cell_type": "code",
   "execution_count": null,
   "metadata": {},
   "outputs": [],
   "source": [
    "s = 20\n",
    "fig, ax = plt.subplots(1, 1, figsize=(9, 7), dpi=190)\n",
    "ax.scatter(port_std(v_t_mvp), dot(mu.T, v_t_mvp), color= \"green\", s=s, zorder=2, label=r\"\\textbf{Minimum variance portfolio}\")\n",
    "ax.scatter(port_std(v_t_eff), dot(mu.T, v_t_eff), color=\"red\", s=s, zorder=2, label=r\"\\textbf{Efficient portfolio, $\\gamma = 100$}\")\n",
    "ax.scatter(std, mu, color=\"grey\", label=r\"\\textbf{S\\&P 500 stocks}\", s=s, alpha=.5)\n",
    "ax.plot(frontier_std, frontier_mu, zorder=1, color=\"black\")\n",
    "ax.plot(lower_frontier_std, lower_frontier_mu, zorder=0, alpha = 0.8, color=\"red\", linestyle=\"dashed\")\n",
    "ax.set_xlabel(r\"\\textbf{Annualized volatility (\\%)}\",loc='right')\n",
    "ax.set_ylabel(r\"\\textbf{Annualized return (\\%)}\",loc='top', rotation = 0, labelpad = -228)\n",
    "ax.set_xlim(xmin=0)\n",
    "ax.set_xlim(xmax=120)\n",
    "ax.set_ylim(ymax=250)\n",
    "ax.set_ylim(ymin=-50)\n",
    "ax.legend(loc=\"upper left\")\n",
    "fig.savefig('theory_std_mu.png', bbox_inches=\"tight\")"
   ]
  },
  {
   "cell_type": "code",
   "execution_count": null,
   "metadata": {},
   "outputs": [],
   "source": [
    "eff_perf = (returns.multiply(v_t_eff, axis=1).sum(axis=1)/100+1).cumprod()\n",
    "eff_mvp = (returns.multiply(v_t_mvp, axis=1).sum(axis=1)/100+1).cumprod()"
   ]
  },
  {
   "cell_type": "code",
   "execution_count": null,
   "metadata": {},
   "outputs": [],
   "source": [
    "spx_data = yfinance.download(['SPY'], start = \"2013-1-1\")['Close']\n",
    "spx_data = spx_data/spx_data.iloc[0]"
   ]
  },
  {
   "cell_type": "code",
   "execution_count": null,
   "metadata": {},
   "outputs": [],
   "source": [
    "fig, ax = plt.subplots(1, 1, figsize=(10, 10))\n",
    "#ax.plot(eff_perf)\n",
    "ax.plot(eff_mvp)\n",
    "ax.plot(spx_data)"
   ]
  },
  {
   "cell_type": "code",
   "execution_count": null,
   "metadata": {},
   "outputs": [],
   "source": []
  }
 ],
 "metadata": {
  "kernelspec": {
   "display_name": "Python 3",
   "language": "python",
   "name": "python3"
  },
  "language_info": {
   "codemirror_mode": {
    "name": "ipython",
    "version": 3
   },
   "file_extension": ".py",
   "mimetype": "text/x-python",
   "name": "python",
   "nbconvert_exporter": "python",
   "pygments_lexer": "ipython3",
   "version": "3.8.5"
  }
 },
 "nbformat": 4,
 "nbformat_minor": 4
}
