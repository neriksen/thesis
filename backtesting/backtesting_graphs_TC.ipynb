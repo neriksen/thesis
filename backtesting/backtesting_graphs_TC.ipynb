{
 "cells": [
  {
   "cell_type": "code",
   "execution_count": 1,
   "metadata": {},
   "outputs": [],
   "source": [
    "import sys\n",
    "sys.path.append(\"utils\")\n",
    "import dynamic_backtesting as db\n",
    "import compare_strategies as cs\n",
    "import matplotlib.pyplot as plt\n",
    "import pandas as pd\n",
    "import matplotlib\n",
    "from matplotlib.dates import DateFormatter\n",
    "from matplotlib.dates import YearLocator\n",
    "plt.style.use('seaborn')\n",
    "matplotlib.rcParams['axes.prop_cycle'] = matplotlib.cycler(color=[\"grey\", \"green\", \"black\", \"deepskyblue\", \"orange\", \"lime\", \"purple\", \"Gold\", \"brown\", \"blue\", \"pink\"])\n",
    "plt.rcParams.update({\n",
    "   \"text.usetex\": True,\n",
    "   \"font.family\": ['Latin Modern Roman'],\n",
    "   \"xtick.labelsize\": 20.0,\n",
    "   \"ytick.labelsize\": 20.0,\n",
    "   \"axes.labelsize\":  20.0,\n",
    "   \"legend.fontsize\": 18.0\n",
    "})  "
   ]
  },
  {
   "cell_type": "code",
   "execution_count": 2,
   "metadata": {},
   "outputs": [],
   "source": [
    "assets = {\"EEM\": \"Emerging Markets\",\n",
    "           \"IVV\": \"S&P 500\",\n",
    "           \"IEV\": \"MSCI Europe\",\n",
    "           \"IXN\": \"Global Tech\",\n",
    "           \"IYR\": \"US Real Estate\",\n",
    "           \"IXG\": \"Global Financials\",\n",
    "           \"EXI\": \"Global Industrials\",\n",
    "           \"GC=F\": \"Gold Futures\", \n",
    "           \"BZ=F\": \"Brent Crude Oil Futures\",\n",
    "           \"HYG\": \"High-Yield Corporate Bonds\",\n",
    "           \"TLT\": \"20+ Year Treasury Bonds\"}\n",
    "tickers = list(assets.keys())\n",
    "stocks = tickers[:7]\n",
    "commodities = tickers[7:9]\n",
    "bonds = tickers[9:]"
   ]
  },
  {
   "cell_type": "markdown",
   "metadata": {},
   "source": [
    "**Laver funktion til at hente vægte og udregne performance for forskellige tickers og gamma**"
   ]
  },
  {
   "cell_type": "code",
   "execution_count": 3,
   "metadata": {},
   "outputs": [],
   "source": [
    "def backtesting(tickers,Gamma):\n",
    "    v_t_ARCH_TC, out_of_sample_ARCH_TC, _,Omega_t_ARCH_TC = db.garch_with_trading_cost(tickers=tickers,\n",
    "    number_of_out_of_sample_days=4*250, model_type=\"sGARCH10\",tuning_gamma_D=Gamma)\n",
    "    v_t_GARCH_TC, out_of_sample_GARCH_TC, _,Omega_t_GARCH_TC = db.garch_with_trading_cost(tickers=tickers,\n",
    "    number_of_out_of_sample_days=4*250, model_type=\"sGARCH11\",tuning_gamma_D=Gamma)\n",
    "    v_t_GJR_TC, out_of_sample_GJR_TC, _,Omega_t_GJR_TC = db.garch_with_trading_cost(tickers=tickers,\n",
    "    number_of_out_of_sample_days=4*250, model_type=\"gjrGARCH11\",tuning_gamma_D=Gamma)\n",
    "    res_ARCH_TC, perf_table_ARCH_TC = cs.performance_table(v_t_ARCH_TC, out_of_sample_ARCH_TC,Omega_t_ARCH_TC,portfolio_value=1e9)\n",
    "    res_GARCH_TC, perf_table_GARCH_TC = cs.performance_table(v_t_GARCH_TC, out_of_sample_GARCH_TC,Omega_t_GARCH_TC,portfolio_value=1e9)\n",
    "    res_GJR_TC, perf_table_GJR_TC = cs.performance_table(v_t_GJR_TC, out_of_sample_GJR_TC,Omega_t_GJR_TC,portfolio_value=1e9)\n",
    "    perf_table_TC=perf_table_ARCH_TC.iloc[0:1,]\n",
    "    perf_table_TC=perf_table_TC.rename(index={'GARCH':'ARCH(1)'})\n",
    "    perf_table_TC=perf_table_TC.append(perf_table_GARCH_TC.iloc[0,])\n",
    "    perf_table_TC=perf_table_TC.rename(index={'GARCH':'GARCH(1,1)'})\n",
    "    perf_table_TC=perf_table_TC.append(perf_table_GJR_TC.iloc[0,])\n",
    "    perf_table_TC=perf_table_TC.rename(index={'GARCH':'GJR-GARCH(1,1)'})\n",
    "    perf_table_TC=perf_table_TC.append(perf_table_GJR_TC.iloc[2,])\n",
    "    perf_table_TC=perf_table_TC.append(perf_table_GJR_TC.iloc[1,])\n",
    "    perf_table_TC=perf_table_TC.rename(index={'BnH':'Buy and hold','Equal_weight':'Equal weight'})\n",
    "    #Trading cost\n",
    "    perf_table_TC=perf_table_TC.append(perf_table_ARCH_TC.iloc[3,])\n",
    "    perf_table_TC=perf_table_TC.rename(index={'GARCH TC':'ARCH(1) TC'})\n",
    "    perf_table_TC=perf_table_TC.append(perf_table_GARCH_TC.iloc[3,])\n",
    "    perf_table_TC=perf_table_TC.rename(index={'GARCH TC':'GARCH(1,1) TC'})\n",
    "    perf_table_TC=perf_table_TC.append(perf_table_GJR_TC.iloc[3,])\n",
    "    perf_table_TC=perf_table_TC.rename(index={'GARCH TC':'GJR-GARCH(1,1) TC'})\n",
    "    perf_table_TC=perf_table_TC.append(perf_table_GJR_TC.iloc[4,])\n",
    "    perf_table_TC=perf_table_TC.append(perf_table_GJR_TC.iloc[5,])\n",
    "    perf_table_TC=perf_table_TC.rename(index={'BnH TC':'Buy and hold TC','Equal_weight TC':'Equal weight TC'})\n",
    "\n",
    "    #gross and net return\n",
    "    res_tc=res_ARCH_TC.drop(columns=['GARCH TC','Equal_weight', 'BnH','Equal_weight TC','BnH TC']).rename(columns={'GARCH':'ARCH(1)'})\n",
    "    res_tc[\"GARCH(1,1)\"]=res_GARCH_TC[\"GARCH\"]\n",
    "    res_tc[\"GJR-GARCH(1,1)\"]=res_GJR_TC[\"GARCH\"]\n",
    "    res_tc[\"Equal weight\"]=res_GJR_TC[\"Equal_weight\"]\n",
    "    res_tc[\"Buy and hold\"]=res_GJR_TC[\"BnH\"]\n",
    "\n",
    "    res_tc_TC=res_ARCH_TC.drop(columns=['GARCH','Equal_weight', 'BnH','Equal_weight TC','BnH TC']).rename(columns={'GARCH TC':'ARCH(1)'})\n",
    "    res_tc_TC[\"GARCH(1,1)\"]=res_GARCH_TC[\"GARCH TC\"]\n",
    "    res_tc_TC[\"GJR-GARCH(1,1)\"]=res_GJR_TC[\"GARCH TC\"]\n",
    "    res_tc_TC[\"Equal weight\"]=res_GJR_TC[\"Equal_weight TC\"]\n",
    "    res_tc_TC[\"Buy and hold\"]=res_GJR_TC[\"BnH TC\"]\n",
    "    return v_t_ARCH_TC,v_t_GARCH_TC, v_t_GJR_TC, perf_table_TC,res_tc,res_tc_TC\n"
   ]
  },
  {
   "cell_type": "code",
   "execution_count": 4,
   "metadata": {},
   "outputs": [],
   "source": [
    "gamma_low=1.526988705495546e-06\n",
    "gamma_medium=1.3e-5\n",
    "gamma_high=1e-4"
   ]
  },
  {
   "cell_type": "markdown",
   "metadata": {},
   "source": [
    "**All assets, calibrated gamma**"
   ]
  },
  {
   "cell_type": "code",
   "execution_count": null,
   "metadata": {},
   "outputs": [],
   "source": [
    "v_t_ARCH_all_low,v_t_GARCH_all_low, v_t_GJR_all_low, perf_table_all_low,res_all_low,res_all_low_TC = backtesting(tickers,gamma_low)"
   ]
  },
  {
   "cell_type": "markdown",
   "metadata": {},
   "source": [
    "**Figurer**"
   ]
  },
  {
   "cell_type": "code",
   "execution_count": null,
   "metadata": {},
   "outputs": [],
   "source": [
    "fig, ax = plt.subplots(1, 1, figsize=(9,7), dpi=300)\n",
    "ax.plot(res_all_low,linewidth=1)\n",
    "ax.set_ylim(0,1.8)\n",
    "ax.set_xlim(\"2017-10-08\",\"2021-10-02\")\n",
    "ax.xaxis.set_major_locator(YearLocator())\n",
    "ax.xaxis.set_major_formatter(DateFormatter(\"%Y\"))\n",
    "ax.legend([r'\\textbf{ARCH(1)}',r'\\textbf{GARCH(1,1)}',r'\\textbf{GJR-GARCH(1,1)}',r'\\textbf{Equal weight}',r'\\textbf{Buy and hold}']\n",
    ",ncol=2,loc=\"upper left\",fontsize=14)\n",
    "ax.set_ylabel(r'\\textbf{Gross Return}',loc='top', rotation = 0, labelpad = -165) \n",
    "fig.savefig(\"Performance_TC_before_L.png\", bbox_inches = 'tight', pad_inches = 0.1)"
   ]
  },
  {
   "cell_type": "code",
   "execution_count": null,
   "metadata": {},
   "outputs": [],
   "source": [
    "fig, ax = plt.subplots(1, 1, figsize=(9,7), dpi=300)\n",
    "ax.plot(res_all_low_TC,linewidth=1)\n",
    "ax.set_ylim(0,1.6)\n",
    "ax.set_xlim(\"2017-10-08\",\"2021-10-02\")\n",
    "ax.legend([r'\\textbf{ARCH(1)}',r'\\textbf{GARCH(1,1)}',r'\\textbf{GJR-GARCH(1,1)}',r'\\textbf{Equal weight}',r'\\textbf{Buy and hold}']\n",
    ",ncol=2,loc=\"upper left\",fontsize=14)\n",
    "ax.xaxis.set_major_locator(YearLocator())\n",
    "ax.xaxis.set_major_formatter(DateFormatter(\"%Y\"))\n",
    "ax.set_ylabel(r'\\textbf{Net Return}',loc='top', rotation = 0, labelpad = -145)\n",
    "fig.savefig(\"Performance_TC_after_L.png\", bbox_inches = 'tight', pad_inches = 0.1)"
   ]
  },
  {
   "cell_type": "code",
   "execution_count": null,
   "metadata": {},
   "outputs": [],
   "source": [
    "v_t_ARCH_all_low.index = pd.to_datetime(v_t_ARCH_all_low.index)\n",
    "fig, ax = plt.subplots(1, 1, figsize=(9,7), dpi=300)\n",
    "ax.plot(v_t_ARCH_all_low,linewidth=0.8)\n",
    "ax.set_ylim(-0.15,1.3)\n",
    "ax.set_xlim(\"2017-10-08\",\"2021-10-02\")\n",
    "ax.legend([r\"\\textbf{Emerging Markets}\",r\"\\textbf{S\\&P 500}\",r\"\\textbf{MSCI Europe}\",r\"\\textbf{Global Tech}\",r\"\\textbf{US Real Estate}\"\n",
    ",r\"\\textbf{Global Financials}\",r\"\\textbf{Global Industrials}\",r\"\\textbf{Gold Futures}\",r\"\\textbf{Brent Crude Oil Futures}\"\n",
    ",r\"\\textbf{High-Yield Corporate Bonds}\",r\"\\textbf{20+ Year Treasury Bonds}\"],ncol=3,loc=\"upper left\",fontsize=10.8)\n",
    "ax.xaxis.set_major_locator(YearLocator())\n",
    "ax.xaxis.set_major_formatter(DateFormatter(\"%Y\"))\n",
    "ax.set_ylabel(r'\\textbf{Weight, $v_t$}',loc='top', rotation = 0, labelpad = -128)\n",
    "fig.savefig(\"ARCH_weight_TC_L.png\", bbox_inches = 'tight', pad_inches = 0.1)"
   ]
  },
  {
   "cell_type": "code",
   "execution_count": null,
   "metadata": {},
   "outputs": [],
   "source": [
    "v_t_GARCH_all_low.index = pd.to_datetime(v_t_GARCH_all_low.index)\n",
    "fig, ax = plt.subplots(1, 1, figsize=(9,7), dpi=300)\n",
    "ax.plot(v_t_GARCH_all_low,linewidth=0.8)\n",
    "ax.set_ylim(-0.15,1.3)\n",
    "ax.set_xlim(\"2017-10-08\",\"2021-10-02\")\n",
    "ax.legend([r\"\\textbf{Emerging Markets}\",r\"\\textbf{S\\&P 500}\",r\"\\textbf{MSCI Europe}\",r\"\\textbf{Global Tech}\",r\"\\textbf{US Real Estate}\"\n",
    ",r\"\\textbf{Global Financials}\",r\"\\textbf{Global Industrials}\",r\"\\textbf{Gold Futures}\",r\"\\textbf{Brent Crude Oil Futures}\"\n",
    ",r\"\\textbf{High-Yield Corporate Bonds}\",r\"\\textbf{20+ Year Treasury Bonds}\"],ncol=3,loc=\"upper left\",fontsize=10.8)\n",
    "ax.xaxis.set_major_locator(YearLocator())\n",
    "ax.xaxis.set_major_formatter(DateFormatter(\"%Y\"))\n",
    "ax.set_ylabel(r'\\textbf{Weight, $v_t$}',loc='top', rotation = 0, labelpad = -128)\n",
    "fig.savefig(\"GARCH_weight_TC_L.png\", bbox_inches = 'tight', pad_inches = 0.1)"
   ]
  },
  {
   "cell_type": "code",
   "execution_count": null,
   "metadata": {},
   "outputs": [],
   "source": [
    "v_t_GJR_all_low.index = pd.to_datetime(v_t_GJR_all_low.index)\n",
    "fig, ax = plt.subplots(1, 1, figsize=(9,7), dpi=300)\n",
    "ax.plot(v_t_GJR_all_low,linewidth=0.8)\n",
    "ax.set_ylim(-0.15,1.3)\n",
    "ax.set_xlim(\"2017-10-08\",\"2021-10-02\")\n",
    "ax.legend([r\"\\textbf{Emerging Markets}\",r\"\\textbf{S\\&P 500}\",r\"\\textbf{MSCI Europe}\",r\"\\textbf{Global Tech}\",r\"\\textbf{US Real Estate}\"\n",
    ",r\"\\textbf{Global Financials}\",r\"\\textbf{Global Industrials}\",r\"\\textbf{Gold Futures}\",r\"\\textbf{Brent Crude Oil Futures}\"\n",
    ",r\"\\textbf{High-Yield Corporate Bonds}\",r\"\\textbf{20+ Year Treasury Bonds}\"],ncol=3,loc=\"upper left\",fontsize=10.8)\n",
    "ax.xaxis.set_major_locator(YearLocator())\n",
    "ax.xaxis.set_major_formatter(DateFormatter(\"%Y\"))\n",
    "ax.set_ylabel(r'\\textbf{Weight, $v_t$}',loc='top', rotation = 0, labelpad = -128)\n",
    "fig.savefig(\"GJRGARCH_weight_TC_L.png\", bbox_inches = 'tight', pad_inches = 0.1)"
   ]
  },
  {
   "cell_type": "code",
   "execution_count": null,
   "metadata": {},
   "outputs": [],
   "source": [
    "print(perf_table_all_low.round(4).to_latex())"
   ]
  },
  {
   "cell_type": "markdown",
   "metadata": {},
   "source": [
    "**All assets, lowest std**"
   ]
  },
  {
   "cell_type": "code",
   "execution_count": null,
   "metadata": {},
   "outputs": [],
   "source": [
    "v_t_ARCH_all_std,v_t_GARCH_all_std, v_t_GJR_all_std, perf_table_all_std,res_all_std,res_all_std_TC = backtesting(tickers,gamma_medium)"
   ]
  },
  {
   "cell_type": "code",
   "execution_count": null,
   "metadata": {},
   "outputs": [],
   "source": [
    "fig, ax = plt.subplots(1, 1, figsize=(9,7), dpi=300)\n",
    "ax.plot(res_all_std,linewidth=1)\n",
    "ax.set_ylim(0,1.8)\n",
    "ax.set_xlim(\"2017-10-08\",\"2021-10-02\")\n",
    "ax.xaxis.set_major_locator(YearLocator())\n",
    "ax.xaxis.set_major_formatter(DateFormatter(\"%Y\"))\n",
    "ax.legend([r'\\textbf{ARCH(1)}',r'\\textbf{GARCH(1,1)}',r'\\textbf{GJR-GARCH(1,1)}',r'\\textbf{Equal weight}',r'\\textbf{Buy and hold}']\n",
    ",ncol=2,loc=\"upper left\",fontsize=14)\n",
    "ax.set_ylabel(r'\\textbf{Gross Return}',loc='top', rotation = 0, labelpad = -165) \n",
    "fig.savefig(\"Performance_TC_before_M.png\", bbox_inches = 'tight', pad_inches = 0.1)"
   ]
  },
  {
   "cell_type": "code",
   "execution_count": null,
   "metadata": {},
   "outputs": [],
   "source": [
    "fig, ax = plt.subplots(1, 1, figsize=(9,7), dpi=300)\n",
    "ax.plot(res_all_std_TC,linewidth=1)\n",
    "ax.set_ylim(0,1.6)\n",
    "ax.set_xlim(\"2017-10-08\",\"2021-10-02\")\n",
    "ax.legend([r'\\textbf{ARCH(1)}',r'\\textbf{GARCH(1,1)}',r'\\textbf{GJR-GARCH(1,1)}',r'\\textbf{Equal weight}',r'\\textbf{Buy and hold}']\n",
    ",ncol=2,loc=\"upper left\",fontsize=14)\n",
    "ax.xaxis.set_major_locator(YearLocator())\n",
    "ax.xaxis.set_major_formatter(DateFormatter(\"%Y\"))\n",
    "ax.set_ylabel(r'\\textbf{Net Return}',loc='top', rotation = 0, labelpad = -145)\n",
    "fig.savefig(\"Performance_TC_after_M.png\", bbox_inches = 'tight', pad_inches = 0.1)"
   ]
  },
  {
   "cell_type": "code",
   "execution_count": null,
   "metadata": {},
   "outputs": [],
   "source": [
    "v_t_ARCH_all_std.index = pd.to_datetime(v_t_ARCH_all_std.index)\n",
    "fig, ax = plt.subplots(1, 1, figsize=(9,7), dpi=300)\n",
    "ax.plot(v_t_ARCH_all_std,linewidth=0.8)\n",
    "ax.set_ylim(-0.15,1.3)\n",
    "ax.set_xlim(\"2017-10-08\",\"2021-10-02\")\n",
    "ax.legend([r\"\\textbf{Emerging Markets}\",r\"\\textbf{S\\&P 500}\",r\"\\textbf{MSCI Europe}\",r\"\\textbf{Global Tech}\",r\"\\textbf{US Real Estate}\"\n",
    ",r\"\\textbf{Global Financials}\",r\"\\textbf{Global Industrials}\",r\"\\textbf{Gold Futures}\",r\"\\textbf{Brent Crude Oil Futures}\"\n",
    ",r\"\\textbf{High-Yield Corporate Bonds}\",r\"\\textbf{20+ Year Treasury Bonds}\"],ncol=3,loc=\"upper left\",fontsize=10.8)\n",
    "ax.xaxis.set_major_locator(YearLocator())\n",
    "ax.xaxis.set_major_formatter(DateFormatter(\"%Y\"))\n",
    "ax.set_ylabel(r'\\textbf{Weight, $v_t$}',loc='top', rotation = 0, labelpad = -128)\n",
    "fig.savefig(\"ARCH_weight_TC_M.png\", bbox_inches = 'tight', pad_inches = 0.1)"
   ]
  },
  {
   "cell_type": "code",
   "execution_count": null,
   "metadata": {},
   "outputs": [],
   "source": [
    "v_t_GARCH_all_std.index = pd.to_datetime(v_t_GARCH_all_std.index)\n",
    "fig, ax = plt.subplots(1, 1, figsize=(9,7), dpi=300)\n",
    "ax.plot(v_t_GARCH_all_std,linewidth=0.8)\n",
    "ax.set_ylim(-0.15,1.3)\n",
    "ax.set_xlim(\"2017-10-08\",\"2021-10-02\")\n",
    "ax.legend([r\"\\textbf{Emerging Markets}\",r\"\\textbf{S\\&P 500}\",r\"\\textbf{MSCI Europe}\",r\"\\textbf{Global Tech}\",r\"\\textbf{US Real Estate}\"\n",
    ",r\"\\textbf{Global Financials}\",r\"\\textbf{Global Industrials}\",r\"\\textbf{Gold Futures}\",r\"\\textbf{Brent Crude Oil Futures}\"\n",
    ",r\"\\textbf{High-Yield Corporate Bonds}\",r\"\\textbf{20+ Year Treasury Bonds}\"],ncol=3,loc=\"upper left\",fontsize=10.8)\n",
    "ax.xaxis.set_major_locator(YearLocator())\n",
    "ax.xaxis.set_major_formatter(DateFormatter(\"%Y\"))\n",
    "ax.set_ylabel(r'\\textbf{Weight, $v_t$}',loc='top', rotation = 0, labelpad = -128)\n",
    "fig.savefig(\"GARCH_weight_TC_M.png\", bbox_inches = 'tight', pad_inches = 0.1)"
   ]
  },
  {
   "cell_type": "code",
   "execution_count": null,
   "metadata": {},
   "outputs": [],
   "source": [
    "v_t_GJR_all_std.index = pd.to_datetime(v_t_GJR_all_std.index)\n",
    "fig, ax = plt.subplots(1, 1, figsize=(9,7), dpi=300)\n",
    "ax.plot(v_t_GJR_all_std,linewidth=0.8)\n",
    "ax.set_ylim(-0.15,1.3)\n",
    "ax.set_xlim(\"2017-10-08\",\"2021-10-02\")\n",
    "ax.legend([r\"\\textbf{Emerging Markets}\",r\"\\textbf{S\\&P 500}\",r\"\\textbf{MSCI Europe}\",r\"\\textbf{Global Tech}\",r\"\\textbf{US Real Estate}\"\n",
    ",r\"\\textbf{Global Financials}\",r\"\\textbf{Global Industrials}\",r\"\\textbf{Gold Futures}\",r\"\\textbf{Brent Crude Oil Futures}\"\n",
    ",r\"\\textbf{High-Yield Corporate Bonds}\",r\"\\textbf{20+ Year Treasury Bonds}\"],ncol=3,loc=\"upper left\",fontsize=10.8)\n",
    "ax.xaxis.set_major_locator(YearLocator())\n",
    "ax.xaxis.set_major_formatter(DateFormatter(\"%Y\"))\n",
    "ax.set_ylabel(r'\\textbf{Weight, $v_t$}',loc='top', rotation = 0, labelpad = -128) \n",
    "fig.savefig(\"GJRGARCH_weight_TC_M.png\", bbox_inches = 'tight', pad_inches = 0.1)"
   ]
  },
  {
   "cell_type": "code",
   "execution_count": null,
   "metadata": {},
   "outputs": [],
   "source": [
    "print(perf_table_all_std.round(4).to_latex()) "
   ]
  },
  {
   "cell_type": "markdown",
   "metadata": {},
   "source": [
    "**All assets, combination between return and risk**"
   ]
  },
  {
   "cell_type": "code",
   "execution_count": null,
   "metadata": {},
   "outputs": [],
   "source": [
    "v_t_ARCH_all_best,v_t_GARCH_all_best, v_t_GJR_all_best, perf_table_all_best,res_all_best,res_all_best_TC = backtesting(tickers,gamma_high)"
   ]
  },
  {
   "cell_type": "code",
   "execution_count": null,
   "metadata": {},
   "outputs": [],
   "source": [
    "fig, ax = plt.subplots(1, 1, figsize=(9,7), dpi=300)\n",
    "ax.plot(res_all_best,linewidth=1)\n",
    "ax.set_ylim(0,1.8)\n",
    "ax.set_xlim(\"2017-10-08\",\"2021-10-02\")\n",
    "ax.xaxis.set_major_locator(YearLocator())\n",
    "ax.xaxis.set_major_formatter(DateFormatter(\"%Y\"))\n",
    "ax.legend([r'\\textbf{ARCH(1)}',r'\\textbf{GARCH(1,1)}',r'\\textbf{GJR-GARCH(1,1)}',r'\\textbf{Equal weight}',r'\\textbf{Buy and hold}']\n",
    ",ncol=2,loc=\"upper left\",fontsize=14)\n",
    "ax.set_ylabel(r'\\textbf{Gross Return}',loc='top', rotation = 0, labelpad = -165) \n",
    "fig.savefig(\"Performance_TC_before_H.png\", bbox_inches = 'tight', pad_inches = 0.1)"
   ]
  },
  {
   "cell_type": "code",
   "execution_count": null,
   "metadata": {},
   "outputs": [],
   "source": [
    "fig, ax = plt.subplots(1, 1, figsize=(9,7), dpi=300)\n",
    "ax.plot(res_all_best_TC,linewidth=1)\n",
    "ax.set_ylim(0,1.6)\n",
    "ax.set_xlim(\"2017-10-08\",\"2021-10-02\")\n",
    "ax.legend([r'\\textbf{ARCH(1)}',r'\\textbf{GARCH(1,1)}',r'\\textbf{GJR-GARCH(1,1)}',r'\\textbf{Equal weight}',r'\\textbf{Buy and hold}']\n",
    ",ncol=2,loc=\"upper left\",fontsize=14)\n",
    "ax.xaxis.set_major_locator(YearLocator())\n",
    "ax.xaxis.set_major_formatter(DateFormatter(\"%Y\"))\n",
    "ax.set_ylabel(r'\\textbf{Net Return}',loc='top', rotation = 0, labelpad = -145) \n",
    "fig.savefig(\"Performance_TC_after_H.png\", bbox_inches = 'tight', pad_inches = 0.1)"
   ]
  },
  {
   "cell_type": "code",
   "execution_count": null,
   "metadata": {},
   "outputs": [],
   "source": [
    "v_t_ARCH_all_best.index = pd.to_datetime(v_t_ARCH_all_best.index)\n",
    "fig, ax = plt.subplots(1, 1, figsize=(9,7), dpi=300)\n",
    "ax.plot(v_t_ARCH_all_best,linewidth=0.8)\n",
    "ax.set_ylim(-0.15,1.3)\n",
    "ax.set_xlim(\"2017-10-08\",\"2021-10-02\")\n",
    "ax.legend([r\"\\textbf{Emerging Markets}\",r\"\\textbf{S\\&P 500}\",r\"\\textbf{MSCI Europe}\",r\"\\textbf{Global Tech}\",r\"\\textbf{US Real Estate}\"\n",
    ",r\"\\textbf{Global Financials}\",r\"\\textbf{Global Industrials}\",r\"\\textbf{Gold Futures}\",r\"\\textbf{Brent Crude Oil Futures}\"\n",
    ",r\"\\textbf{High-Yield Corporate Bonds}\",r\"\\textbf{20+ Year Treasury Bonds}\"],ncol=3,loc=\"upper left\",fontsize=10.8)\n",
    "ax.xaxis.set_major_locator(YearLocator())\n",
    "ax.xaxis.set_major_formatter(DateFormatter(\"%Y\"))\n",
    "ax.set_ylabel(r'\\textbf{Weight, $v_t$}',loc='top', rotation = 0, labelpad = -128)\n",
    "fig.savefig(\"ARCH_weight_TC_H.png\", bbox_inches = 'tight', pad_inches = 0.1)"
   ]
  },
  {
   "cell_type": "code",
   "execution_count": null,
   "metadata": {},
   "outputs": [],
   "source": [
    "v_t_GARCH_all_best.index = pd.to_datetime(v_t_GARCH_all_best.index)\n",
    "fig, ax = plt.subplots(1, 1, figsize=(9,7), dpi=300)\n",
    "ax.plot(v_t_GARCH_all_best,linewidth=0.8)\n",
    "ax.set_ylim(-0.15,1.3)\n",
    "ax.set_xlim(\"2017-10-08\",\"2021-10-02\")\n",
    "ax.legend([r\"\\textbf{Emerging Markets}\",r\"\\textbf{S\\&P 500}\",r\"\\textbf{MSCI Europe}\",r\"\\textbf{Global Tech}\",r\"\\textbf{US Real Estate}\"\n",
    ",r\"\\textbf{Global Financials}\",r\"\\textbf{Global Industrials}\",r\"\\textbf{Gold Futures}\",r\"\\textbf{Brent Crude Oil Futures}\"\n",
    ",r\"\\textbf{High-Yield Corporate Bonds}\",r\"\\textbf{20+ Year Treasury Bonds}\"],ncol=3,loc=\"upper left\",fontsize=10.8)\n",
    "ax.xaxis.set_major_locator(YearLocator())\n",
    "ax.xaxis.set_major_formatter(DateFormatter(\"%Y\"))\n",
    "ax.set_ylabel(r'\\textbf{Weight, $v_t$}',loc='top', rotation = 0, labelpad = -128)\n",
    "fig.savefig(\"GARCH_weight_TC_H.png\", bbox_inches = 'tight', pad_inches = 0.1)"
   ]
  },
  {
   "cell_type": "code",
   "execution_count": null,
   "metadata": {},
   "outputs": [],
   "source": [
    "v_t_GJR_all_best.index = pd.to_datetime(v_t_GJR_all_best.index)\n",
    "fig, ax = plt.subplots(1, 1, figsize=(9,7), dpi=300)\n",
    "ax.plot(v_t_GJR_all_best,linewidth=0.8)\n",
    "ax.set_ylim(-0.15,1.3)\n",
    "ax.set_xlim(\"2017-10-08\",\"2021-10-02\")\n",
    "ax.legend([r\"\\textbf{Emerging Markets}\",r\"\\textbf{S\\&P 500}\",r\"\\textbf{MSCI Europe}\",r\"\\textbf{Global Tech}\",r\"\\textbf{US Real Estate}\"\n",
    ",r\"\\textbf{Global Financials}\",r\"\\textbf{Global Industrials}\",r\"\\textbf{Gold Futures}\",r\"\\textbf{Brent Crude Oil Futures}\"\n",
    ",r\"\\textbf{High-Yield Corporate Bonds}\",r\"\\textbf{20+ Year Treasury Bonds}\"],ncol=3,loc=\"upper left\",fontsize=10.8)\n",
    "ax.xaxis.set_major_locator(YearLocator())\n",
    "ax.xaxis.set_major_formatter(DateFormatter(\"%Y\"))\n",
    "ax.set_ylabel(r'\\textbf{Weight, $v_t$}',loc='top', rotation = 0, labelpad = -128) \n",
    "fig.savefig(\"GJRGARCH_weight_TC_H.png\", bbox_inches = 'tight', pad_inches = 0.1)"
   ]
  },
  {
   "cell_type": "code",
   "execution_count": null,
   "metadata": {},
   "outputs": [],
   "source": [
    "print(perf_table_all_best.round(4).to_latex())  "
   ]
  },
  {
   "cell_type": "markdown",
   "metadata": {},
   "source": [
    "**Commundities, calibrated gamma**"
   ]
  },
  {
   "cell_type": "code",
   "execution_count": null,
   "metadata": {},
   "outputs": [],
   "source": [
    "v_t_ARCH_com_low,v_t_GARCH_com_low, v_t_GJR_com_low, perf_table_com_low,res_com_low,res_com_low_TC = backtesting(commodities,gamma_low)"
   ]
  },
  {
   "cell_type": "code",
   "execution_count": null,
   "metadata": {},
   "outputs": [],
   "source": [
    "fig, ax = plt.subplots(1, 1, figsize=(9,7), dpi=300)\n",
    "ax.plot(res_com_low,linewidth=1)\n",
    "ax.set_ylim(0,1.8)\n",
    "ax.set_xlim(\"2017-10-08\",\"2021-10-02\")\n",
    "ax.xaxis.set_major_locator(YearLocator())\n",
    "ax.xaxis.set_major_formatter(DateFormatter(\"%Y\"))\n",
    "ax.legend([r'\\textbf{ARCH(1)}',r'\\textbf{GARCH(1,1)}',r'\\textbf{GJR-GARCH(1,1)}',r'\\textbf{Equal weight}',r'\\textbf{Buy and hold}']\n",
    ",ncol=2,loc=\"upper left\",fontsize=14)\n",
    "ax.set_ylabel(r'\\textbf{Gross Return}',loc='top', rotation = 0, labelpad = -165) \n",
    "fig.savefig(\"Performance_TC_com_before_L.png\", bbox_inches = 'tight', pad_inches = 0.1)"
   ]
  },
  {
   "cell_type": "code",
   "execution_count": null,
   "metadata": {},
   "outputs": [],
   "source": [
    "fig, ax = plt.subplots(1, 1, figsize=(9,7), dpi=300)\n",
    "ax.plot(res_com_low_TC,linewidth=1)\n",
    "ax.set_ylim(0,1.6)\n",
    "ax.set_xlim(\"2017-10-08\",\"2021-10-02\")\n",
    "ax.legend([r'\\textbf{ARCH(1)}',r'\\textbf{GARCH(1,1)}',r'\\textbf{GJR-GARCH(1,1)}',r'\\textbf{Equal weight}',r'\\textbf{Buy and hold}']\n",
    ",ncol=2,loc=\"upper left\",fontsize=14)\n",
    "ax.xaxis.set_major_locator(YearLocator())\n",
    "ax.xaxis.set_major_formatter(DateFormatter(\"%Y\"))\n",
    "ax.set_ylabel(r'\\textbf{Net Return}',loc='top', rotation = 0, labelpad = -145) \n",
    "fig.savefig(\"Performance_TC_com_after_L.png\", bbox_inches = 'tight', pad_inches = 0.1)"
   ]
  },
  {
   "cell_type": "code",
   "execution_count": null,
   "metadata": {},
   "outputs": [],
   "source": [
    "v_t_ARCH_com_low.index = pd.to_datetime(v_t_ARCH_com_low.index)\n",
    "fig, ax = plt.subplots(1, 1, figsize=(9,7), dpi=300)\n",
    "ax.plot(v_t_ARCH_com_low,linewidth=0.8)\n",
    "ax.set_ylim(-0.15,1.3)\n",
    "ax.set_xlim(\"2017-10-08\",\"2021-10-02\")\n",
    "ax.legend([r\"\\textbf{Gold Futures}\",r\"\\textbf{Brent Crude Oil Futures}\"],ncol=2,loc=\"upper left\",fontsize=12)\n",
    "ax.xaxis.set_major_locator(YearLocator())\n",
    "ax.xaxis.set_major_formatter(DateFormatter(\"%Y\"))\n",
    "ax.set_ylabel(r'\\textbf{Weight, $v_t$}',loc='top', rotation = 0, labelpad = -128)\n",
    "fig.savefig(\"ARCH_weight_TC_com_L.png\", bbox_inches = 'tight', pad_inches = 0.1)"
   ]
  },
  {
   "cell_type": "code",
   "execution_count": null,
   "metadata": {},
   "outputs": [],
   "source": [
    "v_t_GARCH_com_low.index = pd.to_datetime(v_t_GARCH_com_low.index)\n",
    "fig, ax = plt.subplots(1, 1, figsize=(9,7), dpi=300)\n",
    "ax.plot(v_t_GARCH_com_low,linewidth=0.8)\n",
    "ax.set_ylim(-0.15,1.3)\n",
    "ax.set_xlim(\"2017-10-08\",\"2021-10-02\")\n",
    "ax.legend([r\"\\textbf{Gold Futures}\",r\"\\textbf{Brent Crude Oil Futures}\"],ncol=2,loc=\"upper left\",fontsize=12)\n",
    "ax.xaxis.set_major_locator(YearLocator())\n",
    "ax.xaxis.set_major_formatter(DateFormatter(\"%Y\"))\n",
    "ax.set_ylabel(r'\\textbf{Weight, $v_t$}',loc='top', rotation = 0, labelpad = -128) \n",
    "fig.savefig(\"GARCH_weight_TC_com_L.png\", bbox_inches = 'tight', pad_inches = 0.1)"
   ]
  },
  {
   "cell_type": "code",
   "execution_count": null,
   "metadata": {},
   "outputs": [],
   "source": [
    "v_t_GJR_com_low.index = pd.to_datetime(v_t_GJR_com_low.index)\n",
    "fig, ax = plt.subplots(1, 1, figsize=(9,7), dpi=300)\n",
    "ax.plot(v_t_GJR_com_low,linewidth=0.8)\n",
    "ax.set_ylim(-0.15,1.3)\n",
    "ax.set_xlim(\"2017-10-08\",\"2021-10-02\")\n",
    "ax.legend([r\"\\textbf{Gold Futures}\",r\"\\textbf{Brent Crude Oil Futures}\"],ncol=2,loc=\"upper left\",fontsize=12)\n",
    "ax.xaxis.set_major_locator(YearLocator())\n",
    "ax.xaxis.set_major_formatter(DateFormatter(\"%Y\"))\n",
    "ax.set_ylabel(r'\\textbf{Weight, $v_t$}',loc='top', rotation = 0, labelpad = -128) \n",
    "fig.savefig(\"GJRGARCH_weight_TC_com_L.png\", bbox_inches = 'tight', pad_inches = 0.1)"
   ]
  },
  {
   "cell_type": "code",
   "execution_count": null,
   "metadata": {},
   "outputs": [],
   "source": [
    "print(perf_table_com_low.round(4).to_latex())  "
   ]
  },
  {
   "cell_type": "markdown",
   "metadata": {},
   "source": [
    "**Commundities, medium gamma**"
   ]
  },
  {
   "cell_type": "code",
   "execution_count": null,
   "metadata": {},
   "outputs": [],
   "source": [
    "v_t_ARCH_com_LSTD,v_t_GARCH_com_LSTD, v_t_GJR_com_LSTD, perf_table_com_LSTD,res_com_LSTD,res_com_LSTD_TC = backtesting(commodities,gamma_medium)"
   ]
  },
  {
   "cell_type": "code",
   "execution_count": null,
   "metadata": {},
   "outputs": [],
   "source": [
    "fig, ax = plt.subplots(1, 1, figsize=(9,7), dpi=300)\n",
    "ax.plot(res_com_LSTD,linewidth=1)\n",
    "ax.set_ylim(0,1.8)\n",
    "ax.set_xlim(\"2017-10-08\",\"2021-10-02\")\n",
    "ax.xaxis.set_major_locator(YearLocator())\n",
    "ax.xaxis.set_major_formatter(DateFormatter(\"%Y\"))\n",
    "ax.legend([r'\\textbf{ARCH(1)}',r'\\textbf{GARCH(1,1)}',r'\\textbf{GJR-GARCH(1,1)}',r'\\textbf{Equal weight}',r'\\textbf{Buy and hold}']\n",
    ",ncol=2,loc=\"upper left\",fontsize=14)\n",
    "ax.set_ylabel(r'\\textbf{Gross Return}',loc='top', rotation = 0, labelpad = -165) \n",
    "fig.savefig(\"Performance_TC_com_before_M.png\", bbox_inches = 'tight', pad_inches = 0.1)"
   ]
  },
  {
   "cell_type": "code",
   "execution_count": null,
   "metadata": {},
   "outputs": [],
   "source": [
    "fig, ax = plt.subplots(1, 1, figsize=(9,7), dpi=300)\n",
    "ax.plot(res_com_LSTD_TC,linewidth=1)\n",
    "ax.set_ylim(0,1.6)\n",
    "ax.set_xlim(\"2017-10-08\",\"2021-10-02\")\n",
    "ax.legend([r'\\textbf{ARCH(1)}',r'\\textbf{GARCH(1,1)}',r'\\textbf{GJR-GARCH(1,1)}',r'\\textbf{Equal weight}',r'\\textbf{Buy and hold}']\n",
    ",ncol=2,loc=\"upper left\",fontsize=14)\n",
    "ax.xaxis.set_major_locator(YearLocator())\n",
    "ax.xaxis.set_major_formatter(DateFormatter(\"%Y\"))\n",
    "ax.set_ylabel(r'\\textbf{Net Return}',loc='top', rotation = 0, labelpad = -145) \n",
    "fig.savefig(\"Performance_TC_com_after_M.png\", bbox_inches = 'tight', pad_inches = 0.1)"
   ]
  },
  {
   "cell_type": "code",
   "execution_count": null,
   "metadata": {},
   "outputs": [],
   "source": [
    "v_t_ARCH_com_LSTD.index = pd.to_datetime(v_t_ARCH_com_LSTD.index)\n",
    "fig, ax = plt.subplots(1, 1, figsize=(9,7), dpi=300)\n",
    "ax.plot(v_t_ARCH_com_LSTD,linewidth=0.8)\n",
    "ax.set_ylim(-0.15,1.3)\n",
    "ax.set_xlim(\"2017-10-08\",\"2021-10-02\")\n",
    "ax.legend([r\"\\textbf{Gold Futures}\",r\"\\textbf{Brent Crude Oil Futures}\"],ncol=2,loc=\"upper left\",fontsize=12)\n",
    "ax.xaxis.set_major_locator(YearLocator())\n",
    "ax.xaxis.set_major_formatter(DateFormatter(\"%Y\"))\n",
    "ax.set_ylabel(r'\\textbf{Weight, $v_t$}',loc='top', rotation = 0, labelpad = -128)\n",
    "fig.savefig(\"ARCH_weight_TC_com_M.png\", bbox_inches = 'tight', pad_inches = 0.1)"
   ]
  },
  {
   "cell_type": "code",
   "execution_count": null,
   "metadata": {},
   "outputs": [],
   "source": [
    "v_t_GARCH_com_LSTD.index = pd.to_datetime(v_t_GARCH_com_LSTD.index)\n",
    "fig, ax = plt.subplots(1, 1, figsize=(9,7), dpi=300)\n",
    "ax.plot(v_t_GARCH_com_LSTD,linewidth=0.8)\n",
    "ax.set_ylim(-0.15,1.3)\n",
    "ax.set_xlim(\"2017-10-08\",\"2021-10-02\")\n",
    "ax.legend([r\"\\textbf{Gold Futures}\",r\"\\textbf{Brent Crude Oil Futures}\"],ncol=2,loc=\"upper left\",fontsize=12)\n",
    "ax.xaxis.set_major_locator(YearLocator())\n",
    "ax.xaxis.set_major_formatter(DateFormatter(\"%Y\"))\n",
    "ax.set_ylabel(r'\\textbf{Weight, $v_t$}',loc='top', rotation = 0, labelpad = -128)\n",
    "fig.savefig(\"GARCH_weight_TC_com_M.png\", bbox_inches = 'tight', pad_inches = 0.1)"
   ]
  },
  {
   "cell_type": "code",
   "execution_count": null,
   "metadata": {},
   "outputs": [],
   "source": [
    "v_t_GJR_com_LSTD.index = pd.to_datetime(v_t_GJR_com_LSTD.index)\n",
    "fig, ax = plt.subplots(1, 1, figsize=(9,7), dpi=300)\n",
    "ax.plot(v_t_GJR_com_LSTD,linewidth=0.8)\n",
    "ax.set_ylim(-0.15,1.3)\n",
    "ax.set_xlim(\"2017-10-08\",\"2021-10-02\")\n",
    "ax.legend([r\"\\textbf{Gold Futures}\",r\"\\textbf{Brent Crude Oil Futures}\"],ncol=2,loc=\"upper left\",fontsize=12)\n",
    "ax.xaxis.set_major_locator(YearLocator())\n",
    "ax.xaxis.set_major_formatter(DateFormatter(\"%Y\"))\n",
    "ax.set_ylabel(r'\\textbf{Weight, $v_t$}',loc='top', rotation = 0, labelpad = -128) \n",
    "fig.savefig(\"GJRGARCH_weight_TC_com_M.png\", bbox_inches = 'tight', pad_inches = 0.1)"
   ]
  },
  {
   "cell_type": "code",
   "execution_count": null,
   "metadata": {},
   "outputs": [],
   "source": [
    "print(perf_table_com_LSTD.round(4).to_latex())  "
   ]
  },
  {
   "cell_type": "markdown",
   "metadata": {},
   "source": [
    "**Commundities, high gamma**"
   ]
  },
  {
   "cell_type": "code",
   "execution_count": null,
   "metadata": {},
   "outputs": [],
   "source": [
    "v_t_ARCH_com_HSR,v_t_GARCH_com_HSR, v_t_GJR_com_HSR, perf_table_com_HSR,res_com_HSR,res_com_HSR_TC = backtesting(commodities,gamma_high)"
   ]
  },
  {
   "cell_type": "code",
   "execution_count": null,
   "metadata": {},
   "outputs": [],
   "source": [
    "fig, ax = plt.subplots(1, 1, figsize=(9,7), dpi=300)\n",
    "ax.plot(res_com_HSR,linewidth=1)\n",
    "ax.set_ylim(0,1.8)\n",
    "ax.set_xlim(\"2017-10-08\",\"2021-10-02\")\n",
    "ax.xaxis.set_major_locator(YearLocator())\n",
    "ax.xaxis.set_major_formatter(DateFormatter(\"%Y\"))\n",
    "ax.legend([r'\\textbf{ARCH(1)}',r'\\textbf{GARCH(1,1)}',r'\\textbf{GJR-GARCH(1,1)}',r'\\textbf{Equal weight}',r'\\textbf{Buy and hold}']\n",
    ",ncol=2,loc=\"upper left\",fontsize=14)\n",
    "ax.set_ylabel(r'\\textbf{Gross Return}',loc='top', rotation = 0, labelpad = -165) \n",
    "fig.savefig(\"Performance_TC_com_before_H.png\", bbox_inches = 'tight', pad_inches = 0.1)"
   ]
  },
  {
   "cell_type": "code",
   "execution_count": null,
   "metadata": {},
   "outputs": [],
   "source": [
    "fig, ax = plt.subplots(1, 1, figsize=(9,7), dpi=300)\n",
    "ax.plot(res_com_HSR_TC,linewidth=1)\n",
    "ax.set_ylim(0,1.6)\n",
    "ax.set_xlim(\"2017-10-08\",\"2021-10-02\")\n",
    "ax.legend([r'\\textbf{ARCH(1)}',r'\\textbf{GARCH(1,1)}',r'\\textbf{GJR-GARCH(1,1)}',r'\\textbf{Equal weight}',r'\\textbf{Buy and hold}']\n",
    ",ncol=2,loc=\"upper left\",fontsize=14)\n",
    "ax.xaxis.set_major_locator(YearLocator())\n",
    "ax.xaxis.set_major_formatter(DateFormatter(\"%Y\"))\n",
    "ax.set_ylabel(r'\\textbf{Net Return}',loc='top', rotation = 0, labelpad = -145) \n",
    "fig.savefig(\"Performance_TC_com_after_H.png\", bbox_inches = 'tight', pad_inches = 0.1)"
   ]
  },
  {
   "cell_type": "code",
   "execution_count": null,
   "metadata": {},
   "outputs": [],
   "source": [
    "v_t_ARCH_com_HSR.index = pd.to_datetime(v_t_ARCH_com_HSR.index)\n",
    "fig, ax = plt.subplots(1, 1, figsize=(9,7), dpi=300)\n",
    "ax.plot(v_t_ARCH_com_HSR,linewidth=0.8)\n",
    "ax.set_ylim(-0.15,1.3)\n",
    "ax.set_xlim(\"2017-10-08\",\"2021-10-02\")\n",
    "ax.legend([r\"\\textbf{Gold Futures}\",r\"\\textbf{Brent Crude Oil Futures}\"],ncol=2,loc=\"upper left\",fontsize=12)\n",
    "ax.xaxis.set_major_locator(YearLocator())\n",
    "ax.xaxis.set_major_formatter(DateFormatter(\"%Y\"))\n",
    "ax.set_ylabel(r'\\textbf{Weight, $v_t$}',loc='top', rotation = 0, labelpad = -128)\n",
    "fig.savefig(\"ARCH_weight_TC_com_H.png\", bbox_inches = 'tight', pad_inches = 0.1)"
   ]
  },
  {
   "cell_type": "code",
   "execution_count": null,
   "metadata": {},
   "outputs": [],
   "source": [
    "v_t_GARCH_com_HSR.index = pd.to_datetime(v_t_GARCH_com_HSR.index)\n",
    "fig, ax = plt.subplots(1, 1, figsize=(9,7), dpi=300)\n",
    "ax.plot(v_t_GARCH_com_HSR,linewidth=0.8)\n",
    "ax.set_ylim(-0.15,1.3)\n",
    "ax.set_xlim(\"2017-10-08\",\"2021-10-02\")\n",
    "ax.legend([r\"\\textbf{Gold Futures}\",r\"\\textbf{Brent Crude Oil Futures}\"],ncol=2,loc=\"upper left\",fontsize=12)\n",
    "ax.xaxis.set_major_locator(YearLocator())\n",
    "ax.xaxis.set_major_formatter(DateFormatter(\"%Y\"))\n",
    "ax.set_ylabel(r'\\textbf{Weight, $v_t$}',loc='top', rotation = 0, labelpad = -128)\n",
    "fig.savefig(\"GARCH_weight_TC_com_H.png\", bbox_inches = 'tight', pad_inches = 0.1)"
   ]
  },
  {
   "cell_type": "code",
   "execution_count": null,
   "metadata": {},
   "outputs": [],
   "source": [
    "v_t_GJR_com_HSR.index = pd.to_datetime(v_t_GJR_com_HSR.index)\n",
    "fig, ax = plt.subplots(1, 1, figsize=(9,7), dpi=300)\n",
    "ax.plot(v_t_GJR_com_HSR,linewidth=0.8)\n",
    "ax.set_ylim(-0.15,1.3)\n",
    "ax.set_xlim(\"2017-10-08\",\"2021-10-02\")\n",
    "ax.legend([r\"\\textbf{Gold Futures}\",r\"\\textbf{Brent Crude Oil Futures}\"],ncol=2,loc=\"upper left\",fontsize=12)\n",
    "ax.xaxis.set_major_locator(YearLocator())\n",
    "ax.xaxis.set_major_formatter(DateFormatter(\"%Y\"))\n",
    "ax.set_ylabel(r'\\textbf{Weight, $v_t$}',loc='top', rotation = 0, labelpad = -128) \n",
    "fig.savefig(\"GJRGARCH_weight_TC_com_H.png\", bbox_inches = 'tight', pad_inches = 0.1)"
   ]
  },
  {
   "cell_type": "code",
   "execution_count": null,
   "metadata": {},
   "outputs": [],
   "source": [
    "print(perf_table_com_HSR.round(4).to_latex())  "
   ]
  },
  {
   "cell_type": "markdown",
   "metadata": {},
   "source": [
    "**Remaning tickers**"
   ]
  },
  {
   "cell_type": "code",
   "execution_count": 11,
   "metadata": {},
   "outputs": [
    {
     "name": "stdout",
     "output_type": "stream",
     "text": [
      "['HYG', 'TLT']\n",
      "Solving problem with trading costs. gamma_D = 1.526988705495546e-06, tuning gamma_D = 1.526988705495546e-06\n",
      "['HYG', 'TLT']\n",
      "Solving problem with trading costs. gamma_D = 1.526988705495546e-06, tuning gamma_D = 1.526988705495546e-06\n",
      "['HYG', 'TLT']\n",
      "Solving problem with trading costs. gamma_D = 1.526988705495546e-06, tuning gamma_D = 1.526988705495546e-06\n",
      "Low portfolio weights sum detected of 0.0006187342681639868\n"
     ]
    }
   ],
   "source": [
    "_,_, v_t_GJR_bonds_low, perf_table_bonds_low,res_bonds_low,res_bonds_low_TC = backtesting(bonds,gamma_low)"
   ]
  },
  {
   "cell_type": "code",
   "execution_count": 12,
   "metadata": {},
   "outputs": [
    {
     "name": "stdout",
     "output_type": "stream",
     "text": [
      "\\begin{tabular}{lrrr}\n",
      "\\toprule\n",
      "{} &  Ann. standard deviation &  Ann. return &  Ann. Sharpe ratio \\\\\n",
      "\\midrule\n",
      "ARCH(1)           &                   0.0807 &       0.0649 &             0.8047 \\\\\n",
      "GARCH(1,1)        &                   0.0703 &       0.0508 &             0.7224 \\\\\n",
      "GJR-GARCH(1,1)    &                   0.0744 &       0.0396 &             0.5323 \\\\\n",
      "Buy and hold      &                   0.0673 &       0.0516 &             0.7672 \\\\\n",
      "Equal weight      &                   0.0756 &       0.0590 &             0.7806 \\\\\n",
      "ARCH(1) TC        &                   0.3830 &      -0.5652 &            -1.4759 \\\\\n",
      "GARCH(1,1) TC     &                   0.8090 &      -1.0000 &            -1.2361 \\\\\n",
      "GJR-GARCH(1,1) TC &                   0.3935 &      -0.4584 &            -1.1647 \\\\\n",
      "Equal weight TC   &                   0.0776 &       0.0469 &             0.6043 \\\\\n",
      "Buy and hold TC   &                   0.0673 &       0.0516 &             0.7672 \\\\\n",
      "\\bottomrule\n",
      "\\end{tabular}\n",
      "\n"
     ]
    }
   ],
   "source": [
    "print(perf_table_bonds_low.round(4).to_latex())"
   ]
  },
  {
   "cell_type": "code",
   "execution_count": 7,
   "metadata": {},
   "outputs": [
    {
     "name": "stdout",
     "output_type": "stream",
     "text": [
      "['HYG', 'TLT']\n",
      "Solving problem with trading costs. gamma_D = 1.526988705495546e-06, tuning gamma_D = 0.00013\n",
      "['HYG', 'TLT']\n",
      "Solving problem with trading costs. gamma_D = 1.526988705495546e-06, tuning gamma_D = 0.00013\n",
      "['HYG', 'TLT']\n",
      "Solving problem with trading costs. gamma_D = 1.526988705495546e-06, tuning gamma_D = 0.00013\n",
      "Low portfolio weights sum detected of 0.0006187342681639868\n"
     ]
    }
   ],
   "source": [
    "_,_, v_t_GJR_bonds_medium, perf_table_bonds_medium,res_bonds_medium,res_bonds_medium_TC = backtesting(bonds, 0.00013)"
   ]
  },
  {
   "cell_type": "code",
   "execution_count": 8,
   "metadata": {},
   "outputs": [
    {
     "name": "stdout",
     "output_type": "stream",
     "text": [
      "\\begin{tabular}{lrrr}\n",
      "\\toprule\n",
      "{} &  Ann. standard deviation &  Ann. return &  Ann. Sharpe ratio \\\\\n",
      "\\midrule\n",
      "ARCH(1)           &                   0.0658 &       0.0506 &             0.7692 \\\\\n",
      "GARCH(1,1)        &                   0.0647 &       0.0501 &             0.7739 \\\\\n",
      "GJR-GARCH(1,1)    &                   0.0639 &       0.0530 &             0.8288 \\\\\n",
      "Buy and hold      &                   0.0673 &       0.0516 &             0.7672 \\\\\n",
      "Equal weight      &                   0.0756 &       0.0590 &             0.7806 \\\\\n",
      "ARCH(1) TC        &                   0.0658 &       0.0499 &             0.7584 \\\\\n",
      "GARCH(1,1) TC     &                   0.0647 &       0.0489 &             0.7552 \\\\\n",
      "GJR-GARCH(1,1) TC &                   0.0639 &       0.0520 &             0.8137 \\\\\n",
      "Equal weight TC   &                   0.0776 &       0.0469 &             0.6043 \\\\\n",
      "Buy and hold TC   &                   0.0673 &       0.0516 &             0.7672 \\\\\n",
      "\\bottomrule\n",
      "\\end{tabular}\n",
      "\n"
     ]
    }
   ],
   "source": [
    "print(perf_table_bonds_medium.round(4).to_latex())"
   ]
  },
  {
   "cell_type": "code",
   "execution_count": 9,
   "metadata": {},
   "outputs": [
    {
     "name": "stdout",
     "output_type": "stream",
     "text": [
      "['HYG', 'TLT']\n",
      "Solving problem with trading costs. gamma_D = 1.526988705495546e-06, tuning gamma_D = 0.000213\n",
      "['HYG', 'TLT']\n",
      "Solving problem with trading costs. gamma_D = 1.526988705495546e-06, tuning gamma_D = 0.000213\n",
      "['HYG', 'TLT']\n",
      "Solving problem with trading costs. gamma_D = 1.526988705495546e-06, tuning gamma_D = 0.000213\n",
      "Low portfolio weights sum detected of 0.0006187342681639868\n"
     ]
    }
   ],
   "source": [
    "_,_,v_t_GJR_bonds_high, perf_table_bonds_high,res_bonds_high,res_bonds_high_TC= backtesting(bonds, 0.000213)"
   ]
  },
  {
   "cell_type": "code",
   "execution_count": 10,
   "metadata": {},
   "outputs": [
    {
     "name": "stdout",
     "output_type": "stream",
     "text": [
      "\\begin{tabular}{lrrr}\n",
      "\\toprule\n",
      "{} &  Ann. standard deviation &  Ann. return &  Ann. Sharpe ratio \\\\\n",
      "\\midrule\n",
      "ARCH(1)           &                   0.0661 &       0.0511 &             0.7727 \\\\\n",
      "GARCH(1,1)        &                   0.0649 &       0.0503 &             0.7754 \\\\\n",
      "GJR-GARCH(1,1)    &                   0.0642 &       0.0518 &             0.8066 \\\\\n",
      "Buy and hold      &                   0.0673 &       0.0516 &             0.7672 \\\\\n",
      "Equal weight      &                   0.0756 &       0.0590 &             0.7806 \\\\\n",
      "ARCH(1) TC        &                   0.0661 &       0.0508 &             0.7685 \\\\\n",
      "GARCH(1,1) TC     &                   0.0649 &       0.0499 &             0.7688 \\\\\n",
      "GJR-GARCH(1,1) TC &                   0.0642 &       0.0514 &             0.8008 \\\\\n",
      "Equal weight TC   &                   0.0776 &       0.0469 &             0.6043 \\\\\n",
      "Buy and hold TC   &                   0.0673 &       0.0516 &             0.7672 \\\\\n",
      "\\bottomrule\n",
      "\\end{tabular}\n",
      "\n"
     ]
    }
   ],
   "source": [
    "print(perf_table_bonds_high.round(4).to_latex())"
   ]
  },
  {
   "cell_type": "markdown",
   "metadata": {},
   "source": [
    "**Stocks**"
   ]
  },
  {
   "cell_type": "code",
   "execution_count": null,
   "metadata": {},
   "outputs": [],
   "source": [
    "_,_, _, perf_table_stocks_low,_,_ = backtesting(stocks,gamma_low)"
   ]
  },
  {
   "cell_type": "code",
   "execution_count": null,
   "metadata": {},
   "outputs": [],
   "source": [
    "print(perf_table_stocks_low.round(4).to_latex())"
   ]
  },
  {
   "cell_type": "code",
   "execution_count": null,
   "metadata": {},
   "outputs": [],
   "source": [
    "_,_, _, perf_table_stocks_medium,_,_ = backtesting(stocks,0.000103)"
   ]
  },
  {
   "cell_type": "code",
   "execution_count": null,
   "metadata": {},
   "outputs": [],
   "source": [
    "print(perf_table_stocks_medium.round(4).to_latex())"
   ]
  },
  {
   "cell_type": "code",
   "execution_count": null,
   "metadata": {},
   "outputs": [],
   "source": [
    "_,_, _, perf_table_stocks_high,_,_ = backtesting(stocks,1.03e-3)"
   ]
  },
  {
   "cell_type": "code",
   "execution_count": null,
   "metadata": {},
   "outputs": [],
   "source": [
    "print(perf_table_stocks_high.round(4).to_latex())"
   ]
  },
  {
   "cell_type": "code",
   "execution_count": null,
   "metadata": {},
   "outputs": [],
   "source": [
    "fig, ax = plt.subplots(1, 1, figsize=(9,7), dpi=300)\n",
    "ax.plot(res_bonds_medium_TC,linewidth=1)\n",
    "ax.set_ylim(0,1.6)\n",
    "ax.set_xlim(\"2017-10-08\",\"2021-10-02\")\n",
    "ax.legend([r'\\textbf{ARCH(1)}',r'\\textbf{GARCH(1,1)}',r'\\textbf{GJR-GARCH(1,1)}',r'\\textbf{Equal weight}',r'\\textbf{Buy and hold}']\n",
    ",ncol=2,loc=\"upper left\",fontsize=14)\n",
    "ax.xaxis.set_major_locator(YearLocator())\n",
    "ax.xaxis.set_major_formatter(DateFormatter(\"%Y\"))\n",
    "ax.set_ylabel(r'\\textbf{Net Return}',loc='top', rotation = 0, labelpad = -145) "
   ]
  },
  {
   "cell_type": "code",
   "execution_count": null,
   "metadata": {},
   "outputs": [],
   "source": [
    "v_t_GJR_bonds_low.index = pd.to_datetime(v_t_GJR_bonds_low.index)\n",
    "fig, ax = plt.subplots(1, 1, figsize=(9,7), dpi=300)\n",
    "ax.plot(v_t_GJR_bonds_low,linewidth=0.8)\n",
    "#ax.set_ylim(-0.15,1.3)\n",
    "ax.set_xlim(\"2017-10-08\",\"2021-10-02\")\n",
    "ax.xaxis.set_major_locator(YearLocator())\n",
    "ax.xaxis.set_major_formatter(DateFormatter(\"%Y\"))\n",
    "ax.set_ylabel(r'\\textbf{Weight, $v_t$}',loc='top', rotation = 0, labelpad = -128)"
   ]
  },
  {
   "cell_type": "code",
   "execution_count": null,
   "metadata": {},
   "outputs": [],
   "source": []
  }
 ],
 "metadata": {
  "interpreter": {
   "hash": "035a4835455b69dd03d840b7a1daac0c5382153a24200b5f58c2216ec44fc40f"
  },
  "kernelspec": {
   "display_name": "Python 3.8.5 64-bit ('base': conda)",
   "name": "python3"
  },
  "language_info": {
   "codemirror_mode": {
    "name": "ipython",
    "version": 3
   },
   "file_extension": ".py",
   "mimetype": "text/x-python",
   "name": "python",
   "nbconvert_exporter": "python",
   "pygments_lexer": "ipython3",
   "version": "3.8.5"
  }
 },
 "nbformat": 4,
 "nbformat_minor": 4
}
