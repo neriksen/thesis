{
 "cells": [
  {
   "cell_type": "code",
   "execution_count": 1,
   "metadata": {},
   "outputs": [],
   "source": [
    "import sys\n",
    "sys.path.append(\"utils\")\n",
    "import dynamic_backtesting as db\n",
    "import compare_strategies as cs\n",
    "import matplotlib.pyplot as plt\n",
    "import pandas as pd\n",
    "import matplotlib\n",
    "plt.style.use('seaborn')\n",
    "matplotlib.rcParams['axes.prop_cycle'] = matplotlib.cycler(color=[\"grey\", \"green\", \"black\", \"deepskyblue\", \"orange\", \"lime\", \"purple\", \"Gold\", \"brown\", \"blue\", \"pink\"]) "
   ]
  },
  {
   "cell_type": "code",
   "execution_count": 2,
   "metadata": {},
   "outputs": [],
   "source": [
    "assets = {\"EEM\": \"Emerging Markets\",\n",
    "           \"IVV\": \"S&P 500\",\n",
    "           \"IEV\": \"MSCI Europe\",\n",
    "           \"IXN\": \"Global Tech\",\n",
    "           \"IYR\": \"US Real Estate\",\n",
    "           \"IXG\": \"Global Financials\",\n",
    "           \"EXI\": \"Global Industrials\",\n",
    "           \"GC=F\": \"Gold Futures\", \n",
    "           \"BZ=F\": \"Brent Crude Oil Futures\",\n",
    "           \"HYG\": \"High-Yield Corporate Bonds\",\n",
    "           \"TLT\": \"20+ Year Treasury Bonds\"}\n",
    "tickers = list(assets.keys())\n",
    "stocks = tickers[:7]\n",
    "commodities = tickers[7:9]\n",
    "bonds = tickers[9:]"
   ]
  },
  {
   "cell_type": "markdown",
   "metadata": {},
   "source": [
    "**Laver funktion til at hente vægte og udregne performance for forskellige tickers og gamma**"
   ]
  },
  {
   "cell_type": "code",
   "execution_count": 3,
   "metadata": {},
   "outputs": [],
   "source": [
    "def backtesting(tickers,Gamma):\n",
    "    v_t_ARCH_TC, out_of_sample_ARCH_TC, _,Omega_t_ARCH_TC = db.garch_with_trading_cost(tickers=tickers,\n",
    "    number_of_out_of_sample_days=4*250, model_type=\"sGARCH10\",tuning_gamma_D=Gamma)\n",
    "    v_t_GARCH_TC, out_of_sample_GARCH_TC, _,Omega_t_GARCH_TC = db.garch_with_trading_cost(tickers=tickers,\n",
    "    number_of_out_of_sample_days=4*250, model_type=\"sGARCH11\",tuning_gamma_D=Gamma)\n",
    "    v_t_GJR_TC, out_of_sample_GJR_TC, _,Omega_t_GJR_TC = db.garch_with_trading_cost(tickers=tickers,\n",
    "    number_of_out_of_sample_days=4*250, model_type=\"gjrGARCH11\",tuning_gamma_D=Gamma)\n",
    "    res_ARCH_TC, perf_table_ARCH_TC = cs.performance_table(v_t_ARCH_TC, out_of_sample_ARCH_TC,Omega_t_ARCH_TC,portfolio_value=1e9)\n",
    "    res_GARCH_TC, perf_table_GARCH_TC = cs.performance_table(v_t_GARCH_TC, out_of_sample_GARCH_TC,Omega_t_GARCH_TC,portfolio_value=1e9)\n",
    "    res_GJR_TC, perf_table_GJR_TC = cs.performance_table(v_t_GJR_TC, out_of_sample_GJR_TC,Omega_t_GJR_TC,portfolio_value=1e9)\n",
    "    perf_table_TC=perf_table_ARCH_TC.iloc[0:1,]\n",
    "    perf_table_TC=perf_table_TC.rename(index={'GARCH':'ARCH(1)'})\n",
    "    perf_table_TC=perf_table_TC.append(perf_table_GARCH_TC.iloc[0,])\n",
    "    perf_table_TC=perf_table_TC.rename(index={'GARCH':'GARCH(1,1)'})\n",
    "    perf_table_TC=perf_table_TC.append(perf_table_GJR_TC.iloc[0,])\n",
    "    perf_table_TC=perf_table_TC.rename(index={'GARCH':'GJR-GARCH(1,1)'})\n",
    "    perf_table_TC=perf_table_TC.append(perf_table_GJR_TC.iloc[2,])\n",
    "    perf_table_TC=perf_table_TC.append(perf_table_GJR_TC.iloc[1,])\n",
    "    perf_table_TC=perf_table_TC.rename(index={'BnH':'Buy and hold','Equal_weight':'Equal weight'})\n",
    "    #Trading cost\n",
    "    perf_table_TC=perf_table_TC.append(perf_table_ARCH_TC.iloc[3,])\n",
    "    perf_table_TC=perf_table_TC.rename(index={'GARCH TC':'ARCH(1) TC'})\n",
    "    perf_table_TC=perf_table_TC.append(perf_table_GARCH_TC.iloc[3,])\n",
    "    perf_table_TC=perf_table_TC.rename(index={'GARCH TC':'GARCH(1,1) TC'})\n",
    "    perf_table_TC=perf_table_TC.append(perf_table_GJR_TC.iloc[3,])\n",
    "    perf_table_TC=perf_table_TC.rename(index={'GARCH TC':'GJR-GARCH(1,1) TC'})\n",
    "    perf_table_TC=perf_table_TC.append(perf_table_GJR_TC.iloc[4,])\n",
    "    perf_table_TC=perf_table_TC.append(perf_table_GJR_TC.iloc[5,])\n",
    "    perf_table_TC=perf_table_TC.rename(index={'BnH TC':'Buy and hold TC','Equal_weight TC':'Equal weight TC'})\n",
    "\n",
    "    #gross and net return\n",
    "    res_tc=res_ARCH_TC.drop(columns=['GARCH TC','Equal_weight', 'BnH','Equal_weight TC','BnH TC']).rename(columns={'GARCH':'ARCH(1)'})\n",
    "    res_tc[\"GARCH(1,1)\"]=res_GARCH_TC[\"GARCH\"]\n",
    "    res_tc[\"GJR-GARCH(1,1)\"]=res_GJR_TC[\"GARCH\"]\n",
    "    res_tc[\"Equal weight\"]=res_GJR_TC[\"Equal_weight\"]\n",
    "    res_tc[\"Buy and hold\"]=res_GJR_TC[\"BnH\"]\n",
    "\n",
    "    res_tc_TC=res_ARCH_TC.drop(columns=['GARCH','Equal_weight', 'BnH','Equal_weight TC','BnH TC']).rename(columns={'GARCH TC':'ARCH(1)'})\n",
    "    res_tc_TC[\"GARCH(1,1)\"]=res_GARCH_TC[\"GARCH TC\"]\n",
    "    res_tc_TC[\"GJR-GARCH(1,1)\"]=res_GJR_TC[\"GARCH TC\"]\n",
    "    res_tc_TC[\"Equal weight\"]=res_GJR_TC[\"Equal_weight TC\"]\n",
    "    res_tc_TC[\"Buy and hold\"]=res_GJR_TC[\"BnH TC\"]\n",
    "    return v_t_ARCH_TC,v_t_GARCH_TC, v_t_GJR_TC, perf_table_TC,res_tc,res_tc_TC\n"
   ]
  },
  {
   "cell_type": "code",
   "execution_count": 4,
   "metadata": {},
   "outputs": [],
   "source": [
    "gamma_low=1.526988705495546e-06\n",
    "gamma_medium=1.3e-5\n",
    "gamma_high=1e-4"
   ]
  },
  {
   "cell_type": "markdown",
   "metadata": {},
   "source": [
    "**All assets, calibrated gamma**"
   ]
  },
  {
   "cell_type": "code",
   "execution_count": null,
   "metadata": {},
   "outputs": [],
   "source": [
    "v_t_ARCH_all_low,v_t_GARCH_all_low, v_t_GJR_all_low, perf_table_all_low,res_all_low,res_all_low_TC = backtesting(tickers,gamma_low)"
   ]
  },
  {
   "cell_type": "markdown",
   "metadata": {},
   "source": [
    "**Figurer**"
   ]
  },
  {
   "cell_type": "code",
   "execution_count": null,
   "metadata": {},
   "outputs": [],
   "source": [
    "fig, ax = plt.subplots(1, 1, figsize=(9,7), dpi=190)\n",
    "ax.plot(res_all_low,label=res_all_low.columns,linewidth=1)\n",
    "ax.margins(0,0.05)\n",
    "ax.legend(res_all_low.columns)\n",
    "ax.xaxis.set_major_locator(plt.MaxNLocator(6))\n",
    "ax.set_ylabel('Gross Return',loc='top', rotation = 0, labelpad = -88) \n",
    "fig.savefig(\"Performance_TC_before_L.png\", bbox_inches = 'tight', pad_inches = 0.1)"
   ]
  },
  {
   "cell_type": "code",
   "execution_count": null,
   "metadata": {},
   "outputs": [],
   "source": [
    "fig, ax = plt.subplots(1, 1, figsize=(9,7), dpi=190)\n",
    "ax.plot(res_all_low_TC,label=res_all_low_TC.columns,linewidth=1)\n",
    "ax.margins(0,0.05)\n",
    "ax.legend(res_all_low_TC.columns)\n",
    "ax.xaxis.set_major_locator(plt.MaxNLocator(6))\n",
    "ax.set_ylabel('Net Return',loc='top', rotation = 0, labelpad = -76) \n",
    "fig.savefig(\"Performance_TC_after_L.png\", bbox_inches = 'tight', pad_inches = 0.1)"
   ]
  },
  {
   "cell_type": "code",
   "execution_count": null,
   "metadata": {},
   "outputs": [],
   "source": [
    "fig, ax = plt.subplots(1, 1, figsize=(9,7), dpi=190)\n",
    "ax.plot(v_t_ARCH_all_low,linewidth=0.8)\n",
    "ax.margins(0,0.05)\n",
    "ax.legend(assets.values(),ncol=3,loc=\"upper left\")\n",
    "ax.xaxis.set_major_locator(plt.MaxNLocator(6))\n",
    "ax.set_ylabel('Weight, $v_t$',loc='top', rotation = 0, labelpad = -73) \n",
    "fig.savefig(\"ARCH_weight_TC_L.png\", bbox_inches = 'tight', pad_inches = 0.1)"
   ]
  },
  {
   "cell_type": "code",
   "execution_count": null,
   "metadata": {},
   "outputs": [],
   "source": [
    "fig, ax = plt.subplots(1, 1, figsize=(9,7), dpi=190)\n",
    "ax.plot(v_t_GARCH_all_low,linewidth=0.8)\n",
    "ax.margins(0,0.05)\n",
    "ax.legend(assets.values(),ncol=3,loc=\"upper left\")\n",
    "ax.xaxis.set_major_locator(plt.MaxNLocator(6))\n",
    "ax.set_ylabel('Weight, $v_t$',loc='top', rotation = 0, labelpad = -73) \n",
    "fig.savefig(\"GARCH_weight_TC_L.png\", bbox_inches = 'tight', pad_inches = 0.1)"
   ]
  },
  {
   "cell_type": "code",
   "execution_count": null,
   "metadata": {},
   "outputs": [],
   "source": [
    "fig, ax = plt.subplots(1, 1, figsize=(9,7), dpi=190)\n",
    "ax.plot(v_t_GJR_all_low,linewidth=0.8)\n",
    "ax.margins(0,0.05)\n",
    "ax.legend(assets.values(),ncol=3,loc=\"upper left\")\n",
    "ax.xaxis.set_major_locator(plt.MaxNLocator(6))\n",
    "ax.set_ylabel('Weight, $v_t$',loc='top', rotation = 0, labelpad = -73) \n",
    "fig.savefig(\"GJRGARCH_weight_TC_L.png\", bbox_inches = 'tight', pad_inches = 0.1)"
   ]
  },
  {
   "cell_type": "code",
   "execution_count": null,
   "metadata": {},
   "outputs": [],
   "source": [
    "print(perf_table_all_low.round(4).to_latex())"
   ]
  },
  {
   "cell_type": "markdown",
   "metadata": {},
   "source": [
    "**All assets, lowest std**"
   ]
  },
  {
   "cell_type": "code",
   "execution_count": 5,
   "metadata": {},
   "outputs": [
    {
     "name": "stdout",
     "output_type": "stream",
     "text": [
      "['EEM', 'IVV', 'IEV', 'IXN', 'IYR', 'IXG', 'EXI', 'GC=F', 'BZ=F', 'HYG', 'TLT']\n",
      "Solving problem with trading costs. gamma_D = 1.526988705495546e-06, tuning gamma_D = 1.3e-05\n",
      "['EEM', 'IVV', 'IEV', 'IXN', 'IYR', 'IXG', 'EXI', 'GC=F', 'BZ=F', 'HYG', 'TLT']\n",
      "Solving problem with trading costs. gamma_D = 1.526988705495546e-06, tuning gamma_D = 1.3e-05\n",
      "['EEM', 'IVV', 'IEV', 'IXN', 'IYR', 'IXG', 'EXI', 'GC=F', 'BZ=F', 'HYG', 'TLT']\n",
      "Solving problem with trading costs. gamma_D = 1.526988705495546e-06, tuning gamma_D = 1.3e-05\n"
     ]
    }
   ],
   "source": [
    "v_t_ARCH_all_std,v_t_GARCH_all_std, v_t_GJR_all_std, perf_table_all_std,res_all_std,res_all_std_TC = backtesting(tickers,gamma_medium)"
   ]
  },
  {
   "cell_type": "code",
   "execution_count": null,
   "metadata": {},
   "outputs": [],
   "source": [
    "fig, ax = plt.subplots(1, 1, figsize=(9,7), dpi=190)\n",
    "ax.plot(res_all_std,label=res_all_std.columns,linewidth=1)\n",
    "ax.margins(0,0.05)\n",
    "ax.legend(res_all_std.columns)\n",
    "ax.xaxis.set_major_locator(plt.MaxNLocator(6))\n",
    "ax.set_ylabel('Gross Return',loc='top', rotation = 0, labelpad = -88) \n",
    "fig.savefig(\"Performance_TC_before_M.png\", bbox_inches = 'tight', pad_inches = 0.1)"
   ]
  },
  {
   "cell_type": "code",
   "execution_count": null,
   "metadata": {},
   "outputs": [],
   "source": [
    "fig, ax = plt.subplots(1, 1, figsize=(9,7), dpi=190)\n",
    "ax.plot(res_all_std_TC,label=res_all_std_TC.columns,linewidth=1)\n",
    "ax.margins(0,0.05)\n",
    "ax.legend(res_all_std_TC.columns)\n",
    "ax.xaxis.set_major_locator(plt.MaxNLocator(6))\n",
    "ax.set_ylabel('Net Return',loc='top', rotation = 0, labelpad = -76) \n",
    "fig.savefig(\"Performance_TC_after_M.png\", bbox_inches = 'tight', pad_inches = 0.1)"
   ]
  },
  {
   "cell_type": "code",
   "execution_count": null,
   "metadata": {},
   "outputs": [],
   "source": [
    "fig, ax = plt.subplots(1, 1, figsize=(9,7), dpi=190)\n",
    "ax.plot(v_t_ARCH_all_std,linewidth=0.8)\n",
    "ax.margins(0,0.05)\n",
    "ax.legend(assets.values(),ncol=3,loc=\"upper left\")\n",
    "ax.xaxis.set_major_locator(plt.MaxNLocator(6))\n",
    "ax.set_ylabel('Weight, $v_t$',loc='top', rotation = 0, labelpad = -73) \n",
    "fig.savefig(\"ARCH_weight_TC_M.png\", bbox_inches = 'tight', pad_inches = 0.1)"
   ]
  },
  {
   "cell_type": "code",
   "execution_count": null,
   "metadata": {},
   "outputs": [],
   "source": [
    "fig, ax = plt.subplots(1, 1, figsize=(9,7), dpi=190)\n",
    "ax.plot(v_t_GARCH_all_std,linewidth=0.8)\n",
    "ax.margins(0,0.05)\n",
    "ax.legend(assets.values(),ncol=3,loc=\"upper left\")\n",
    "ax.xaxis.set_major_locator(plt.MaxNLocator(6))\n",
    "ax.set_ylabel('Weight, $v_t$',loc='top', rotation = 0, labelpad = -73) \n",
    "fig.savefig(\"GARCH_weight_TC_M.png\", bbox_inches = 'tight', pad_inches = 0.1)"
   ]
  },
  {
   "cell_type": "code",
   "execution_count": null,
   "metadata": {},
   "outputs": [],
   "source": [
    "fig, ax = plt.subplots(1, 1, figsize=(9,7), dpi=190)\n",
    "ax.plot(v_t_GJR_all_std,linewidth=0.8)\n",
    "ax.margins(0,0.05)\n",
    "ax.legend(assets.values(),ncol=3,loc=\"upper left\")\n",
    "ax.xaxis.set_major_locator(plt.MaxNLocator(6))\n",
    "ax.set_ylabel('Weight, $v_t$',loc='top', rotation = 0, labelpad = -73) \n",
    "fig.savefig(\"GJRGARCH_weight_TC_M.png\", bbox_inches = 'tight', pad_inches = 0.1)"
   ]
  },
  {
   "cell_type": "code",
   "execution_count": 6,
   "metadata": {},
   "outputs": [
    {
     "name": "stdout",
     "output_type": "stream",
     "text": [
      "\\begin{tabular}{lrrr}\n",
      "\\toprule\n",
      "{} &  Ann. standard deviation &  Ann. return &  Ann. Sharpe ratio \\\\\n",
      "\\midrule\n",
      "ARCH(1)           &                   0.0658 &       0.0634 &             0.9631 \\\\\n",
      "GARCH(1,1)        &                   0.0624 &       0.0592 &             0.9487 \\\\\n",
      "GJR-GARCH(1,1)    &                   0.0639 &       0.0598 &             0.9363 \\\\\n",
      "Buy and hold      &                   0.0879 &       0.0863 &             0.9817 \\\\\n",
      "Equal weight      &                   0.1565 &       0.1105 &             0.7062 \\\\\n",
      "ARCH(1) TC        &                   0.6415 &      -1.0000 &            -1.5588 \\\\\n",
      "GARCH(1,1) TC     &                   0.0630 &       0.0376 &             0.5961 \\\\\n",
      "GJR-GARCH(1,1) TC &                   0.0648 &       0.0343 &             0.5298 \\\\\n",
      "Equal weight TC   &                   0.1626 &       0.0517 &             0.3182 \\\\\n",
      "Buy and hold TC   &                   0.0879 &       0.0863 &             0.9817 \\\\\n",
      "\\bottomrule\n",
      "\\end{tabular}\n",
      "\n"
     ]
    }
   ],
   "source": [
    "print(perf_table_all_std.round(4).to_latex()) "
   ]
  },
  {
   "cell_type": "markdown",
   "metadata": {},
   "source": [
    "**All assets, combination between return and risk**"
   ]
  },
  {
   "cell_type": "code",
   "execution_count": null,
   "metadata": {},
   "outputs": [],
   "source": [
    "v_t_ARCH_all_best,v_t_GARCH_all_best, v_t_GJR_all_best, perf_table_all_best,res_all_best,res_all_best_TC = backtesting(tickers,gamma_high)"
   ]
  },
  {
   "cell_type": "code",
   "execution_count": null,
   "metadata": {},
   "outputs": [],
   "source": [
    "fig, ax = plt.subplots(1, 1, figsize=(9,7), dpi=190)\n",
    "ax.plot(res_all_best,label=res_all_best.columns,linewidth=1)\n",
    "ax.margins(0,0.05)\n",
    "ax.legend(res_all_best.columns)\n",
    "ax.xaxis.set_major_locator(plt.MaxNLocator(6))\n",
    "ax.set_ylabel('Gross Return',loc='top', rotation = 0, labelpad = -88) \n",
    "fig.savefig(\"Performance_TC_before_H.png\", bbox_inches = 'tight', pad_inches = 0.1)"
   ]
  },
  {
   "cell_type": "code",
   "execution_count": null,
   "metadata": {},
   "outputs": [],
   "source": [
    "fig, ax = plt.subplots(1, 1, figsize=(9,7), dpi=190)\n",
    "ax.plot(res_all_best_TC,label=res_all_best_TC.columns,linewidth=1)\n",
    "ax.margins(0,0.05)\n",
    "ax.legend(res_all_best_TC.columns)\n",
    "ax.xaxis.set_major_locator(plt.MaxNLocator(6))\n",
    "ax.set_ylabel('Net Return',loc='top', rotation = 0, labelpad = -76) \n",
    "fig.savefig(\"Performance_TC_after_H.png\", bbox_inches = 'tight', pad_inches = 0.1)"
   ]
  },
  {
   "cell_type": "code",
   "execution_count": null,
   "metadata": {},
   "outputs": [],
   "source": [
    "fig, ax = plt.subplots(1, 1, figsize=(9,7), dpi=190)\n",
    "ax.plot(v_t_ARCH_all_best,linewidth=0.8)\n",
    "ax.margins(0,0.05)\n",
    "ax.legend(assets.values(),ncol=3,loc=\"upper left\")\n",
    "ax.xaxis.set_major_locator(plt.MaxNLocator(6))\n",
    "ax.set_ylabel('Weight, $v_t$',loc='top', rotation = 0, labelpad = -73) \n",
    "fig.savefig(\"ARCH_weight_TC_H.png\", bbox_inches = 'tight', pad_inches = 0.1)"
   ]
  },
  {
   "cell_type": "code",
   "execution_count": null,
   "metadata": {},
   "outputs": [],
   "source": [
    "fig, ax = plt.subplots(1, 1, figsize=(9,7), dpi=190)\n",
    "ax.plot(v_t_GARCH_all_best,linewidth=0.8)\n",
    "ax.margins(0,0.05)\n",
    "ax.legend(assets.values(),ncol=3,loc=\"upper left\")\n",
    "ax.xaxis.set_major_locator(plt.MaxNLocator(6))\n",
    "ax.set_ylabel('Weight, $v_t$',loc='top', rotation = 0, labelpad = -73) \n",
    "fig.savefig(\"GARCH_weight_TC_H.png\", bbox_inches = 'tight', pad_inches = 0.1)"
   ]
  },
  {
   "cell_type": "code",
   "execution_count": null,
   "metadata": {},
   "outputs": [],
   "source": [
    "fig, ax = plt.subplots(1, 1, figsize=(9,7), dpi=190)\n",
    "ax.plot(v_t_GJR_all_best,linewidth=0.8)\n",
    "ax.margins(0,0.05)\n",
    "ax.legend(assets.values(),ncol=3,loc=\"upper left\")\n",
    "ax.xaxis.set_major_locator(plt.MaxNLocator(6))\n",
    "ax.set_ylabel('Weight, $v_t$',loc='top', rotation = 0, labelpad = -73) \n",
    "fig.savefig(\"GJRGARCH_weight_TC_H.png\", bbox_inches = 'tight', pad_inches = 0.1)"
   ]
  },
  {
   "cell_type": "code",
   "execution_count": null,
   "metadata": {},
   "outputs": [],
   "source": [
    "print(perf_table_all_best.round(4).to_latex())  "
   ]
  },
  {
   "cell_type": "markdown",
   "metadata": {},
   "source": [
    "**Commundities, calibrated gamma**"
   ]
  },
  {
   "cell_type": "code",
   "execution_count": null,
   "metadata": {},
   "outputs": [],
   "source": [
    "v_t_ARCH_com_low,v_t_GARCH_com_low, v_t_GJR_com_low, perf_table_com_low,res_com_low,res_com_low_TC = backtesting(commodities,gamma_low)"
   ]
  },
  {
   "cell_type": "code",
   "execution_count": null,
   "metadata": {},
   "outputs": [],
   "source": [
    "fig, ax = plt.subplots(1, 1, figsize=(9,7), dpi=190)\n",
    "ax.plot(res_com_low,label=res_com_low.columns,linewidth=1)\n",
    "ax.margins(0,0.05)\n",
    "ax.legend(res_com_low.columns)\n",
    "ax.xaxis.set_major_locator(plt.MaxNLocator(6))\n",
    "ax.set_ylabel('Gross Return',loc='top', rotation = 0, labelpad = -80) \n",
    "fig.savefig(\"Performance_TC_com_before_L.png\", bbox_inches = 'tight', pad_inches = 0.1)"
   ]
  },
  {
   "cell_type": "code",
   "execution_count": null,
   "metadata": {},
   "outputs": [],
   "source": [
    "fig, ax = plt.subplots(1, 1, figsize=(9,7), dpi=190)\n",
    "ax.plot(res_com_low_TC,label=res_com_low_TC.columns,linewidth=1)\n",
    "ax.margins(0,0.05)\n",
    "ax.legend(res_com_low_TC.columns)\n",
    "ax.xaxis.set_major_locator(plt.MaxNLocator(6))\n",
    "ax.set_ylabel('Net Return',loc='top', rotation = 0, labelpad = -76) \n",
    "fig.savefig(\"Performance_TC_com_after_L.png\", bbox_inches = 'tight', pad_inches = 0.1)"
   ]
  },
  {
   "cell_type": "code",
   "execution_count": null,
   "metadata": {},
   "outputs": [],
   "source": [
    "fig, ax = plt.subplots(1, 1, figsize=(9,7), dpi=190)\n",
    "ax.plot(v_t_ARCH_com_low,linewidth=0.8)\n",
    "ax.margins(0,0.05)\n",
    "ax.legend(assets.values(),ncol=3,loc=\"upper left\")\n",
    "ax.xaxis.set_major_locator(plt.MaxNLocator(6))\n",
    "ax.set_ylabel('Weight, $v_t$',loc='top', rotation = 0, labelpad = -73) \n",
    "fig.savefig(\"ARCH_weight_TC_com_L.png\", bbox_inches = 'tight', pad_inches = 0.1)"
   ]
  },
  {
   "cell_type": "code",
   "execution_count": null,
   "metadata": {},
   "outputs": [],
   "source": [
    "fig, ax = plt.subplots(1, 1, figsize=(9,7), dpi=190)\n",
    "ax.plot(v_t_GARCH_com_low,linewidth=0.8)\n",
    "ax.margins(0,0.05)\n",
    "ax.legend(assets.values(),ncol=3,loc=\"upper left\")\n",
    "ax.xaxis.set_major_locator(plt.MaxNLocator(6))\n",
    "ax.set_ylabel('Weight, $v_t$',loc='top', rotation = 0, labelpad = -73) \n",
    "fig.savefig(\"GARCH_weight_TC_com_L.png\", bbox_inches = 'tight', pad_inches = 0.1)"
   ]
  },
  {
   "cell_type": "code",
   "execution_count": null,
   "metadata": {},
   "outputs": [],
   "source": [
    "fig, ax = plt.subplots(1, 1, figsize=(9,7), dpi=190)\n",
    "ax.plot(v_t_GJR_com_low,linewidth=0.8)\n",
    "ax.margins(0,0.05)\n",
    "ax.legend(assets.values(),ncol=3,loc=\"upper left\")\n",
    "ax.xaxis.set_major_locator(plt.MaxNLocator(6))\n",
    "ax.set_ylabel('Weight, $v_t$',loc='top', rotation = 0, labelpad = -73) \n",
    "fig.savefig(\"GJRGARCH_weight_TC_com_L.png\", bbox_inches = 'tight', pad_inches = 0.1)"
   ]
  },
  {
   "cell_type": "code",
   "execution_count": null,
   "metadata": {},
   "outputs": [],
   "source": [
    "print(perf_table_com_low.round(4).to_latex())  "
   ]
  },
  {
   "cell_type": "markdown",
   "metadata": {},
   "source": [
    "**Commundities, medium gamma**"
   ]
  },
  {
   "cell_type": "code",
   "execution_count": null,
   "metadata": {},
   "outputs": [],
   "source": [
    "v_t_ARCH_com_LSTD,v_t_GARCH_com_LSTD, v_t_GJR_com_LSTD, perf_table_com_LSTD,res_com_LSTD,res_com_LSTD_TC = backtesting(commodities,gamma_medium)"
   ]
  },
  {
   "cell_type": "code",
   "execution_count": null,
   "metadata": {},
   "outputs": [],
   "source": [
    "fig, ax = plt.subplots(1, 1, figsize=(9,7), dpi=190)\n",
    "ax.plot(res_com_LSTD,label=res_com_LSTD.columns,linewidth=1)\n",
    "ax.margins(0,0.05)\n",
    "ax.legend(res_com_LSTD.columns)\n",
    "ax.xaxis.set_major_locator(plt.MaxNLocator(6))\n",
    "ax.set_ylabel('Gross Return',loc='top', rotation = 0, labelpad = -88) \n",
    "fig.savefig(\"Performance_TC_com_before_M.png\", bbox_inches = 'tight', pad_inches = 0.1)"
   ]
  },
  {
   "cell_type": "code",
   "execution_count": null,
   "metadata": {},
   "outputs": [],
   "source": [
    "fig, ax = plt.subplots(1, 1, figsize=(9,7), dpi=190)\n",
    "ax.plot(res_com_LSTD_TC,label=res_com_LSTD_TC.columns,linewidth=1)\n",
    "ax.margins(0,0.05)\n",
    "ax.legend(res_com_LSTD_TC.columns)\n",
    "ax.xaxis.set_major_locator(plt.MaxNLocator(6))\n",
    "ax.set_ylabel('Net Return',loc='top', rotation = 0, labelpad = -76) \n",
    "fig.savefig(\"Performance_TC_com_after_M.png\", bbox_inches = 'tight', pad_inches = 0.1)"
   ]
  },
  {
   "cell_type": "code",
   "execution_count": null,
   "metadata": {},
   "outputs": [],
   "source": [
    "fig, ax = plt.subplots(1, 1, figsize=(9,7), dpi=190)\n",
    "ax.plot(v_t_ARCH_com_LSTD,linewidth=0.8)\n",
    "ax.margins(0,0.05)\n",
    "ax.legend(assets.values(),ncol=3,loc=\"upper left\")\n",
    "ax.xaxis.set_major_locator(plt.MaxNLocator(6))\n",
    "ax.set_ylabel('Weight, $v_t$',loc='top', rotation = 0, labelpad = -73) \n",
    "fig.savefig(\"ARCH_weight_TC_com_M.png\", bbox_inches = 'tight', pad_inches = 0.1)"
   ]
  },
  {
   "cell_type": "code",
   "execution_count": null,
   "metadata": {},
   "outputs": [],
   "source": [
    "fig, ax = plt.subplots(1, 1, figsize=(9,7), dpi=190)\n",
    "ax.plot(v_t_GARCH_com_LSTD,linewidth=0.8)\n",
    "ax.margins(0,0.05)\n",
    "ax.legend(assets.values(),ncol=3,loc=\"upper left\")\n",
    "ax.xaxis.set_major_locator(plt.MaxNLocator(6))\n",
    "ax.set_ylabel('Weight, $v_t$',loc='top', rotation = 0, labelpad = -73) \n",
    "fig.savefig(\"GARCH_weight_TC_com_M.png\", bbox_inches = 'tight', pad_inches = 0.1)"
   ]
  },
  {
   "cell_type": "code",
   "execution_count": null,
   "metadata": {},
   "outputs": [],
   "source": [
    "fig, ax = plt.subplots(1, 1, figsize=(9,7), dpi=190)\n",
    "ax.plot(v_t_GJR_com_LSTD,linewidth=0.8)\n",
    "ax.margins(0,0.05)\n",
    "ax.legend(assets.values(),ncol=3,loc=\"upper left\")\n",
    "ax.xaxis.set_major_locator(plt.MaxNLocator(6))\n",
    "ax.set_ylabel('Weight, $v_t$',loc='top', rotation = 0, labelpad = -73) \n",
    "fig.savefig(\"GJRGARCH_weight_TC_com_M.png\", bbox_inches = 'tight', pad_inches = 0.1)"
   ]
  },
  {
   "cell_type": "code",
   "execution_count": null,
   "metadata": {},
   "outputs": [],
   "source": [
    "print(perf_table_com_LSTD.round(4).to_latex())  "
   ]
  },
  {
   "cell_type": "markdown",
   "metadata": {},
   "source": [
    "**Commundities, high gamma**"
   ]
  },
  {
   "cell_type": "code",
   "execution_count": null,
   "metadata": {},
   "outputs": [],
   "source": [
    "v_t_ARCH_com_HSR,v_t_GARCH_com_HSR, v_t_GJR_com_HSR, perf_table_com_HSR,res_com_HSR,res_com_HSR_TC = backtesting(commodities,gamma_high)"
   ]
  },
  {
   "cell_type": "code",
   "execution_count": null,
   "metadata": {},
   "outputs": [],
   "source": [
    "fig, ax = plt.subplots(1, 1, figsize=(9,7), dpi=190)\n",
    "ax.plot(res_com_HSR,label=res_com_HSR.columns,linewidth=1)\n",
    "ax.margins(0,0.05)\n",
    "ax.legend(res_com_HSR.columns)\n",
    "ax.xaxis.set_major_locator(plt.MaxNLocator(6))\n",
    "ax.set_ylabel('Gross Return',loc='top', rotation = 0, labelpad = -88) \n",
    "fig.savefig(\"Performance_TC_com_before_H.png\", bbox_inches = 'tight', pad_inches = 0.1)"
   ]
  },
  {
   "cell_type": "code",
   "execution_count": null,
   "metadata": {},
   "outputs": [],
   "source": [
    "fig, ax = plt.subplots(1, 1, figsize=(9,7), dpi=190)\n",
    "ax.plot(res_com_HSR_TC,label=res_com_HSR_TC.columns,linewidth=1)\n",
    "ax.margins(0,0.05)\n",
    "ax.legend(res_com_HSR_TC.columns)\n",
    "ax.xaxis.set_major_locator(plt.MaxNLocator(6))\n",
    "ax.set_ylabel('Net Return',loc='top', rotation = 0, labelpad = -76) \n",
    "fig.savefig(\"Performance_TC_com_after_H.png\", bbox_inches = 'tight', pad_inches = 0.1)"
   ]
  },
  {
   "cell_type": "code",
   "execution_count": null,
   "metadata": {},
   "outputs": [],
   "source": [
    "fig, ax = plt.subplots(1, 1, figsize=(9,7), dpi=190)\n",
    "ax.plot(v_t_ARCH_com_HSR,linewidth=0.8)\n",
    "ax.margins(0,0.05)\n",
    "ax.legend(assets.values(),ncol=3,loc=\"upper left\")\n",
    "ax.xaxis.set_major_locator(plt.MaxNLocator(6))\n",
    "ax.set_ylabel('Weight, $v_t$',loc='top', rotation = 0, labelpad = -73) \n",
    "fig.savefig(\"ARCH_weight_TC_com_H.png\", bbox_inches = 'tight', pad_inches = 0.1)"
   ]
  },
  {
   "cell_type": "code",
   "execution_count": null,
   "metadata": {},
   "outputs": [],
   "source": [
    "fig, ax = plt.subplots(1, 1, figsize=(9,7), dpi=190)\n",
    "ax.plot(v_t_GARCH_com_HSR,linewidth=0.8)\n",
    "ax.margins(0,0.05)\n",
    "ax.legend(assets.values(),ncol=3,loc=\"upper left\")\n",
    "ax.xaxis.set_major_locator(plt.MaxNLocator(6))\n",
    "ax.set_ylabel('Weight, $v_t$',loc='top', rotation = 0, labelpad = -73) \n",
    "fig.savefig(\"GARCH_weight_TC_com_H.png\", bbox_inches = 'tight', pad_inches = 0.1)"
   ]
  },
  {
   "cell_type": "code",
   "execution_count": null,
   "metadata": {},
   "outputs": [],
   "source": [
    "fig, ax = plt.subplots(1, 1, figsize=(9,7), dpi=190)\n",
    "ax.plot(v_t_GJR_com_HSR,linewidth=0.8)\n",
    "ax.margins(0,0.05)\n",
    "ax.legend(assets.values(),ncol=3,loc=\"upper left\")\n",
    "ax.xaxis.set_major_locator(plt.MaxNLocator(6))\n",
    "ax.set_ylabel('Weight, $v_t$',loc='top', rotation = 0, labelpad = -73) \n",
    "fig.savefig(\"GJRGARCH_weight_TC_com_H.png\", bbox_inches = 'tight', pad_inches = 0.1)"
   ]
  },
  {
   "cell_type": "code",
   "execution_count": null,
   "metadata": {},
   "outputs": [],
   "source": [
    "print(perf_table_com_HSR.round(4).to_latex())  "
   ]
  }
 ],
 "metadata": {
  "interpreter": {
   "hash": "035a4835455b69dd03d840b7a1daac0c5382153a24200b5f58c2216ec44fc40f"
  },
  "kernelspec": {
   "display_name": "Python 3.8.5 64-bit ('base': conda)",
   "name": "python3"
  },
  "language_info": {
   "codemirror_mode": {
    "name": "ipython",
    "version": 3
   },
   "file_extension": ".py",
   "mimetype": "text/x-python",
   "name": "python",
   "nbconvert_exporter": "python",
   "pygments_lexer": "ipython3",
   "version": "3.8.5"
  }
 },
 "nbformat": 4,
 "nbformat_minor": 4
}
