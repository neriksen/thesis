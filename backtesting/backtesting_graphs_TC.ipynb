{
 "cells": [
  {
   "cell_type": "code",
   "execution_count": 1,
   "metadata": {},
   "outputs": [],
   "source": [
    "import sys\n",
    "sys.path.append(\"utils\")\n",
    "import dynamic_backtesting as db\n",
    "import compare_strategies as cs\n",
    "import matplotlib.pyplot as plt\n",
    "import pandas as pd\n",
    "import matplotlib\n",
    "plt.style.use('seaborn')\n",
    "matplotlib.rcParams['axes.prop_cycle'] = matplotlib.cycler(color=[\"grey\", \"green\", \"black\", \"deepskyblue\", \"orange\", \"lime\", \"purple\", \"Gold\", \"brown\", \"blue\", \"pink\"]) "
   ]
  },
  {
   "cell_type": "code",
   "execution_count": 2,
   "metadata": {},
   "outputs": [],
   "source": [
    "assets = {\"EEM\": \"Emerging Markets\",\n",
    "           \"IVV\": \"S&P 500\",\n",
    "           \"IEV\": \"MSCI Europe\",\n",
    "           \"IXN\": \"Global Tech\",\n",
    "           \"IYR\": \"US Real Estate\",\n",
    "           \"IXG\": \"Global Financials\",\n",
    "           \"EXI\": \"Global Industrials\",\n",
    "           \"GC=F\": \"Gold Futures\", \n",
    "           \"BZ=F\": \"Brent Crude Oil Futures\",\n",
    "           \"HYG\": \"High-Yield Corporate Bonds\",\n",
    "           \"TLT\": \"20+ Year Treasury Bonds\"}\n",
    "tickers = list(assets.keys())\n",
    "stocks = tickers[:7]\n",
    "commodities = tickers[7:9]\n",
    "bonds = tickers[9:]"
   ]
  },
  {
   "cell_type": "markdown",
   "metadata": {},
   "source": [
    "**Laver funktion til at hente vægte og udregne performance for forskellige tickers og gamma**"
   ]
  },
  {
   "cell_type": "code",
   "execution_count": 3,
   "metadata": {},
   "outputs": [],
   "source": [
    "def backtesting(tickers,Gamma=1.526988705495546e-06):\n",
    "    v_t_ARCH_TC, out_of_sample_ARCH_TC, _,Omega_t_ARCH_TC = db.garch_with_trading_cost(tickers=tickers,\n",
    "    number_of_out_of_sample_days=4*250, model_type=\"sGARCH10\",tuning_gamma_D=Gamma)\n",
    "    v_t_GARCH_TC, out_of_sample_GARCH_TC, _,Omega_t_GARCH_TC = db.garch_with_trading_cost(tickers=tickers,\n",
    "    number_of_out_of_sample_days=4*250, model_type=\"sGARCH11\",tuning_gamma_D=Gamma)\n",
    "    v_t_GJR_TC, out_of_sample_GJR_TC, _,Omega_t_GJR_TC = db.garch_with_trading_cost(tickers=tickers,\n",
    "    number_of_out_of_sample_days=4*250, model_type=\"gjrGARCH11\",tuning_gamma_D=Gamma)\n",
    "    res_ARCH_TC, perf_table_ARCH_TC = cs.performance_table(v_t_ARCH_TC, out_of_sample_ARCH_TC,Omega_t_ARCH_TC,portfolio_value=1e9)\n",
    "    res_GARCH_TC, perf_table_GARCH_TC = cs.performance_table(v_t_GARCH_TC, out_of_sample_GARCH_TC,Omega_t_GARCH_TC,portfolio_value=1e9)\n",
    "    res_GJR_TC, perf_table_GJR_TC = cs.performance_table(v_t_GJR_TC, out_of_sample_GJR_TC,Omega_t_GJR_TC,portfolio_value=1e9)\n",
    "    perf_table_TC=perf_table_ARCH_TC.iloc[0:1,]\n",
    "    perf_table_TC=perf_table_TC.rename(index={'GARCH':'ARCH(1)'})\n",
    "    perf_table_TC=perf_table_TC.append(perf_table_GARCH_TC.iloc[0,])\n",
    "    perf_table_TC=perf_table_TC.rename(index={'GARCH':'GARCH(1,1)'})\n",
    "    perf_table_TC=perf_table_TC.append(perf_table_GJR_TC.iloc[0,])\n",
    "    perf_table_TC=perf_table_TC.rename(index={'GARCH':'GJR-GARCH(1,1)'})\n",
    "    perf_table_TC=perf_table_TC.append(perf_table_GJR_TC.iloc[2,])\n",
    "    perf_table_TC=perf_table_TC.append(perf_table_GJR_TC.iloc[1,])\n",
    "    perf_table_TC=perf_table_TC.rename(index={'BnH':'Buy and hold','Equal_weight':'Equal weight'})\n",
    "    #Trading cost\n",
    "    perf_table_TC=perf_table_TC.append(perf_table_ARCH_TC.iloc[3,])\n",
    "    perf_table_TC=perf_table_TC.rename(index={'GARCH TC':'ARCH(1) TC'})\n",
    "    perf_table_TC=perf_table_TC.append(perf_table_GARCH_TC.iloc[3,])\n",
    "    perf_table_TC=perf_table_TC.rename(index={'GARCH TC':'GARCH(1,1) TC'})\n",
    "    perf_table_TC=perf_table_TC.append(perf_table_GJR_TC.iloc[3,])\n",
    "    perf_table_TC=perf_table_TC.rename(index={'GARCH TC':'GJR-GARCH(1,1) TC'})\n",
    "    perf_table_TC=perf_table_TC.append(perf_table_GJR_TC.iloc[4,])\n",
    "    perf_table_TC=perf_table_TC.append(perf_table_GJR_TC.iloc[5,])\n",
    "    perf_table_TC=perf_table_TC.rename(index={'BnH TC':'Buy and hold TC','Equal_weight TC':'Equal weight TC'})\n",
    "\n",
    "    #gross and net return\n",
    "    res_tc=res_ARCH_TC.drop(columns=['GARCH TC','Equal_weight', 'BnH','Equal_weight TC','BnH TC']).rename(columns={'GARCH':'ARCH(1)'})\n",
    "    res_tc[\"GARCH(1,1)\"]=res_GARCH_TC[\"GARCH\"]\n",
    "    res_tc[\"GJR-GARCH(1,1)\"]=res_GJR_TC[\"GARCH\"]\n",
    "    res_tc[\"Equal weight\"]=res_GJR_TC[\"Equal_weight\"]\n",
    "    res_tc[\"Buy and hold\"]=res_GJR_TC[\"BnH\"]\n",
    "\n",
    "    res_tc_TC=res_ARCH_TC.drop(columns=['GARCH','Equal_weight', 'BnH','Equal_weight TC','BnH TC']).rename(columns={'GARCH TC':'ARCH(1)'})\n",
    "    res_tc_TC[\"GARCH(1,1)\"]=res_GARCH_TC[\"GARCH TC\"]\n",
    "    res_tc_TC[\"GJR-GARCH(1,1)\"]=res_GJR_TC[\"GARCH TC\"]\n",
    "    res_tc_TC[\"Equal weight\"]=res_GJR_TC[\"Equal_weight TC\"]\n",
    "    res_tc_TC[\"Buy and hold\"]=res_GJR_TC[\"BnH TC\"]\n",
    "    return v_t_ARCH_TC,v_t_GARCH_TC, v_t_GJR_TC, perf_table_TC,res_tc,res_tc_TC\n"
   ]
  },
  {
   "cell_type": "markdown",
   "metadata": {},
   "source": [
    "**All assets, calibrated gamma**"
   ]
  },
  {
   "cell_type": "code",
   "execution_count": null,
   "metadata": {},
   "outputs": [],
   "source": [
    "v_t_ARCH_all_low,v_t_GARCH_all_low, v_t_GJR_all_low, perf_table_all_low,res_all_low,res_all_low_TC = backtesting(tickers)"
   ]
  },
  {
   "cell_type": "markdown",
   "metadata": {},
   "source": [
    "**Figurer**"
   ]
  },
  {
   "cell_type": "code",
   "execution_count": null,
   "metadata": {},
   "outputs": [],
   "source": [
    "fig, ax = plt.subplots(1, 1, figsize=(9,7), dpi=190)\n",
    "ax.plot(res_all_low,label=res_all_low.columns,linewidth=1)\n",
    "ax.margins(0,0.05)\n",
    "ax.legend(res_all_low.columns)\n",
    "ax.xaxis.set_major_locator(plt.MaxNLocator(6))\n",
    "ax.set_ylabel('Gross Return',loc='top', rotation = 0, labelpad = -88) \n",
    "#fig.savefig(\"Performance_TC_before_L.png\", bbox_inches = 'tight', pad_inches = 0.1)"
   ]
  },
  {
   "cell_type": "code",
   "execution_count": null,
   "metadata": {},
   "outputs": [],
   "source": [
    "fig, ax = plt.subplots(1, 1, figsize=(9,7), dpi=190)\n",
    "ax.plot(res_all_low_TC,label=res_all_low_TC.columns,linewidth=1)\n",
    "ax.margins(0,0.05)\n",
    "ax.legend(res_all_low_TC.columns)\n",
    "ax.xaxis.set_major_locator(plt.MaxNLocator(6))\n",
    "ax.set_ylabel('Net Return',loc='top', rotation = 0, labelpad = -76) \n",
    "#fig.savefig(\"Performance_TC_after_L.png\", bbox_inches = 'tight', pad_inches = 0.1)"
   ]
  },
  {
   "cell_type": "code",
   "execution_count": null,
   "metadata": {},
   "outputs": [],
   "source": [
    "fig, ax = plt.subplots(1, 1, figsize=(9,7), dpi=190)\n",
    "ax.plot(v_t_ARCH_all_low,linewidth=0.8)\n",
    "ax.margins(0,0.05)\n",
    "ax.legend(assets.values(),ncol=3,loc=\"upper left\")\n",
    "ax.xaxis.set_major_locator(plt.MaxNLocator(6))\n",
    "ax.set_ylabel('Weight, $v_t$',loc='top', rotation = 0, labelpad = -82) \n",
    "#fig.savefig(\"ARCH_weight_TC_L.png\", bbox_inches = 'tight', pad_inches = 0.1)"
   ]
  },
  {
   "cell_type": "code",
   "execution_count": null,
   "metadata": {},
   "outputs": [],
   "source": [
    "fig, ax = plt.subplots(1, 1, figsize=(9,7), dpi=190)\n",
    "ax.plot(v_t_GARCH_all_low,linewidth=0.8)\n",
    "ax.margins(0,0.05)\n",
    "ax.legend(assets.values(),ncol=3,loc=\"upper left\")\n",
    "ax.xaxis.set_major_locator(plt.MaxNLocator(6))\n",
    "ax.set_ylabel('Weight, $v_t$',loc='top', rotation = 0, labelpad = -82) \n",
    "#fig.savefig(\"GARCH_weight_TC_L.png\", bbox_inches = 'tight', pad_inches = 0.1)"
   ]
  },
  {
   "cell_type": "code",
   "execution_count": null,
   "metadata": {},
   "outputs": [],
   "source": [
    "fig, ax = plt.subplots(1, 1, figsize=(9,7), dpi=190)\n",
    "ax.plot(v_t_GJR_all_low,linewidth=0.8)\n",
    "ax.margins(0,0.05)\n",
    "ax.legend(assets.values(),ncol=3,loc=\"upper left\")\n",
    "ax.xaxis.set_major_locator(plt.MaxNLocator(6))\n",
    "ax.set_ylabel('Weight, $v_t$',loc='top', rotation = 0, labelpad = -82) \n",
    "#fig.savefig(\"GJRGARCH_weight_TC_L.png\", bbox_inches = 'tight', pad_inches = 0.1)"
   ]
  },
  {
   "cell_type": "markdown",
   "metadata": {},
   "source": [
    "**All assets, lowest std**"
   ]
  },
  {
   "cell_type": "code",
   "execution_count": null,
   "metadata": {},
   "outputs": [],
   "source": [
    "v_t_ARCH_all_std,v_t_GARCH_all_std, v_t_GJR_all_std, perf_table_all_std,res_all_std,res_all_std_TC = backtesting(tickers,0.000023)"
   ]
  },
  {
   "cell_type": "code",
   "execution_count": null,
   "metadata": {},
   "outputs": [],
   "source": [
    "fig, ax = plt.subplots(1, 1, figsize=(9,7), dpi=190)\n",
    "ax.plot(res_all_std,label=res_all_std.columns,linewidth=1)\n",
    "ax.margins(0,0.05)\n",
    "ax.legend(res_all_std.columns)\n",
    "ax.xaxis.set_major_locator(plt.MaxNLocator(6))\n",
    "ax.set_ylabel('Gross Return',loc='top', rotation = 0, labelpad = -88) \n",
    "#fig.savefig(\"Performance_TC_before_LSTD.png\", bbox_inches = 'tight', pad_inches = 0.1)"
   ]
  },
  {
   "cell_type": "code",
   "execution_count": null,
   "metadata": {},
   "outputs": [],
   "source": [
    "fig, ax = plt.subplots(1, 1, figsize=(9,7), dpi=190)\n",
    "ax.plot(res_all_std_TC,label=res_all_std_TC.columns,linewidth=1)\n",
    "ax.margins(0,0.05)\n",
    "ax.legend(res_all_std_TC.columns)\n",
    "ax.xaxis.set_major_locator(plt.MaxNLocator(6))\n",
    "ax.set_ylabel('Net Return',loc='top', rotation = 0, labelpad = -76) \n",
    "#fig.savefig(\"Performance_TC_after_LSTD.png\", bbox_inches = 'tight', pad_inches = 0.1)"
   ]
  },
  {
   "cell_type": "code",
   "execution_count": null,
   "metadata": {},
   "outputs": [],
   "source": [
    "fig, ax = plt.subplots(1, 1, figsize=(9,7), dpi=190)\n",
    "ax.plot(v_t_ARCH_all_std,linewidth=0.8)\n",
    "ax.margins(0,0.05)\n",
    "ax.legend(assets.values(),ncol=3,loc=\"upper left\")\n",
    "ax.xaxis.set_major_locator(plt.MaxNLocator(6))\n",
    "ax.set_ylabel('Weight, $v_t$',loc='top', rotation = 0, labelpad = -82) \n",
    "#fig.savefig(\"ARCH_weight_TC_LSTD.png\", bbox_inches = 'tight', pad_inches = 0.1)"
   ]
  },
  {
   "cell_type": "code",
   "execution_count": null,
   "metadata": {},
   "outputs": [],
   "source": [
    "fig, ax = plt.subplots(1, 1, figsize=(9,7), dpi=190)\n",
    "ax.plot(v_t_GARCH_all_std,linewidth=0.8)\n",
    "ax.margins(0,0.05)\n",
    "ax.legend(assets.values(),ncol=3,loc=\"upper left\")\n",
    "ax.xaxis.set_major_locator(plt.MaxNLocator(6))\n",
    "ax.set_ylabel('Weight, $v_t$',loc='top', rotation = 0, labelpad = -82) \n",
    "#fig.savefig(\"GARCH_weight_TC_LSTD.png\", bbox_inches = 'tight', pad_inches = 0.1)"
   ]
  },
  {
   "cell_type": "code",
   "execution_count": null,
   "metadata": {},
   "outputs": [],
   "source": [
    "fig, ax = plt.subplots(1, 1, figsize=(9,7), dpi=190)\n",
    "ax.plot(v_t_GJR_all_std,linewidth=0.8)\n",
    "ax.margins(0,0.05)\n",
    "ax.legend(assets.values(),ncol=3,loc=\"upper left\")\n",
    "ax.xaxis.set_major_locator(plt.MaxNLocator(6))\n",
    "ax.set_ylabel('Weight, $v_t$',loc='top', rotation = 0, labelpad = -82) \n",
    "#fig.savefig(\"GJRGARCH_weight_TC_LSTD.png\", bbox_inches = 'tight', pad_inches = 0.1)"
   ]
  },
  {
   "cell_type": "code",
   "execution_count": null,
   "metadata": {},
   "outputs": [],
   "source": [
    "perf_table_all_std"
   ]
  },
  {
   "cell_type": "markdown",
   "metadata": {},
   "source": [
    "**All assets, combination between return and risk**"
   ]
  },
  {
   "cell_type": "code",
   "execution_count": 4,
   "metadata": {},
   "outputs": [
    {
     "name": "stdout",
     "output_type": "stream",
     "text": [
      "['EEM', 'IVV', 'IEV', 'IXN', 'IYR', 'IXG', 'EXI', 'GC=F', 'BZ=F', 'HYG', 'TLT']\n",
      "Solving problem with trading costs. gamma_D = 1.526988705495546e-06, tuning gamma_D = 0.005\n",
      "['EEM', 'IVV', 'IEV', 'IXN', 'IYR', 'IXG', 'EXI', 'GC=F', 'BZ=F', 'HYG', 'TLT']\n",
      "Solving problem with trading costs. gamma_D = 1.526988705495546e-06, tuning gamma_D = 0.005\n",
      "['EEM', 'IVV', 'IEV', 'IXN', 'IYR', 'IXG', 'EXI', 'GC=F', 'BZ=F', 'HYG', 'TLT']\n",
      "Solving problem with trading costs. gamma_D = 1.526988705495546e-06, tuning gamma_D = 0.005\n"
     ]
    }
   ],
   "source": [
    "v_t_ARCH_all_best,v_t_GARCH_all_best, v_t_GJR_all_best, perf_table_all_best,res_all_best,res_all_best_TC = backtesting(tickers,5e-3)"
   ]
  },
  {
   "cell_type": "code",
   "execution_count": null,
   "metadata": {},
   "outputs": [],
   "source": [
    "fig, ax = plt.subplots(1, 1, figsize=(9,7), dpi=190)\n",
    "ax.plot(res_all_best,label=res_all_best.columns,linewidth=1)\n",
    "ax.margins(0,0.05)\n",
    "ax.legend(res_all_best.columns)\n",
    "ax.xaxis.set_major_locator(plt.MaxNLocator(6))\n",
    "ax.set_ylabel('Gross Return',loc='top', rotation = 0, labelpad = -88) \n",
    "#fig.savefig(\"Performance_TC_before_best.png\", bbox_inches = 'tight', pad_inches = 0.1)"
   ]
  },
  {
   "cell_type": "code",
   "execution_count": null,
   "metadata": {},
   "outputs": [],
   "source": [
    "fig, ax = plt.subplots(1, 1, figsize=(9,7), dpi=190)\n",
    "ax.plot(res_all_best_TC,label=res_all_best_TC.columns,linewidth=1)\n",
    "ax.margins(0,0.05)\n",
    "ax.legend(res_all_best_TC.columns)\n",
    "ax.xaxis.set_major_locator(plt.MaxNLocator(6))\n",
    "ax.set_ylabel('Net Return',loc='top', rotation = 0, labelpad = -76) \n",
    "#fig.savefig(\"Performance_TC_after_best.png\", bbox_inches = 'tight', pad_inches = 0.1)"
   ]
  },
  {
   "cell_type": "code",
   "execution_count": null,
   "metadata": {},
   "outputs": [],
   "source": [
    "fig, ax = plt.subplots(1, 1, figsize=(9,7), dpi=190)\n",
    "ax.plot(v_t_ARCH_all_best,linewidth=0.8)\n",
    "ax.margins(0,0.05)\n",
    "ax.legend(assets.values(),ncol=3,loc=\"upper left\")\n",
    "ax.xaxis.set_major_locator(plt.MaxNLocator(6))\n",
    "ax.set_ylabel('Weight, $v_t$',loc='top', rotation = 0, labelpad = -82) \n",
    "#fig.savefig(\"ARCH_weight_TC_best.png\", bbox_inches = 'tight', pad_inches = 0.1)"
   ]
  },
  {
   "cell_type": "code",
   "execution_count": null,
   "metadata": {},
   "outputs": [],
   "source": [
    "fig, ax = plt.subplots(1, 1, figsize=(9,7), dpi=190)\n",
    "ax.plot(v_t_GARCH_all_best,linewidth=0.8)\n",
    "ax.margins(0,0.05)\n",
    "ax.legend(assets.values(),ncol=3,loc=\"upper left\")\n",
    "ax.xaxis.set_major_locator(plt.MaxNLocator(6))\n",
    "ax.set_ylabel('Weight, $v_t$',loc='top', rotation = 0, labelpad = -82) \n",
    "#fig.savefig(\"GARCH_weight_TC_best.png\", bbox_inches = 'tight', pad_inches = 0.1)"
   ]
  },
  {
   "cell_type": "code",
   "execution_count": null,
   "metadata": {},
   "outputs": [],
   "source": [
    "fig, ax = plt.subplots(1, 1, figsize=(9,7), dpi=190)\n",
    "ax.plot(v_t_GJR_all_best,linewidth=0.8)\n",
    "ax.margins(0,0.05)\n",
    "ax.legend(assets.values(),ncol=3,loc=\"upper left\")\n",
    "ax.xaxis.set_major_locator(plt.MaxNLocator(6))\n",
    "ax.set_ylabel('Weight, $v_t$',loc='top', rotation = 0, labelpad = -82) \n",
    "#fig.savefig(\"GJRGARCH_weight_TC_best.png\", bbox_inches = 'tight', pad_inches = 0.1)"
   ]
  },
  {
   "cell_type": "code",
   "execution_count": 5,
   "metadata": {},
   "outputs": [
    {
     "data": {
      "text/html": [
       "<div>\n",
       "<style scoped>\n",
       "    .dataframe tbody tr th:only-of-type {\n",
       "        vertical-align: middle;\n",
       "    }\n",
       "\n",
       "    .dataframe tbody tr th {\n",
       "        vertical-align: top;\n",
       "    }\n",
       "\n",
       "    .dataframe thead th {\n",
       "        text-align: right;\n",
       "    }\n",
       "</style>\n",
       "<table border=\"1\" class=\"dataframe\">\n",
       "  <thead>\n",
       "    <tr style=\"text-align: right;\">\n",
       "      <th></th>\n",
       "      <th>Ann. standard deviation</th>\n",
       "      <th>Ann. return</th>\n",
       "      <th>Ann. Sharpe ratio</th>\n",
       "    </tr>\n",
       "  </thead>\n",
       "  <tbody>\n",
       "    <tr>\n",
       "      <th>ARCH(1)</th>\n",
       "      <td>0.069831</td>\n",
       "      <td>0.074600</td>\n",
       "      <td>1.068297</td>\n",
       "    </tr>\n",
       "    <tr>\n",
       "      <th>GARCH(1,1)</th>\n",
       "      <td>0.079046</td>\n",
       "      <td>0.087454</td>\n",
       "      <td>1.106370</td>\n",
       "    </tr>\n",
       "    <tr>\n",
       "      <th>GJR-GARCH(1,1)</th>\n",
       "      <td>0.079353</td>\n",
       "      <td>0.091517</td>\n",
       "      <td>1.153292</td>\n",
       "    </tr>\n",
       "    <tr>\n",
       "      <th>Buy and hold</th>\n",
       "      <td>0.082208</td>\n",
       "      <td>0.098395</td>\n",
       "      <td>1.196911</td>\n",
       "    </tr>\n",
       "    <tr>\n",
       "      <th>Equal weight</th>\n",
       "      <td>0.156527</td>\n",
       "      <td>0.110537</td>\n",
       "      <td>0.706189</td>\n",
       "    </tr>\n",
       "    <tr>\n",
       "      <th>ARCH(1) TC</th>\n",
       "      <td>0.069830</td>\n",
       "      <td>0.074588</td>\n",
       "      <td>1.068145</td>\n",
       "    </tr>\n",
       "    <tr>\n",
       "      <th>GARCH(1,1) TC</th>\n",
       "      <td>0.079046</td>\n",
       "      <td>0.087443</td>\n",
       "      <td>1.106226</td>\n",
       "    </tr>\n",
       "    <tr>\n",
       "      <th>GJR-GARCH(1,1) TC</th>\n",
       "      <td>0.079353</td>\n",
       "      <td>0.091508</td>\n",
       "      <td>1.153173</td>\n",
       "    </tr>\n",
       "    <tr>\n",
       "      <th>Equal weight TC</th>\n",
       "      <td>0.163427</td>\n",
       "      <td>0.048289</td>\n",
       "      <td>0.295477</td>\n",
       "    </tr>\n",
       "    <tr>\n",
       "      <th>Buy and hold TC</th>\n",
       "      <td>0.082208</td>\n",
       "      <td>0.098395</td>\n",
       "      <td>1.196911</td>\n",
       "    </tr>\n",
       "  </tbody>\n",
       "</table>\n",
       "</div>"
      ],
      "text/plain": [
       "                   Ann. standard deviation  Ann. return  Ann. Sharpe ratio\n",
       "ARCH(1)                           0.069831     0.074600           1.068297\n",
       "GARCH(1,1)                        0.079046     0.087454           1.106370\n",
       "GJR-GARCH(1,1)                    0.079353     0.091517           1.153292\n",
       "Buy and hold                      0.082208     0.098395           1.196911\n",
       "Equal weight                      0.156527     0.110537           0.706189\n",
       "ARCH(1) TC                        0.069830     0.074588           1.068145\n",
       "GARCH(1,1) TC                     0.079046     0.087443           1.106226\n",
       "GJR-GARCH(1,1) TC                 0.079353     0.091508           1.153173\n",
       "Equal weight TC                   0.163427     0.048289           0.295477\n",
       "Buy and hold TC                   0.082208     0.098395           1.196911"
      ]
     },
     "execution_count": 5,
     "metadata": {},
     "output_type": "execute_result"
    }
   ],
   "source": [
    "perf_table_all_best"
   ]
  },
  {
   "cell_type": "markdown",
   "metadata": {},
   "source": [
    "**Commundities, calibrated gamma**"
   ]
  },
  {
   "cell_type": "code",
   "execution_count": 6,
   "metadata": {},
   "outputs": [
    {
     "name": "stdout",
     "output_type": "stream",
     "text": [
      "['GC=F', 'BZ=F']\n",
      "Solving problem with trading costs. gamma_D = 1.526988705495546e-06, tuning gamma_D = 1.526988705495546e-06\n",
      "['GC=F', 'BZ=F']\n",
      "Solving problem with trading costs. gamma_D = 1.526988705495546e-06, tuning gamma_D = 1.526988705495546e-06\n",
      "['GC=F', 'BZ=F']\n",
      "Solving problem with trading costs. gamma_D = 1.526988705495546e-06, tuning gamma_D = 1.526988705495546e-06\n"
     ]
    }
   ],
   "source": [
    "v_t_ARCH_com_low,v_t_GARCH_com_low, v_t_GJR_com_low, perf_table_com_low,res_com_low,res_com_low_TC = backtesting(commodities)"
   ]
  },
  {
   "cell_type": "code",
   "execution_count": 7,
   "metadata": {},
   "outputs": [
    {
     "data": {
      "text/html": [
       "<div>\n",
       "<style scoped>\n",
       "    .dataframe tbody tr th:only-of-type {\n",
       "        vertical-align: middle;\n",
       "    }\n",
       "\n",
       "    .dataframe tbody tr th {\n",
       "        vertical-align: top;\n",
       "    }\n",
       "\n",
       "    .dataframe thead th {\n",
       "        text-align: right;\n",
       "    }\n",
       "</style>\n",
       "<table border=\"1\" class=\"dataframe\">\n",
       "  <thead>\n",
       "    <tr style=\"text-align: right;\">\n",
       "      <th></th>\n",
       "      <th>Ann. standard deviation</th>\n",
       "      <th>Ann. return</th>\n",
       "      <th>Ann. Sharpe ratio</th>\n",
       "    </tr>\n",
       "  </thead>\n",
       "  <tbody>\n",
       "    <tr>\n",
       "      <th>ARCH(1)</th>\n",
       "      <td>0.157876</td>\n",
       "      <td>0.116050</td>\n",
       "      <td>0.735069</td>\n",
       "    </tr>\n",
       "    <tr>\n",
       "      <th>GARCH(1,1)</th>\n",
       "      <td>0.146551</td>\n",
       "      <td>0.100109</td>\n",
       "      <td>0.683098</td>\n",
       "    </tr>\n",
       "    <tr>\n",
       "      <th>GJR-GARCH(1,1)</th>\n",
       "      <td>0.144870</td>\n",
       "      <td>0.111003</td>\n",
       "      <td>0.766225</td>\n",
       "    </tr>\n",
       "    <tr>\n",
       "      <th>Buy and hold</th>\n",
       "      <td>0.155404</td>\n",
       "      <td>0.081475</td>\n",
       "      <td>0.524277</td>\n",
       "    </tr>\n",
       "    <tr>\n",
       "      <th>Equal weight</th>\n",
       "      <td>0.241191</td>\n",
       "      <td>0.114147</td>\n",
       "      <td>0.473264</td>\n",
       "    </tr>\n",
       "    <tr>\n",
       "      <th>ARCH(1) TC</th>\n",
       "      <td>0.291872</td>\n",
       "      <td>-0.501917</td>\n",
       "      <td>-1.719644</td>\n",
       "    </tr>\n",
       "    <tr>\n",
       "      <th>GARCH(1,1) TC</th>\n",
       "      <td>0.166733</td>\n",
       "      <td>-0.072035</td>\n",
       "      <td>-0.432037</td>\n",
       "    </tr>\n",
       "    <tr>\n",
       "      <th>GJR-GARCH(1,1) TC</th>\n",
       "      <td>0.151894</td>\n",
       "      <td>-0.043124</td>\n",
       "      <td>-0.283909</td>\n",
       "    </tr>\n",
       "    <tr>\n",
       "      <th>Equal weight TC</th>\n",
       "      <td>0.244551</td>\n",
       "      <td>0.027593</td>\n",
       "      <td>0.112830</td>\n",
       "    </tr>\n",
       "    <tr>\n",
       "      <th>Buy and hold TC</th>\n",
       "      <td>0.155404</td>\n",
       "      <td>0.081475</td>\n",
       "      <td>0.524277</td>\n",
       "    </tr>\n",
       "  </tbody>\n",
       "</table>\n",
       "</div>"
      ],
      "text/plain": [
       "                   Ann. standard deviation  Ann. return  Ann. Sharpe ratio\n",
       "ARCH(1)                           0.157876     0.116050           0.735069\n",
       "GARCH(1,1)                        0.146551     0.100109           0.683098\n",
       "GJR-GARCH(1,1)                    0.144870     0.111003           0.766225\n",
       "Buy and hold                      0.155404     0.081475           0.524277\n",
       "Equal weight                      0.241191     0.114147           0.473264\n",
       "ARCH(1) TC                        0.291872    -0.501917          -1.719644\n",
       "GARCH(1,1) TC                     0.166733    -0.072035          -0.432037\n",
       "GJR-GARCH(1,1) TC                 0.151894    -0.043124          -0.283909\n",
       "Equal weight TC                   0.244551     0.027593           0.112830\n",
       "Buy and hold TC                   0.155404     0.081475           0.524277"
      ]
     },
     "execution_count": 7,
     "metadata": {},
     "output_type": "execute_result"
    }
   ],
   "source": [
    "perf_table_com_low"
   ]
  },
  {
   "cell_type": "code",
   "execution_count": 8,
   "metadata": {},
   "outputs": [
    {
     "name": "stdout",
     "output_type": "stream",
     "text": [
      "['GC=F', 'BZ=F']\n",
      "Solving problem with trading costs. gamma_D = 1.526988705495546e-06, tuning gamma_D = 6.8e-05\n",
      "['GC=F', 'BZ=F']\n",
      "Solving problem with trading costs. gamma_D = 1.526988705495546e-06, tuning gamma_D = 6.8e-05\n",
      "['GC=F', 'BZ=F']\n",
      "Solving problem with trading costs. gamma_D = 1.526988705495546e-06, tuning gamma_D = 6.8e-05\n"
     ]
    }
   ],
   "source": [
    "v_t_ARCH_com_LSTD,v_t_GARCH_com_LSTD, v_t_GJR_com_LSTD, perf_table_com_LSTD,res_com_LSTD,res_com_LSTD_TC = backtesting(commodities,0.000068)"
   ]
  },
  {
   "cell_type": "code",
   "execution_count": 9,
   "metadata": {},
   "outputs": [
    {
     "data": {
      "text/html": [
       "<div>\n",
       "<style scoped>\n",
       "    .dataframe tbody tr th:only-of-type {\n",
       "        vertical-align: middle;\n",
       "    }\n",
       "\n",
       "    .dataframe tbody tr th {\n",
       "        vertical-align: top;\n",
       "    }\n",
       "\n",
       "    .dataframe thead th {\n",
       "        text-align: right;\n",
       "    }\n",
       "</style>\n",
       "<table border=\"1\" class=\"dataframe\">\n",
       "  <thead>\n",
       "    <tr style=\"text-align: right;\">\n",
       "      <th></th>\n",
       "      <th>Ann. standard deviation</th>\n",
       "      <th>Ann. return</th>\n",
       "      <th>Ann. Sharpe ratio</th>\n",
       "    </tr>\n",
       "  </thead>\n",
       "  <tbody>\n",
       "    <tr>\n",
       "      <th>ARCH(1)</th>\n",
       "      <td>0.144319</td>\n",
       "      <td>0.097163</td>\n",
       "      <td>0.673249</td>\n",
       "    </tr>\n",
       "    <tr>\n",
       "      <th>GARCH(1,1)</th>\n",
       "      <td>0.143834</td>\n",
       "      <td>0.110331</td>\n",
       "      <td>0.767073</td>\n",
       "    </tr>\n",
       "    <tr>\n",
       "      <th>GJR-GARCH(1,1)</th>\n",
       "      <td>0.144291</td>\n",
       "      <td>0.115535</td>\n",
       "      <td>0.800710</td>\n",
       "    </tr>\n",
       "    <tr>\n",
       "      <th>Buy and hold</th>\n",
       "      <td>0.155404</td>\n",
       "      <td>0.081475</td>\n",
       "      <td>0.524277</td>\n",
       "    </tr>\n",
       "    <tr>\n",
       "      <th>Equal weight</th>\n",
       "      <td>0.241191</td>\n",
       "      <td>0.114147</td>\n",
       "      <td>0.473264</td>\n",
       "    </tr>\n",
       "    <tr>\n",
       "      <th>ARCH(1) TC</th>\n",
       "      <td>0.144270</td>\n",
       "      <td>0.095368</td>\n",
       "      <td>0.661037</td>\n",
       "    </tr>\n",
       "    <tr>\n",
       "      <th>GARCH(1,1) TC</th>\n",
       "      <td>0.143833</td>\n",
       "      <td>0.109519</td>\n",
       "      <td>0.761430</td>\n",
       "    </tr>\n",
       "    <tr>\n",
       "      <th>GJR-GARCH(1,1) TC</th>\n",
       "      <td>0.144292</td>\n",
       "      <td>0.114703</td>\n",
       "      <td>0.794936</td>\n",
       "    </tr>\n",
       "    <tr>\n",
       "      <th>Equal weight TC</th>\n",
       "      <td>0.244551</td>\n",
       "      <td>0.027593</td>\n",
       "      <td>0.112830</td>\n",
       "    </tr>\n",
       "    <tr>\n",
       "      <th>Buy and hold TC</th>\n",
       "      <td>0.155404</td>\n",
       "      <td>0.081475</td>\n",
       "      <td>0.524277</td>\n",
       "    </tr>\n",
       "  </tbody>\n",
       "</table>\n",
       "</div>"
      ],
      "text/plain": [
       "                   Ann. standard deviation  Ann. return  Ann. Sharpe ratio\n",
       "ARCH(1)                           0.144319     0.097163           0.673249\n",
       "GARCH(1,1)                        0.143834     0.110331           0.767073\n",
       "GJR-GARCH(1,1)                    0.144291     0.115535           0.800710\n",
       "Buy and hold                      0.155404     0.081475           0.524277\n",
       "Equal weight                      0.241191     0.114147           0.473264\n",
       "ARCH(1) TC                        0.144270     0.095368           0.661037\n",
       "GARCH(1,1) TC                     0.143833     0.109519           0.761430\n",
       "GJR-GARCH(1,1) TC                 0.144292     0.114703           0.794936\n",
       "Equal weight TC                   0.244551     0.027593           0.112830\n",
       "Buy and hold TC                   0.155404     0.081475           0.524277"
      ]
     },
     "execution_count": 9,
     "metadata": {},
     "output_type": "execute_result"
    }
   ],
   "source": [
    "perf_table_com_LSTD"
   ]
  },
  {
   "cell_type": "code",
   "execution_count": 10,
   "metadata": {},
   "outputs": [
    {
     "name": "stdout",
     "output_type": "stream",
     "text": [
      "['GC=F', 'BZ=F']\n",
      "Solving problem with trading costs. gamma_D = 1.526988705495546e-06, tuning gamma_D = 8.6e-05\n",
      "['GC=F', 'BZ=F']\n",
      "Solving problem with trading costs. gamma_D = 1.526988705495546e-06, tuning gamma_D = 8.6e-05\n",
      "['GC=F', 'BZ=F']\n",
      "Solving problem with trading costs. gamma_D = 1.526988705495546e-06, tuning gamma_D = 8.6e-05\n"
     ]
    }
   ],
   "source": [
    "v_t_ARCH_com_HSR,v_t_GARCH_com_HSR, v_t_GJR_com_HSR, perf_table_com_HSR,res_com_HSR,res_com_HSR_TC = backtesting(commodities,0.000086)"
   ]
  },
  {
   "cell_type": "code",
   "execution_count": 11,
   "metadata": {},
   "outputs": [
    {
     "data": {
      "text/html": [
       "<div>\n",
       "<style scoped>\n",
       "    .dataframe tbody tr th:only-of-type {\n",
       "        vertical-align: middle;\n",
       "    }\n",
       "\n",
       "    .dataframe tbody tr th {\n",
       "        vertical-align: top;\n",
       "    }\n",
       "\n",
       "    .dataframe thead th {\n",
       "        text-align: right;\n",
       "    }\n",
       "</style>\n",
       "<table border=\"1\" class=\"dataframe\">\n",
       "  <thead>\n",
       "    <tr style=\"text-align: right;\">\n",
       "      <th></th>\n",
       "      <th>Ann. standard deviation</th>\n",
       "      <th>Ann. return</th>\n",
       "      <th>Ann. Sharpe ratio</th>\n",
       "    </tr>\n",
       "  </thead>\n",
       "  <tbody>\n",
       "    <tr>\n",
       "      <th>ARCH(1)</th>\n",
       "      <td>0.144268</td>\n",
       "      <td>0.096861</td>\n",
       "      <td>0.671396</td>\n",
       "    </tr>\n",
       "    <tr>\n",
       "      <th>GARCH(1,1)</th>\n",
       "      <td>0.143858</td>\n",
       "      <td>0.110422</td>\n",
       "      <td>0.767572</td>\n",
       "    </tr>\n",
       "    <tr>\n",
       "      <th>GJR-GARCH(1,1)</th>\n",
       "      <td>0.144325</td>\n",
       "      <td>0.114804</td>\n",
       "      <td>0.795455</td>\n",
       "    </tr>\n",
       "    <tr>\n",
       "      <th>Buy and hold</th>\n",
       "      <td>0.155404</td>\n",
       "      <td>0.081475</td>\n",
       "      <td>0.524277</td>\n",
       "    </tr>\n",
       "    <tr>\n",
       "      <th>Equal weight</th>\n",
       "      <td>0.241191</td>\n",
       "      <td>0.114147</td>\n",
       "      <td>0.473264</td>\n",
       "    </tr>\n",
       "    <tr>\n",
       "      <th>ARCH(1) TC</th>\n",
       "      <td>0.144238</td>\n",
       "      <td>0.095721</td>\n",
       "      <td>0.663632</td>\n",
       "    </tr>\n",
       "    <tr>\n",
       "      <th>GARCH(1,1) TC</th>\n",
       "      <td>0.143858</td>\n",
       "      <td>0.109870</td>\n",
       "      <td>0.763740</td>\n",
       "    </tr>\n",
       "    <tr>\n",
       "      <th>GJR-GARCH(1,1) TC</th>\n",
       "      <td>0.144326</td>\n",
       "      <td>0.114234</td>\n",
       "      <td>0.791501</td>\n",
       "    </tr>\n",
       "    <tr>\n",
       "      <th>Equal weight TC</th>\n",
       "      <td>0.244551</td>\n",
       "      <td>0.027593</td>\n",
       "      <td>0.112830</td>\n",
       "    </tr>\n",
       "    <tr>\n",
       "      <th>Buy and hold TC</th>\n",
       "      <td>0.155404</td>\n",
       "      <td>0.081475</td>\n",
       "      <td>0.524277</td>\n",
       "    </tr>\n",
       "  </tbody>\n",
       "</table>\n",
       "</div>"
      ],
      "text/plain": [
       "                   Ann. standard deviation  Ann. return  Ann. Sharpe ratio\n",
       "ARCH(1)                           0.144268     0.096861           0.671396\n",
       "GARCH(1,1)                        0.143858     0.110422           0.767572\n",
       "GJR-GARCH(1,1)                    0.144325     0.114804           0.795455\n",
       "Buy and hold                      0.155404     0.081475           0.524277\n",
       "Equal weight                      0.241191     0.114147           0.473264\n",
       "ARCH(1) TC                        0.144238     0.095721           0.663632\n",
       "GARCH(1,1) TC                     0.143858     0.109870           0.763740\n",
       "GJR-GARCH(1,1) TC                 0.144326     0.114234           0.791501\n",
       "Equal weight TC                   0.244551     0.027593           0.112830\n",
       "Buy and hold TC                   0.155404     0.081475           0.524277"
      ]
     },
     "execution_count": 11,
     "metadata": {},
     "output_type": "execute_result"
    }
   ],
   "source": [
    "perf_table_com_HSR"
   ]
  },
  {
   "cell_type": "code",
   "execution_count": null,
   "metadata": {},
   "outputs": [],
   "source": []
  },
  {
   "cell_type": "code",
   "execution_count": null,
   "metadata": {},
   "outputs": [],
   "source": []
  }
 ],
 "metadata": {
  "interpreter": {
   "hash": "035a4835455b69dd03d840b7a1daac0c5382153a24200b5f58c2216ec44fc40f"
  },
  "kernelspec": {
   "display_name": "Python 3.8.5 64-bit ('base': conda)",
   "name": "python3"
  },
  "language_info": {
   "codemirror_mode": {
    "name": "ipython",
    "version": 3
   },
   "file_extension": ".py",
   "mimetype": "text/x-python",
   "name": "python",
   "nbconvert_exporter": "python",
   "pygments_lexer": "ipython3",
   "version": "3.8.5"
  }
 },
 "nbformat": 4,
 "nbformat_minor": 4
}
