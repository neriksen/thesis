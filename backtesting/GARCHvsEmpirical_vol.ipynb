{
 "cells": [
  {
   "cell_type": "markdown",
   "metadata": {},
   "source": [
    "### Comparing GARCH conditional volatility to empirical rolling window vol"
   ]
  },
  {
   "cell_type": "code",
   "execution_count": null,
   "metadata": {
    "tags": []
   },
   "outputs": [],
   "source": [
    "from arch import arch_model\n",
    "import pandas as pd\n",
    "import matplotlib.pyplot as plt\n",
    "import sys\n",
    "sys.path.append(\"utils\")\n",
    "import compare_strategies as cs\n",
    "import dynamic_backtesting as db\n",
    "from matplotlib.dates import DateFormatter\n",
    "from matplotlib.dates import YearLocator\n",
    "from cycler import cycler\n",
    "import numpy as np\n",
    "plt.style.use(\"seaborn\")\n",
    "plt.rcParams.update({\n",
    "   \"text.usetex\": True,\n",
    "   \"font.family\": ['Latin Modern Roman'],\n",
    "   \"xtick.labelsize\": 16.0,\n",
    "   \"ytick.labelsize\": 16.0,\n",
    "   \"axes.labelsize\":  16.0,\n",
    "   \"legend.fontsize\": 16.0\n",
    "}) \n",
    "import yfinance\n",
    "import seaborn as sns"
   ]
  },
  {
   "cell_type": "code",
   "execution_count": null,
   "metadata": {
    "tags": []
   },
   "outputs": [],
   "source": [
    "returns = yfinance.download(\"IVV\", start=\"2008-01-01\", end=\"2021-10-02\")['Adj Close']"
   ]
  },
  {
   "cell_type": "code",
   "execution_count": null,
   "metadata": {
    "tags": []
   },
   "outputs": [],
   "source": [
    "pct_return = returns.pct_change().iloc[1:]*100"
   ]
  },
  {
   "cell_type": "code",
   "execution_count": null,
   "metadata": {
    "tags": []
   },
   "outputs": [],
   "source": [
    "am = arch_model(pct_return)\n",
    "res_vanilla = am.fit(disp=\"off\")"
   ]
  },
  {
   "cell_type": "code",
   "execution_count": null,
   "metadata": {},
   "outputs": [],
   "source": [
    "res_vol=pd.DataFrame(res_vanilla.conditional_volatility)\n",
    "res_vol[\"Sample Volatility\"]=pct_return.std()\n",
    "res_vol=res_vol.iloc[:-1]"
   ]
  },
  {
   "cell_type": "code",
   "execution_count": null,
   "metadata": {},
   "outputs": [],
   "source": [
    "res_vol.iloc[:2462,:]"
   ]
  },
  {
   "cell_type": "code",
   "execution_count": null,
   "metadata": {
    "tags": []
   },
   "outputs": [],
   "source": [
    "fig, ax = plt.subplots(1, 1, figsize=(9, 7), dpi=300)\n",
    "ax.plot(res_vol.iloc[:2462,:])\n",
    "ax.set_ylabel(r\"\\textbf{Standard deviation, $\\hat{\\sigma}$\", loc='top', rotation = 0, labelpad = -165,size=14) \n",
    "ax.legend(fontsize=12)\n",
    "ax.set_xlim(\"2008-01-02\",\"2017-10-11\")\n",
    "ax.xaxis.set_major_locator(YearLocator())\n",
    "ax.xaxis.set_major_formatter(DateFormatter(\"%Y\"))\n",
    "plt.legend([r\"\\textbf{GARCH(1,1) cond. volatility}\",r\"\\textbf{Sample volatility estimate}\"])\n",
    "fig.savefig(\"../Description of data/GarchvsEmpirical_vol.png\",bbox_inches = 'tight')"
   ]
  },
  {
   "cell_type": "markdown",
   "metadata": {},
   "source": [
    "### Using it for backtesting"
   ]
  },
  {
   "cell_type": "code",
   "execution_count": null,
   "metadata": {
    "tags": []
   },
   "outputs": [],
   "source": [
    "# Get return data\n",
    "tickers = ['IVV', 'TLT', 'BZ=F', 'GC=F']\n",
    "start=\"2008-01-01\"\n",
    "end=\"2021-10-02\"\n",
    "number_of_out_of_sample_days=250*4\n",
    "len_rolling_window = 250\n",
    "p = len(tickers)\n",
    "\n",
    "out_of_sample, in_sample, sigmas, residuals, params_dict = db.split_fit_parse(tickers, start, end, number_of_out_of_sample_days, model_type=\"sGARCH11\")"
   ]
  },
  {
   "cell_type": "markdown",
   "metadata": {},
   "source": [
    "### First, no regularization (dont use this)"
   ]
  },
  {
   "cell_type": "code",
   "execution_count": null,
   "metadata": {
    "tags": []
   },
   "outputs": [],
   "source": [
    "# GARCH cond var estimate\n",
    "Omega_ts_no_reg = db.calc_Omega_ts(out_of_sample_returns=out_of_sample, in_sample_returns=in_sample,\n",
    "                             in_sample_sigmas=sigmas, in_sample_residuals=residuals, **params_dict, regularizer=0.0)"
   ]
  },
  {
   "cell_type": "code",
   "execution_count": null,
   "metadata": {
    "tags": []
   },
   "outputs": [],
   "source": [
    "GARCH_weights_no_reg = db.calc_weights_garch_no_trading_cost(Omega_ts_no_reg)\n",
    "\n",
    "weight_index = pd.to_datetime(in_sample.index[[-1]].union(out_of_sample.index))\n",
    "GARCH_weights_no_reg = pd.DataFrame(GARCH_weights_no_reg, columns=tickers, index=weight_index)"
   ]
  },
  {
   "cell_type": "code",
   "execution_count": null,
   "metadata": {
    "tags": []
   },
   "outputs": [],
   "source": [
    "# Construct dataset with burn-in period \n",
    "returns_for_rolling = pd.concat([in_sample.iloc[-len_rolling_window-1:-1], out_of_sample])"
   ]
  },
  {
   "cell_type": "code",
   "execution_count": null,
   "metadata": {
    "tags": []
   },
   "outputs": [],
   "source": [
    "# Naive rolling window estimate\n",
    "rolling_estimate = returns_for_rolling.rolling(len_rolling_window).cov().values[(len_rolling_window-1)*p:]\n",
    "naive_covars = []\n",
    "\n",
    "for i, val in enumerate(rolling_estimate):\n",
    "    if i % p == 0 and i !=0:\n",
    "        naive_covars.append(rolling_estimate[i-p:i])"
   ]
  },
  {
   "cell_type": "code",
   "execution_count": null,
   "metadata": {
    "tags": []
   },
   "outputs": [],
   "source": [
    "rolling_weights_no_reg = pd.DataFrame(db.calc_weights_garch_no_trading_cost(naive_covars, False),\n",
    "                            index=GARCH_weights_no_reg.index,\n",
    "                            columns=GARCH_weights_no_reg.columns)"
   ]
  },
  {
   "cell_type": "code",
   "execution_count": null,
   "metadata": {
    "tags": []
   },
   "outputs": [],
   "source": [
    "fig, ax = plt.subplots(1, 1, figsize=(9,7), dpi=300)\n",
    "ax.set_prop_cycle(cycler(color=['red', 'blue', 'green']))\n",
    "ax.plot(rolling_weights_no_reg, linestyle=\"--\", alpha=0.8)\n",
    "ax.plot(GARCH_weights_no_reg, alpha=0.8)\n",
    "ax.xaxis.set_major_locator(YearLocator())\n",
    "ax.xaxis.set_major_formatter(DateFormatter(\"%Y\"))"
   ]
  },
  {
   "cell_type": "code",
   "execution_count": null,
   "metadata": {},
   "outputs": [],
   "source": [
    "cum_returns_GARCH_no_reg, perf_GARCH_no_reg = cs.performance_table(GARCH_weights_no_reg, out_of_sample,\n",
    "                                                                   Omega_ts_no_reg, strategy_name=\"GARCH vol, not regularized\")"
   ]
  },
  {
   "cell_type": "code",
   "execution_count": null,
   "metadata": {},
   "outputs": [],
   "source": [
    "cum_returns_rolling_no_reg, perf_rolling_no_reg = cs.performance_table(rolling_weights_no_reg, out_of_sample,\n",
    "                                                                       Omega_ts_no_reg, strategy_name=\"Rolling vol, not regularized\")"
   ]
  },
  {
   "cell_type": "markdown",
   "metadata": {},
   "source": [
    "Result: Rolling window estimate actually just as good as GARCH before trading costs - and clearly beating it after trading costs"
   ]
  },
  {
   "cell_type": "markdown",
   "metadata": {},
   "source": [
    "### Now, we do the same but with a 50% regularization applied"
   ]
  },
  {
   "cell_type": "markdown",
   "metadata": {},
   "source": [
    "##### Regularized static estimate"
   ]
  },
  {
   "cell_type": "code",
   "execution_count": null,
   "metadata": {},
   "outputs": [],
   "source": [
    "# Regularize vol estimate by 50%\n",
    "regularizer = 0.5\n",
    "\n",
    "static_covar = in_sample.cov()\n",
    "reg_target = np.zeros(static_covar.shape)+np.diag(np.diag(static_covar))\n",
    "static_covar_reg = regularizer*reg_target + (1-regularizer)*static_covar\n",
    "\n",
    "# Repeat this estimate \n",
    "static_covar_reg = np.array([static_covar_reg for static_covar in naive_covars])"
   ]
  },
  {
   "cell_type": "code",
   "execution_count": null,
   "metadata": {},
   "outputs": [],
   "source": [
    "static_covar_weights_reg = pd.DataFrame(db.calc_weights_garch_no_trading_cost(static_covar_reg, False),\n",
    "                            index=GARCH_weights_no_reg.index,\n",
    "                            columns=GARCH_weights_no_reg.columns)"
   ]
  },
  {
   "cell_type": "markdown",
   "metadata": {},
   "source": [
    "##### Regularizing rolling estimate"
   ]
  },
  {
   "cell_type": "code",
   "execution_count": null,
   "metadata": {},
   "outputs": [],
   "source": [
    "naive_covars_reg = [(np.zeros((naive_covars[0].shape))+np.diag(np.diag(covar_estimate))) * regularizer + covar_estimate * (1 - regularizer) for covar_estimate in naive_covars]\n",
    "\n"
   ]
  },
  {
   "cell_type": "code",
   "execution_count": null,
   "metadata": {},
   "outputs": [],
   "source": [
    "rolling_weights_reg = pd.DataFrame(db.calc_weights_garch_no_trading_cost(naive_covars_reg, False),\n",
    "                            index=GARCH_weights_no_reg.index,\n",
    "                            columns=GARCH_weights_no_reg.columns)"
   ]
  },
  {
   "cell_type": "markdown",
   "metadata": {},
   "source": [
    "##### Regularizing GARCH"
   ]
  },
  {
   "cell_type": "code",
   "execution_count": null,
   "metadata": {},
   "outputs": [],
   "source": [
    "# GARCH cond var estimate\n",
    "Omega_ts_reg = db.calc_Omega_ts(out_of_sample_returns=out_of_sample, in_sample_returns=in_sample,\n",
    "                             in_sample_sigmas=sigmas, in_sample_residuals=residuals, **params_dict, regularizer=0.5)\n",
    "GARCH_weights_reg = db.calc_weights_garch_no_trading_cost(Omega_ts_reg)\n",
    "\n",
    "weight_index = pd.to_datetime(in_sample.index[[-1]].union(out_of_sample.index))\n",
    "GARCH_weights_reg = pd.DataFrame(GARCH_weights_reg, columns=tickers, index=weight_index)"
   ]
  },
  {
   "cell_type": "code",
   "execution_count": null,
   "metadata": {},
   "outputs": [],
   "source": [
    "fig, ax = plt.subplots(1, 1, figsize=(9,7), dpi=300)\n",
    "ax.set_prop_cycle(cycler(color=['red', 'blue', 'green','black']))\n",
    "ax.plot(rolling_weights_reg, linestyle=\"--\", alpha=0.8)\n",
    "ax.plot(GARCH_weights_reg, alpha=0.8)\n",
    "ax.xaxis.set_major_locator(YearLocator())\n",
    "ax.xaxis.set_major_formatter(DateFormatter(\"%Y\"))\n",
    "ax.set_ylabel(r\"\\textbf{Weight, $v_t$}\", loc='top', rotation = 0, labelpad = -108,size=14) "
   ]
  },
  {
   "cell_type": "code",
   "execution_count": null,
   "metadata": {},
   "outputs": [],
   "source": [
    "fig, ax = plt.subplots(1, 1, figsize=(9,7), dpi=300)\n",
    "ax.set_prop_cycle(cycler(color=['red', 'blue', 'green','black']))\n",
    "ax.plot(static_covar_weights_reg, linestyle=\"--\", linewidth=2.5)\n",
    "ax.plot(GARCH_weights_reg, alpha=0.8,linewidth=0.8)\n",
    "ax.xaxis.set_major_locator(YearLocator())\n",
    "ax.xaxis.set_major_formatter(DateFormatter(\"%Y\"))\n",
    "ax.set_xlim(\"2017-10-08\",\"2021-10-02\")\n",
    "ax.set_ylim(-0.05,0.8)\n",
    "plt.legend([\"_Hidden Label\",\"_Hidden Label\",\"_Hidden Label\",\"_Hidden Label\",r\"\\textbf{S\\&P 500}\",r\"\\textbf{20+ Year Treasury Bonds}\",r\"\\textbf{Brent Crude Oil Futures}\",r\"\\textbf{Gold Futures}\"],loc=\"upper left\",ncol=2,fontsize=14)\n",
    "ax.set_ylabel(r\"\\textbf{Weight, $v_t$}\", loc='top', rotation = 0, labelpad = -95,size=14)\n",
    "fig.savefig(\"../Description of data/GarchVsempirical_weight.png\",bbox_inches = 'tight')"
   ]
  },
  {
   "cell_type": "code",
   "execution_count": null,
   "metadata": {},
   "outputs": [],
   "source": [
    "cum_returns_static_reg, perf_static_reg = cs.performance_table(static_covar_weights_reg, out_of_sample, Omega_ts_reg, strategy_name=\"Static vol, regularized\")"
   ]
  },
  {
   "cell_type": "code",
   "execution_count": null,
   "metadata": {},
   "outputs": [],
   "source": [
    "cum_returns_rolling_reg, perf_rolling_reg = cs.performance_table(rolling_weights_reg, out_of_sample, Omega_ts_reg, strategy_name=\"Rolling vol, regularized\")"
   ]
  },
  {
   "cell_type": "code",
   "execution_count": null,
   "metadata": {},
   "outputs": [],
   "source": [
    "cum_returns_GARCH_reg, perf_GARCH_reg = cs.performance_table(GARCH_weights_reg, out_of_sample, Omega_ts_reg, strategy_name=\"GARCH vol, regularized\")"
   ]
  },
  {
   "cell_type": "code",
   "execution_count": null,
   "metadata": {},
   "outputs": [],
   "source": [
    "perf_rolling_reg"
   ]
  },
  {
   "cell_type": "code",
   "execution_count": null,
   "metadata": {},
   "outputs": [],
   "source": [
    "print(perf_GARCH_reg.to_latex())"
   ]
  },
  {
   "cell_type": "code",
   "execution_count": null,
   "metadata": {},
   "outputs": [],
   "source": [
    "print(perf_static_reg.to_latex())"
   ]
  },
  {
   "cell_type": "code",
   "execution_count": null,
   "metadata": {},
   "outputs": [],
   "source": []
  }
 ],
 "metadata": {
  "kernelspec": {
   "display_name": "Python 3",
   "language": "python",
   "name": "python3"
  },
  "language_info": {
   "codemirror_mode": {
    "name": "ipython",
    "version": 3
   },
   "file_extension": ".py",
   "mimetype": "text/x-python",
   "name": "python",
   "nbconvert_exporter": "python",
   "pygments_lexer": "ipython3",
   "version": "3.7.0"
  }
 },
 "nbformat": 4,
 "nbformat_minor": 4
}
