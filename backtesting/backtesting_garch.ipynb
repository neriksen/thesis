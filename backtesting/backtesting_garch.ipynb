{
 "cells": [
  {
   "cell_type": "markdown",
   "metadata": {},
   "source": [
    "## Backtesting using historical prices"
   ]
  },
  {
   "cell_type": "code",
   "execution_count": 1,
   "metadata": {},
   "outputs": [],
   "source": [
    "import datetime as dt\n",
    "from datetime import timedelta\n",
    "import numpy as np\n",
    "import pandas as pd\n",
    "from numpy import dot\n",
    "from numpy import divide\n",
    "from numpy.linalg import multi_dot as mdot\n",
    "from numpy.linalg import inv\n",
    "import matplotlib.pyplot as plt\n",
    "from matplotlib import rc\n",
    "import quadprog\n",
    "import yfinance\n",
    "import os\n",
    "from weights import Portfolio\n",
    "np.set_printoptions(precision = 3, suppress = True, linewidth = 400)"
   ]
  },
  {
   "cell_type": "markdown",
   "metadata": {},
   "source": [
    "### Downloading historical data"
   ]
  },
  {
   "cell_type": "code",
   "execution_count": 2,
   "metadata": {},
   "outputs": [
    {
     "name": "stdout",
     "output_type": "stream",
     "text": [
      "[*********************100%***********************]  10 of 10 completed\n"
     ]
    }
   ],
   "source": [
    "tickers = ['SPY', 'XLF', 'EEM', 'EWZ', 'SLV', 'FXI', 'GDX', 'HYG', 'TLT', 'XLU']\n",
    "#etfs = yfinance.download(tickers, auto_adjust = True, start = \"2011-9-1\", end='2019-9-1')['Close']\n",
    "etfs = yfinance.download(tickers, start = \"2011-9-1\")['Close']"
   ]
  },
  {
   "cell_type": "code",
   "execution_count": 3,
   "metadata": {},
   "outputs": [],
   "source": [
    "etfs = etfs/etfs.iloc[0]\n",
    "etfs = etfs.pct_change().iloc[1:]*100"
   ]
  },
  {
   "cell_type": "code",
   "execution_count": 4,
   "metadata": {},
   "outputs": [],
   "source": [
    "etfs.to_csv(\"../data/etfs.csv\", sep=\";\")"
   ]
  },
  {
   "cell_type": "markdown",
   "metadata": {},
   "source": [
    "## Steps in GARCH backtesting"
   ]
  },
  {
   "cell_type": "markdown",
   "metadata": {
    "tags": []
   },
   "source": [
    "---- Inital setup----\n",
    "\n",
    "$t_{-1}$ is last period/yesterday - all information about this period is known when in period $t$\n",
    "\n",
    "\n",
    "$t$ is our current period/today - this is where weights are decided\n",
    "\n",
    "$t_{+1}$ is next period/tomorrow - we attempt to forecast the volatility of this period\n",
    "\n",
    "\n",
    "0. Fit model\n",
    "1. Receive variables and parse them: sigma ($\\sigma$), dcca (a), dccb (b), residuals ($\\epsilon$), alpha ($\\alpha$), beta ($\\beta$), omega ($\\omega$)\n",
    "---- Enter loop ---- \n",
    "\n",
    "0. Get variables from current period for all assets: $\\epsilon^2_{t}$, $\\sigma^2_{t}$\n",
    "1. Calculate for all assets $\\epsilon_t = r_t - \\mu$\n",
    "2. Calculate for all assets $ \\sigma_{i,t+1}^2=\\omega_i+\\alpha_i\\epsilon_{i,t}^2+\\beta_i\\sigma_{i,t}^2$\n",
    "3. Calculate $Var_{t+1} = diag(\\sigma_{t+1}^2)$\n",
    "4. Calculate $\\eta_t = inv(Var_t)*\\epsilon_t$\n",
    "5. If first loop: Calculate Qbar = $\\frac{1}{T}\\sum_{t=1}^T\\eta_t\\eta_t'$\n",
    "5. Calculate $Q_{t+1} = Qbar*(1-dcca-dccb) + dcca*\\eta_{t}*\\eta_{t}' + b*Q_{t}$\n",
    "6. Calculate $Q_{t+1}^{*-1} = diag(Q_{t+1}^{-1})$ \n",
    "7. Calculate $\\Gamma_{t+1}=Q_{t+1}^{*-1}Q_{t+1}Q_{t+1}^{*-1}$\n",
    "8. Calculate $\\Omega_{t+1}=\\text{Var}_{t+1}\\Gamma_{t+1}\\text{Var}_{t+1}$"
   ]
  },
  {
   "cell_type": "markdown",
   "metadata": {},
   "source": [
    "## Obtain params from R"
   ]
  },
  {
   "cell_type": "markdown",
   "metadata": {},
   "source": [
    "### Fitting initial model"
   ]
  },
  {
   "cell_type": "code",
   "execution_count": 5,
   "metadata": {},
   "outputs": [
    {
     "data": {
      "text/html": [
       "\n",
       "        <span>ListVector with 2 elements.</span>\n",
       "        <table>\n",
       "        <tbody>\n",
       "        \n",
       "          <tr>\n",
       "            <th>\n",
       "            value\n",
       "            </th>\n",
       "            <td>\n",
       "            <rpy2.rinterface.SexpClosure object at 0x7ff1a1883388> [RTYPES.CLOSXP]\n",
       "            </td>\n",
       "          </tr>\n",
       "        \n",
       "          <tr>\n",
       "            <th>\n",
       "            visible\n",
       "            </th>\n",
       "            <td>\n",
       "            <rpy2.rinterface.BoolSexpVector object at 0x7ff1a0ca6688> [RTYPES.LGLSXP]\n",
       "            </td>\n",
       "          </tr>\n",
       "        \n",
       "        </tbody>\n",
       "        </table>\n",
       "        "
      ],
      "text/plain": [
       "<rpy2.robjects.vectors.ListVector object at 0x7ff1a1883b88> [RTYPES.VECSXP]\n",
       "R classes: ('list',)\n",
       "[SexpClosure, BoolSexpVector]\n",
       "  value: <class 'rpy2.rinterface.SexpClosure'>\n",
       "  <rpy2.rinterface.SexpClosure object at 0x7ff1a0ca12c8> [RTYPES.CLOSXP]\n",
       "  visible: <class 'rpy2.rinterface.BoolSexpVector'>\n",
       "  <rpy2.rinterface.BoolSexpVector object at 0x7ff1a1883388> [RTYPES.LGLSXP]"
      ]
     },
     "execution_count": 5,
     "metadata": {},
     "output_type": "execute_result"
    }
   ],
   "source": [
    "import rpy2.robjects as ro\n",
    "from rpy2.robjects import pandas2ri\n",
    "from rpy2.robjects.conversion import localconverter\n",
    "pandas2ri.activate()\n",
    "os.chdir('/Users/nielseriksen/thesis/')\n",
    "# Defining the R script and loading the instance in Python\n",
    "r = ro.r\n",
    "r['source']('backtesting/fitting_mgarch.R')"
   ]
  },
  {
   "cell_type": "markdown",
   "metadata": {},
   "source": [
    "### Initial setup"
   ]
  },
  {
   "cell_type": "code",
   "execution_count": 46,
   "metadata": {
    "tags": []
   },
   "outputs": [],
   "source": [
    "# 0. Fit model\n",
    "length_sample_period = len(etfs)-100\n",
    "out_of_sample = etfs.iloc[length_sample_period:,]\n",
    "# Loading the function we have defined in R.\n",
    "fit_mgarch_r = ro.globalenv['fit_mgarch']\n",
    "#Fitting the mgarch model and receiving the result\n",
    "coef, residuals, sigmas = fit_mgarch_r(length_sample_period)"
   ]
  },
  {
   "cell_type": "code",
   "execution_count": 31,
   "metadata": {},
   "outputs": [],
   "source": [
    "#Receive variables from model\n",
    "asset_names = etfs.columns.values\n",
    "\n",
    "# How elegant\n",
    "mu, o, al, be = np.hsplit(coef[:-2].reshape((len(asset_names), 4)), 4)\n",
    "mu, o, al, be = map(np.ravel, (mu, o, al, be))  # Flattening to 1d array\n",
    "dcca = coef[-2]\n",
    "dccb = coef[-1]\n",
    "epsilons = residuals"
   ]
  },
  {
   "cell_type": "markdown",
   "metadata": {},
   "source": [
    "### Enter loop"
   ]
  },
  {
   "cell_type": "code",
   "execution_count": 35,
   "metadata": {
    "collapsed": true,
    "jupyter": {
     "outputs_hidden": true
    },
    "tags": []
   },
   "outputs": [
    {
     "name": "stdout",
     "output_type": "stream",
     "text": [
      "(10,)\n",
      "[9.868 9.876 9.869 9.884 9.873 9.869 9.868 9.891 9.873 9.883]\n",
      "[[9.868 0.    0.    0.    0.    0.    0.    0.    0.    0.   ]\n",
      " [0.    9.876 0.    0.    0.    0.    0.    0.    0.    0.   ]\n",
      " [0.    0.    9.869 0.    0.    0.    0.    0.    0.    0.   ]\n",
      " [0.    0.    0.    9.884 0.    0.    0.    0.    0.    0.   ]\n",
      " [0.    0.    0.    0.    9.873 0.    0.    0.    0.    0.   ]\n",
      " [0.    0.    0.    0.    0.    9.869 0.    0.    0.    0.   ]\n",
      " [0.    0.    0.    0.    0.    0.    9.868 0.    0.    0.   ]\n",
      " [0.    0.    0.    0.    0.    0.    0.    9.891 0.    0.   ]\n",
      " [0.    0.    0.    0.    0.    0.    0.    0.    9.873 0.   ]\n",
      " [0.    0.    0.    0.    0.    0.    0.    0.    0.    9.883]]\n"
     ]
    },
    {
     "ename": "LinAlgError",
     "evalue": "1-dimensional array given. Array must be two-dimensional",
     "output_type": "error",
     "traceback": [
      "\u001b[0;31m---------------------------------------------------------------------------\u001b[0m",
      "\u001b[0;31mLinAlgError\u001b[0m                               Traceback (most recent call last)",
      "\u001b[0;32m<ipython-input-35-9b8c2cdfa1ba>\u001b[0m in \u001b[0;36m<module>\u001b[0;34m\u001b[0m\n\u001b[1;32m     39\u001b[0m \u001b[0;34m\u001b[0m\u001b[0m\n\u001b[1;32m     40\u001b[0m     \u001b[0;31m# 7. Calulate Gamma_t\u001b[0m\u001b[0;34m\u001b[0m\u001b[0;34m\u001b[0m\u001b[0m\n\u001b[0;32m---> 41\u001b[0;31m     \u001b[0mGamma_t\u001b[0m \u001b[0;34m=\u001b[0m \u001b[0mmdot\u001b[0m\u001b[0;34m(\u001b[0m\u001b[0;34m[\u001b[0m\u001b[0mQ_t_s_inv\u001b[0m\u001b[0;34m,\u001b[0m \u001b[0mQ_t\u001b[0m\u001b[0;34m,\u001b[0m \u001b[0mQ_t_s_inv\u001b[0m\u001b[0;34m]\u001b[0m\u001b[0;34m)\u001b[0m\u001b[0;34m\u001b[0m\u001b[0m\n\u001b[0m\u001b[1;32m     42\u001b[0m \u001b[0;34m\u001b[0m\u001b[0m\n\u001b[1;32m     43\u001b[0m     \u001b[0;31m# 8.\u001b[0m\u001b[0;34m\u001b[0m\u001b[0;34m\u001b[0m\u001b[0m\n",
      "\u001b[0;32m<__array_function__ internals>\u001b[0m in \u001b[0;36mmulti_dot\u001b[0;34m(*args, **kwargs)\u001b[0m\n",
      "\u001b[0;32m/Library/Frameworks/Python.framework/Versions/3.7/lib/python3.7/site-packages/numpy/linalg/linalg.py\u001b[0m in \u001b[0;36mmulti_dot\u001b[0;34m(arrays, out)\u001b[0m\n\u001b[1;32m   2721\u001b[0m     \u001b[0;32mif\u001b[0m \u001b[0marrays\u001b[0m\u001b[0;34m[\u001b[0m\u001b[0;34m-\u001b[0m\u001b[0;36m1\u001b[0m\u001b[0;34m]\u001b[0m\u001b[0;34m.\u001b[0m\u001b[0mndim\u001b[0m \u001b[0;34m==\u001b[0m \u001b[0;36m1\u001b[0m\u001b[0;34m:\u001b[0m\u001b[0;34m\u001b[0m\u001b[0m\n\u001b[1;32m   2722\u001b[0m         \u001b[0marrays\u001b[0m\u001b[0;34m[\u001b[0m\u001b[0;34m-\u001b[0m\u001b[0;36m1\u001b[0m\u001b[0;34m]\u001b[0m \u001b[0;34m=\u001b[0m \u001b[0matleast_2d\u001b[0m\u001b[0;34m(\u001b[0m\u001b[0marrays\u001b[0m\u001b[0;34m[\u001b[0m\u001b[0;34m-\u001b[0m\u001b[0;36m1\u001b[0m\u001b[0;34m]\u001b[0m\u001b[0;34m)\u001b[0m\u001b[0;34m.\u001b[0m\u001b[0mT\u001b[0m\u001b[0;34m\u001b[0m\u001b[0m\n\u001b[0;32m-> 2723\u001b[0;31m     \u001b[0m_assert_2d\u001b[0m\u001b[0;34m(\u001b[0m\u001b[0;34m*\u001b[0m\u001b[0marrays\u001b[0m\u001b[0;34m)\u001b[0m\u001b[0;34m\u001b[0m\u001b[0m\n\u001b[0m\u001b[1;32m   2724\u001b[0m \u001b[0;34m\u001b[0m\u001b[0m\n\u001b[1;32m   2725\u001b[0m     \u001b[0;31m# _multi_dot_three is much faster than _multi_dot_matrix_chain_order\u001b[0m\u001b[0;34m\u001b[0m\u001b[0;34m\u001b[0m\u001b[0m\n",
      "\u001b[0;32m/Library/Frameworks/Python.framework/Versions/3.7/lib/python3.7/site-packages/numpy/linalg/linalg.py\u001b[0m in \u001b[0;36m_assert_2d\u001b[0;34m(*arrays)\u001b[0m\n\u001b[1;32m    189\u001b[0m         \u001b[0;32mif\u001b[0m \u001b[0ma\u001b[0m\u001b[0;34m.\u001b[0m\u001b[0mndim\u001b[0m \u001b[0;34m!=\u001b[0m \u001b[0;36m2\u001b[0m\u001b[0;34m:\u001b[0m\u001b[0;34m\u001b[0m\u001b[0m\n\u001b[1;32m    190\u001b[0m             raise LinAlgError('%d-dimensional array given. Array must be '\n\u001b[0;32m--> 191\u001b[0;31m                     'two-dimensional' % a.ndim)\n\u001b[0m\u001b[1;32m    192\u001b[0m \u001b[0;34m\u001b[0m\u001b[0m\n\u001b[1;32m    193\u001b[0m \u001b[0;32mdef\u001b[0m \u001b[0m_assert_stacked_2d\u001b[0m\u001b[0;34m(\u001b[0m\u001b[0;34m*\u001b[0m\u001b[0marrays\u001b[0m\u001b[0;34m)\u001b[0m\u001b[0;34m:\u001b[0m\u001b[0;34m\u001b[0m\u001b[0m\n",
      "\u001b[0;31mLinAlgError\u001b[0m: 1-dimensional array given. Array must be two-dimensional"
     ]
    }
   ],
   "source": [
    "Omega_ts = []\n",
    "for t, r_t in enumerate(out_of_sample.values):\n",
    "    \n",
    "    # 0. Get values from last period\n",
    "    e_t_1, e_t_1_squared, s_t_1_squared = values_from_last_period(residuals, sigmas)\n",
    "\n",
    "    # 1. Calculate current period epsilon\n",
    "    e_t, epsilons = calculate_epsilon(epsilons, r_t, mu)\n",
    "\n",
    "    # 2. Calculate for all assets sigma_^2\n",
    "    s_t_squared = calculate_sigma(o, al, e_t_squared, be, s_t_squared)\n",
    "\n",
    "    # 3. Calculate Var_t, Var_t_inv\n",
    "    Var_t_plus_1, Var_t_plus_1_inv = calculate_Var_t(s_t_squared)\n",
    "    \n",
    "    # 4. Calculate eta_t\n",
    "    eta_t = dot(Var_t_plus_1_inv, e_t)\n",
    "    \n",
    "    # 5. If first period calculate the constant Qbar\n",
    "    if t == 0:\n",
    "        # 5. Calculate Qbar\n",
    "        Qbar = calculate_Qbar(epsilons, sigmas)\n",
    "        Q_t = Qbar\n",
    "    \n",
    "    # 6. Calculate Q_t_plus_1\n",
    "    Q_t_plus_1 = calculate_Q_t_plus_1(Qbar, dcca, dccb, eta_t, Q_t)\n",
    "    \n",
    "    # 7. Calculate Q_t_plus_1^{*-1}\n",
    "    Q_t_plus_1_s_inv = calculate_Q_t_plus_1_s_inv(Q_t_plus_1)\n",
    "    \n",
    "    # 8. Calulate Gamma_t\n",
    "    Gamma_t_plus_1 = calculate_Gamma_t_plus_1(Q_t_plus_1_s_inv, Q_t_plus_1)\n",
    "    \n",
    "    # 9. \n",
    "    Omega_t_plus_1 = calculate_Omega_t_plus_1(Var_t_plus_1, Gamma_t_plus_1)\n",
    "    \n",
    "    # Storing\n",
    "    Omega_ts.append(Omega_t_plus_1)\n",
    "    sigmas = np.append(sigmas, s_t_squared, axis = 0)\n",
    "    \n",
    "    # Iterate on period\n",
    "    #Q_t_1 = Q_t \n",
    "    #eta_t_1 = eta_t    "
   ]
  },
  {
   "cell_type": "code",
   "execution_count": 39,
   "metadata": {},
   "outputs": [],
   "source": [
    "def values_from_last_period(epsilons, sigmas):\n",
    "    e_t_1 = epsilons[-1]\n",
    "    e_t_1_squared = epsilons[-1]**2\n",
    "    s_t_1_squared = sigmas[-1]\n",
    "    return e_t_1, e_t_1_squared, s_t_1_squared"
   ]
  },
  {
   "cell_type": "code",
   "execution_count": 40,
   "metadata": {},
   "outputs": [],
   "source": [
    "def calculate_epsilon(r_t, mu):\n",
    "    e_t = np.array([r_t - mu]).T\n",
    "    epsilons = np.append(epsilons, e_t.T, axis=0)\n",
    "    return e_t, epsilons"
   ]
  },
  {
   "cell_type": "code",
   "execution_count": 42,
   "metadata": {},
   "outputs": [],
   "source": [
    "def calculate_sigma(o, al, e_t_1_squared, be, s_t_1_squared):\n",
    "    next_sigma = np.array([o + al*e_t_1_squared + be*s_t_1_squared])\n",
    "    return next_sigma"
   ]
  },
  {
   "cell_type": "code",
   "execution_count": 50,
   "metadata": {},
   "outputs": [],
   "source": [
    "def calculate_Qbar(epsilons, sigmas):\n",
    "    eta = []\n",
    "    for epsilon_t, sigma_t in zip(epsilons, sigmas):\n",
    "        eta.append(dot(inv(calc_Var_t(sigma_t)), epsilon_t))\n",
    "\n",
    "    eta = np.array(eta)\n",
    "    Qbar = 1/len(epsilons) * sum([dot(eta, eta.T) for eta in eta])\n",
    "    return Qbar"
   ]
  },
  {
   "cell_type": "code",
   "execution_count": 51,
   "metadata": {},
   "outputs": [],
   "source": [
    "def calculate_Var_t(s_t_squared):\n",
    "    Var_t = np.diag(np.ravel(s_t_squared))\n",
    "    Var_t_inv = inv(Var_t)\n",
    "    return Var_t, Var_t_inv"
   ]
  },
  {
   "cell_type": "code",
   "execution_count": 53,
   "metadata": {},
   "outputs": [],
   "source": [
    "def calulate_Q_t_plus_1(Qbar, dcca, dccb, eta_t, Q_t):\n",
    "    Q_t_plus_1 = np.array(Qbar*(1-dcca-dccb) + dcca*eta_t*eta_t.T + dccb*Q_t)\n",
    "    return Q_t_plus_1"
   ]
  },
  {
   "cell_type": "code",
   "execution_count": 55,
   "metadata": {},
   "outputs": [],
   "source": [
    "def calculate_Q_t_plus_1_s_inv(Q_t_plus_1):\n",
    "    Q_t_plus_1_s_inv = inv(np.diag(Q_t_plus_1))\n",
    "    return Q_t_plus_1_s_inv"
   ]
  },
  {
   "cell_type": "code",
   "execution_count": 57,
   "metadata": {},
   "outputs": [],
   "source": [
    "def calculate_Gamma_t_plus_1(Q_t_plus_1_s_inv, Q_t_plus_1):\n",
    "    Gamma_t_plus_1 = mdot([Q_t_plus_1_s_inv, Q_t_plus_1, Q_t_plus_1_s_inv])\n",
    "    return Gamma_t_plus_1"
   ]
  },
  {
   "cell_type": "code",
   "execution_count": 58,
   "metadata": {},
   "outputs": [],
   "source": [
    "def calculate_Omega_t_plus_1(Var_t_plus_1, Gamma_t_plus_1):\n",
    "    Omega_t_plus_1 = mdot([Var_t_plus_1, Gamma_t_plus_1, Var_t_plus_1])\n",
    "    return Omega_t_plus_1"
   ]
  },
  {
   "cell_type": "markdown",
   "metadata": {},
   "source": [
    "\n",
    "\n",
    "\n",
    "### Misc "
   ]
  },
  {
   "cell_type": "code",
   "execution_count": 21,
   "metadata": {},
   "outputs": [],
   "source": [
    "rcov_forecast_r = ro.globalenv['rcov_forecast']\n",
    "rcov = rcov_forecast_r()[0][0]"
   ]
  },
  {
   "cell_type": "code",
   "execution_count": 22,
   "metadata": {},
   "outputs": [],
   "source": [
    "tri = np.zeros((10, 10))\n",
    "tri[np.triu_indices(n = 10, k=0, m=10)] = rcov"
   ]
  },
  {
   "cell_type": "code",
   "execution_count": 45,
   "metadata": {},
   "outputs": [],
   "source": [
    "Omega = tri + tri.T - np.diag(np.diag(tri))"
   ]
  },
  {
   "cell_type": "code",
   "execution_count": 46,
   "metadata": {},
   "outputs": [
    {
     "data": {
      "text/plain": [
       "array([[ 1.263,  1.834,  1.579,  0.73 ,  0.118,  0.684,  0.329, -0.208,  0.429,  0.028],\n",
       "       [ 1.834,  6.118,  1.778,  1.244,  0.202,  1.234,  0.596, -0.437,  0.905,  0.055],\n",
       "       [ 1.579,  1.778,  2.576,  0.547,  0.1  ,  0.576,  0.294, -0.241,  0.392, -0.088],\n",
       "       [ 0.73 ,  1.244,  0.547,  3.702,  0.149,  2.394,  0.322,  0.131,  0.31 ,  0.15 ],\n",
       "       [ 0.118,  0.202,  0.1  ,  0.149,  0.052,  0.104,  0.083, -0.012,  0.095,  0.062],\n",
       "       [ 0.684,  1.234,  0.576,  2.394,  0.104,  2.61 ,  0.231,  0.032,  0.204, -0.012],\n",
       "       [ 0.329,  0.596,  0.294,  0.322,  0.083,  0.231,  0.268, -0.095,  0.321,  0.185],\n",
       "       [-0.208, -0.437, -0.241,  0.131, -0.012,  0.032, -0.095,  0.523, -0.294,  0.093],\n",
       "       [ 0.429,  0.905,  0.392,  0.31 ,  0.095,  0.204,  0.321, -0.294,  0.735,  0.166],\n",
       "       [ 0.028,  0.055, -0.088,  0.15 ,  0.062, -0.012,  0.185,  0.093,  0.166,  0.938]])"
      ]
     },
     "execution_count": 46,
     "metadata": {},
     "output_type": "execute_result"
    }
   ],
   "source": [
    "Omega"
   ]
  }
 ],
 "metadata": {
  "kernelspec": {
   "display_name": "Python 3",
   "language": "python",
   "name": "python3"
  },
  "language_info": {
   "codemirror_mode": {
    "name": "ipython",
    "version": 3
   },
   "file_extension": ".py",
   "mimetype": "text/x-python",
   "name": "python",
   "nbconvert_exporter": "python",
   "pygments_lexer": "ipython3",
   "version": "3.7.0"
  }
 },
 "nbformat": 4,
 "nbformat_minor": 4
}
