{
 "cells": [
  {
   "cell_type": "markdown",
   "metadata": {},
   "source": [
    "### Measuring transaction costs and trading volume"
   ]
  },
  {
   "cell_type": "code",
   "execution_count": null,
   "metadata": {},
   "outputs": [],
   "source": [
    "import sys\n",
    "import numpy as np\n",
    "from numpy import divide\n",
    "from numpy.linalg import multi_dot as mdot\n",
    "from numpy.linalg import inv\n",
    "from numpy import dot\n",
    "import matplotlib.pyplot as plt\n",
    "import pandas as pd\n",
    "import os\n",
    "import rpy2.robjects as ro\n",
    "from rpy2.robjects import pandas2ri\n",
    "from rpy2.robjects import IntVector\n",
    "from rpy2.robjects import StrVector\n",
    "pandas2ri.activate()\n",
    "from multiprocessing import Pool\n",
    "import datetime as dt\n",
    "import yfinance\n",
    "\n"
   ]
  },
  {
   "cell_type": "code",
   "execution_count": null,
   "metadata": {},
   "outputs": [],
   "source": [
    "assets = {\"EEM\": \"Emerging Markets\",\n",
    "           \"IVV\": \"S&P 500\",\n",
    "           \"IEV\": \"MSCI Europe\",\n",
    "           \"IXN\": \"Global Tech\",\n",
    "           \"IYR\": \"US Real Estate\",\n",
    "           \"IXG\": \"Global Financials\",\n",
    "           \"EXI\": \"Global Industrials\",\n",
    "           \"GC=F\": \"Gold Futures\", \n",
    "           \"BZ=F\": \"Brent Crude Oil Futures\",\n",
    "           \"HYG\": \"High-Yield Corporate Bonds\",\n",
    "           \"TLT\": \"20+ Year Treasury Bonds\"}\n",
    "tickers = list(assets.keys())\n",
    "asset_names = list(assets.values())\n",
    "#spx = pd.read_csv('../data/spx.csv').stack().tolist()"
   ]
  },
  {
   "cell_type": "code",
   "execution_count": null,
   "metadata": {},
   "outputs": [],
   "source": [
    "\n",
    "def sim_garch_model(tickers, len_out_of_sample=0, ugarch_model=\"sGARCH\", garch_order=(1, 1)):\n",
    "    \"\"\"\n",
    "    ugarch_model: One of \"sGARCH\", \"gjrGARCH\", not implemented: \"eGARCH\"\n",
    "    garch_order: Default: (1, 1)\n",
    "    \"\"\"\n",
    "    tickers = [ticker.replace(\"BZ=F\", \"BZF\").replace(\"GC=F\", \"GCF\") for ticker in tickers]\n",
    "    assert (ugarch_model in (\"sGARCH\", \"gjrGARCH\"))\n",
    "    tickers = StrVector(tickers)\n",
    "    garch_order = IntVector(garch_order)\n",
    "    # Define the R script and load the instance in Python\n",
    "    r = ro.r\n",
    "    r['source'](\"C:\\\\Users\\\\caspe\\\\Documents\\\\thesis\\\\backtesting\\\\sim_mgarch.R\")\n",
    "    # Load the function we have defined in R.\n",
    "    Sim_mgarch = ro.globalenv['Sim_mgarch']\n",
    "    # Fit the MGARCH model and receive the result\n",
    "    ugarch_dist_model = \"std\"       # t-distribution for the individual models\n",
    "    coef, returns, sigmas = Sim_mgarch(tickers, len_out_of_sample, ugarch_model, ugarch_dist_model, garch_order)\n",
    "    return coef, returns, sigmas\n"
   ]
  },
  {
   "cell_type": "code",
   "execution_count": null,
   "metadata": {},
   "outputs": [],
   "source": [
    "coef, returns, sigmas=sim_garch_model(tickers, len_out_of_sample=0, ugarch_model=\"sGARCH\", garch_order=(1, 1))"
   ]
  },
  {
   "cell_type": "code",
   "execution_count": null,
   "metadata": {},
   "outputs": [],
   "source": [
    "plt.plot(returns)"
   ]
  },
  {
   "cell_type": "code",
   "execution_count": null,
   "metadata": {},
   "outputs": [],
   "source": []
  }
 ],
 "metadata": {
  "kernelspec": {
   "display_name": "Python 3",
   "language": "python",
   "name": "python3"
  },
  "language_info": {
   "codemirror_mode": {
    "name": "ipython",
    "version": 3
   },
   "file_extension": ".py",
   "mimetype": "text/x-python",
   "name": "python",
   "nbconvert_exporter": "python",
   "pygments_lexer": "ipython3",
   "version": "3.8.5"
  }
 },
 "nbformat": 4,
 "nbformat_minor": 4
}
