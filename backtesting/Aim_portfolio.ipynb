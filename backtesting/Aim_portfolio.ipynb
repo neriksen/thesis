{
 "cells": [
  {
   "cell_type": "markdown",
   "metadata": {},
   "source": [
    "### Comparing the normalized aim portfolio to the optimal portfolio without trading costs"
   ]
  },
  {
   "cell_type": "code",
   "execution_count": null,
   "metadata": {},
   "outputs": [],
   "source": [
    "import sys\n",
    "sys.path.append(\"utils\")\n",
    "import dynamic_backtesting as db\n",
    "import compare_strategies as cs\n",
    "import matplotlib.pyplot as plt\n",
    "import pandas as pd\n",
    "import matplotlib\n",
    "from matplotlib.dates import DateFormatter\n",
    "from matplotlib.dates import YearLocator\n",
    "import seaborn as sns\n",
    "plt.style.use('seaborn')\n",
    "matplotlib.rcParams['axes.prop_cycle'] = matplotlib.cycler(color=[\"grey\", \"green\", \"black\", \"deepskyblue\", \"orange\", \"lime\", \"purple\", \"Gold\", \"brown\", \"blue\", \"pink\"]) \n",
    "plt.rcParams.update({\n",
    "   \"text.usetex\": True,\n",
    "   \"font.family\": ['Latin Modern Roman'],\n",
    "   \"xtick.labelsize\": 20.0,\n",
    "   \"ytick.labelsize\": 20.0,\n",
    "   \"axes.labelsize\":  20.0,\n",
    "   \"legend.fontsize\": 18.0\n",
    "})  "
   ]
  },
  {
   "cell_type": "code",
   "execution_count": null,
   "metadata": {},
   "outputs": [],
   "source": [
    "assets = {\"EEM\": \"Emerging Markets\",\n",
    "           \"IVV\": \"S&P 500\",\n",
    "           \"IEV\": \"MSCI Europe\",\n",
    "           \"IXN\": \"Global Tech\",\n",
    "           \"IYR\": \"US Real Estate\",\n",
    "           \"IXG\": \"Global Financials\",\n",
    "           \"EXI\": \"Global Industrials\",\n",
    "           \"GC=F\": \"Gold Futures\", \n",
    "           \"BZ=F\": \"Brent Crude Oil Futures\",\n",
    "           \"HYG\": \"High-Yield Corporate Bonds\",\n",
    "           \"TLT\": \"20+ Year Treasury Bonds\"}\n",
    "tickers = list(assets.keys())\n",
    "stocks = tickers[:7]\n",
    "commodities = tickers[7:9]\n",
    "bonds = tickers[9:]"
   ]
  },
  {
   "cell_type": "code",
   "execution_count": null,
   "metadata": {},
   "outputs": [],
   "source": [
    "asset_choice = ['IEV', 'TLT']"
   ]
  },
  {
   "cell_type": "code",
   "execution_count": null,
   "metadata": {},
   "outputs": [],
   "source": [
    "v_t_GARCH, out_of_sample_s_GARCH, in_sample_s_GARCH,Omega_t_GARCH = db.garch_no_trading_cost(asset_choice, number_of_out_of_sample_days=4*250, model_type=\"sGARCH11\")\n",
    "v_t_GARCH.index = pd.to_datetime(v_t_GARCH.index)\n",
    "v_t_GARCH = v_t_GARCH.iloc[1:]"
   ]
  },
  {
   "cell_type": "code",
   "execution_count": null,
   "metadata": {
    "tags": []
   },
   "outputs": [],
   "source": [
    "out_of_sample, in_sample, sigmas, residuals, params_dict = db.split_fit_parse(tickers=asset_choice, start=\"2008-01-01\", end=\"2021-10-02\", number_of_out_of_sample_days=250*4,model_type=\"sGARCH11\")\n",
    "\n",
    "Omega_ts = db.calc_Omega_ts(out_of_sample_returns=out_of_sample, in_sample_returns=in_sample,\n",
    "                         in_sample_sigmas=sigmas, in_sample_residuals=residuals, **params_dict)\n",
    "# Generating weights\n",
    "v_t, aims, modifiers = db.calc_weights_garch_with_trading_cost(Omega_ts, out_of_sample, tuning_gamma_D=None,\n",
    "initial_covar=pd.DataFrame(in_sample).cov().values)\n",
    "# Construct index for weights that start in period T (last in-sample period)\n",
    "aim_index = pd.to_datetime(out_of_sample.index)\n",
    "aims = pd.DataFrame(aims, index=aim_index, columns=asset_choice)"
   ]
  },
  {
   "cell_type": "code",
   "execution_count": null,
   "metadata": {},
   "outputs": [],
   "source": [
    "empty_labels= [\"_Hidden label\"]*(len(asset_choice)-1)\n",
    "label_garch=[r\"\\textbf{Min. variance weights, no trading costs}\"]\n",
    "label_aim=[r\"\\textbf{Normalized aim portfolio weights}\"]\n",
    "label_aim.extend(empty_labels)\n",
    "label_garch.extend(empty_labels)\n",
    "# See: https://blog.rtwilson.com/easily-hiding-items-from-the-legend-in-matplotlib/"
   ]
  },
  {
   "cell_type": "code",
   "execution_count": null,
   "metadata": {},
   "outputs": [],
   "source": [
    "fig, ax = plt.subplots(1, 1, figsize=(9,7), dpi=190)\n",
    "ax.plot(v_t_GARCH[\"IEV\"], c=sns.color_palette(\"tab20\", 11)[0])\n",
    "ax.plot(v_t_GARCH[\"TLT\"], c=sns.color_palette(\"tab20\", 11)[0], linestyle=\"--\" )\n",
    "ax.plot(aims[\"IEV\"], c=sns.color_palette(\"tab20\", 11)[2])\n",
    "ax.plot(aims[\"TLT\"], c=sns.color_palette(\"tab20\", 11)[2], linestyle=\"--\" )    \n",
    "ax.set_xlim(\"2017-10-15\",\"2021-10-02\")\n",
    "ax.set_ylim(0.1,1)\n",
    "ax.xaxis.set_major_locator(YearLocator())\n",
    "ax.xaxis.set_major_formatter(DateFormatter(\"%Y\"))\n",
    "plt.tight_layout()\n",
    "plt.legend([r\"\\textbf{Min. variance weights, no trading costs}\",\"_Hidden Label\"\n",
    ",r\"\\textbf{Normalized aim portfolio weights}\",\"_Hidden Label\"],loc=\"upper left\")\n",
    "ax.set_ylabel(r'\\textbf{Weight, $v_t$}',loc='top', rotation = 0, labelpad = -128)\n",
    "fig.savefig('output/aim_portfolio_similarity.png', bbox_inches=\"tight\")"
   ]
  },
  {
   "cell_type": "code",
   "execution_count": null,
   "metadata": {},
   "outputs": [],
   "source": []
  }
 ],
 "metadata": {
  "kernelspec": {
   "display_name": "Python 3",
   "language": "python",
   "name": "python3"
  },
  "language_info": {
   "codemirror_mode": {
    "name": "ipython",
    "version": 3
   },
   "file_extension": ".py",
   "mimetype": "text/x-python",
   "name": "python",
   "nbconvert_exporter": "python",
   "pygments_lexer": "ipython3",
   "version": "3.8.5"
  }
 },
 "nbformat": 4,
 "nbformat_minor": 4
}
