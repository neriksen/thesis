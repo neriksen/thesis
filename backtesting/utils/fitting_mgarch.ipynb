{
 "cells": [
  {
   "cell_type": "markdown",
   "metadata": {},
   "source": [
    "### Fitting DCC GARCH model using R - switch kernel"
   ]
  },
  {
   "cell_type": "code",
   "execution_count": 22,
   "metadata": {
    "tags": []
   },
   "outputs": [],
   "source": [
    "#install.packages(\"rmgarch\")\n",
    "suppressMessages(library(rmgarch))\n",
    "suppressMessages(library(parallel))\n",
    "suppressMessages(library(quantmod))\n",
    "suppressMessages(library(tidyverse))\n",
    "suppressMessages(library(xts))\n",
    "suppressMessages(library(ggplot2))\n",
    "suppressMessages(library(reshape2))\n",
    "setwd('~/thesis/')\n",
    "source(\"backtesting/fitting_mgarch.R\")"
   ]
  },
  {
   "cell_type": "code",
   "execution_count": 23,
   "metadata": {},
   "outputs": [],
   "source": [
    "etfs <- read.csv(\"data/return_data.csv\", sep=\";\")"
   ]
  },
  {
   "cell_type": "code",
   "execution_count": 24,
   "metadata": {},
   "outputs": [],
   "source": [
    "#etfs <- etfs %>% select(-Date)\n",
    "etfs <- etfs %>% mutate(Date=as.Date(Date, format = \"%Y-%m-%d\"))"
   ]
  },
  {
   "cell_type": "markdown",
   "metadata": {},
   "source": [
    "### Converting dataset to xts"
   ]
  },
  {
   "cell_type": "code",
   "execution_count": 25,
   "metadata": {},
   "outputs": [],
   "source": [
    "xts_etfs <- xts(etfs, order.by = etfs[,1])"
   ]
  },
  {
   "cell_type": "code",
   "execution_count": 18,
   "metadata": {},
   "outputs": [],
   "source": [
    "# garch models: sGARCH, eGARCH, gjrGARCH\n",
    "# garch order: 1,1 - 1,0\n",
    "# distribution model: std\n",
    "\n",
    "# (sGARCH, 1,0), (sGARCH. 1, 1), (gjrGARCH, 1, 1), (eGARCH, 1, 1)"
   ]
  },
  {
   "cell_type": "code",
   "execution_count": 28,
   "metadata": {
    "tags": []
   },
   "outputs": [],
   "source": [
    "fit_garch <- function(model_type, garchOrder){\n",
    "    xspec = ugarchspec(mean.model = list(armaOrder = c(0, 0)), variance.model = list(garchOrder = garchOrder, model = model_type), distribution.model = 'std')\n",
    "    uspec = multispec(replicate(ncol(xts_etfs)-1, xspec))\n",
    "    spec1 = dccspec(uspec = uspec, dccOrder = c(1, 1), distribution = 'mvt')\n",
    "    cl = makePSOCKcluster(4)\n",
    "    multf = multifit(uspec, xts_etfs[,2:ncol(xts_etfs)], cluster = cl)\n",
    "    fit1 = dccfit(spec1, data = xts_etfs[,2:ncol(xts_etfs)], fit.control = list(eval.se = TRUE), fit = multf, cluster = cl)           \n",
    "    stopCluster(cl)\n",
    "    return(fit1)\n",
    "}"
   ]
  },
  {
   "cell_type": "code",
   "execution_count": 29,
   "metadata": {
    "tags": []
   },
   "outputs": [],
   "source": [
    "fit_sGARCH10 = fit_mgarch(1000, \"sGARCH\", \"std\", c(1, 0))\n",
    "#fit_sGARCH10 = fit_garch('sGARCH', c(1,0))\n",
    "#fit_sGARCH11 = fit_garch('sGARCH', c(1,1))\n",
    "#fit_gjrGARCH11 = fit_garch('gjrGARCH', c(1,1))\n",
    "#fit_eGARCH11 = fit_garch('eGARCH', c(1,1))"
   ]
  },
  {
   "cell_type": "code",
   "execution_count": 69,
   "metadata": {},
   "outputs": [],
   "source": [
    "data.frame(coef(fit_sGARCH10), stringsAsFactors=FALSE) %>% write.csv(\"fit_sGARCH10.csv\")\n",
    "data.frame(coef(fit_sGARCH11), stringsAsFactors=FALSE) %>% write.csv(\"fit_sGARCH11.csv\")\n",
    "data.frame(coef(fit_gjrGARCH11), stringsAsFactors=FALSE) %>% write.csv(\"fit_gjrGARCH11.csv\")\n",
    "data.frame(coef(fit_eGARCH11), stringsAsFactors=FALSE) %>% write.csv(\"fit_eGARCH11.csv\")"
   ]
  },
  {
   "cell_type": "code",
   "execution_count": null,
   "metadata": {},
   "outputs": [],
   "source": [
    "data.frame(lapply(coef(fit1), type.convert), stringsAsFactors=FALSE) %>% write.csv(\"garch_params.csv\")"
   ]
  },
  {
   "cell_type": "code",
   "execution_count": null,
   "metadata": {},
   "outputs": [],
   "source": [
    "last_Omega <- tail(rcov(fit1, output=\"matrix\"), 1)"
   ]
  },
  {
   "cell_type": "code",
   "execution_count": null,
   "metadata": {
    "tags": []
   },
   "outputs": [],
   "source": [
    "tail(rcov(fit1, output=\"matrix\"), 1) %>% write.csv('Omega_t.csv')"
   ]
  },
  {
   "cell_type": "code",
   "execution_count": null,
   "metadata": {},
   "outputs": [],
   "source": [
    "d <- matrix(last_Omega, nrow = 4, byrow = TRUE)"
   ]
  },
  {
   "cell_type": "code",
   "execution_count": null,
   "metadata": {},
   "outputs": [],
   "source": [
    "mat <- matrix(0, nrow = 4, ncol = 4)\n",
    "mat[upper.tri(mat, diag = TRUE)] <- last_Omega"
   ]
  },
  {
   "cell_type": "code",
   "execution_count": 33,
   "metadata": {
    "tags": []
   },
   "outputs": [
    {
     "data": {
      "text/html": [
       "<ol>\n",
       "\t<li><style>\n",
       ".dl-inline {width: auto; margin:0; padding: 0}\n",
       ".dl-inline>dt, .dl-inline>dd {float: none; width: auto; display: inline-block}\n",
       ".dl-inline>dt::after {content: \":\\0020\"; padding-right: .5ex}\n",
       ".dl-inline>dt:not(:first-of-type) {padding-left: .5ex}\n",
       "</style><dl class=dl-inline><dt>[BZ.F].mu</dt><dd>0.0163005625435806</dd><dt>[BZ.F].omega</dt><dd>4.19216612173244</dd><dt>[BZ.F].alpha1</dt><dd>0.467825517917501</dd><dt>[BZ.F].shape</dt><dd>3.03475185855406</dd><dt>[EEM].mu</dt><dd>0.0622019255284011</dd><dt>[EEM].omega</dt><dd>2.67477776756683</dd><dt>[EEM].alpha1</dt><dd>0.407994588219294</dd><dt>[EEM].shape</dt><dd>3.17187978891893</dd><dt>[EXI].mu</dt><dd>0.0873870592823015</dd><dt>[EXI].omega</dt><dd>1.54791589895111</dd><dt>[EXI].alpha1</dt><dd>0.636521043084869</dd><dt>[EXI].shape</dt><dd>2.93073382105644</dd><dt>[GC.F].mu</dt><dd>0.0426449177542597</dd><dt>[GC.F].omega</dt><dd>1.4086933795651</dd><dt>[GC.F].alpha1</dt><dd>0.112580985718057</dd><dt>[GC.F].shape</dt><dd>3.5807777804585</dd><dt>[HYG].mu</dt><dd>0.0424614598307179</dd><dt>[HYG].omega</dt><dd>0.222774909771804</dd><dt>[HYG].alpha1</dt><dd>0.998999917672538</dd><dt>[HYG].shape</dt><dd>2.75659379837046</dd><dt>[IEV].mu</dt><dd>0.0733323268309497</dd><dt>[IEV].omega</dt><dd>2.07230832621779</dd><dt>[IEV].alpha1</dt><dd>0.576122884716353</dd><dt>[IEV].shape</dt><dd>2.89071237199145</dd><dt>[IVV].mu</dt><dd>0.0890944972676783</dd><dt>[IVV].omega</dt><dd>1.4824798193486</dd><dt>[IVV].alpha1</dt><dd>0.816793969972477</dd><dt>[IVV].shape</dt><dd>2.51880084212127</dd><dt>[IXG].mu</dt><dd>0.0787958399394325</dd><dt>[IXG].omega</dt><dd>2.55713017725569</dd><dt>[IXG].alpha1</dt><dd>0.903782524114118</dd><dt>[IXG].shape</dt><dd>2.65385920604968</dd><dt>[IXN].mu</dt><dd>0.107122174456053</dd><dt>[IXN].omega</dt><dd>1.59902779071421</dd><dt>[IXN].alpha1</dt><dd>0.418694082020769</dd><dt>[IXN].shape</dt><dd>2.90191731152285</dd><dt>[IYR].mu</dt><dd>0.108004507293934</dd><dt>[IYR].omega</dt><dd>1.39941015440519</dd><dt>[IYR].alpha1</dt><dd>0.998999946418274</dd><dt>[IYR].shape</dt><dd>2.95024559186845</dd><dt>[TLT].mu</dt><dd>0.0369405224231725</dd><dt>[TLT].omega</dt><dd>0.738370791040379</dd><dt>[TLT].alpha1</dt><dd>0.196019498249399</dd><dt>[TLT].shape</dt><dd>10.0886667148873</dd><dt>[Joint]dcca1</dt><dd>0.00406674345470936</dd><dt>[Joint]dccb1</dt><dd>0.994237940393725</dd><dt>[Joint]mshape</dt><dd>4.00000037380781</dd></dl>\n",
       "</li>\n",
       "</ol>\n"
      ],
      "text/latex": [
       "\\begin{enumerate}\n",
       "\\item \\begin{description*}\n",
       "\\item[\\{{[}\\}BZ.F\\{{]}\\}.mu] 0.0163005625435806\n",
       "\\item[\\{{[}\\}BZ.F\\{{]}\\}.omega] 4.19216612173244\n",
       "\\item[\\{{[}\\}BZ.F\\{{]}\\}.alpha1] 0.467825517917501\n",
       "\\item[\\{{[}\\}BZ.F\\{{]}\\}.shape] 3.03475185855406\n",
       "\\item[\\{{[}\\}EEM\\{{]}\\}.mu] 0.0622019255284011\n",
       "\\item[\\{{[}\\}EEM\\{{]}\\}.omega] 2.67477776756683\n",
       "\\item[\\{{[}\\}EEM\\{{]}\\}.alpha1] 0.407994588219294\n",
       "\\item[\\{{[}\\}EEM\\{{]}\\}.shape] 3.17187978891893\n",
       "\\item[\\{{[}\\}EXI\\{{]}\\}.mu] 0.0873870592823015\n",
       "\\item[\\{{[}\\}EXI\\{{]}\\}.omega] 1.54791589895111\n",
       "\\item[\\{{[}\\}EXI\\{{]}\\}.alpha1] 0.636521043084869\n",
       "\\item[\\{{[}\\}EXI\\{{]}\\}.shape] 2.93073382105644\n",
       "\\item[\\{{[}\\}GC.F\\{{]}\\}.mu] 0.0426449177542597\n",
       "\\item[\\{{[}\\}GC.F\\{{]}\\}.omega] 1.4086933795651\n",
       "\\item[\\{{[}\\}GC.F\\{{]}\\}.alpha1] 0.112580985718057\n",
       "\\item[\\{{[}\\}GC.F\\{{]}\\}.shape] 3.5807777804585\n",
       "\\item[\\{{[}\\}HYG\\{{]}\\}.mu] 0.0424614598307179\n",
       "\\item[\\{{[}\\}HYG\\{{]}\\}.omega] 0.222774909771804\n",
       "\\item[\\{{[}\\}HYG\\{{]}\\}.alpha1] 0.998999917672538\n",
       "\\item[\\{{[}\\}HYG\\{{]}\\}.shape] 2.75659379837046\n",
       "\\item[\\{{[}\\}IEV\\{{]}\\}.mu] 0.0733323268309497\n",
       "\\item[\\{{[}\\}IEV\\{{]}\\}.omega] 2.07230832621779\n",
       "\\item[\\{{[}\\}IEV\\{{]}\\}.alpha1] 0.576122884716353\n",
       "\\item[\\{{[}\\}IEV\\{{]}\\}.shape] 2.89071237199145\n",
       "\\item[\\{{[}\\}IVV\\{{]}\\}.mu] 0.0890944972676783\n",
       "\\item[\\{{[}\\}IVV\\{{]}\\}.omega] 1.4824798193486\n",
       "\\item[\\{{[}\\}IVV\\{{]}\\}.alpha1] 0.816793969972477\n",
       "\\item[\\{{[}\\}IVV\\{{]}\\}.shape] 2.51880084212127\n",
       "\\item[\\{{[}\\}IXG\\{{]}\\}.mu] 0.0787958399394325\n",
       "\\item[\\{{[}\\}IXG\\{{]}\\}.omega] 2.55713017725569\n",
       "\\item[\\{{[}\\}IXG\\{{]}\\}.alpha1] 0.903782524114118\n",
       "\\item[\\{{[}\\}IXG\\{{]}\\}.shape] 2.65385920604968\n",
       "\\item[\\{{[}\\}IXN\\{{]}\\}.mu] 0.107122174456053\n",
       "\\item[\\{{[}\\}IXN\\{{]}\\}.omega] 1.59902779071421\n",
       "\\item[\\{{[}\\}IXN\\{{]}\\}.alpha1] 0.418694082020769\n",
       "\\item[\\{{[}\\}IXN\\{{]}\\}.shape] 2.90191731152285\n",
       "\\item[\\{{[}\\}IYR\\{{]}\\}.mu] 0.108004507293934\n",
       "\\item[\\{{[}\\}IYR\\{{]}\\}.omega] 1.39941015440519\n",
       "\\item[\\{{[}\\}IYR\\{{]}\\}.alpha1] 0.998999946418274\n",
       "\\item[\\{{[}\\}IYR\\{{]}\\}.shape] 2.95024559186845\n",
       "\\item[\\{{[}\\}TLT\\{{]}\\}.mu] 0.0369405224231725\n",
       "\\item[\\{{[}\\}TLT\\{{]}\\}.omega] 0.738370791040379\n",
       "\\item[\\{{[}\\}TLT\\{{]}\\}.alpha1] 0.196019498249399\n",
       "\\item[\\{{[}\\}TLT\\{{]}\\}.shape] 10.0886667148873\n",
       "\\item[\\{{[}\\}Joint\\{{]}\\}dcca1] 0.00406674345470936\n",
       "\\item[\\{{[}\\}Joint\\{{]}\\}dccb1] 0.994237940393725\n",
       "\\item[\\{{[}\\}Joint\\{{]}\\}mshape] 4.00000037380781\n",
       "\\end{description*}\n",
       "\n",
       "\\end{enumerate}\n"
      ],
      "text/markdown": [
       "1. [BZ.F].mu\n",
       ":   0.0163005625435806[BZ.F].omega\n",
       ":   4.19216612173244[BZ.F].alpha1\n",
       ":   0.467825517917501[BZ.F].shape\n",
       ":   3.03475185855406[EEM].mu\n",
       ":   0.0622019255284011[EEM].omega\n",
       ":   2.67477776756683[EEM].alpha1\n",
       ":   0.407994588219294[EEM].shape\n",
       ":   3.17187978891893[EXI].mu\n",
       ":   0.0873870592823015[EXI].omega\n",
       ":   1.54791589895111[EXI].alpha1\n",
       ":   0.636521043084869[EXI].shape\n",
       ":   2.93073382105644[GC.F].mu\n",
       ":   0.0426449177542597[GC.F].omega\n",
       ":   1.4086933795651[GC.F].alpha1\n",
       ":   0.112580985718057[GC.F].shape\n",
       ":   3.5807777804585[HYG].mu\n",
       ":   0.0424614598307179[HYG].omega\n",
       ":   0.222774909771804[HYG].alpha1\n",
       ":   0.998999917672538[HYG].shape\n",
       ":   2.75659379837046[IEV].mu\n",
       ":   0.0733323268309497[IEV].omega\n",
       ":   2.07230832621779[IEV].alpha1\n",
       ":   0.576122884716353[IEV].shape\n",
       ":   2.89071237199145[IVV].mu\n",
       ":   0.0890944972676783[IVV].omega\n",
       ":   1.4824798193486[IVV].alpha1\n",
       ":   0.816793969972477[IVV].shape\n",
       ":   2.51880084212127[IXG].mu\n",
       ":   0.0787958399394325[IXG].omega\n",
       ":   2.55713017725569[IXG].alpha1\n",
       ":   0.903782524114118[IXG].shape\n",
       ":   2.65385920604968[IXN].mu\n",
       ":   0.107122174456053[IXN].omega\n",
       ":   1.59902779071421[IXN].alpha1\n",
       ":   0.418694082020769[IXN].shape\n",
       ":   2.90191731152285[IYR].mu\n",
       ":   0.108004507293934[IYR].omega\n",
       ":   1.39941015440519[IYR].alpha1\n",
       ":   0.998999946418274[IYR].shape\n",
       ":   2.95024559186845[TLT].mu\n",
       ":   0.0369405224231725[TLT].omega\n",
       ":   0.738370791040379[TLT].alpha1\n",
       ":   0.196019498249399[TLT].shape\n",
       ":   10.0886667148873[Joint]dcca1\n",
       ":   0.00406674345470936[Joint]dccb1\n",
       ":   0.994237940393725[Joint]mshape\n",
       ":   4.00000037380781\n",
       "\n",
       "\n",
       "\n",
       "\n"
      ],
      "text/plain": [
       "[[1]]\n",
       "    [BZ.F].mu  [BZ.F].omega [BZ.F].alpha1  [BZ.F].shape      [EEM].mu \n",
       "  0.016300563   4.192166122   0.467825518   3.034751859   0.062201926 \n",
       "  [EEM].omega  [EEM].alpha1   [EEM].shape      [EXI].mu   [EXI].omega \n",
       "  2.674777768   0.407994588   3.171879789   0.087387059   1.547915899 \n",
       " [EXI].alpha1   [EXI].shape     [GC.F].mu  [GC.F].omega [GC.F].alpha1 \n",
       "  0.636521043   2.930733821   0.042644918   1.408693380   0.112580986 \n",
       " [GC.F].shape      [HYG].mu   [HYG].omega  [HYG].alpha1   [HYG].shape \n",
       "  3.580777780   0.042461460   0.222774910   0.998999918   2.756593798 \n",
       "     [IEV].mu   [IEV].omega  [IEV].alpha1   [IEV].shape      [IVV].mu \n",
       "  0.073332327   2.072308326   0.576122885   2.890712372   0.089094497 \n",
       "  [IVV].omega  [IVV].alpha1   [IVV].shape      [IXG].mu   [IXG].omega \n",
       "  1.482479819   0.816793970   2.518800842   0.078795840   2.557130177 \n",
       " [IXG].alpha1   [IXG].shape      [IXN].mu   [IXN].omega  [IXN].alpha1 \n",
       "  0.903782524   2.653859206   0.107122174   1.599027791   0.418694082 \n",
       "  [IXN].shape      [IYR].mu   [IYR].omega  [IYR].alpha1   [IYR].shape \n",
       "  2.901917312   0.108004507   1.399410154   0.998999946   2.950245592 \n",
       "     [TLT].mu   [TLT].omega  [TLT].alpha1   [TLT].shape  [Joint]dcca1 \n",
       "  0.036940522   0.738370791   0.196019498  10.088666715   0.004066743 \n",
       " [Joint]dccb1 [Joint]mshape \n",
       "  0.994237940   4.000000374 \n"
      ]
     },
     "metadata": {},
     "output_type": "display_data"
    }
   ],
   "source": [
    "fit_sGARCH10[1]"
   ]
  },
  {
   "cell_type": "code",
   "execution_count": null,
   "metadata": {},
   "outputs": [],
   "source": [
    "#coef(fit1) %>% write.csv('coef.csv')\n",
    "#install.packages(\"gmvarkit\")\n",
    "library(gmvarkit)"
   ]
  },
  {
   "cell_type": "code",
   "execution_count": null,
   "metadata": {},
   "outputs": [],
   "source": [
    "etf_forecast <- dccforecast(fit1, n.ahead=1)"
   ]
  },
  {
   "cell_type": "code",
   "execution_count": null,
   "metadata": {},
   "outputs": [],
   "source": [
    "rcov(etf_forecast, output=\"matrix\")"
   ]
  },
  {
   "cell_type": "code",
   "execution_count": null,
   "metadata": {},
   "outputs": [],
   "source": [
    "rcov(etf_forecast, output=\"matrix\")"
   ]
  },
  {
   "cell_type": "code",
   "execution_count": null,
   "metadata": {},
   "outputs": [],
   "source": [
    "etf_forecast"
   ]
  },
  {
   "cell_type": "markdown",
   "metadata": {},
   "source": [
    "### Using DCC-roll to forecast"
   ]
  },
  {
   "cell_type": "code",
   "execution_count": null,
   "metadata": {
    "tags": []
   },
   "outputs": [],
   "source": [
    "cl = makePSOCKcluster(8)\n",
    "roll <- dccroll(spec = spec1, data = xts_etfs[,2:11], forecast.length = 1, n.ahead=1, refit.every = 1,\n",
    "               refit.window = \"recursive\")\n",
    "\n",
    "#,             fit.control = list(eval.se = TRUE, stationarity = TRUE, scale = FALSE))\n",
    "stopCluster(cl)"
   ]
  },
  {
   "cell_type": "code",
   "execution_count": null,
   "metadata": {
    "tags": []
   },
   "outputs": [],
   "source": [
    "data <- as_tibble(rcov(roll, output=\"matrix\")) %>%\n",
    "        mutate(Date = seq.int(1, nrow(rcov(roll, output=\"matrix\")), 1), .before=EEM) \n",
    "\n",
    "print(data)"
   ]
  },
  {
   "cell_type": "code",
   "execution_count": null,
   "metadata": {},
   "outputs": [],
   "source": [
    "data %>% ggplot(aes(x = Date)) +\n",
    "geom_line(color = Series) +\n",
    "# Add a second axis and specify its features\n",
    "labs(\n",
    "  title=\"Macroeconomic indicators\",\n",
    "  x = \"Year\",\n",
    "  y = \"Count\")\n",
    "\n",
    "\n",
    "#rcov(roll, output=\"matrix\")"
   ]
  }
 ],
 "metadata": {
  "kernelspec": {
   "display_name": "R",
   "language": "R",
   "name": "ir"
  },
  "language_info": {
   "codemirror_mode": "r",
   "file_extension": ".r",
   "mimetype": "text/x-r-source",
   "name": "R",
   "pygments_lexer": "r",
   "version": "4.0.3"
  }
 },
 "nbformat": 4,
 "nbformat_minor": 4
}
