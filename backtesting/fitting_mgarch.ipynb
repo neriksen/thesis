{
 "cells": [
  {
   "cell_type": "markdown",
   "metadata": {},
   "source": [
    "### Fitting DCC GARCH model using R - switch kernel"
   ]
  },
  {
   "cell_type": "code",
   "execution_count": 3,
   "metadata": {
    "tags": []
   },
   "outputs": [],
   "source": [
    "#install.packages(\"rmgarch\")\n",
    "suppressMessages(library(rmgarch))\n",
    "suppressMessages(library(parallel))\n",
    "suppressMessages(library(quantmod))\n",
    "suppressMessages(library(tidyverse))\n",
    "suppressMessages(library(xts))\n",
    "suppressMessages(library(ggplot2))\n",
    "suppressMessages(library(reshape2))"
   ]
  },
  {
   "cell_type": "code",
   "execution_count": 4,
   "metadata": {},
   "outputs": [],
   "source": [
    "etfs <- read.csv(\"../data/etfs.csv\", sep=\";\")"
   ]
  },
  {
   "cell_type": "code",
   "execution_count": 5,
   "metadata": {},
   "outputs": [],
   "source": [
    "#etfs <- etfs %>% select(-Date)\n",
    "etfs <- etfs %>% mutate(Date=as.Date(Date, format = \"%Y-%m-%d\"))"
   ]
  },
  {
   "cell_type": "markdown",
   "metadata": {},
   "source": [
    "### Converting dataset to xts"
   ]
  },
  {
   "cell_type": "code",
   "execution_count": 6,
   "metadata": {},
   "outputs": [],
   "source": [
    "xts_etfs <- xts(etfs, order.by = etfs[,1])"
   ]
  },
  {
   "cell_type": "code",
   "execution_count": 8,
   "metadata": {
    "tags": []
   },
   "outputs": [
    {
     "name": "stdout",
     "output_type": "stream",
     "text": [
      "\n",
      "*---------------------------------*\n",
      "*          DCC GARCH Fit          *\n",
      "*---------------------------------*\n",
      "\n",
      "Distribution         :  mvnorm\n",
      "Model                :  DCC(1,1)\n",
      "No. Parameters       :  107\n",
      "[VAR GARCH DCC UncQ] : [0+60+2+45]\n",
      "No. Series           :  10\n",
      "No. Obs.             :  2529\n",
      "Log-Likelihood       :  -29988.88\n",
      "Av.Log-Likelihood    :  -11.86 \n",
      "\n",
      "Optimal Parameters\n",
      "-----------------------------------\n",
      "              Estimate  Std. Error    t value Pr(>|t|)\n",
      "[EEM].mu      0.016392    0.022383   0.732329 0.463968\n",
      "[EEM].omega   0.043291    0.015727   2.752643 0.005912\n",
      "[EEM].alpha1  0.031917    0.021794   1.464516 0.143053\n",
      "[EEM].beta1   0.884587    0.029671  29.813201 0.000000\n",
      "[EEM].gamma1  0.111623    0.022717   4.913598 0.000001\n",
      "[EEM].shape   1.688241    0.077598  21.756218 0.000000\n",
      "[EWZ].mu      0.002607    0.034561   0.075418 0.939882\n",
      "[EWZ].omega   0.076696    0.033699   2.275899 0.022852\n",
      "[EWZ].alpha1  0.042215    0.016926   2.494092 0.012628\n",
      "[EWZ].beta1   0.901674    0.024340  37.045644 0.000000\n",
      "[EWZ].gamma1  0.081135    0.023396   3.467840 0.000525\n",
      "[EWZ].shape   1.533109    0.096227  15.932176 0.000000\n",
      "[FXI].mu      0.019619    0.025315   0.775004 0.438337\n",
      "[FXI].omega   0.067028    0.027287   2.456369 0.014035\n",
      "[FXI].alpha1  0.032169    0.014801   2.173398 0.029750\n",
      "[FXI].beta1   0.899470    0.027604  32.584926 0.000000\n",
      "[FXI].gamma1  0.078792    0.021072   3.739174 0.000185\n",
      "[FXI].shape   1.431111    0.068292  20.955764 0.000000\n",
      "[GDX].mu     -0.050153    0.039670  -1.264231 0.206147\n",
      "[GDX].omega   0.044575    0.018743   2.378296 0.017393\n",
      "[GDX].alpha1  0.034193    0.011137   3.070279 0.002139\n",
      "[GDX].beta1   0.936004    0.012249  76.414856 0.000000\n",
      "[GDX].gamma1  0.047346    0.015153   3.124629 0.001780\n",
      "[GDX].shape   1.515508    0.060008  25.255173 0.000000\n",
      "[HYG].mu      0.003238    0.006774   0.478028 0.632630\n",
      "[HYG].omega   0.002824    0.000847   3.335344 0.000852\n",
      "[HYG].alpha1  0.019994    0.015786   1.266602 0.205298\n",
      "[HYG].beta1   0.867478    0.022093  39.264647 0.000000\n",
      "[HYG].gamma1  0.193846    0.025558   7.584585 0.000000\n",
      "[HYG].shape   1.360608    0.055012  24.732865 0.000000\n",
      "[SLV].mu      0.000005    0.000019   0.240110 0.810245\n",
      "[SLV].omega   0.028683    0.016807   1.706602 0.087896\n",
      "[SLV].alpha1  0.050696    0.021899   2.315035 0.020611\n",
      "[SLV].beta1   0.943781    0.022304  42.314955 0.000000\n",
      "[SLV].gamma1 -0.010543    0.013500  -0.780971 0.434819\n",
      "[SLV].shape   1.087027    0.042039  25.857518 0.000000\n",
      "[SPY].mu      0.058028    0.011847   4.898306 0.000001\n",
      "[SPY].omega   0.035338    0.006402   5.520069 0.000000\n",
      "[SPY].alpha1  0.030457    0.025218   1.207767 0.227137\n",
      "[SPY].beta1   0.775669    0.025949  29.892151 0.000000\n",
      "[SPY].gamma1  0.332500    0.049655   6.696207 0.000000\n",
      "[SPY].shape   1.303746    0.060387  21.589931 0.000000\n",
      "[TLT].mu      0.028566    0.015681   1.821746 0.068494\n",
      "[TLT].omega   0.024540    0.011151   2.200710 0.027757\n",
      "[TLT].alpha1  0.091385    0.024922   3.666894 0.000246\n",
      "[TLT].beta1   0.893679    0.031123  28.713987 0.000000\n",
      "[TLT].gamma1 -0.038285    0.020641  -1.854849 0.063618\n",
      "[TLT].shape   1.686612    0.088112  19.141620 0.000000\n",
      "[XLF].mu      0.057610    0.019957   2.886638 0.003894\n",
      "[XLF].omega   0.070063    0.013869   5.051928 0.000000\n",
      "[XLF].alpha1  0.045679    0.017172   2.660146 0.007811\n",
      "[XLF].beta1   0.795148    0.026338  30.189696 0.000000\n",
      "[XLF].gamma1  0.241000    0.038925   6.191412 0.000000\n",
      "[XLF].shape   1.410265    0.062131  22.698177 0.000000\n",
      "[XLU].mu      0.062197    0.017416   3.571310 0.000355\n",
      "[XLU].omega   0.022247    0.007081   3.142013 0.001678\n",
      "[XLU].alpha1  0.064663    0.018703   3.457407 0.000545\n",
      "[XLU].beta1   0.897558    0.019291  46.527051 0.000000\n",
      "[XLU].gamma1  0.023869    0.020486   1.165135 0.243964\n",
      "[XLU].shape   1.491930    0.063799  23.384736 0.000000\n",
      "[Joint]dcca1  0.014807    0.002233   6.631299 0.000000\n",
      "[Joint]dccb1  0.972375    0.005307 183.217182 0.000000\n",
      "\n",
      "Information Criteria\n",
      "---------------------\n",
      "                   \n",
      "Akaike       23.801\n",
      "Bayes        24.048\n",
      "Shibata      23.797\n",
      "Hannan-Quinn 23.890\n",
      "\n",
      "\n",
      "Elapsed time : 15.15558 \n",
      "\n"
     ]
    }
   ],
   "source": [
    "xspec = ugarchspec(mean.model = list(armaOrder = c(0, 0)), variance.model = list(garchOrder = c(1,1), model = 'gjrGARCH'), distribution.model = 'ged')\n",
    "uspec = multispec(replicate(10, xspec))\n",
    "spec1 = dccspec(uspec = uspec, dccOrder = c(1, 1), distribution = 'mvnorm')\n",
    "cl = makePSOCKcluster(4)\n",
    "multf = multifit(uspec, xts_etfs[,2:11], cluster = cl)\n",
    "fit1 = dccfit(spec1, data = xts_etfs[,2:11], fit.control = list(eval.se = TRUE), fit = multf, cluster = cl)\n",
    "print(fit1)           \n",
    "stopCluster(cl)"
   ]
  },
  {
   "cell_type": "code",
   "execution_count": 11,
   "metadata": {
    "tags": []
   },
   "outputs": [
    {
     "data": {
      "text/plain": [
       "                 EEM      EWZ      FXI      GDX       HYG      SLV       SPY\n",
       "2021-09-13 1.0105063 2.464456 1.487492 1.855005 0.2187609 1.552429 0.6578703\n",
       "2021-09-14 0.9639216 2.431469 1.422294 1.868405 0.2322735 1.504888 0.6100608\n",
       "2021-09-15 0.9675328 2.325922 1.528542 1.817387 0.2214658 1.465849 0.6368146\n",
       "2021-09-16 0.9224669 2.213234 1.474223 1.764029 0.2192736 1.422662 0.6827318\n",
       "2021-09-17 0.9708540 2.165357 1.479594 2.018712 0.2100608 1.667084 0.6355309\n",
       "2021-09-20 0.9389232 2.233906 1.424232 1.976229 0.2088227 1.722008 0.8677762\n",
       "                 TLT       XLF       XLU\n",
       "2021-09-13 0.7892839 0.8494309 0.9936961\n",
       "2021-09-14 0.7776482 0.9190648 0.9532933\n",
       "2021-09-15 0.8214167 1.0513886 0.9199914\n",
       "2021-09-16 0.7955305 1.0357515 0.8839057\n",
       "2021-09-17 0.7766354 0.9675136 0.8857085\n",
       "2021-09-20 0.7607383 0.9265005 0.9645243"
      ]
     },
     "metadata": {},
     "output_type": "display_data"
    }
   ],
   "source": [
    "coef(fit1)"
   ]
  },
  {
   "cell_type": "code",
   "execution_count": 35,
   "metadata": {},
   "outputs": [],
   "source": [
    "#coef(fit1) %>% write.csv('coef.csv')\n",
    "#install.packages(\"gmvarkit\")\n",
    "library(gmvarkit)"
   ]
  },
  {
   "cell_type": "code",
   "execution_count": 29,
   "metadata": {},
   "outputs": [],
   "source": [
    "etf_forecast <- dccforecast(fit1, n.ahead=1)"
   ]
  },
  {
   "cell_type": "code",
   "execution_count": 39,
   "metadata": {},
   "outputs": [
    {
     "data": {
      "text/html": [
       "<strong>$`1975-07-07 01:00:00`</strong> = <table class=\"dataframe\">\n",
       "<caption>A matrix: 1 × 55 of type dbl</caption>\n",
       "<thead>\n",
       "\t<tr><th></th><th scope=col>EEM</th><th scope=col>EWZ:EEM</th><th scope=col>FXI:EEM</th><th scope=col>GDX:EEM</th><th scope=col>HYG:EEM</th><th scope=col>SLV:EEM</th><th scope=col>SPY:EEM</th><th scope=col>TLT:EEM</th><th scope=col>XLF:EEM</th><th scope=col>XLU:EEM</th><th scope=col>⋯</th><th scope=col>SPY</th><th scope=col>TLT:SPY</th><th scope=col>XLF:SPY</th><th scope=col>XLU:SPY</th><th scope=col>TLT</th><th scope=col>XLF:TLT</th><th scope=col>XLU:TLT</th><th scope=col>XLF</th><th scope=col>XLU:XLF</th><th scope=col>XLU</th></tr>\n",
       "</thead>\n",
       "<tbody>\n",
       "\t<tr><th scope=row>T+1</th><td>0.008088057</td><td>-6.194942e-05</td><td>0.01780162</td><td>0.01094251</td><td>0.02511785</td><td>0.002839959</td><td>0.08531867</td><td>0.03429511</td><td>0.08243349</td><td>0.08448728</td><td>⋯</td><td>0.9132665</td><td>0.3688015</td><td>0.8818356</td><td>0.9057751</td><td>0.1500154</td><td>0.3559758</td><td>0.3666705</td><td>0.8522604</td><td>0.8746033</td><td>0.8998687</td></tr>\n",
       "</tbody>\n",
       "</table>\n"
      ],
      "text/latex": [
       "\\textbf{\\$`1975-07-07 01:00:00`} = A matrix: 1 × 55 of type dbl\n",
       "\\begin{tabular}{r|lllllllllllllllllllll}\n",
       "  & EEM & EWZ:EEM & FXI:EEM & GDX:EEM & HYG:EEM & SLV:EEM & SPY:EEM & TLT:EEM & XLF:EEM & XLU:EEM & ⋯ & SPY & TLT:SPY & XLF:SPY & XLU:SPY & TLT & XLF:TLT & XLU:TLT & XLF & XLU:XLF & XLU\\\\\n",
       "\\hline\n",
       "\tT+1 & 0.008088057 & -6.194942e-05 & 0.01780162 & 0.01094251 & 0.02511785 & 0.002839959 & 0.08531867 & 0.03429511 & 0.08243349 & 0.08448728 & ⋯ & 0.9132665 & 0.3688015 & 0.8818356 & 0.9057751 & 0.1500154 & 0.3559758 & 0.3666705 & 0.8522604 & 0.8746033 & 0.8998687\\\\\n",
       "\\end{tabular}\n"
      ],
      "text/markdown": [
       "**$`1975-07-07 01:00:00`** = \n",
       "A matrix: 1 × 55 of type dbl\n",
       "\n",
       "| <!--/--> | EEM | EWZ:EEM | FXI:EEM | GDX:EEM | HYG:EEM | SLV:EEM | SPY:EEM | TLT:EEM | XLF:EEM | XLU:EEM | ⋯ | SPY | TLT:SPY | XLF:SPY | XLU:SPY | TLT | XLF:TLT | XLU:TLT | XLF | XLU:XLF | XLU |\n",
       "|---|---|---|---|---|---|---|---|---|---|---|---|---|---|---|---|---|---|---|---|---|---|\n",
       "| T+1 | 0.008088057 | -6.194942e-05 | 0.01780162 | 0.01094251 | 0.02511785 | 0.002839959 | 0.08531867 | 0.03429511 | 0.08243349 | 0.08448728 | ⋯ | 0.9132665 | 0.3688015 | 0.8818356 | 0.9057751 | 0.1500154 | 0.3559758 | 0.3666705 | 0.8522604 | 0.8746033 | 0.8998687 |\n",
       "\n"
      ],
      "text/plain": [
       "$`1975-07-07 01:00:00`\n",
       "            EEM       EWZ:EEM    FXI:EEM    GDX:EEM    HYG:EEM     SLV:EEM\n",
       "T+1 0.008088057 -6.194942e-05 0.01780162 0.01094251 0.02511785 0.002839959\n",
       "       SPY:EEM    TLT:EEM    XLF:EEM    XLU:EEM          EWZ       FXI:EWZ\n",
       "T+1 0.08531867 0.03429511 0.08243349 0.08448728 0.0001714351 -0.0002090694\n",
       "          GDX:EWZ       HYG:EWZ       SLV:EWZ     SPY:EWZ       TLT:EWZ\n",
       "T+1 -0.0001968662 -0.0003330984 -0.0001813956 -0.00105922 -0.0005340436\n",
       "         XLF:EWZ     XLU:EWZ        FXI    GDX:FXI    HYG:FXI     SLV:FXI\n",
       "T+1 -0.001036023 -0.00112113 0.03954112 0.02440929 0.05591014 0.006352616\n",
       "      SPY:FXI    TLT:FXI   XLF:FXI   XLU:FXI        GDX    HYG:GDX     SLV:GDX\n",
       "T+1 0.1896993 0.07650242 0.1832719 0.1881392 0.01542915 0.03473214 0.004077526\n",
       "      SPY:GDX    TLT:GDX   XLF:GDX   XLU:GDX        HYG     SLV:HYG   SPY:HYG\n",
       "T+1 0.1175915 0.04785957 0.1134735 0.1169085 0.07939465 0.009039488 0.2690692\n",
       "      TLT:HYG   XLF:HYG   XLU:HYG         SLV    SPY:SLV    TLT:SLV  XLF:SLV\n",
       "T+1 0.1088328 0.2598421 0.2670367 0.001436696 0.03051203 0.01253509 0.029435\n",
       "       XLU:SLV       SPY   TLT:SPY   XLF:SPY   XLU:SPY       TLT   XLF:TLT\n",
       "T+1 0.03042925 0.9132665 0.3688015 0.8818356 0.9057751 0.1500154 0.3559758\n",
       "      XLU:TLT       XLF   XLU:XLF       XLU\n",
       "T+1 0.3666705 0.8522604 0.8746033 0.8998687\n"
      ]
     },
     "metadata": {},
     "output_type": "display_data"
    }
   ],
   "source": [
    "rcov(etf_forecast, output=\"matrix\")"
   ]
  },
  {
   "cell_type": "code",
   "execution_count": 50,
   "metadata": {},
   "outputs": [
    {
     "data": {
      "text/html": [
       "<strong>$`1975-07-07 01:00:00`</strong> = <table class=\"dataframe\">\n",
       "<caption>A matrix: 1 × 55 of type dbl</caption>\n",
       "<thead>\n",
       "\t<tr><th></th><th scope=col>EEM</th><th scope=col>EWZ:EEM</th><th scope=col>FXI:EEM</th><th scope=col>GDX:EEM</th><th scope=col>HYG:EEM</th><th scope=col>SLV:EEM</th><th scope=col>SPY:EEM</th><th scope=col>TLT:EEM</th><th scope=col>XLF:EEM</th><th scope=col>XLU:EEM</th><th scope=col>⋯</th><th scope=col>SPY</th><th scope=col>TLT:SPY</th><th scope=col>XLF:SPY</th><th scope=col>XLU:SPY</th><th scope=col>TLT</th><th scope=col>XLF:TLT</th><th scope=col>XLU:TLT</th><th scope=col>XLF</th><th scope=col>XLU:XLF</th><th scope=col>XLU</th></tr>\n",
       "</thead>\n",
       "<tbody>\n",
       "\t<tr><th scope=row>T+1</th><td>0.008088057</td><td>-6.194942e-05</td><td>0.01780162</td><td>0.01094251</td><td>0.02511785</td><td>0.002839959</td><td>0.08531867</td><td>0.03429511</td><td>0.08243349</td><td>0.08448728</td><td>⋯</td><td>0.9132665</td><td>0.3688015</td><td>0.8818356</td><td>0.9057751</td><td>0.1500154</td><td>0.3559758</td><td>0.3666705</td><td>0.8522604</td><td>0.8746033</td><td>0.8998687</td></tr>\n",
       "</tbody>\n",
       "</table>\n"
      ],
      "text/latex": [
       "\\textbf{\\$`1975-07-07 01:00:00`} = A matrix: 1 × 55 of type dbl\n",
       "\\begin{tabular}{r|lllllllllllllllllllll}\n",
       "  & EEM & EWZ:EEM & FXI:EEM & GDX:EEM & HYG:EEM & SLV:EEM & SPY:EEM & TLT:EEM & XLF:EEM & XLU:EEM & ⋯ & SPY & TLT:SPY & XLF:SPY & XLU:SPY & TLT & XLF:TLT & XLU:TLT & XLF & XLU:XLF & XLU\\\\\n",
       "\\hline\n",
       "\tT+1 & 0.008088057 & -6.194942e-05 & 0.01780162 & 0.01094251 & 0.02511785 & 0.002839959 & 0.08531867 & 0.03429511 & 0.08243349 & 0.08448728 & ⋯ & 0.9132665 & 0.3688015 & 0.8818356 & 0.9057751 & 0.1500154 & 0.3559758 & 0.3666705 & 0.8522604 & 0.8746033 & 0.8998687\\\\\n",
       "\\end{tabular}\n"
      ],
      "text/markdown": [
       "**$`1975-07-07 01:00:00`** = \n",
       "A matrix: 1 × 55 of type dbl\n",
       "\n",
       "| <!--/--> | EEM | EWZ:EEM | FXI:EEM | GDX:EEM | HYG:EEM | SLV:EEM | SPY:EEM | TLT:EEM | XLF:EEM | XLU:EEM | ⋯ | SPY | TLT:SPY | XLF:SPY | XLU:SPY | TLT | XLF:TLT | XLU:TLT | XLF | XLU:XLF | XLU |\n",
       "|---|---|---|---|---|---|---|---|---|---|---|---|---|---|---|---|---|---|---|---|---|---|\n",
       "| T+1 | 0.008088057 | -6.194942e-05 | 0.01780162 | 0.01094251 | 0.02511785 | 0.002839959 | 0.08531867 | 0.03429511 | 0.08243349 | 0.08448728 | ⋯ | 0.9132665 | 0.3688015 | 0.8818356 | 0.9057751 | 0.1500154 | 0.3559758 | 0.3666705 | 0.8522604 | 0.8746033 | 0.8998687 |\n",
       "\n"
      ],
      "text/plain": [
       "$`1975-07-07 01:00:00`\n",
       "            EEM       EWZ:EEM    FXI:EEM    GDX:EEM    HYG:EEM     SLV:EEM\n",
       "T+1 0.008088057 -6.194942e-05 0.01780162 0.01094251 0.02511785 0.002839959\n",
       "       SPY:EEM    TLT:EEM    XLF:EEM    XLU:EEM          EWZ       FXI:EWZ\n",
       "T+1 0.08531867 0.03429511 0.08243349 0.08448728 0.0001714351 -0.0002090694\n",
       "          GDX:EWZ       HYG:EWZ       SLV:EWZ     SPY:EWZ       TLT:EWZ\n",
       "T+1 -0.0001968662 -0.0003330984 -0.0001813956 -0.00105922 -0.0005340436\n",
       "         XLF:EWZ     XLU:EWZ        FXI    GDX:FXI    HYG:FXI     SLV:FXI\n",
       "T+1 -0.001036023 -0.00112113 0.03954112 0.02440929 0.05591014 0.006352616\n",
       "      SPY:FXI    TLT:FXI   XLF:FXI   XLU:FXI        GDX    HYG:GDX     SLV:GDX\n",
       "T+1 0.1896993 0.07650242 0.1832719 0.1881392 0.01542915 0.03473214 0.004077526\n",
       "      SPY:GDX    TLT:GDX   XLF:GDX   XLU:GDX        HYG     SLV:HYG   SPY:HYG\n",
       "T+1 0.1175915 0.04785957 0.1134735 0.1169085 0.07939465 0.009039488 0.2690692\n",
       "      TLT:HYG   XLF:HYG   XLU:HYG         SLV    SPY:SLV    TLT:SLV  XLF:SLV\n",
       "T+1 0.1088328 0.2598421 0.2670367 0.001436696 0.03051203 0.01253509 0.029435\n",
       "       XLU:SLV       SPY   TLT:SPY   XLF:SPY   XLU:SPY       TLT   XLF:TLT\n",
       "T+1 0.03042925 0.9132665 0.3688015 0.8818356 0.9057751 0.1500154 0.3559758\n",
       "      XLU:TLT       XLF   XLU:XLF       XLU\n",
       "T+1 0.3666705 0.8522604 0.8746033 0.8998687\n"
      ]
     },
     "metadata": {},
     "output_type": "display_data"
    }
   ],
   "source": [
    "rcov(etf_forecast, output=\"matrix\")"
   ]
  },
  {
   "cell_type": "code",
   "execution_count": null,
   "metadata": {},
   "outputs": [],
   "source": [
    "etf_forecast"
   ]
  },
  {
   "cell_type": "markdown",
   "metadata": {},
   "source": [
    "### Using DCC-roll to forecast"
   ]
  },
  {
   "cell_type": "code",
   "execution_count": 104,
   "metadata": {
    "tags": []
   },
   "outputs": [
    {
     "name": "stderr",
     "output_type": "stream",
     "text": [
      "Warning message:\n",
      "“unidentified option(s) in fit.control:\n",
      " eval.se”\n",
      "Warning message:\n",
      "“unidentified option(s) in fit.control:\n",
      " eval.se”\n",
      "Warning message:\n",
      "“unidentified option(s) in fit.control:\n",
      " eval.se”\n",
      "Warning message:\n",
      "“unidentified option(s) in fit.control:\n",
      " eval.se”\n",
      "Warning message:\n",
      "“unidentified option(s) in fit.control:\n",
      " eval.se”\n",
      "Warning message:\n",
      "“unidentified option(s) in fit.control:\n",
      " eval.se”\n",
      "Warning message:\n",
      "“unidentified option(s) in fit.control:\n",
      " eval.se”\n",
      "Warning message:\n",
      "“unidentified option(s) in fit.control:\n",
      " eval.se”\n",
      "Warning message:\n",
      "“unidentified option(s) in fit.control:\n",
      " eval.se”\n",
      "Warning message:\n",
      "“unidentified option(s) in fit.control:\n",
      " eval.se”\n"
     ]
    }
   ],
   "source": [
    "cl = makePSOCKcluster(8)\n",
    "roll <- dccroll(spec = spec1, data = xts_etfs[,2:11], forecast.length = 1, n.ahead=1, refit.every = 1,\n",
    "               refit.window = \"recursive\")\n",
    "\n",
    "#,             fit.control = list(eval.se = TRUE, stationarity = TRUE, scale = FALSE))\n",
    "stopCluster(cl)"
   ]
  },
  {
   "cell_type": "code",
   "execution_count": 99,
   "metadata": {
    "tags": []
   },
   "outputs": [
    {
     "name": "stdout",
     "output_type": "stream",
     "text": [
      "\u001b[90m# A tibble: 25 × 56\u001b[39m\n",
      "    Date   EEM `EWZ:EEM` `FXI:EEM` `GDX:EEM` `HYG:EEM` `SLV:EEM` `SPY:EEM`\n",
      "   \u001b[3m\u001b[90m<dbl>\u001b[39m\u001b[23m \u001b[3m\u001b[90m<dbl>\u001b[39m\u001b[23m     \u001b[3m\u001b[90m<dbl>\u001b[39m\u001b[23m     \u001b[3m\u001b[90m<dbl>\u001b[39m\u001b[23m     \u001b[3m\u001b[90m<dbl>\u001b[39m\u001b[23m     \u001b[3m\u001b[90m<dbl>\u001b[39m\u001b[23m     \u001b[3m\u001b[90m<dbl>\u001b[39m\u001b[23m     \u001b[3m\u001b[90m<dbl>\u001b[39m\u001b[23m\n",
      "\u001b[90m 1\u001b[39m     1 1.62       1.91      2.53     0.670     0.217     0.619     0.524\n",
      "\u001b[90m 2\u001b[39m     2 1.46       1.73      2.30     0.615     0.195     0.567     0.492\n",
      "\u001b[90m 3\u001b[39m     3 1.29       1.57      2.06     0.581     0.179     0.529     0.457\n",
      "\u001b[90m 4\u001b[39m     4 1.25       1.45      1.94     0.642     0.167     0.624     0.412\n",
      "\u001b[90m 5\u001b[39m     5 1.12       1.31      1.81     0.610     0.156     0.627     0.366\n",
      "\u001b[90m 6\u001b[39m     6 1.01       1.19      1.64     0.566     0.146     0.574     0.327\n",
      "\u001b[90m 7\u001b[39m     7 0.917      1.08      1.49     0.548     0.135     0.538     0.299\n",
      "\u001b[90m 8\u001b[39m     8 0.935      1.12      1.48     0.565     0.129     0.555     0.289\n",
      "\u001b[90m 9\u001b[39m     9 0.859      1.02      1.35     0.534     0.122     0.529     0.267\n",
      "\u001b[90m10\u001b[39m    10 0.893      1.08      1.37     0.532     0.116     0.510     0.262\n",
      "\u001b[90m# … with 15 more rows, and 48 more variables: TLT:EEM <dbl>, XLF:EEM <dbl>,\u001b[39m\n",
      "\u001b[90m#   XLU:EEM <dbl>, EWZ <dbl>, FXI:EWZ <dbl>, GDX:EWZ <dbl>, HYG:EWZ <dbl>,\u001b[39m\n",
      "\u001b[90m#   SLV:EWZ <dbl>, SPY:EWZ <dbl>, TLT:EWZ <dbl>, XLF:EWZ <dbl>, XLU:EWZ <dbl>,\u001b[39m\n",
      "\u001b[90m#   FXI <dbl>, GDX:FXI <dbl>, HYG:FXI <dbl>, SLV:FXI <dbl>, SPY:FXI <dbl>,\u001b[39m\n",
      "\u001b[90m#   TLT:FXI <dbl>, XLF:FXI <dbl>, XLU:FXI <dbl>, GDX <dbl>, HYG:GDX <dbl>,\u001b[39m\n",
      "\u001b[90m#   SLV:GDX <dbl>, SPY:GDX <dbl>, TLT:GDX <dbl>, XLF:GDX <dbl>, XLU:GDX <dbl>,\u001b[39m\n",
      "\u001b[90m#   HYG <dbl>, SLV:HYG <dbl>, SPY:HYG <dbl>, TLT:HYG <dbl>, XLF:HYG <dbl>, …\u001b[39m\n"
     ]
    }
   ],
   "source": [
    "data <- as_tibble(rcov(roll, output=\"matrix\")) %>%\n",
    "        mutate(Date = seq.int(1, nrow(rcov(roll, output=\"matrix\")), 1), .before=EEM) \n",
    "\n",
    "print(data)"
   ]
  },
  {
   "cell_type": "code",
   "execution_count": null,
   "metadata": {},
   "outputs": [],
   "source": [
    "data %>% ggplot(aes(x = Date)) +\n",
    "geom_line(color = Series) +\n",
    "# Add a second axis and specify its features\n",
    "labs(\n",
    "  title=\"Macroeconomic indicators\",\n",
    "  x = \"Year\",\n",
    "  y = \"Count\")\n",
    "\n",
    "\n",
    "#rcov(roll, output=\"matrix\")"
   ]
  }
 ],
 "metadata": {
  "kernelspec": {
   "display_name": "R",
   "language": "R",
   "name": "ir"
  },
  "language_info": {
   "codemirror_mode": "r",
   "file_extension": ".r",
   "mimetype": "text/x-r-source",
   "name": "R",
   "pygments_lexer": "r",
   "version": "4.0.3"
  }
 },
 "nbformat": 4,
 "nbformat_minor": 4
}
