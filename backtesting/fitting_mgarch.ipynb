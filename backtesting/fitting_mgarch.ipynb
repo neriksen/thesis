{
 "cells": [
  {
   "cell_type": "markdown",
   "metadata": {},
   "source": [
    "### Fitting DCC GARCH model using R - switch kernel"
   ]
  },
  {
   "cell_type": "code",
   "execution_count": null,
   "metadata": {
    "tags": []
   },
   "outputs": [],
   "source": [
    "#install.packages(\"rmgarch\")\n",
    "suppressMessages(library(rmgarch))\n",
    "suppressMessages(library(parallel))\n",
    "suppressMessages(library(quantmod))\n",
    "suppressMessages(library(tidyverse))\n",
    "suppressMessages(library(xts))\n",
    "suppressMessages(library(ggplot2))\n",
    "suppressMessages(library(reshape2))"
   ]
  },
  {
   "cell_type": "code",
   "execution_count": null,
   "metadata": {},
   "outputs": [],
   "source": [
    "etfs <- read.csv(\"../data/return_data.csv\", sep=\";\")"
   ]
  },
  {
   "cell_type": "code",
   "execution_count": null,
   "metadata": {},
   "outputs": [],
   "source": [
    "#etfs <- etfs %>% select(-Date)\n",
    "etfs <- etfs %>% mutate(Date=as.Date(Date, format = \"%Y-%m-%d\"))"
   ]
  },
  {
   "cell_type": "markdown",
   "metadata": {},
   "source": [
    "### Converting dataset to xts"
   ]
  },
  {
   "cell_type": "code",
   "execution_count": null,
   "metadata": {},
   "outputs": [],
   "source": [
    "xts_etfs <- xts(etfs, order.by = etfs[,1])"
   ]
  },
  {
   "cell_type": "code",
   "execution_count": null,
   "metadata": {},
   "outputs": [],
   "source": [
    "# garch models: sGARCH, eGARCH, gjrGARCH\n",
    "# garch order: 1,1 - 1,0\n",
    "# distribution model: std\n",
    "\n",
    "# (sGARCH, 1,0), (sGARCH. 1, 1), (gjrGARCH, 1, 1), (eGARCH, 1, 1)"
   ]
  },
  {
   "cell_type": "code",
   "execution_count": null,
   "metadata": {},
   "outputs": [],
   "source": [
    "(xts_etfs)"
   ]
  },
  {
   "cell_type": "code",
   "execution_count": null,
   "metadata": {
    "tags": []
   },
   "outputs": [],
   "source": [
    "xspec = ugarchspec(mean.model = list(armaOrder = c(0, 0)), variance.model = list(garchOrder = c(1,1), model = 'sGARCH'), distribution.model = 'std')\n",
    "uspec = multispec(replicate(ncol(xts_etfs)-1, xspec))\n",
    "spec1 = dccspec(uspec = uspec, dccOrder = c(1, 1), distribution = 'mvt')\n",
    "cl = makePSOCKcluster(4)\n",
    "multf = multifit(uspec, xts_etfs[,2:ncol(xts_etfs)], cluster = cl)\n",
    "fit1 = dccfit(spec1, data = xts_etfs[,2:ncol(xts_etfs)], fit.control = list(eval.se = TRUE), fit = multf, cluster = cl)\n",
    "print(fit1)           \n",
    "stopCluster(cl)"
   ]
  },
  {
   "cell_type": "code",
   "execution_count": null,
   "metadata": {},
   "outputs": [],
   "source": [
    "data.frame(lapply(coef(fit1), type.convert), stringsAsFactors=FALSE) %>% write.csv(\"garch_params.csv\")"
   ]
  },
  {
   "cell_type": "code",
   "execution_count": null,
   "metadata": {},
   "outputs": [],
   "source": [
    "last_Omega <- tail(rcov(fit1, output=\"matrix\"), 1)"
   ]
  },
  {
   "cell_type": "code",
   "execution_count": null,
   "metadata": {
    "tags": []
   },
   "outputs": [],
   "source": [
    "tail(rcov(fit1, output=\"matrix\"), 1) %>% write.csv('Omega_t.csv')"
   ]
  },
  {
   "cell_type": "code",
   "execution_count": null,
   "metadata": {},
   "outputs": [],
   "source": [
    "d <- matrix(last_Omega, nrow = 4, byrow = TRUE)"
   ]
  },
  {
   "cell_type": "code",
   "execution_count": null,
   "metadata": {},
   "outputs": [],
   "source": [
    "mat <- matrix(0, nrow = 4, ncol = 4)\n",
    "mat[upper.tri(mat, diag = TRUE)] <- last_Omega"
   ]
  },
  {
   "cell_type": "code",
   "execution_count": null,
   "metadata": {},
   "outputs": [],
   "source": [
    "mat"
   ]
  },
  {
   "cell_type": "code",
   "execution_count": null,
   "metadata": {},
   "outputs": [],
   "source": [
    "#coef(fit1) %>% write.csv('coef.csv')\n",
    "#install.packages(\"gmvarkit\")\n",
    "library(gmvarkit)"
   ]
  },
  {
   "cell_type": "code",
   "execution_count": null,
   "metadata": {},
   "outputs": [],
   "source": [
    "etf_forecast <- dccforecast(fit1, n.ahead=1)"
   ]
  },
  {
   "cell_type": "code",
   "execution_count": null,
   "metadata": {},
   "outputs": [],
   "source": [
    "rcov(etf_forecast, output=\"matrix\")"
   ]
  },
  {
   "cell_type": "code",
   "execution_count": null,
   "metadata": {},
   "outputs": [],
   "source": [
    "rcov(etf_forecast, output=\"matrix\")"
   ]
  },
  {
   "cell_type": "code",
   "execution_count": null,
   "metadata": {},
   "outputs": [],
   "source": [
    "etf_forecast"
   ]
  },
  {
   "cell_type": "markdown",
   "metadata": {},
   "source": [
    "### Using DCC-roll to forecast"
   ]
  },
  {
   "cell_type": "code",
   "execution_count": null,
   "metadata": {
    "tags": []
   },
   "outputs": [],
   "source": [
    "cl = makePSOCKcluster(8)\n",
    "roll <- dccroll(spec = spec1, data = xts_etfs[,2:11], forecast.length = 1, n.ahead=1, refit.every = 1,\n",
    "               refit.window = \"recursive\")\n",
    "\n",
    "#,             fit.control = list(eval.se = TRUE, stationarity = TRUE, scale = FALSE))\n",
    "stopCluster(cl)"
   ]
  },
  {
   "cell_type": "code",
   "execution_count": null,
   "metadata": {
    "tags": []
   },
   "outputs": [],
   "source": [
    "data <- as_tibble(rcov(roll, output=\"matrix\")) %>%\n",
    "        mutate(Date = seq.int(1, nrow(rcov(roll, output=\"matrix\")), 1), .before=EEM) \n",
    "\n",
    "print(data)"
   ]
  },
  {
   "cell_type": "code",
   "execution_count": null,
   "metadata": {},
   "outputs": [],
   "source": [
    "data %>% ggplot(aes(x = Date)) +\n",
    "geom_line(color = Series) +\n",
    "# Add a second axis and specify its features\n",
    "labs(\n",
    "  title=\"Macroeconomic indicators\",\n",
    "  x = \"Year\",\n",
    "  y = \"Count\")\n",
    "\n",
    "\n",
    "#rcov(roll, output=\"matrix\")"
   ]
  }
 ],
 "metadata": {
  "kernelspec": {
   "display_name": "R",
   "language": "R",
   "name": "ir"
  },
  "language_info": {
   "codemirror_mode": "r",
   "file_extension": ".r",
   "mimetype": "text/x-r-source",
   "name": "R",
   "pygments_lexer": "r",
   "version": "4.0.3"
  }
 },
 "nbformat": 4,
 "nbformat_minor": 4
}
