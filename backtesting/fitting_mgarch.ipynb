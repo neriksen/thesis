{
 "cells": [
  {
   "cell_type": "markdown",
   "metadata": {},
   "source": [
    "### Fitting DCC GARCH model using R - switch kernel"
   ]
  },
  {
   "cell_type": "code",
   "execution_count": 19,
   "metadata": {
    "collapsed": true,
    "jupyter": {
     "outputs_hidden": true
    },
    "tags": []
   },
   "outputs": [
    {
     "name": "stderr",
     "output_type": "stream",
     "text": [
      "Found more than one class \"atomicVector\" in cache; using the first, from namespace 'Matrix'\n",
      "\n",
      "Also defined by ‘Rmpfr’\n",
      "\n",
      "Found more than one class \"atomicVector\" in cache; using the first, from namespace 'Matrix'\n",
      "\n",
      "Also defined by ‘Rmpfr’\n",
      "\n",
      "Found more than one class \"atomicVector\" in cache; using the first, from namespace 'Matrix'\n",
      "\n",
      "Also defined by ‘Rmpfr’\n",
      "\n",
      "Found more than one class \"atomicVector\" in cache; using the first, from namespace 'Matrix'\n",
      "\n",
      "Also defined by ‘Rmpfr’\n",
      "\n",
      "Found more than one class \"atomicVector\" in cache; using the first, from namespace 'Matrix'\n",
      "\n",
      "Also defined by ‘Rmpfr’\n",
      "\n",
      "Found more than one class \"atomicVector\" in cache; using the first, from namespace 'Matrix'\n",
      "\n",
      "Also defined by ‘Rmpfr’\n",
      "\n",
      "Found more than one class \"atomicVector\" in cache; using the first, from namespace 'Matrix'\n",
      "\n",
      "Also defined by ‘Rmpfr’\n",
      "\n",
      "Found more than one class \"atomicVector\" in cache; using the first, from namespace 'Matrix'\n",
      "\n",
      "Also defined by ‘Rmpfr’\n",
      "\n",
      "Found more than one class \"atomicVector\" in cache; using the first, from namespace 'Matrix'\n",
      "\n",
      "Also defined by ‘Rmpfr’\n",
      "\n",
      "Found more than one class \"atomicVector\" in cache; using the first, from namespace 'Matrix'\n",
      "\n",
      "Also defined by ‘Rmpfr’\n",
      "\n",
      "Found more than one class \"atomicVector\" in cache; using the first, from namespace 'Matrix'\n",
      "\n",
      "Also defined by ‘Rmpfr’\n",
      "\n",
      "Found more than one class \"atomicVector\" in cache; using the first, from namespace 'Matrix'\n",
      "\n",
      "Also defined by ‘Rmpfr’\n",
      "\n",
      "── \u001b[1mAttaching packages\u001b[22m ───────────────────────────────────────────────────────────────────────────────────────────────────────────────────────────────── tidyverse 1.3.1 ──\n",
      "\n",
      "\u001b[32m✔\u001b[39m \u001b[34mggplot2\u001b[39m 3.3.5     \u001b[32m✔\u001b[39m \u001b[34mpurrr  \u001b[39m 0.3.4\n",
      "\u001b[32m✔\u001b[39m \u001b[34mtibble \u001b[39m 3.1.4     \u001b[32m✔\u001b[39m \u001b[34mstringr\u001b[39m 1.4.0\n",
      "\u001b[32m✔\u001b[39m \u001b[34mtidyr  \u001b[39m 1.1.3     \u001b[32m✔\u001b[39m \u001b[34mforcats\u001b[39m 0.5.1\n",
      "\u001b[32m✔\u001b[39m \u001b[34mreadr  \u001b[39m 2.0.1     \n",
      "\n",
      "── \u001b[1mConflicts\u001b[22m ──────────────────────────────────────────────────────────────────────────────────────────────────────────────────────────────────── tidyverse_conflicts() ──\n",
      "\u001b[31m✖\u001b[39m \u001b[34mdplyr\u001b[39m::\u001b[32mfilter()\u001b[39m masks \u001b[34mstats\u001b[39m::filter()\n",
      "\u001b[31m✖\u001b[39m \u001b[34mxts\u001b[39m::\u001b[32mfirst()\u001b[39m    masks \u001b[34mrmgarch\u001b[39m::first(), \u001b[34mdplyr\u001b[39m::first()\n",
      "\u001b[31m✖\u001b[39m \u001b[34mdplyr\u001b[39m::\u001b[32mlag()\u001b[39m    masks \u001b[34mstats\u001b[39m::lag()\n",
      "\u001b[31m✖\u001b[39m \u001b[34mxts\u001b[39m::\u001b[32mlast()\u001b[39m     masks \u001b[34mrmgarch\u001b[39m::last(), \u001b[34mdplyr\u001b[39m::last()\n",
      "\u001b[31m✖\u001b[39m \u001b[34mpurrr\u001b[39m::\u001b[32mreduce()\u001b[39m masks \u001b[34mrugarch\u001b[39m::reduce()\n",
      "\n"
     ]
    }
   ],
   "source": [
    "#install.packages(\"rmgarch\")\n",
    "library(rmgarch)\n",
    "library(parallel)\n",
    "library(quantmod)\n",
    "library(tidyverse)"
   ]
  },
  {
   "cell_type": "code",
   "execution_count": 58,
   "metadata": {},
   "outputs": [],
   "source": [
    "etfs <- read.csv(\"etfs.csv\", sep=\";\")"
   ]
  },
  {
   "cell_type": "code",
   "execution_count": 66,
   "metadata": {},
   "outputs": [],
   "source": [
    "etfs <- etfs %>% select(-Date)"
   ]
  },
  {
   "cell_type": "code",
   "execution_count": 80,
   "metadata": {
    "tags": []
   },
   "outputs": [
    {
     "name": "stdout",
     "output_type": "stream",
     "text": [
      "\n",
      "*---------------------------------*\n",
      "*          DCC GARCH Fit          *\n",
      "*---------------------------------*\n",
      "\n",
      "Distribution         :  mvnorm\n",
      "Model                :  DCC(1,1)\n",
      "No. Parameters       :  87\n",
      "[VAR GARCH DCC UncQ] : [0+40+2+45]\n",
      "No. Series           :  10\n",
      "No. Obs.             :  2013\n",
      "Log-Likelihood       :  52130\n",
      "Av.Log-Likelihood    :  25.9 \n",
      "\n",
      "Optimal Parameters\n",
      "-----------------------------------\n",
      "              Estimate  Std. Error   t value Pr(>|t|)\n",
      "[EEM].mu      1.015967    0.003652 278.19648 0.000000\n",
      "[EEM].omega   0.000096    0.000017   5.62834 0.000000\n",
      "[EEM].alpha1  0.914192    0.047830  19.11356 0.000000\n",
      "[EEM].beta1   0.080662    0.047361   1.70314 0.088542\n",
      "[EWZ].mu      0.771049    0.003956 194.89626 0.000000\n",
      "[EWZ].omega   0.000148    0.000032   4.68471 0.000003\n",
      "[EWZ].alpha1  0.966533    0.050653  19.08140 0.000000\n",
      "[EWZ].beta1   0.032458    0.048343   0.67142 0.501955\n",
      "[FXI].mu      1.037708    0.003556 291.81284 0.000000\n",
      "[FXI].omega   0.000096    0.000022   4.36634 0.000013\n",
      "[FXI].alpha1  0.792563    0.077012  10.29137 0.000000\n",
      "[FXI].beta1   0.206437    0.074238   2.78076 0.005423\n",
      "[GDX].mu      0.376977    0.001246 302.60194 0.000000\n",
      "[GDX].omega   0.000034    0.000010   3.35541 0.000792\n",
      "[GDX].alpha1  0.852692    0.063589  13.40952 0.000000\n",
      "[GDX].beta1   0.140308    0.065086   2.15572 0.031106\n",
      "[HYG].mu      1.273711    0.003928 324.25868 0.000000\n",
      "[HYG].omega   0.000018    0.000004   4.56596 0.000005\n",
      "[HYG].alpha1  0.979888    0.050141  19.54257 0.000000\n",
      "[HYG].beta1   0.013477    0.050847   0.26505 0.790970\n",
      "[SLV].mu      0.386162    0.000813 474.84226 0.000000\n",
      "[SLV].omega   0.000016    0.000002  10.44179 0.000000\n",
      "[SLV].alpha1  0.933174    0.071925  12.97431 0.000000\n",
      "[SLV].beta1   0.065825    0.063105   1.04311 0.296897\n",
      "[SPY].mu      1.854035    0.003082 601.49548 0.000000\n",
      "[SPY].omega   0.000133    0.000026   5.16722 0.000000\n",
      "[SPY].alpha1  0.909526    0.065011  13.99043 0.000000\n",
      "[SPY].beta1   0.084471    0.052154   1.61964 0.105310\n",
      "[TLT].mu      1.315418    0.006200 212.16402 0.000000\n",
      "[TLT].omega   0.000076    0.000016   4.62631 0.000004\n",
      "[TLT].alpha1  0.966076    0.055257  17.48330 0.000000\n",
      "[TLT].beta1   0.032923    0.055250   0.59590 0.551244\n",
      "[XLF].mu      1.931212    0.004771 404.79169 0.000000\n",
      "[XLF].omega   0.000109    0.000037   2.90360 0.003689\n",
      "[XLF].alpha1  0.689906    0.076667   8.99874 0.000000\n",
      "[XLF].beta1   0.309094    0.072726   4.25010 0.000021\n",
      "[XLU].mu      1.511262    0.005092 296.79891 0.000000\n",
      "[XLU].omega   0.000141    0.000047   3.01773 0.002547\n",
      "[XLU].alpha1  0.829315    0.109174   7.59625 0.000000\n",
      "[XLU].beta1   0.168467    0.110584   1.52343 0.127651\n",
      "[Joint]dcca1  0.139122    0.007861  17.69751 0.000000\n",
      "[Joint]dccb1  0.860513    0.007925 108.58373 0.000000\n",
      "\n",
      "Information Criteria\n",
      "---------------------\n",
      "                    \n",
      "Akaike       -51.707\n",
      "Bayes        -51.465\n",
      "Shibata      -51.710\n",
      "Hannan-Quinn -51.618\n",
      "\n",
      "\n",
      "Elapsed time : 9.72409 \n",
      "\n"
     ]
    }
   ],
   "source": [
    "xspec = ugarchspec(mean.model = list(armaOrder = c(0, 0)), variance.model = list(garchOrder = c(1,1), model = 'sGARCH'), distribution.model = 'norm')\n",
    "uspec = multispec(replicate(10, xspec))\n",
    "spec1 = dccspec(uspec = uspec, dccOrder = c(1, 1), distribution = 'mvnorm')\n",
    "cl = makePSOCKcluster(4)\n",
    "multf = multifit(uspec, etfs, cluster = cl)\n",
    "fit1 = dccfit(spec1, data = etfs, fit.control = list(eval.se = TRUE), fit = multf, cluster = cl)\n",
    "print(fit1)           \n",
    "stopCluster(cl)"
   ]
  },
  {
   "cell_type": "code",
   "execution_count": 81,
   "metadata": {},
   "outputs": [],
   "source": [
    "#coef(fit1) %>% write.csv('coef.csv')"
   ]
  }
 ],
 "metadata": {
  "kernelspec": {
   "display_name": "R",
   "language": "R",
   "name": "ir"
  },
  "language_info": {
   "codemirror_mode": "r",
   "file_extension": ".r",
   "mimetype": "text/x-r-source",
   "name": "R",
   "pygments_lexer": "r",
   "version": "4.0.3"
  }
 },
 "nbformat": 4,
 "nbformat_minor": 4
}
