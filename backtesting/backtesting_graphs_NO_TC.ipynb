{
 "cells": [
  {
   "cell_type": "code",
   "execution_count": null,
   "metadata": {},
   "outputs": [],
   "source": [
    "import sys\n",
    "sys.path.append(\"utils\")\n",
    "import dynamic_backtesting as db\n",
    "import compare_strategies as cs\n",
    "import matplotlib.pyplot as plt\n",
    "import pandas as pd\n",
    "import matplotlib\n",
    "plt.style.use('seaborn')\n",
    "matplotlib.rcParams['axes.prop_cycle'] = matplotlib.cycler(color=[\"grey\", \"green\", \"black\", \"deepskyblue\", \"orange\", \"lime\", \"purple\", \"Gold\", \"brown\", \"blue\", \"pink\"]) "
   ]
  },
  {
   "cell_type": "code",
   "execution_count": null,
   "metadata": {},
   "outputs": [],
   "source": [
    "assets = {\"EEM\": \"Emerging Markets\",\n",
    "           \"IVV\": \"S&P 500\",\n",
    "           \"IEV\": \"MSCI Europe\",\n",
    "           \"IXN\": \"Global Tech\",\n",
    "           \"IYR\": \"US Real Estate\",\n",
    "           \"IXG\": \"Global Financials\",\n",
    "           \"EXI\": \"Global Industrials\",\n",
    "           \"GC=F\": \"Gold Futures\", \n",
    "           \"BZ=F\": \"Brent Crude Oil Futures\",\n",
    "           \"HYG\": \"High-Yield Corporate Bonds\",\n",
    "           \"TLT\": \"20+ Year Treasury Bonds\"}\n",
    "tickers = list(assets.keys())\n",
    "stocks = tickers[:7]\n",
    "commodities = tickers[7:9]\n",
    "bonds = tickers[9:]"
   ]
  },
  {
   "cell_type": "markdown",
   "metadata": {},
   "source": [
    "**Finder vægter for de tre typer UGARCH modeller**"
   ]
  },
  {
   "cell_type": "code",
   "execution_count": null,
   "metadata": {},
   "outputs": [],
   "source": [
    "v_t_ARCH, out_of_sample_s_ARCH, in_sample_s_ARCH, Omega_t_ARCH = db.garch_no_trading_cost(tickers, number_of_out_of_sample_days=4*250, model_type=\"sGARCH10\")\n",
    "v_t_GARCH, out_of_sample_s_GARCH, in_sample_s_GARCH,Omega_t_GARCH = db.garch_no_trading_cost(tickers, number_of_out_of_sample_days=4*250, model_type=\"sGARCH11\")\n",
    "v_t_GJR, out_of_sample_s_GJR, in_sample_s_GJR, Omega_t_GJR = db.garch_no_trading_cost(tickers, number_of_out_of_sample_days=4*250, model_type=\"gjrGARCH11\")"
   ]
  },
  {
   "cell_type": "markdown",
   "metadata": {},
   "source": [
    "**Udregner performance**"
   ]
  },
  {
   "cell_type": "code",
   "execution_count": null,
   "metadata": {},
   "outputs": [],
   "source": [
    "res_ARCH, perf_table_ARCH = cs.performance_table(v_t_ARCH, out_of_sample_s_ARCH,Omega_t_ARCH,portfolio_value=1e9)\n",
    "res_GARCH, perf_table_GARCH = cs.performance_table(v_t_GARCH, out_of_sample_s_GARCH,Omega_t_GARCH,portfolio_value=1e9)\n",
    "res_GJR, perf_table_GJR = cs.performance_table(v_t_GJR, out_of_sample_s_GJR,Omega_t_GJR,portfolio_value=1e9)"
   ]
  },
  {
   "cell_type": "markdown",
   "metadata": {},
   "source": [
    "**Sammensætter til en tabel**"
   ]
  },
  {
   "cell_type": "code",
   "execution_count": null,
   "metadata": {},
   "outputs": [],
   "source": [
    "#No trading cost first\n",
    "perf_table=perf_table_ARCH.iloc[0:1,]\n",
    "perf_table=perf_table.rename(index={'GARCH':'ARCH(1)'})\n",
    "perf_table=perf_table.append(perf_table_GARCH.iloc[0,])\n",
    "perf_table=perf_table.rename(index={'GARCH':'GARCH(1,1)'})\n",
    "perf_table=perf_table.append(perf_table_GJR.iloc[0,])\n",
    "perf_table=perf_table.rename(index={'GARCH':'GJR-GARCH(1,1)'})\n",
    "perf_table=perf_table.append(perf_table_GJR.iloc[2,])\n",
    "perf_table=perf_table.append(perf_table_GJR.iloc[1,])\n",
    "perf_table=perf_table.rename(index={'BnH':'Buy and hold','Equal_weight':'Equal weight'})\n",
    "#Trading cost\n",
    "perf_table=perf_table.append(perf_table_ARCH.iloc[3,])\n",
    "perf_table=perf_table.rename(index={'GARCH TC':'ARCH(1) TC'})\n",
    "perf_table=perf_table.append(perf_table_GARCH.iloc[3,])\n",
    "perf_table=perf_table.rename(index={'GARCH TC':'GARCH(1,1) TC'})\n",
    "perf_table=perf_table.append(perf_table_GJR.iloc[3,])\n",
    "perf_table=perf_table.rename(index={'GARCH TC':'GJR-GARCH(1,1) TC'})\n",
    "perf_table=perf_table.append(perf_table_GJR.iloc[4,])\n",
    "perf_table=perf_table.append(perf_table_GJR.iloc[5,])\n",
    "perf_table=perf_table.rename(index={'BnH TC':'Buy and hold TC','Equal_weight TC':'Equal weight TC'})\n",
    "print(perf_table.round(4).to_latex())\n"
   ]
  },
  {
   "cell_type": "markdown",
   "metadata": {},
   "source": [
    "**Laver en tabel af afkast**"
   ]
  },
  {
   "cell_type": "code",
   "execution_count": null,
   "metadata": {},
   "outputs": [],
   "source": [
    "res=res_ARCH.drop(columns=['GARCH TC','Equal_weight', 'BnH','Equal_weight TC','BnH TC']).rename(columns={'GARCH':'ARCH(1)'})\n",
    "res[\"GARCH(1,1)\"]=res_GARCH[\"GARCH\"]\n",
    "res[\"GJR-GARCH(1,1)\"]=res_GJR[\"GARCH\"]\n",
    "res[\"Equal weight\"]=res_GJR[\"Equal_weight\"]\n",
    "res[\"Buy and hold\"]=res_GJR[\"BnH\"]\n",
    "\n",
    "res_TC=res_ARCH.drop(columns=['GARCH','Equal_weight', 'BnH','Equal_weight TC','BnH TC']).rename(columns={'GARCH TC':'ARCH(1)'})\n",
    "res_TC[\"GARCH(1,1)\"]=res_GARCH[\"GARCH TC\"]\n",
    "res_TC[\"GJR-GARCH(1,1)\"]=res_GJR[\"GARCH TC\"]\n",
    "res_TC[\"Equal weight\"]=res_GJR[\"Equal_weight TC\"]\n",
    "res_TC[\"Buy and hold\"]=res_GJR[\"BnH TC\"]"
   ]
  },
  {
   "cell_type": "markdown",
   "metadata": {},
   "source": [
    "**Laver figurer**"
   ]
  },
  {
   "cell_type": "code",
   "execution_count": null,
   "metadata": {},
   "outputs": [],
   "source": [
    "fig, ax = plt.subplots(1, 1, figsize=(9,7), dpi=190)\n",
    "ax.plot(res,label=res.columns,linewidth=1)\n",
    "ax.margins(0,0.05)\n",
    "ax.legend(res.columns)\n",
    "ax.xaxis.set_major_locator(plt.MaxNLocator(6))\n",
    "ax.set_ylabel('Gross Return',loc='top', rotation = 0, labelpad = -88) \n",
    "#fig.savefig(\"Backtesting\\output\\Performance_no_TC_before.png\", bbox_inches = 'tight', pad_inches = 0.1)\n",
    "fig.savefig(\"Performance_no_TC_before.png\", bbox_inches = 'tight', pad_inches = 0.1)\n"
   ]
  },
  {
   "cell_type": "code",
   "execution_count": null,
   "metadata": {},
   "outputs": [],
   "source": [
    "fig, ax = plt.subplots(1, 1, figsize=(9,7), dpi=190)\n",
    "ax.plot(res_TC,label=res_TC.columns,linewidth=1)\n",
    "ax.margins(0,0.05)\n",
    "ax.legend(res_TC.columns)\n",
    "ax.xaxis.set_major_locator(plt.MaxNLocator(6))\n",
    "ax.set_ylabel('Net Return',loc='top', rotation = 0, labelpad = -75) \n",
    "#fig.savefig(\"Backtesting\\output\\Performance_no_TC_after.png\", bbox_inches = 'tight', pad_inches = 0.1)\n",
    "fig.savefig(\"Performance_no_TC_after.png\", bbox_inches = 'tight', pad_inches = 0.1)"
   ]
  },
  {
   "cell_type": "code",
   "execution_count": null,
   "metadata": {},
   "outputs": [],
   "source": [
    "fig, ax = plt.subplots(1, 1, figsize=(9,7), dpi=190)\n",
    "ax.plot(v_t_ARCH,linewidth=0.8)\n",
    "ax.set_ylim(-0.15,1.1)\n",
    "ax.legend(assets.values(),ncol=3,loc=\"upper left\")\n",
    "ax.xaxis.set_major_locator(plt.MaxNLocator(6))\n",
    "ax.set_ylabel('Weight, $v_t$',loc='top', rotation = 0, labelpad = -78) \n",
    "fig.savefig(\"ARCH_weight_NO_TC.png\", bbox_inches = 'tight', pad_inches = 0.1)"
   ]
  },
  {
   "cell_type": "code",
   "execution_count": null,
   "metadata": {},
   "outputs": [],
   "source": [
    "fig, ax = plt.subplots(1, 1, figsize=(9,7), dpi=190)\n",
    "ax.plot(v_t_GARCH,linewidth=0.8)\n",
    "ax.set_ylim(-0.15,1.2)\n",
    "ax.legend(assets.values(),ncol=3,loc=\"upper left\")\n",
    "ax.xaxis.set_major_locator(plt.MaxNLocator(6))\n",
    "ax.set_ylabel('Weight, $v_t$',loc='top', rotation = 0, labelpad = -78) \n",
    "fig.savefig(\"GARCH_weight_NO_TC.png\", bbox_inches = 'tight', pad_inches = 0.1)"
   ]
  },
  {
   "cell_type": "code",
   "execution_count": null,
   "metadata": {},
   "outputs": [],
   "source": [
    "fig, ax = plt.subplots(1, 1, figsize=(9,7), dpi=190)\n",
    "ax.plot(v_t_GJR,linewidth=0.8)\n",
    "ax.set_ylim(-0.15,1.2)\n",
    "ax.legend(assets.values(),ncol=3,loc=\"upper left\")\n",
    "ax.xaxis.set_major_locator(plt.MaxNLocator(6))\n",
    "ax.set_ylabel('Weight, $v_t$',loc='top', rotation = 0, labelpad = -78) \n",
    "fig.savefig(\"GJRGARCH_weight_NO_TC.png\", bbox_inches = 'tight', pad_inches = 0.1)"
   ]
  },
  {
   "cell_type": "markdown",
   "metadata": {},
   "source": [
    "**Lets consider a subset of the ticker, Stocks**"
   ]
  },
  {
   "cell_type": "code",
   "execution_count": null,
   "metadata": {},
   "outputs": [],
   "source": [
    "v_t_ARCH_s, out_of_sample_s_ARCH_s, in_sample_s_ARCH_s, Omega_t_ARCH_s = db.garch_no_trading_cost(stocks, number_of_out_of_sample_days=4*250, model_type=\"sGARCH10\")\n",
    "v_t_GARCH_s, out_of_sample_s_GARCH_s, in_sample_s_GARCH_s,Omega_t_GARCH_s = db.garch_no_trading_cost(stocks, number_of_out_of_sample_days=4*250, model_type=\"sGARCH11\")\n",
    "v_t_GJR_s, out_of_sample_s_GJR_s, in_sample_s_GJR_s, Omega_t_GJR_s = db.garch_no_trading_cost(stocks, number_of_out_of_sample_days=4*250, model_type=\"gjrGARCH11\")"
   ]
  },
  {
   "cell_type": "code",
   "execution_count": null,
   "metadata": {},
   "outputs": [],
   "source": [
    "res_ARCH_s, perf_table_ARCH_s = cs.performance_table(v_t_ARCH_s, out_of_sample_s_ARCH_s,Omega_t_ARCH_s,portfolio_value=1e9)\n",
    "res_GARCH_s, perf_table_GARCH_s = cs.performance_table(v_t_GARCH_s, out_of_sample_s_GARCH_s,Omega_t_GARCH_s,portfolio_value=1e9)\n",
    "res_GJR_s, perf_table_GJR_s = cs.performance_table(v_t_GJR_s, out_of_sample_s_GJR_s,Omega_t_GJR_s,portfolio_value=1e9)"
   ]
  },
  {
   "cell_type": "code",
   "execution_count": null,
   "metadata": {},
   "outputs": [],
   "source": [
    "#No trading cost first\n",
    "perf_table_s=perf_table_ARCH_s.iloc[0:1,]\n",
    "perf_table_s=perf_table_s.rename(index={'GARCH':'ARCH(1)'})\n",
    "perf_table_s=perf_table_s.append(perf_table_GARCH_s.iloc[0,])\n",
    "perf_table_s=perf_table_s.rename(index={'GARCH':'GARCH(1,1)'})\n",
    "perf_table_s=perf_table_s.append(perf_table_GJR_s.iloc[0,])\n",
    "perf_table_s=perf_table_s.rename(index={'GARCH':'GJR-GARCH(1,1)'})\n",
    "perf_table_s=perf_table_s.append(perf_table_GJR_s.iloc[2,])\n",
    "perf_table_s=perf_table_s.append(perf_table_GJR_s.iloc[1,])\n",
    "perf_table_s=perf_table_s.rename(index={'BnH':'Buy and hold','Equal_weight':'Equal weight'})\n",
    "#Trading cost\n",
    "perf_table_s=perf_table_s.append(perf_table_ARCH_s.iloc[3,])\n",
    "perf_table_s=perf_table_s.rename(index={'GARCH TC':'ARCH(1) TC'})\n",
    "perf_table_s=perf_table_s.append(perf_table_GARCH_s.iloc[3,])\n",
    "perf_table_s=perf_table_s.rename(index={'GARCH TC':'GARCH(1,1) TC'})\n",
    "perf_table_s=perf_table_s.append(perf_table_GJR_s.iloc[3,])\n",
    "perf_table_s=perf_table_s.rename(index={'GARCH TC':'GJR-GARCH(1,1) TC'})\n",
    "perf_table_s=perf_table_s.append(perf_table_GJR_s.iloc[4,])\n",
    "perf_table_s=perf_table_s.append(perf_table_GJR_s.iloc[5,])\n",
    "perf_table_s=perf_table_s.rename(index={'BnH TC':'Buy and hold TC','Equal_weight TC':'Equal weight TC'})\n",
    "print(perf_table_s.round(4).to_latex())"
   ]
  },
  {
   "cell_type": "code",
   "execution_count": null,
   "metadata": {},
   "outputs": [],
   "source": [
    "res_s=res_ARCH_s.drop(columns=['GARCH TC','Equal_weight', 'BnH','Equal_weight TC','BnH TC']).rename(columns={'GARCH':'ARCH(1)'})\n",
    "res_s[\"GARCH(1,1)\"]=res_GARCH_s[\"GARCH\"]\n",
    "res_s[\"GJR-GARCH(1,1)\"]=res_GJR_s[\"GARCH\"]\n",
    "res_s[\"Equal weight\"]=res_GJR_s[\"Equal_weight\"]\n",
    "res_s[\"Buy and hold\"]=res_GJR_s[\"BnH\"]\n",
    "\n",
    "res_TC_s=res_ARCH_s.drop(columns=['GARCH','Equal_weight', 'BnH','Equal_weight TC','BnH TC']).rename(columns={'GARCH TC':'ARCH(1)'})\n",
    "res_TC_s[\"GARCH(1,1)\"]=res_GARCH_s[\"GARCH TC\"]\n",
    "res_TC_s[\"GJR-GARCH(1,1)\"]=res_GJR_s[\"GARCH TC\"]\n",
    "res_TC_s[\"Equal weight\"]=res_GJR_s[\"Equal_weight TC\"]\n",
    "res_TC_s[\"Buy and hold\"]=res_GJR_s[\"BnH TC\"]"
   ]
  },
  {
   "cell_type": "code",
   "execution_count": null,
   "metadata": {},
   "outputs": [],
   "source": [
    "fig, ax = plt.subplots(1, 1, figsize=(9,7), dpi=190)\n",
    "ax.plot(res_s,label=res_s.columns,linewidth=1)\n",
    "ax.margins(0,0.05)\n",
    "ax.legend(res_s.columns)\n",
    "ax.xaxis.set_major_locator(plt.MaxNLocator(6))\n",
    "ax.set_ylabel('Gross Return',loc='top', rotation = 0, labelpad = -88) \n",
    "#fig.savefig(\"Backtesting\\output\\Performance_no_TC.png\", bbox_inches = 'tight', pad_inches = 0.1)\n",
    "fig.savefig(\"Performance_no_TC_before_S.png\", bbox_inches = 'tight', pad_inches = 0.1)"
   ]
  },
  {
   "cell_type": "code",
   "execution_count": null,
   "metadata": {},
   "outputs": [],
   "source": [
    "fig, ax = plt.subplots(1, 1, figsize=(9,7), dpi=190)\n",
    "ax.plot(res_TC_s,label=res_TC_s.columns,linewidth=1)\n",
    "ax.margins(0,0.05)\n",
    "ax.legend(res_TC_s.columns)\n",
    "ax.xaxis.set_major_locator(plt.MaxNLocator(6))\n",
    "ax.set_ylabel('Net Return',loc='top', rotation = 0, labelpad = -75) \n",
    "#fig.savefig(\"Backtesting\\output\\Performance_no_TC.png\", bbox_inches = 'tight', pad_inches = 0.1)\n",
    "fig.savefig(\"Performance_no_TC_after_S.png\", bbox_inches = 'tight', pad_inches = 0.1)"
   ]
  },
  {
   "cell_type": "code",
   "execution_count": null,
   "metadata": {},
   "outputs": [],
   "source": [
    "fig, ax = plt.subplots(1, 1, figsize=(9,7), dpi=190)\n",
    "ax.plot(v_t_ARCH_s,linewidth=0.8)\n",
    "ax.set_ylim(-0.5,1.5)\n",
    "ax.legend(assets.values(),ncol=3,loc=\"upper left\")\n",
    "ax.xaxis.set_major_locator(plt.MaxNLocator(6))\n",
    "ax.set_ylabel('Weight, $v_t$',loc='top', rotation = 0, labelpad = -78) \n",
    "#fig.savefig(\"Backtesting\\output\\ARCH_weight_NO_TC_S.png\", bbox_inches = 'tight', pad_inches = 0.1)\n",
    "fig.savefig(\"ARCH_weight_NO_TC_S.png\", bbox_inches = 'tight', pad_inches = 0.1)"
   ]
  },
  {
   "cell_type": "code",
   "execution_count": null,
   "metadata": {},
   "outputs": [],
   "source": [
    "fig, ax = plt.subplots(1, 1, figsize=(9,7), dpi=190)\n",
    "ax.plot(v_t_GARCH_s,linewidth=0.8)\n",
    "ax.set_ylim(-0.5,1.4)\n",
    "ax.legend(assets.values(),ncol=3,loc=\"upper left\")\n",
    "ax.xaxis.set_major_locator(plt.MaxNLocator(6))\n",
    "ax.set_ylabel('Weight, $v_t$',loc='top', rotation = 0, labelpad = -78) \n",
    "#fig.savefig(\"Backtesting\\output\\GARCH_weight_NO_TC_S.png\", bbox_inches = 'tight', pad_inches = 0.1)\n",
    "fig.savefig(\"GARCH_weight_NO_TC_S.png\", bbox_inches = 'tight', pad_inches = 0.1)"
   ]
  },
  {
   "cell_type": "code",
   "execution_count": null,
   "metadata": {},
   "outputs": [],
   "source": [
    "fig, ax = plt.subplots(1, 1, figsize=(9,7), dpi=190)\n",
    "ax.plot(v_t_GJR_s,linewidth=0.8)\n",
    "ax.set_ylim(-0.5,1.5)\n",
    "ax.legend(assets.values(),ncol=3,loc=\"upper left\")\n",
    "ax.xaxis.set_major_locator(plt.MaxNLocator(6))\n",
    "ax.set_ylabel('Weight, $v_t$',loc='top', rotation = 0, labelpad = -78) \n",
    "#fig.savefig(\"Backtesting\\output\\GJRGARCH_weight_NO_TC_S.png\", bbox_inches = 'tight', pad_inches = 0.1)\n",
    "fig.savefig(\"GJRGARCH_weight_NO_TC_S.png\", bbox_inches = 'tight', pad_inches = 0.1)"
   ]
  },
  {
   "cell_type": "code",
   "execution_count": null,
   "metadata": {},
   "outputs": [],
   "source": []
  }
 ],
 "metadata": {
  "interpreter": {
   "hash": "035a4835455b69dd03d840b7a1daac0c5382153a24200b5f58c2216ec44fc40f"
  },
  "kernelspec": {
   "display_name": "Python 3.8.5 64-bit ('base': conda)",
   "name": "python3"
  },
  "language_info": {
   "codemirror_mode": {
    "name": "ipython",
    "version": 3
   },
   "file_extension": ".py",
   "mimetype": "text/x-python",
   "name": "python",
   "nbconvert_exporter": "python",
   "pygments_lexer": "ipython3",
   "version": "3.8.5"
  }
 },
 "nbformat": 4,
 "nbformat_minor": 4
}
