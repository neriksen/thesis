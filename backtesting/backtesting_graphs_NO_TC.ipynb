{
 "cells": [
  {
   "cell_type": "code",
   "execution_count": null,
   "metadata": {},
   "outputs": [],
   "source": [
    "import sys\n",
    "sys.path.append(\"utils\")\n",
    "import dynamic_backtesting as db\n",
    "import compare_strategies as cs\n",
    "import matplotlib.pyplot as plt\n",
    "import pandas as pd\n",
    "import matplotlib\n",
    "plt.style.use('seaborn')\n",
    "matplotlib.rcParams['axes.prop_cycle'] = matplotlib.cycler(color=[\"grey\", \"green\", \"black\", \"deepskyblue\", \"orange\", \"lime\", \"purple\", \"Gold\", \"brown\", \"blue\", \"pink\"]) "
   ]
  },
  {
   "cell_type": "code",
   "execution_count": null,
   "metadata": {},
   "outputs": [],
   "source": [
    "assets = {\"EEM\": \"Emerging Markets\",\n",
    "           \"IVV\": \"S&P 500\",\n",
    "           \"IEV\": \"MSCI Europe\",\n",
    "           \"IXN\": \"Global Tech\",\n",
    "           \"IYR\": \"US Real Estate\",\n",
    "           \"IXG\": \"Global Financials\",\n",
    "           \"EXI\": \"Global Industrials\",\n",
    "           \"GC=F\": \"Gold Futures\", \n",
    "           \"BZ=F\": \"Brent Crude Oil Futures\",\n",
    "           \"HYG\": \"High-Yield Corporate Bonds\",\n",
    "           \"TLT\": \"20+ Year Treasury Bonds\"}\n",
    "tickers = list(assets.keys())\n",
    "stocks = tickers[:7]\n",
    "commodities = tickers[7:9]\n",
    "bonds = tickers[9:]"
   ]
  },
  {
   "cell_type": "markdown",
   "metadata": {},
   "source": [
    "**Finder vægter for de tre typer UGARCH modeller**"
   ]
  },
  {
   "cell_type": "code",
   "execution_count": null,
   "metadata": {},
   "outputs": [],
   "source": [
    "v_t_ARCH, out_of_sample_s_ARCH, in_sample_s_ARCH, Omega_t_ARCH = db.garch_no_trading_cost(tickers, number_of_out_of_sample_days=4*250, model_type=\"sGARCH10\")\n",
    "v_t_GARCH, out_of_sample_s_GARCH, in_sample_s_GARCH,Omega_t_GARCH = db.garch_no_trading_cost(tickers, number_of_out_of_sample_days=4*250, model_type=\"sGARCH11\")\n",
    "v_t_GJR, out_of_sample_s_GJR, in_sample_s_GJR, Omega_t_GJR = db.garch_no_trading_cost(tickers, number_of_out_of_sample_days=4*250, model_type=\"gjrGARCH11\")"
   ]
  },
  {
   "cell_type": "markdown",
   "metadata": {},
   "source": [
    "**Udregner performance**"
   ]
  },
  {
   "cell_type": "code",
   "execution_count": null,
   "metadata": {},
   "outputs": [],
   "source": [
    "res_ARCH, perf_table_ARCH = cs.performance_table(v_t_ARCH, out_of_sample_s_ARCH,Omega_t_ARCH,portfolio_value=1e9)\n",
    "res_GARCH, perf_table_GARCH = cs.performance_table(v_t_GARCH, out_of_sample_s_GARCH,Omega_t_GARCH,portfolio_value=1e9)\n",
    "res_GJR, perf_table_GJR = cs.performance_table(v_t_GJR, out_of_sample_s_GJR,Omega_t_GJR,portfolio_value=1e9)"
   ]
  },
  {
   "cell_type": "markdown",
   "metadata": {},
   "source": [
    "**Sammensætter til en tabel**"
   ]
  },
  {
   "cell_type": "code",
   "execution_count": null,
   "metadata": {},
   "outputs": [],
   "source": [
    "#No trading cost first\n",
    "perf_table=perf_table_ARCH.iloc[0:1,]\n",
    "perf_table=perf_table.rename(index={'GARCH':'ARCH(1)'})\n",
    "perf_table=perf_table.append(perf_table_GARCH.iloc[0,])\n",
    "perf_table=perf_table.rename(index={'GARCH':'GARCH(1,1)'})\n",
    "perf_table=perf_table.append(perf_table_GJR.iloc[0,])\n",
    "perf_table=perf_table.rename(index={'GARCH':'GJR-GARCH(1,1)'})\n",
    "perf_table=perf_table.append(perf_table_GJR.iloc[2,])\n",
    "perf_table=perf_table.append(perf_table_GJR.iloc[1,])\n",
    "perf_table=perf_table.rename(index={'BnH':'Buy and hold','Equal_weight':'Equal weight'})\n",
    "#Trading cost\n",
    "perf_table=perf_table.append(perf_table_ARCH.iloc[3,])\n",
    "perf_table=perf_table.rename(index={'GARCH TC':'ARCH(1) TC'})\n",
    "perf_table=perf_table.append(perf_table_GARCH.iloc[3,])\n",
    "perf_table=perf_table.rename(index={'GARCH TC':'GARCH(1,1) TC'})\n",
    "perf_table=perf_table.append(perf_table_GJR.iloc[3,])\n",
    "perf_table=perf_table.rename(index={'GARCH TC':'GJR-GARCH(1,1) TC'})\n",
    "perf_table=perf_table.append(perf_table_GJR.iloc[4,])\n",
    "perf_table=perf_table.append(perf_table_GJR.iloc[5,])\n",
    "perf_table=perf_table.rename(index={'BnH TC':'Buy and hold TC','Equal_weight TC':'Equal weight TC'})\n",
    "print(perf_table.to_latex())\n"
   ]
  },
  {
   "cell_type": "markdown",
   "metadata": {},
   "source": [
    "**Laver en tabel af afkast**"
   ]
  },
  {
   "cell_type": "code",
   "execution_count": null,
   "metadata": {},
   "outputs": [],
   "source": [
    "res=res_ARCH.drop(columns=['GARCH TC','Equal_weight', 'BnH','Equal_weight TC','BnH TC']).rename(columns={'GARCH':'ARCH(1)'})\n",
    "res[\"GARCH(1,1)\"]=res_GARCH[\"GARCH\"]\n",
    "res[\"GJR-GARCH(1,1)\"]=res_GJR[\"GARCH\"]\n",
    "res[\"Equal weight\"]=res_GJR[\"Equal_weight\"]\n",
    "res[\"Buy and hold\"]=res_GJR[\"BnH\"]\n",
    "\n",
    "res_TC=res_ARCH.drop(columns=['GARCH','Equal_weight', 'BnH','Equal_weight TC','BnH TC']).rename(columns={'GARCH TC':'ARCH(1)'})\n",
    "res_TC[\"GARCH(1,1)\"]=res_GARCH[\"GARCH TC\"]\n",
    "res_TC[\"GJR-GARCH(1,1)\"]=res_GJR[\"GARCH TC\"]\n",
    "res_TC[\"Equal weight\"]=res_GJR[\"Equal_weight TC\"]\n",
    "res_TC[\"Buy and hold\"]=res_GJR[\"BnH TC\"]"
   ]
  },
  {
   "cell_type": "markdown",
   "metadata": {},
   "source": [
    "**Laver figurer**"
   ]
  },
  {
   "cell_type": "code",
   "execution_count": null,
   "metadata": {},
   "outputs": [],
   "source": [
    "fig, ax = plt.subplots(1, 1, figsize=(9,7), dpi=190)\n",
    "ax.plot(res,label=res.columns,linewidth=1)\n",
    "ax.margins(0,0.05)\n",
    "ax.legend(res.columns)\n",
    "ax.xaxis.set_major_locator(plt.MaxNLocator(6))\n",
    "ax.set_ylabel('Gross Return',loc='top', rotation = 0, labelpad = -88) \n",
    "#fig.savefig(\"Backtesting\\output\\Performance_no_TC_before.png\", bbox_inches = 'tight', pad_inches = 0.1)\n",
    "fig.savefig(\"Performance_no_TC_before.png\", bbox_inches = 'tight', pad_inches = 0.1)\n"
   ]
  },
  {
   "cell_type": "code",
   "execution_count": null,
   "metadata": {},
   "outputs": [],
   "source": [
    "fig, ax = plt.subplots(1, 1, figsize=(9,7), dpi=190)\n",
    "ax.plot(res_TC,label=res_TC.columns,linewidth=1)\n",
    "ax.margins(0,0.05)\n",
    "ax.legend(res_TC.columns)\n",
    "ax.xaxis.set_major_locator(plt.MaxNLocator(6))\n",
    "ax.set_ylabel('Net Return',loc='top', rotation = 0, labelpad = -75) \n",
    "#fig.savefig(\"Backtesting\\output\\Performance_no_TC_after.png\", bbox_inches = 'tight', pad_inches = 0.1)\n",
    "fig.savefig(\"Performance_no_TC_after.png\", bbox_inches = 'tight', pad_inches = 0.1)"
   ]
  },
  {
   "cell_type": "code",
   "execution_count": null,
   "metadata": {},
   "outputs": [],
   "source": [
    "fig, ax = plt.subplots(1, 1, figsize=(9,7), dpi=190)\n",
    "ax.plot(v_t_ARCH,linewidth=0.8)\n",
    "ax.set_ylim(-0.35,1.3)\n",
    "ax.legend(assets.values(),ncol=3,loc=\"upper left\")\n",
    "ax.xaxis.set_major_locator(plt.MaxNLocator(6))\n",
    "ax.set_ylabel('Weight, $v_t$',loc='top', rotation = 0, labelpad = -78) \n",
    "fig.savefig(\"ARCH_weight_NO_TC.png\", bbox_inches = 'tight', pad_inches = 0.1)"
   ]
  },
  {
   "cell_type": "code",
   "execution_count": null,
   "metadata": {},
   "outputs": [],
   "source": [
    "fig, ax = plt.subplots(1, 1, figsize=(9,7), dpi=190)\n",
    "ax.plot(v_t_GARCH,linewidth=0.8)\n",
    "ax.set_ylim(-0.35,1.3)\n",
    "ax.legend(assets.values(),ncol=3,loc=\"upper left\")\n",
    "ax.xaxis.set_major_locator(plt.MaxNLocator(6))\n",
    "ax.set_ylabel('Weight, $v_t$',loc='top', rotation = 0, labelpad = -78) \n",
    "fig.savefig(\"GARCH_weight_NO_TC.png\", bbox_inches = 'tight', pad_inches = 0.1)"
   ]
  },
  {
   "cell_type": "code",
   "execution_count": null,
   "metadata": {},
   "outputs": [],
   "source": [
    "fig, ax = plt.subplots(1, 1, figsize=(9,7), dpi=190)\n",
    "ax.plot(v_t_GJR,linewidth=0.8)\n",
    "ax.set_ylim(-0.35,1.3)\n",
    "ax.legend(assets.values(),ncol=3,loc=\"upper left\")\n",
    "ax.xaxis.set_major_locator(plt.MaxNLocator(6))\n",
    "ax.set_ylabel('Weight, $v_t$',loc='top', rotation = 0, labelpad = -78) \n",
    "fig.savefig(\"GJRGARCH_weight_NO_TC.png\", bbox_inches = 'tight', pad_inches = 0.1)"
   ]
  },
  {
   "cell_type": "markdown",
   "metadata": {},
   "source": [
    "**Lets consider a subset of the ticker, Stocks**"
   ]
  },
  {
   "cell_type": "code",
   "execution_count": null,
   "metadata": {},
   "outputs": [],
   "source": [
    "v_t_ARCH_s, out_of_sample_s_ARCH_s, in_sample_s_ARCH_s, Omega_t_ARCH_s = db.garch_no_trading_cost(stocks, number_of_out_of_sample_days=4*250, model_type=\"sGARCH10\")\n",
    "v_t_GARCH_s, out_of_sample_s_GARCH_s, in_sample_s_GARCH_s,Omega_t_GARCH_s = db.garch_no_trading_cost(stocks, number_of_out_of_sample_days=4*250, model_type=\"sGARCH11\")\n",
    "v_t_GJR_s, out_of_sample_s_GJR_s, in_sample_s_GJR_s, Omega_t_GJR_s = db.garch_no_trading_cost(stocks, number_of_out_of_sample_days=4*250, model_type=\"gjrGARCH11\")"
   ]
  },
  {
   "cell_type": "code",
   "execution_count": null,
   "metadata": {},
   "outputs": [],
   "source": [
    "res_ARCH_s, perf_table_ARCH_s = cs.performance_table(v_t_ARCH_s, out_of_sample_s_ARCH_s,Omega_t_ARCH_s,portfolio_value=1e9)\n",
    "res_GARCH_s, perf_table_GARCH_s = cs.performance_table(v_t_GARCH_s, out_of_sample_s_GARCH_s,Omega_t_GARCH_s,portfolio_value=1e9)\n",
    "res_GJR_s, perf_table_GJR_s = cs.performance_table(v_t_GJR_s, out_of_sample_s_GJR_s,Omega_t_GJR_s,portfolio_value=1e9)"
   ]
  },
  {
   "cell_type": "code",
   "execution_count": null,
   "metadata": {},
   "outputs": [],
   "source": [
    "#No trading cost first\n",
    "perf_table_s=perf_table_ARCH_s.iloc[0:1,]\n",
    "perf_table_s=perf_table_s.rename(index={'GARCH':'ARCH(1)'})\n",
    "perf_table_s=perf_table_s.append(perf_table_GARCH_s.iloc[0,])\n",
    "perf_table_s=perf_table_s.rename(index={'GARCH':'GARCH(1,1)'})\n",
    "perf_table_s=perf_table_s.append(perf_table_GJR_s.iloc[0,])\n",
    "perf_table_s=perf_table_s.rename(index={'GARCH':'GJR-GARCH(1,1)'})\n",
    "perf_table_s=perf_table_s.append(perf_table_GJR_s.iloc[2,])\n",
    "perf_table_s=perf_table_s.append(perf_table_GJR_s.iloc[1,])\n",
    "perf_table_s=perf_table_s.rename(index={'BnH':'Buy and hold','Equal_weight':'Equal weight'})\n",
    "#Trading cost\n",
    "perf_table_s=perf_table_s.append(perf_table_ARCH_s.iloc[3,])\n",
    "perf_table_s=perf_table_s.rename(index={'GARCH TC':'ARCH(1) TC'})\n",
    "perf_table_s=perf_table_s.append(perf_table_GARCH_s.iloc[3,])\n",
    "perf_table_s=perf_table_s.rename(index={'GARCH TC':'GARCH(1,1) TC'})\n",
    "perf_table_s=perf_table_s.append(perf_table_GJR_s.iloc[3,])\n",
    "perf_table_s=perf_table_s.rename(index={'GARCH TC':'GJR-GARCH(1,1) TC'})\n",
    "perf_table_s=perf_table_s.append(perf_table_GJR_s.iloc[4,])\n",
    "perf_table_s=perf_table_s.append(perf_table_GJR_s.iloc[5,])\n",
    "perf_table_s=perf_table_s.rename(index={'BnH TC':'Buy and hold TC','Equal_weight TC':'Equal weight TC'})\n",
    "print(perf_table_s.to_latex())"
   ]
  },
  {
   "cell_type": "code",
   "execution_count": null,
   "metadata": {},
   "outputs": [],
   "source": [
    "res_s=res_ARCH_s.drop(columns=['GARCH TC','Equal_weight', 'BnH','Equal_weight TC','BnH TC']).rename(columns={'GARCH':'ARCH(1)'})\n",
    "res_s[\"GARCH(1,1)\"]=res_GARCH_s[\"GARCH\"]\n",
    "res_s[\"GJR-GARCH(1,1)\"]=res_GJR_s[\"GARCH\"]\n",
    "res_s[\"Equal weight\"]=res_GJR_s[\"Equal_weight\"]\n",
    "res_s[\"Buy and hold\"]=res_GJR_s[\"BnH\"]\n",
    "\n",
    "res_TC_s=res_ARCH_s.drop(columns=['GARCH','Equal_weight', 'BnH','Equal_weight TC','BnH TC']).rename(columns={'GARCH TC':'ARCH(1)'})\n",
    "res_TC_s[\"GARCH(1,1)\"]=res_GARCH_s[\"GARCH TC\"]\n",
    "res_TC_s[\"GJR-GARCH(1,1)\"]=res_GJR_s[\"GARCH TC\"]\n",
    "res_TC_s[\"Equal weight\"]=res_GJR_s[\"Equal_weight TC\"]\n",
    "res_TC_s[\"Buy and hold\"]=res_GJR_s[\"BnH TC\"]"
   ]
  },
  {
   "cell_type": "code",
   "execution_count": null,
   "metadata": {},
   "outputs": [],
   "source": [
    "fig, ax = plt.subplots(1, 1, figsize=(9,7), dpi=190)\n",
    "ax.plot(res_s,label=res_s.columns,linewidth=1)\n",
    "ax.margins(0,0.05)\n",
    "ax.legend(res_s.columns)\n",
    "ax.xaxis.set_major_locator(plt.MaxNLocator(6))\n",
    "ax.set_ylabel('Gross Return',loc='top', rotation = 0, labelpad = -88) \n",
    "#fig.savefig(\"Backtesting\\output\\Performance_no_TC.png\", bbox_inches = 'tight', pad_inches = 0.1)\n",
    "#fig.savefig(\"Performance_no_TC_before_S.png\", bbox_inches = 'tight', pad_inches = 0.1)"
   ]
  },
  {
   "cell_type": "code",
   "execution_count": null,
   "metadata": {},
   "outputs": [],
   "source": [
    "fig, ax = plt.subplots(1, 1, figsize=(9,7), dpi=190)\n",
    "ax.plot(res_TC_s,label=res_TC_s.columns,linewidth=1)\n",
    "ax.margins(0,0.05)\n",
    "ax.legend(res_TC_s.columns)\n",
    "ax.xaxis.set_major_locator(plt.MaxNLocator(6))\n",
    "ax.set_ylabel('Net Return',loc='top', rotation = 0, labelpad = -75) \n",
    "#fig.savefig(\"Backtesting\\output\\Performance_no_TC.png\", bbox_inches = 'tight', pad_inches = 0.1)\n",
    "#fig.savefig(\"Performance_no_TC_after_S.png\", bbox_inches = 'tight', pad_inches = 0.1)"
   ]
  },
  {
   "cell_type": "code",
   "execution_count": null,
   "metadata": {},
   "outputs": [],
   "source": [
    "fig, ax = plt.subplots(1, 1, figsize=(9,7), dpi=190)\n",
    "ax.plot(v_t_ARCH_s,linewidth=0.8)\n",
    "ax.set_ylim(-1.5,2.6)\n",
    "ax.legend(assets.values(),ncol=3,loc=\"upper left\")\n",
    "ax.xaxis.set_major_locator(plt.MaxNLocator(6))\n",
    "ax.set_ylabel('Weight, $v_t$',loc='top', rotation = 0, labelpad = -78) \n",
    "#fig.savefig(\"Backtesting\\output\\ARCH_weight_NO_TC_S.png\", bbox_inches = 'tight', pad_inches = 0.1)\n",
    "fig.savefig(\"ARCH_weight_NO_TC_S.png\", bbox_inches = 'tight', pad_inches = 0.1)"
   ]
  },
  {
   "cell_type": "code",
   "execution_count": null,
   "metadata": {},
   "outputs": [],
   "source": [
    "fig, ax = plt.subplots(1, 1, figsize=(9,7), dpi=190)\n",
    "ax.plot(v_t_GARCH_s,linewidth=0.8)\n",
    "ax.set_ylim(-1.5,2.6)\n",
    "ax.legend(assets.values(),ncol=3,loc=\"upper left\")\n",
    "ax.xaxis.set_major_locator(plt.MaxNLocator(6))\n",
    "ax.set_ylabel('Weight, $v_t$',loc='top', rotation = 0, labelpad = -78) \n",
    "#fig.savefig(\"Backtesting\\output\\GARCH_weight_NO_TC_S.png\", bbox_inches = 'tight', pad_inches = 0.1)\n",
    "fig.savefig(\"GARCH_weight_NO_TC_S.png\", bbox_inches = 'tight', pad_inches = 0.1)"
   ]
  },
  {
   "cell_type": "code",
   "execution_count": null,
   "metadata": {},
   "outputs": [],
   "source": [
    "fig, ax = plt.subplots(1, 1, figsize=(9,7), dpi=190)\n",
    "ax.plot(v_t_GJR_s,linewidth=0.8)\n",
    "ax.set_ylim(-1.5,2.6)\n",
    "ax.legend(assets.values(),ncol=3,loc=\"upper left\")\n",
    "ax.xaxis.set_major_locator(plt.MaxNLocator(6))\n",
    "ax.set_ylabel('Weight, $v_t$',loc='top', rotation = 0, labelpad = -78) \n",
    "#fig.savefig(\"Backtesting\\output\\GJRGARCH_weight_NO_TC_S.png\", bbox_inches = 'tight', pad_inches = 0.1)\n",
    "fig.savefig(\"GJRGARCH_weight_NO_TC_S.png\", bbox_inches = 'tight', pad_inches = 0.1)"
   ]
  },
  {
   "cell_type": "markdown",
   "metadata": {},
   "source": [
    "**Transaction costs**"
   ]
  },
  {
   "cell_type": "code",
   "execution_count": null,
   "metadata": {},
   "outputs": [],
   "source": [
    "Gamma=0.000023\n",
    "v_t_ARCH_TC, out_of_sample_ARCH_TC, _,Omega_t_ARCH_TC = db.garch_with_trading_cost(tickers=tickers,\n",
    "number_of_out_of_sample_days=4*250, model_type=\"sGARCH10\",tuning_gamma_D=Gamma)\n",
    "v_t_GARCH_TC, out_of_sample_GARCH_TC, _,Omega_t_GARCH_TC = db.garch_with_trading_cost(tickers=tickers,\n",
    "number_of_out_of_sample_days=4*250, model_type=\"sGARCH11\",tuning_gamma_D=Gamma)\n",
    "v_t_GJR_TC, out_of_sample_GJR_TC, _,Omega_t_GJR_TC = db.garch_with_trading_cost(tickers=tickers,\n",
    "number_of_out_of_sample_days=4*250, model_type=\"gjrGARCH11\",tuning_gamma_D=Gamma)"
   ]
  },
  {
   "cell_type": "code",
   "execution_count": null,
   "metadata": {},
   "outputs": [],
   "source": [
    "res_ARCH_TC, perf_table_ARCH_TC = cs.performance_table(v_t_ARCH_TC, out_of_sample_ARCH_TC,Omega_t_ARCH_TC,portfolio_value=1e9)\n",
    "res_GARCH_TC, perf_table_GARCH_TC = cs.performance_table(v_t_GARCH_TC, out_of_sample_GARCH_TC,Omega_t_GARCH_TC,portfolio_value=1e9)\n",
    "res_GJR_TC, perf_table_GJR_TC = cs.performance_table(v_t_GJR_TC, out_of_sample_GJR_TC,Omega_t_GJR_TC,portfolio_value=1e9)"
   ]
  },
  {
   "cell_type": "code",
   "execution_count": null,
   "metadata": {},
   "outputs": [],
   "source": [
    "#No trading cost first\n",
    "perf_table_TC=perf_table_ARCH_TC.iloc[0:1,]\n",
    "perf_table_TC=perf_table_TC.rename(index={'GARCH':'ARCH(1)'})\n",
    "perf_table_TC=perf_table_TC.append(perf_table_GARCH_TC.iloc[0,])\n",
    "perf_table_TC=perf_table_TC.rename(index={'GARCH':'GARCH(1,1)'})\n",
    "perf_table_TC=perf_table_TC.append(perf_table_GJR_TC.iloc[0,])\n",
    "perf_table_TC=perf_table_TC.rename(index={'GARCH':'GJR-GARCH(1,1)'})\n",
    "perf_table_TC=perf_table_TC.append(perf_table_GJR_TC.iloc[2,])\n",
    "perf_table_TC=perf_table_TC.append(perf_table_GJR_TC.iloc[1,])\n",
    "perf_table_TC=perf_table_TC.rename(index={'BnH':'Buy and hold','Equal_weight':'Equal weight'})\n",
    "#Trading cost\n",
    "perf_table_TC=perf_table_TC.append(perf_table_ARCH_TC.iloc[3,])\n",
    "perf_table_TC=perf_table_TC.rename(index={'GARCH TC':'ARCH(1) TC'})\n",
    "perf_table_TC=perf_table_TC.append(perf_table_GARCH_TC.iloc[3,])\n",
    "perf_table_TC=perf_table_TC.rename(index={'GARCH TC':'GARCH(1,1) TC'})\n",
    "perf_table_TC=perf_table_TC.append(perf_table_GJR_TC.iloc[3,])\n",
    "perf_table_TC=perf_table_TC.rename(index={'GARCH TC':'GJR-GARCH(1,1) TC'})\n",
    "perf_table_TC=perf_table_TC.append(perf_table_GJR_TC.iloc[4,])\n",
    "perf_table_TC=perf_table_TC.append(perf_table_GJR_TC.iloc[5,])\n",
    "perf_table_TC=perf_table_TC.rename(index={'BnH TC':'Buy and hold TC','Equal_weight TC':'Equal weight TC'})\n",
    "print(perf_table_TC.to_latex())"
   ]
  },
  {
   "cell_type": "code",
   "execution_count": null,
   "metadata": {},
   "outputs": [],
   "source": [
    "res_tc=res_ARCH_TC.drop(columns=['GARCH TC','Equal_weight', 'BnH','Equal_weight TC','BnH TC']).rename(columns={'GARCH':'ARCH(1)'})\n",
    "res_tc[\"GARCH(1,1)\"]=res_GARCH_TC[\"GARCH\"]\n",
    "res_tc[\"GJR-GARCH(1,1)\"]=res_GJR_TC[\"GARCH\"]\n",
    "res_tc[\"Equal weight\"]=res_GJR_TC[\"Equal_weight\"]\n",
    "res_tc[\"Buy and hold\"]=res_GJR_TC[\"BnH\"]\n",
    "\n",
    "res_tc_TC=res_ARCH_TC.drop(columns=['GARCH','Equal_weight', 'BnH','Equal_weight TC','BnH TC']).rename(columns={'GARCH TC':'ARCH(1)'})\n",
    "res_tc_TC[\"GARCH(1,1)\"]=res_GARCH_TC[\"GARCH TC\"]\n",
    "res_tc_TC[\"GJR-GARCH(1,1)\"]=res_GJR_TC[\"GARCH TC\"]\n",
    "res_tc_TC[\"Equal weight\"]=res_GJR_TC[\"Equal_weight TC\"]\n",
    "res_tc_TC[\"Buy and hold\"]=res_GJR_TC[\"BnH TC\"]"
   ]
  },
  {
   "cell_type": "code",
   "execution_count": null,
   "metadata": {},
   "outputs": [],
   "source": [
    "fig, ax = plt.subplots(1, 1, figsize=(9,7), dpi=190)\n",
    "ax.plot(res_tc,label=res_GARCH_TC.columns,linewidth=1)\n",
    "ax.margins(0,0.05)\n",
    "ax.legend(res_tc.columns)\n",
    "ax.xaxis.set_major_locator(plt.MaxNLocator(6))\n",
    "ax.set_ylabel('Gross Return',loc='top', rotation = 0, labelpad = -88) \n",
    "#fig.savefig(\"Backtesting\\output\\Performance_no_TC.png\", bbox_inches = 'tight', pad_inches = 0.1)\n",
    "#fig.savefig(\"Performance_no_TC_before_S.png\", bbox_inches = 'tight', pad_inches = 0.1)"
   ]
  },
  {
   "cell_type": "code",
   "execution_count": null,
   "metadata": {},
   "outputs": [],
   "source": [
    "fig, ax = plt.subplots(1, 1, figsize=(9,7), dpi=190)\n",
    "ax.plot(res_tc_TC,label=res_GARCH_TC.columns,linewidth=1)\n",
    "ax.margins(0,0.05)\n",
    "ax.legend(res_tc_TC.columns)\n",
    "ax.xaxis.set_major_locator(plt.MaxNLocator(6))\n",
    "ax.set_ylabel('Net Return',loc='top', rotation = 0, labelpad = -76) \n",
    "#fig.savefig(\"Backtesting\\output\\Performance_no_TC.png\", bbox_inches = 'tight', pad_inches = 0.1)\n",
    "#fig.savefig(\"Performance_no_TC_before_S.png\", bbox_inches = 'tight', pad_inches = 0.1)"
   ]
  },
  {
   "cell_type": "code",
   "execution_count": null,
   "metadata": {},
   "outputs": [],
   "source": [
    "fig, ax = plt.subplots(1, 1, figsize=(9,7), dpi=190)\n",
    "ax.plot(v_t_ARCH_TC,linewidth=1)\n",
    "ax.margins(0,0.05)\n",
    "ax.legend(assets.values(),ncol=3,loc=\"upper left\")\n",
    "ax.xaxis.set_major_locator(plt.MaxNLocator(6))\n",
    "ax.set_ylabel('Weight, $v_t$',loc='top', rotation = 0, labelpad = -82) \n",
    "#fig.savefig(\"ARCH_weight_TC.png\", bbox_inches = 'tight', pad_inches = 0.1)"
   ]
  },
  {
   "cell_type": "code",
   "execution_count": null,
   "metadata": {},
   "outputs": [],
   "source": [
    "fig, ax = plt.subplots(1, 1, figsize=(9,7), dpi=190)\n",
    "ax.plot(v_t_GARCH_TC,linewidth=1)\n",
    "ax.margins(0,0.05)\n",
    "ax.legend(assets.values(),ncol=3,loc=\"upper left\")\n",
    "ax.xaxis.set_major_locator(plt.MaxNLocator(6))\n",
    "ax.set_ylabel('Weight, $v_t$',loc='top', rotation = 0, labelpad = -82) \n",
    "#fig.savefig(\"GARCH_weight_TC.png\", bbox_inches = 'tight', pad_inches = 0.1)"
   ]
  },
  {
   "cell_type": "code",
   "execution_count": null,
   "metadata": {},
   "outputs": [],
   "source": [
    "fig, ax = plt.subplots(1, 1, figsize=(9,7), dpi=190)\n",
    "ax.plot(v_t_GJR_TC,linewidth=1)\n",
    "ax.margins(0,0.05)\n",
    "ax.legend(assets.values(),ncol=3,loc=\"upper left\")\n",
    "ax.xaxis.set_major_locator(plt.MaxNLocator(6))\n",
    "ax.set_ylabel('Weight, $v_t$',loc='top', rotation = 0, labelpad = -82) \n",
    "#fig.savefig(\"GJRGARCH_weight_TC.png\", bbox_inches = 'tight', pad_inches = 0.1)"
   ]
  },
  {
   "cell_type": "code",
   "execution_count": 27,
   "metadata": {},
   "outputs": [
    {
     "name": "stdout",
     "output_type": "stream",
     "text": [
      "['HYG', 'TLT']\n",
      "Solving problem with trading costs. gamma_D = 1.526988705495546e-06, tuning gamma_D = 0.000146\n"
     ]
    }
   ],
   "source": [
    "v_t_GARCH_TC_c, out_of_sample_GARCH_TC_c, _,Omega_t_GARCH_TC_c = db.garch_with_trading_cost([\"HYG\",\"TLT\"],\n",
    "number_of_out_of_sample_days=4*250, model_type=\"sGARCH11\",tuning_gamma_D=0.000146)"
   ]
  },
  {
   "cell_type": "code",
   "execution_count": 28,
   "metadata": {},
   "outputs": [],
   "source": [
    "res_GARCH_TC_c, perf_table_GARCH_TC_c = cs.performance_table(v_t_GARCH_TC_c, out_of_sample_GARCH_TC_c,Omega_t_GARCH_TC_c,portfolio_value=1e9)"
   ]
  },
  {
   "cell_type": "code",
   "execution_count": 29,
   "metadata": {},
   "outputs": [
    {
     "data": {
      "text/html": [
       "<div>\n",
       "<style scoped>\n",
       "    .dataframe tbody tr th:only-of-type {\n",
       "        vertical-align: middle;\n",
       "    }\n",
       "\n",
       "    .dataframe tbody tr th {\n",
       "        vertical-align: top;\n",
       "    }\n",
       "\n",
       "    .dataframe thead th {\n",
       "        text-align: right;\n",
       "    }\n",
       "</style>\n",
       "<table border=\"1\" class=\"dataframe\">\n",
       "  <thead>\n",
       "    <tr style=\"text-align: right;\">\n",
       "      <th></th>\n",
       "      <th>Ann. standard deviation</th>\n",
       "      <th>Ann. return</th>\n",
       "      <th>Ann. Sharpe ratio</th>\n",
       "    </tr>\n",
       "  </thead>\n",
       "  <tbody>\n",
       "    <tr>\n",
       "      <th>GARCH</th>\n",
       "      <td>0.065012</td>\n",
       "      <td>0.055064</td>\n",
       "      <td>0.846974</td>\n",
       "    </tr>\n",
       "    <tr>\n",
       "      <th>Equal_weight</th>\n",
       "      <td>0.075610</td>\n",
       "      <td>0.059021</td>\n",
       "      <td>0.780596</td>\n",
       "    </tr>\n",
       "    <tr>\n",
       "      <th>BnH</th>\n",
       "      <td>0.066780</td>\n",
       "      <td>0.051896</td>\n",
       "      <td>0.777122</td>\n",
       "    </tr>\n",
       "    <tr>\n",
       "      <th>GARCH TC</th>\n",
       "      <td>0.065021</td>\n",
       "      <td>0.054387</td>\n",
       "      <td>0.836460</td>\n",
       "    </tr>\n",
       "    <tr>\n",
       "      <th>Equal_weight TC</th>\n",
       "      <td>0.077167</td>\n",
       "      <td>0.048219</td>\n",
       "      <td>0.624871</td>\n",
       "    </tr>\n",
       "    <tr>\n",
       "      <th>BnH TC</th>\n",
       "      <td>0.066780</td>\n",
       "      <td>0.051896</td>\n",
       "      <td>0.777122</td>\n",
       "    </tr>\n",
       "  </tbody>\n",
       "</table>\n",
       "</div>"
      ],
      "text/plain": [
       "                 Ann. standard deviation  Ann. return  Ann. Sharpe ratio\n",
       "GARCH                           0.065012     0.055064           0.846974\n",
       "Equal_weight                    0.075610     0.059021           0.780596\n",
       "BnH                             0.066780     0.051896           0.777122\n",
       "GARCH TC                        0.065021     0.054387           0.836460\n",
       "Equal_weight TC                 0.077167     0.048219           0.624871\n",
       "BnH TC                          0.066780     0.051896           0.777122"
      ]
     },
     "execution_count": 29,
     "metadata": {},
     "output_type": "execute_result"
    }
   ],
   "source": [
    "perf_table_GARCH_TC_c"
   ]
  },
  {
   "cell_type": "code",
   "execution_count": null,
   "metadata": {},
   "outputs": [],
   "source": []
  }
 ],
 "metadata": {
  "interpreter": {
   "hash": "035a4835455b69dd03d840b7a1daac0c5382153a24200b5f58c2216ec44fc40f"
  },
  "kernelspec": {
   "display_name": "Python 3.8.5 64-bit ('base': conda)",
   "name": "python3"
  },
  "language_info": {
   "codemirror_mode": {
    "name": "ipython",
    "version": 3
   },
   "file_extension": ".py",
   "mimetype": "text/x-python",
   "name": "python",
   "nbconvert_exporter": "python",
   "pygments_lexer": "ipython3",
   "version": "3.8.5"
  }
 },
 "nbformat": 4,
 "nbformat_minor": 4
}
