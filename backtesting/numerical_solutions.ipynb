{
 "cells": [
  {
   "cell_type": "markdown",
   "metadata": {},
   "source": [
    "### Numerical solutions"
   ]
  },
  {
   "cell_type": "markdown",
   "metadata": {},
   "source": [
    "### 1. GARCH vol with no trading costs\n",
    "Verify that numerical solution is identical to\n",
    "$v_t=\\frac{\\Omega_{t+1}^{-1}\\textbf{1}}{\\textbf{1}'\\Omega_{t+1}^{-1} \\textbf{1}}$"
   ]
  },
  {
   "cell_type": "markdown",
   "metadata": {},
   "source": [
    "Solve:\n",
    "$V_t(v_t)=\\min_{v_t}\\Bigg[(1-\\rho)\\bigg({\\frac{1}{2}v_{t}'\\Omega_{t+1}  v_{t}}+\\mathbb{E}_t[V(v_{t+1})]\\bigg) \\Bigg] - \\kappa_1(v_t'\\textbf{1}-1)$"
   ]
  },
  {
   "cell_type": "code",
   "execution_count": 125,
   "metadata": {},
   "outputs": [],
   "source": [
    "import quadprog\n",
    "from scipy.optimize import minimize\n",
    "from scipy.optimize import LinearConstraint\n",
    "import numpy as np\n",
    "import pandas as pd\n",
    "from numpy.linalg import multi_dot as mdot\n",
    "from numpy import dot\n",
    "from numpy import divide\n",
    "from numpy.linalg import inv"
   ]
  },
  {
   "cell_type": "code",
   "execution_count": 128,
   "metadata": {},
   "outputs": [],
   "source": [
    "# Setup\n",
    "rho = 0.0000\n",
    "Omega_t_plus_1 = pd.read_csv(\"Omega_t.csv\", sep=\";\", header=None).values"
   ]
  },
  {
   "cell_type": "code",
   "execution_count": 129,
   "metadata": {},
   "outputs": [],
   "source": [
    "def eq_constraint(v_t):\n",
    "    return np.sum(v_t)-1"
   ]
  },
  {
   "cell_type": "code",
   "execution_count": 130,
   "metadata": {
    "tags": []
   },
   "outputs": [],
   "source": [
    "def V_t(v_t, Omega_t_plus_1, rho):\n",
    "    res = (1-rho)*(0.5*mdot([v_t.T, Omega_t_plus_1, v_t]))\n",
    "    return res\n",
    "\n",
    "p = Omega_t_plus_1.shape[0]\n",
    "constraint = [{'type': 'eq', 'fun': eq_constraint}]\n",
    "res =minimize(fun = V_t, \n",
    "         x0 = np.full((p, 1), 1/p),\n",
    "         args = (Omega_t_plus_1, rho),\n",
    "         constraints=constraint,\n",
    "         method=\"SLSQP\")\n",
    "v_t_num = res.x"
   ]
  },
  {
   "cell_type": "markdown",
   "metadata": {},
   "source": [
    "### Comparing to analytical"
   ]
  },
  {
   "cell_type": "code",
   "execution_count": 134,
   "metadata": {},
   "outputs": [
    {
     "data": {
      "text/plain": [
       "array([ 0.12930634,  1.01402932, -0.16818878,  0.02485312])"
      ]
     },
     "execution_count": 134,
     "metadata": {},
     "output_type": "execute_result"
    }
   ],
   "source": [
    "v_t_num"
   ]
  },
  {
   "cell_type": "code",
   "execution_count": 131,
   "metadata": {},
   "outputs": [],
   "source": [
    "ones = np.ones((p, 1))\n",
    "v_t_anal = divide(dot(inv(Omega_t_plus_1), ones), mdot([ones.T, inv(Omega_t_plus_1), ones]))"
   ]
  },
  {
   "cell_type": "code",
   "execution_count": 132,
   "metadata": {},
   "outputs": [
    {
     "data": {
      "text/plain": [
       "array([[0.07023609]])"
      ]
     },
     "execution_count": 132,
     "metadata": {},
     "output_type": "execute_result"
    }
   ],
   "source": [
    "mdot([v_t_anal.T, Omega_t_plus_1, v_t_anal])"
   ]
  },
  {
   "cell_type": "code",
   "execution_count": 133,
   "metadata": {},
   "outputs": [
    {
     "data": {
      "text/plain": [
       "0.0702360936446367"
      ]
     },
     "execution_count": 133,
     "metadata": {},
     "output_type": "execute_result"
    }
   ],
   "source": [
    "mdot([v_t_num.T, Omega_t_plus_1, v_t_num])"
   ]
  },
  {
   "cell_type": "markdown",
   "metadata": {},
   "source": [
    "### Testing the static case without GARCH"
   ]
  },
  {
   "cell_type": "code",
   "execution_count": 121,
   "metadata": {},
   "outputs": [],
   "source": [
    "def eq_constraint(v_t):\n",
    "    return np.sum(v_t)-1\n",
    "\n",
    "def V_t(v_t, Sigma):\n",
    "    res = 0.5*mdot([v_t.T, Sigma, v_t])\n",
    "    return res\n",
    "\n",
    "p = Omega_t_plus_1.shape[0]\n",
    "constraint = [{'type': 'eq', 'fun': eq_constraint}]\n",
    "res =minimize(fun = V_t, \n",
    "         x0 = np.full((p, 1), 1/p),\n",
    "         args = (Omega_t_plus_1),\n",
    "         constraints=constraint,\n",
    "         method=\"SLSQP\")\n",
    "v_t_num = res.x"
   ]
  },
  {
   "cell_type": "code",
   "execution_count": 122,
   "metadata": {},
   "outputs": [
    {
     "data": {
      "text/plain": [
       "array([ 0.12930634,  1.01402932, -0.16818878,  0.02485312])"
      ]
     },
     "execution_count": 122,
     "metadata": {},
     "output_type": "execute_result"
    }
   ],
   "source": [
    "v_t_num"
   ]
  },
  {
   "cell_type": "code",
   "execution_count": 126,
   "metadata": {},
   "outputs": [],
   "source": [
    "v_t_anal = divide(dot(inv(Omega_t_plus_1), ones), mdot([ones.T, inv(Omega_t_plus_1), ones]))"
   ]
  },
  {
   "cell_type": "code",
   "execution_count": 127,
   "metadata": {},
   "outputs": [
    {
     "data": {
      "text/plain": [
       "array([[ 0.12930769],\n",
       "       [ 1.01402698],\n",
       "       [-0.1681879 ],\n",
       "       [ 0.02485323]])"
      ]
     },
     "execution_count": 127,
     "metadata": {},
     "output_type": "execute_result"
    }
   ],
   "source": [
    "v_t_anal"
   ]
  },
  {
   "cell_type": "code",
   "execution_count": null,
   "metadata": {},
   "outputs": [],
   "source": []
  }
 ],
 "metadata": {
  "kernelspec": {
   "display_name": "Python 3",
   "language": "python",
   "name": "python3"
  },
  "language_info": {
   "codemirror_mode": {
    "name": "ipython",
    "version": 3
   },
   "file_extension": ".py",
   "mimetype": "text/x-python",
   "name": "python",
   "nbconvert_exporter": "python",
   "pygments_lexer": "ipython3",
   "version": "3.7.0"
  }
 },
 "nbformat": 4,
 "nbformat_minor": 4
}
