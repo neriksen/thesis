{
 "cells": [
  {
   "cell_type": "markdown",
   "metadata": {},
   "source": [
    "### Measuring transaction costs and trading volume"
   ]
  },
  {
   "cell_type": "code",
   "execution_count": null,
   "metadata": {},
   "outputs": [],
   "source": [
    "import sys\n",
    "import pandas as pd\n",
    "import matplotlib.pyplot as plt\n",
    "import matplotlib\n",
    "import numpy as np\n",
    "import scipy.stats as scipy\n",
    "sys.path.append(\"utils\")\n",
    "import dynamic_backtesting as db\n",
    "from compare_strategies import calc_transaction_costs as ctc\n",
    "plt.style.use('seaborn')\n",
    "matplotlib.rcParams['axes.prop_cycle'] = matplotlib.cycler(color=[\"black\", \"green\",  \"deepskyblue\", \"orange\",\"grey\", \"lime\", \"purple\", \"Gold\", \"brown\", \"blue\", \"pink\"]) "
   ]
  },
  {
   "cell_type": "code",
   "execution_count": null,
   "metadata": {},
   "outputs": [],
   "source": [
    "assets = {\"EEM\": \"Emerging Markets\",\n",
    "           \"IVV\": \"S&P 500\",\n",
    "           \"IEV\": \"MSCI Europe\",\n",
    "           \"IXN\": \"Global Tech\",\n",
    "           \"IYR\": \"US Real Estate\",\n",
    "           \"IXG\": \"Global Financials\",\n",
    "           \"EXI\": \"Global Industrials\",\n",
    "           \"GC=F\": \"Gold Futures\", \n",
    "           \"BZ=F\": \"Brent Crude Oil Futures\",\n",
    "           \"HYG\": \"High-Yield Corporate Bonds\",\n",
    "           \"TLT\": \"20+ Year Treasury Bonds\"}\n",
    "tickers = list(assets.keys())\n",
    "asset_names = list(assets.values())\n",
    "stocks = tickers[:7]\n",
    "commodities = tickers[7:9]\n",
    "bonds = tickers[9:]"
   ]
  },
  {
   "cell_type": "code",
   "execution_count": null,
   "metadata": {},
   "outputs": [],
   "source": [
    "models = ['sGARCH10', 'sGARCH11', 'gjrGARCH11']\n",
    "tuning_gamma_Ds = [1.52e-6, 1.3e-5, 1e-4]"
   ]
  },
  {
   "cell_type": "code",
   "execution_count": null,
   "metadata": {},
   "outputs": [],
   "source": [
    "def remove_extreme(num, tolerance):\n",
    "    if num > tolerance:\n",
    "        return tolerance\n",
    "    if num < 0:\n",
    "        return np.nan\n",
    "    return num"
   ]
  },
  {
   "cell_type": "code",
   "execution_count": null,
   "metadata": {},
   "outputs": [],
   "source": [
    "def calc_TC(model, tuning_gamma_D, assets):\n",
    "    v_t_s, out_of_sample, in_sample, Omega_ts = db.garch_with_trading_cost(tickers=assets, model_type=model, tuning_gamma_D=tuning_gamma_D)\n",
    "    out_of_sample = out_of_sample.divide(100)\n",
    "    TC = ctc(v_t_s, out_of_sample, Omega_ts)\n",
    "    TC = [remove_extreme(x, 1) for x in TC]\n",
    "    return TC"
   ]
  },
  {
   "cell_type": "code",
   "execution_count": null,
   "metadata": {},
   "outputs": [],
   "source": [
    "def calc_multiple_TC(tickers):\n",
    "    TCs = []\n",
    "    for i, model in enumerate(models):\n",
    "        row = []\n",
    "        for j, tuning_gamma_D in enumerate(tuning_gamma_Ds):\n",
    "            row.append(calc_TC(model, tuning_gamma_D, tickers))\n",
    "        TCs.append(row)\n",
    "    TCs_mean = [[np.nanmean(TC) for TC in TC_row] for TC_row in TCs]\n",
    "    return TCs, TCs_mean"
   ]
  },
  {
   "cell_type": "code",
   "execution_count": null,
   "metadata": {},
   "outputs": [],
   "source": [
    "TCs_all, TCs_all_mean = calc_multiple_TC(tickers)"
   ]
  },
  {
   "cell_type": "code",
   "execution_count": null,
   "metadata": {},
   "outputs": [],
   "source": [
    "TCs_bonds, TCs_bonds_mean = calc_multiple_TC(bonds)"
   ]
  },
  {
   "cell_type": "code",
   "execution_count": null,
   "metadata": {},
   "outputs": [],
   "source": [
    "TCs_stocks, TCs_stocks_mean = calc_multiple_TC(stocks)"
   ]
  },
  {
   "cell_type": "code",
   "execution_count": null,
   "metadata": {},
   "outputs": [],
   "source": [
    "TCs_com, TCs_com_mean = calc_multiple_TC(commodities)"
   ]
  },
  {
   "cell_type": "code",
   "execution_count": null,
   "metadata": {},
   "outputs": [],
   "source": [
    "def annualize_TC(TC):\n",
    "    TC = np.array(TC)\n",
    "    TC += 1\n",
    "    TC_cum = np.cumprod(TC)\n",
    "    last_TC = pd.Series(TC_cum).ffill().iloc[-1]\n",
    "    num_non_nan_periods = len(TC_cum)-np.isnan(TC).sum()\n",
    "    ann_return = (last_TC ** (250/num_non_nan_periods))-1\n",
    "    return ann_return"
   ]
  },
  {
   "cell_type": "code",
   "execution_count": null,
   "metadata": {
    "tags": []
   },
   "outputs": [],
   "source": [
    "TC_all_ann = [[annualize_TC(TC) for TC in TC_row] for TC_row in TCs_all]"
   ]
  },
  {
   "cell_type": "code",
   "execution_count": null,
   "metadata": {},
   "outputs": [],
   "source": [
    "TC_bonds_ann = [[annualize_TC(TC) for TC in TC_row] for TC_row in TCs_bonds]"
   ]
  },
  {
   "cell_type": "code",
   "execution_count": null,
   "metadata": {
    "tags": []
   },
   "outputs": [],
   "source": [
    "TC_stocks_ann = [[annualize_TC(TC) for TC in TC_row] for TC_row in TCs_stocks]"
   ]
  },
  {
   "cell_type": "code",
   "execution_count": null,
   "metadata": {},
   "outputs": [],
   "source": [
    "TC_com_ann = [[annualize_TC(TC) for TC in TC_row] for TC_row in TCs_com]"
   ]
  }
 ],
 "metadata": {
  "kernelspec": {
   "display_name": "Python 3",
   "language": "python",
   "name": "python3"
  },
  "language_info": {
   "codemirror_mode": {
    "name": "ipython",
    "version": 3
   },
   "file_extension": ".py",
   "mimetype": "text/x-python",
   "name": "python",
   "nbconvert_exporter": "python",
   "pygments_lexer": "ipython3",
   "version": "3.7.0"
  }
 },
 "nbformat": 4,
 "nbformat_minor": 4
}
