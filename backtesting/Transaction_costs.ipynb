{
 "cells": [
  {
   "cell_type": "markdown",
   "metadata": {},
   "source": [
    "### Measuring transaction costs and trading volume"
   ]
  },
  {
   "cell_type": "code",
   "execution_count": 11,
   "metadata": {},
   "outputs": [],
   "source": [
    "import sys\n",
    "import pandas as pd\n",
    "import matplotlib.pyplot as plt\n",
    "import matplotlib\n",
    "import numpy as np\n",
    "import scipy.stats as scipy\n",
    "sys.path.append(\"utils\")\n",
    "import dynamic_backtesting as db\n",
    "from compare_strategies import calc_transaction_costs as ctc\n",
    "plt.style.use('seaborn')\n",
    "matplotlib.rcParams['axes.prop_cycle'] = matplotlib.cycler(color=[\"black\", \"green\",  \"deepskyblue\", \"orange\",\"grey\", \"lime\", \"purple\", \"Gold\", \"brown\", \"blue\", \"pink\"]) "
   ]
  },
  {
   "cell_type": "code",
   "execution_count": 8,
   "metadata": {},
   "outputs": [],
   "source": [
    "assets = {\"EEM\": \"Emerging Markets\",\n",
    "           \"IVV\": \"S&P 500\",\n",
    "           \"IEV\": \"MSCI Europe\",\n",
    "           \"IXN\": \"Global Tech\",\n",
    "           \"IYR\": \"US Real Estate\",\n",
    "           \"IXG\": \"Global Financials\",\n",
    "           \"EXI\": \"Global Industrials\",\n",
    "           \"GC=F\": \"Gold Futures\", \n",
    "           \"BZ=F\": \"Brent Crude Oil Futures\",\n",
    "           \"HYG\": \"High-Yield Corporate Bonds\",\n",
    "           \"TLT\": \"20+ Year Treasury Bonds\"}\n",
    "tickers = list(assets.keys())\n",
    "asset_names = list(assets.values())"
   ]
  },
  {
   "cell_type": "code",
   "execution_count": 24,
   "metadata": {},
   "outputs": [],
   "source": [
    "models = ['sGARCH10', 'sGARCH11', 'gjrGARCH11']\n",
    "tuning_gamma_Ds = [1.52e-6, 1.3e-5, 1e-4]"
   ]
  },
  {
   "cell_type": "code",
   "execution_count": 51,
   "metadata": {},
   "outputs": [],
   "source": [
    "def remove_extreme(num, tolerance):\n",
    "    if num > tolerance:\n",
    "        return tolerance\n",
    "    return num"
   ]
  },
  {
   "cell_type": "code",
   "execution_count": 52,
   "metadata": {},
   "outputs": [],
   "source": [
    "def calc_TC(model, tuning_gamma_D):\n",
    "    v_t_s, out_of_sample, in_sample, Omega_ts = db.garch_with_trading_cost(tickers, model_type=model, tuning_gamma_D=tuning_gamma_D)\n",
    "    out_of_sample = out_of_sample.divide(100)\n",
    "    TC = ctc(v_t_s, out_of_sample, Omega_ts)\n",
    "    TC = [remove_extreme(x, 1) for x in TC]\n",
    "    return TC"
   ]
  },
  {
   "cell_type": "code",
   "execution_count": null,
   "metadata": {},
   "outputs": [
    {
     "name": "stdout",
     "output_type": "stream",
     "text": [
      "['EEM', 'IVV', 'IEV', 'IXN', 'IYR', 'IXG', 'EXI', 'GC=F', 'BZ=F', 'HYG', 'TLT']\n",
      "Solving problem with trading costs. gamma_D = 1.526988705495546e-06, tuning gamma_D = 1.52e-06\n",
      "['EEM', 'IVV', 'IEV', 'IXN', 'IYR', 'IXG', 'EXI', 'GC=F', 'BZ=F', 'HYG', 'TLT']\n",
      "Solving problem with trading costs. gamma_D = 1.526988705495546e-06, tuning gamma_D = 1.3e-05\n",
      "['EEM', 'IVV', 'IEV', 'IXN', 'IYR', 'IXG', 'EXI', 'GC=F', 'BZ=F', 'HYG', 'TLT']\n",
      "Solving problem with trading costs. gamma_D = 1.526988705495546e-06, tuning gamma_D = 0.0001\n",
      "['EEM', 'IVV', 'IEV', 'IXN', 'IYR', 'IXG', 'EXI', 'GC=F', 'BZ=F', 'HYG', 'TLT']\n",
      "Solving problem with trading costs. gamma_D = 1.526988705495546e-06, tuning gamma_D = 1.52e-06\n",
      "['EEM', 'IVV', 'IEV', 'IXN', 'IYR', 'IXG', 'EXI', 'GC=F', 'BZ=F', 'HYG', 'TLT']\n",
      "Solving problem with trading costs. gamma_D = 1.526988705495546e-06, tuning gamma_D = 1.3e-05\n"
     ]
    }
   ],
   "source": [
    "TCs = []\n",
    "for i, model in enumerate(models):\n",
    "    row = []\n",
    "    for j, tuning_gamma_D in enumerate(tuning_gamma_Ds):\n",
    "        row.append(calc_TC(model, tuning_gamma_D))\n",
    "    TCs.append(row)"
   ]
  },
  {
   "cell_type": "code",
   "execution_count": 38,
   "metadata": {},
   "outputs": [],
   "source": [
    "mean_TCs = [[np.nanmean(TC) for TC in TC_row] for TC_row in TCs]"
   ]
  },
  {
   "cell_type": "code",
   "execution_count": 44,
   "metadata": {
    "tags": []
   },
   "outputs": [
    {
     "data": {
      "text/plain": [
       "[<matplotlib.lines.Line2D at 0x7fc0e26d8e10>]"
      ]
     },
     "execution_count": 44,
     "metadata": {},
     "output_type": "execute_result"
    },
    {
     "data": {
      "image/png": "[encoded data removed]",
      "text/plain": [
       "<Figure size 576x396 with 1 Axes>"
      ]
     },
     "metadata": {},
     "output_type": "display_data"
    }
   ],
   "source": [
    "#TCs[0][0]\n",
    "plt.plot(TCs[0][0])"
   ]
  },
  {
   "cell_type": "code",
   "execution_count": 39,
   "metadata": {},
   "outputs": [
    {
     "data": {
      "text/plain": [
       "[[-1.7275941967655478e+135, 0.001435516291568804, 4.0532075025859905e-05],\n",
       " [0.001053570579323892, 8.258182537267141e-05, 6.032956173143117e-06],\n",
       " [0.0011895474495571003, 9.719638047158114e-05, 7.256825289390572e-06]]"
      ]
     },
     "execution_count": 39,
     "metadata": {},
     "output_type": "execute_result"
    }
   ],
   "source": [
    "mean_TCs"
   ]
  },
  {
   "cell_type": "code",
   "execution_count": 20,
   "metadata": {},
   "outputs": [],
   "source": [
    "fig, ax = plt.subplots(1, 1, figsize=(7, 6), dpi=192)\n"
   ]
  },
  {
   "cell_type": "code",
   "execution_count": 22,
   "metadata": {
    "tags": []
   },
   "outputs": [
    {
     "data": {
      "text/plain": [
       "[<matplotlib.lines.Line2D at 0x7fc0ddd91b70>]"
      ]
     },
     "execution_count": 22,
     "metadata": {},
     "output_type": "execute_result"
    },
    {
     "data": {
      "image/png": "[encoded data removed]",
      "text/plain": [
       "<Figure size 576x396 with 1 Axes>"
      ]
     },
     "metadata": {},
     "output_type": "display_data"
    }
   ],
   "source": [
    "plt.plot()"
   ]
  },
  {
   "cell_type": "code",
   "execution_count": null,
   "metadata": {},
   "outputs": [],
   "source": []
  }
 ],
 "metadata": {
  "kernelspec": {
   "display_name": "Python 3",
   "language": "python",
   "name": "python3"
  },
  "language_info": {
   "codemirror_mode": {
    "name": "ipython",
    "version": 3
   },
   "file_extension": ".py",
   "mimetype": "text/x-python",
   "name": "python",
   "nbconvert_exporter": "python",
   "pygments_lexer": "ipython3",
   "version": "3.7.0"
  }
 },
 "nbformat": 4,
 "nbformat_minor": 4
}
