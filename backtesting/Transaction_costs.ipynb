{
 "cells": [
  {
   "cell_type": "markdown",
   "metadata": {},
   "source": [
    "### Measuring transaction costs and trading volume"
   ]
  },
  {
   "cell_type": "code",
   "execution_count": null,
   "metadata": {},
   "outputs": [],
   "source": [
    "import sys\n",
    "import pandas as pd\n",
    "import matplotlib.pyplot as plt\n",
    "import matplotlib\n",
    "import numpy as np\n",
    "import scipy.stats as scipy\n",
    "sys.path.append(\"utils\")\n",
    "import dynamic_backtesting as db\n",
    "from compare_strategies import calc_transaction_costs as ctc\n",
    "import compare_strategies as cs\n",
    "plt.style.use('seaborn')\n",
    "matplotlib.rcParams['axes.prop_cycle'] = matplotlib.cycler(color=[\"black\", \"green\",  \"deepskyblue\", \"orange\",\"grey\", \"lime\", \"purple\", \"Gold\", \"brown\", \"blue\", \"pink\"]) "
   ]
  },
  {
   "cell_type": "code",
   "execution_count": null,
   "metadata": {},
   "outputs": [],
   "source": [
    "assets = {\"EEM\": \"Emerging Markets\",\n",
    "           \"IVV\": \"S&P 500\",\n",
    "           \"IEV\": \"MSCI Europe\",\n",
    "           \"IXN\": \"Global Tech\",\n",
    "           \"IYR\": \"US Real Estate\",\n",
    "           \"IXG\": \"Global Financials\",\n",
    "           \"EXI\": \"Global Industrials\",\n",
    "           \"GC=F\": \"Gold Futures\", \n",
    "           \"BZ=F\": \"Brent Crude Oil Futures\",\n",
    "           \"HYG\": \"High-Yield Corporate Bonds\",\n",
    "           \"TLT\": \"20+ Year Treasury Bonds\"}\n",
    "tickers = list(assets.keys())\n",
    "asset_names = list(assets.values())\n",
    "stocks = tickers[:7]\n",
    "commodities = tickers[7:9]\n",
    "bonds = tickers[9:]"
   ]
  },
  {
   "cell_type": "code",
   "execution_count": 14,
   "metadata": {},
   "outputs": [],
   "source": [
    "models = ['sGARCH10', 'sGARCH11', 'gjrGARCH11']\n",
    "tuning_gamma_Ds = [1.52e-6, 2.3e-5, 1e-4]"
   ]
  },
  {
   "cell_type": "code",
   "execution_count": null,
   "metadata": {},
   "outputs": [],
   "source": [
    "def remove_extreme(num, tolerance):\n",
    "    if num > tolerance:\n",
    "        return tolerance\n",
    "    if num < 0:\n",
    "        return np.nan\n",
    "    return num"
   ]
  },
  {
   "cell_type": "code",
   "execution_count": null,
   "metadata": {},
   "outputs": [],
   "source": [
    "def calc_TC(model, tuning_gamma_D, assets):\n",
    "    v_t_s, out_of_sample, in_sample, Omega_ts = db.garch_with_trading_cost(tickers=assets, model_type=model, tuning_gamma_D=tuning_gamma_D)\n",
    "    out_of_sample = out_of_sample.divide(100)\n",
    "    \n",
    "    delayed_weights = v_t_s.shift(1).iloc[1:]\n",
    "    portfolio_returns = delayed_weights.multiply(out_of_sample).sum(axis=1).to_frame()\n",
    "    \n",
    "    \n",
    "    TC = ctc(v_t_s, out_of_sample, Omega_ts)\n",
    "    portfolio_returns.columns = ['GARCH']\n",
    "    portfolio_returns['GARCH TC'] = portfolio_returns['GARCH']-TC\n",
    "    cum_portfolio_returns = portfolio_returns.add(1).cumprod()\n",
    "    cum_portfolio_returns = cum_portfolio_returns.divide(cum_portfolio_returns.iloc[0])\n",
    "    cum_portfolio_returns = cum_portfolio_returns.apply(cs.clean_up_returns, axis=0)\n",
    "    \n",
    "    last_valid_index = cum_portfolio_returns.reset_index().loc[:, ['GARCH TC']].last_valid_index()+1\n",
    "    print(f'Model: {model}\\t Tuning_gamma_D: {tuning_gamma_D}\\t Last valid index: {last_valid_index}\\n')\n",
    "    TC = TC[:last_valid_index]\n",
    "    TC = [remove_extreme(x, 1) for x in TC]\n",
    "    \n",
    "    \n",
    "    return TC"
   ]
  },
  {
   "cell_type": "code",
   "execution_count": null,
   "metadata": {},
   "outputs": [],
   "source": [
    "def calc_multiple_TC(tickers):\n",
    "    TCs = []\n",
    "    for model in models:\n",
    "        row = []\n",
    "        for tuning_gamma_D in tuning_gamma_Ds:\n",
    "            row.append(calc_TC(model, tuning_gamma_D, tickers))\n",
    "        TCs.append(row)\n",
    "    TCs_mean = [[np.nanmean(TC) for TC in TC_row] for TC_row in TCs]\n",
    "    return TCs, TCs_mean"
   ]
  },
  {
   "cell_type": "code",
   "execution_count": null,
   "metadata": {
    "collapsed": true,
    "jupyter": {
     "outputs_hidden": true
    },
    "tags": []
   },
   "outputs": [],
   "source": [
    "TCs_all, TCs_all_mean = calc_multiple_TC(tickers)"
   ]
  },
  {
   "cell_type": "code",
   "execution_count": null,
   "metadata": {
    "collapsed": true,
    "jupyter": {
     "outputs_hidden": true
    },
    "tags": []
   },
   "outputs": [],
   "source": [
    "TCs_bonds, TCs_bonds_mean = calc_multiple_TC(bonds)"
   ]
  },
  {
   "cell_type": "code",
   "execution_count": null,
   "metadata": {
    "collapsed": true,
    "jupyter": {
     "outputs_hidden": true
    },
    "tags": []
   },
   "outputs": [],
   "source": [
    "TCs_stocks, TCs_stocks_mean = calc_multiple_TC(stocks)"
   ]
  },
  {
   "cell_type": "code",
   "execution_count": 15,
   "metadata": {
    "tags": []
   },
   "outputs": [
    {
     "name": "stdout",
     "output_type": "stream",
     "text": [
      "['GC=F', 'BZ=F']\n",
      "Solving problem with trading costs. gamma_D = 1.526988705495546e-06, tuning gamma_D = 1.52e-06\n",
      "Model: sGARCH10\t Tuning_gamma_D: 1.52e-06\t Last valid index: 1000\n",
      "\n",
      "['GC=F', 'BZ=F']\n",
      "Solving problem with trading costs. gamma_D = 1.526988705495546e-06, tuning gamma_D = 2.3e-05\n",
      "Model: sGARCH10\t Tuning_gamma_D: 2.3e-05\t Last valid index: 1000\n",
      "\n",
      "['GC=F', 'BZ=F']\n",
      "Solving problem with trading costs. gamma_D = 1.526988705495546e-06, tuning gamma_D = 0.0001\n",
      "Model: sGARCH10\t Tuning_gamma_D: 0.0001\t Last valid index: 1000\n",
      "\n",
      "['GC=F', 'BZ=F']\n",
      "Solving problem with trading costs. gamma_D = 1.526988705495546e-06, tuning gamma_D = 1.52e-06\n",
      "Model: sGARCH11\t Tuning_gamma_D: 1.52e-06\t Last valid index: 1000\n",
      "\n",
      "['GC=F', 'BZ=F']\n",
      "Solving problem with trading costs. gamma_D = 1.526988705495546e-06, tuning gamma_D = 2.3e-05\n",
      "Model: sGARCH11\t Tuning_gamma_D: 2.3e-05\t Last valid index: 1000\n",
      "\n",
      "['GC=F', 'BZ=F']\n",
      "Solving problem with trading costs. gamma_D = 1.526988705495546e-06, tuning gamma_D = 0.0001\n",
      "Model: sGARCH11\t Tuning_gamma_D: 0.0001\t Last valid index: 1000\n",
      "\n",
      "['GC=F', 'BZ=F']\n",
      "Solving problem with trading costs. gamma_D = 1.526988705495546e-06, tuning gamma_D = 1.52e-06\n",
      "Model: gjrGARCH11\t Tuning_gamma_D: 1.52e-06\t Last valid index: 1000\n",
      "\n",
      "['GC=F', 'BZ=F']\n",
      "Solving problem with trading costs. gamma_D = 1.526988705495546e-06, tuning gamma_D = 2.3e-05\n",
      "Model: gjrGARCH11\t Tuning_gamma_D: 2.3e-05\t Last valid index: 1000\n",
      "\n",
      "['GC=F', 'BZ=F']\n",
      "Solving problem with trading costs. gamma_D = 1.526988705495546e-06, tuning gamma_D = 0.0001\n",
      "Model: gjrGARCH11\t Tuning_gamma_D: 0.0001\t Last valid index: 1000\n",
      "\n"
     ]
    }
   ],
   "source": [
    "TCs_com, TCs_com_mean = calc_multiple_TC(commodities)"
   ]
  },
  {
   "cell_type": "code",
   "execution_count": null,
   "metadata": {},
   "outputs": [],
   "source": [
    "def annualize_TC(TC):\n",
    "    TC = np.array(TC)*(-1)\n",
    "    TC += 1\n",
    "    TC_cum = np.cumprod(TC)\n",
    "\n",
    "    total_costs = pd.Series(TC_cum).ffill().iloc[-1]\n",
    "    non_num_nan = len(TC)-np.isnan(TC).sum()\n",
    "    ann_TC = 1-(total_costs ** (250/non_num_nan))\n",
    "    return ann_TC"
   ]
  },
  {
   "cell_type": "code",
   "execution_count": null,
   "metadata": {
    "tags": []
   },
   "outputs": [],
   "source": [
    "TC_all_ann = [[annualize_TC(TC) for TC in TC_row] for TC_row in TCs_all]"
   ]
  },
  {
   "cell_type": "code",
   "execution_count": 13,
   "metadata": {},
   "outputs": [
    {
     "data": {
      "text/plain": [
       "[[1.0, 1.0, 0.010196144501461224],\n",
       " [0.23498180368399502, 0.02044424992313698, 0.0015071610251624623],\n",
       " [0.2614580904208156, 0.024021590208062604, 0.0018126594185378098]]"
      ]
     },
     "execution_count": 13,
     "metadata": {},
     "output_type": "execute_result"
    }
   ],
   "source": [
    "TC_all_ann"
   ]
  },
  {
   "cell_type": "code",
   "execution_count": null,
   "metadata": {},
   "outputs": [],
   "source": [
    "TC_bonds_ann = [[annualize_TC(TC) for TC in TC_row] for TC_row in TCs_bonds]"
   ]
  },
  {
   "cell_type": "code",
   "execution_count": null,
   "metadata": {
    "tags": []
   },
   "outputs": [],
   "source": [
    "TC_stocks_ann = [[annualize_TC(TC) for TC in TC_row] for TC_row in TCs_stocks]"
   ]
  },
  {
   "cell_type": "code",
   "execution_count": 16,
   "metadata": {},
   "outputs": [],
   "source": [
    "TC_com_ann = [[annualize_TC(TC) for TC in TC_row] for TC_row in TCs_com]"
   ]
  },
  {
   "cell_type": "code",
   "execution_count": 17,
   "metadata": {},
   "outputs": [
    {
     "data": {
      "text/plain": [
       "[[0.5543273135366773, 0.013585162569904052, 0.0007984900420507923],\n",
       " [0.1671942991230162, 0.0046076676281128215, 0.0004429722753863663],\n",
       " [0.1377667890676566, 0.004144497927543678, 0.00044344884675973084]]"
      ]
     },
     "execution_count": 17,
     "metadata": {},
     "output_type": "execute_result"
    }
   ],
   "source": [
    "TC_com_ann"
   ]
  },
  {
   "cell_type": "markdown",
   "metadata": {},
   "source": [
    "### Equal weight costs"
   ]
  },
  {
   "cell_type": "code",
   "execution_count": 18,
   "metadata": {},
   "outputs": [],
   "source": [
    "def calc_TC_EW():\n",
    "    TCs = []\n",
    "    assets = [tickers, bonds, stocks, commodities]\n",
    "    for model in models:\n",
    "        row = []\n",
    "        for asset_list in assets:\n",
    "            out_of_sample, in_sample, sigmas, residuals, params_dict = db.split_fit_parse(asset_list, start=\"2008-01-01\", end=\"2021-10-02\",\n",
    "                                                                               number_of_out_of_sample_days=1000, model_type=model)\n",
    "            Omega_ts = db.calc_Omega_ts(out_of_sample_returns=out_of_sample, in_sample_returns=in_sample,\n",
    "                             in_sample_sigmas=sigmas, in_sample_residuals=residuals, **params_dict)\n",
    "            weight_index = in_sample.index[[-1]].union(out_of_sample.index)\n",
    "            \n",
    "            p = len(asset_list)\n",
    "            weights_shape = (1001, p)\n",
    "            EW = pd.DataFrame(np.full(weights_shape, (1/p)), index=weight_index)\n",
    "            out_of_sample = out_of_sample.divide(100)\n",
    "            TC_EW = ctc(weights=EW, returns=out_of_sample, Omega_ts=Omega_ts, portfolio_value=1e9)\n",
    "            TC_EW = [remove_extreme(x, 1) for x in TC_EW]\n",
    "            row.append(TC_EW)\n",
    "        TCs.append(row)\n",
    "    return TCs"
   ]
  },
  {
   "cell_type": "code",
   "execution_count": 19,
   "metadata": {},
   "outputs": [
    {
     "name": "stdout",
     "output_type": "stream",
     "text": [
      "['EEM', 'IVV', 'IEV', 'IXN', 'IYR', 'IXG', 'EXI', 'GC=F', 'BZ=F', 'HYG', 'TLT']\n",
      "['HYG', 'TLT']\n",
      "['EEM', 'IVV', 'IEV', 'IXN', 'IYR', 'IXG', 'EXI']\n",
      "['GC=F', 'BZ=F']\n",
      "['EEM', 'IVV', 'IEV', 'IXN', 'IYR', 'IXG', 'EXI', 'GC=F', 'BZ=F', 'HYG', 'TLT']\n",
      "['HYG', 'TLT']\n",
      "['EEM', 'IVV', 'IEV', 'IXN', 'IYR', 'IXG', 'EXI']\n",
      "['GC=F', 'BZ=F']\n",
      "['EEM', 'IVV', 'IEV', 'IXN', 'IYR', 'IXG', 'EXI', 'GC=F', 'BZ=F', 'HYG', 'TLT']\n",
      "['HYG', 'TLT']\n",
      "['EEM', 'IVV', 'IEV', 'IXN', 'IYR', 'IXG', 'EXI']\n",
      "['GC=F', 'BZ=F']\n"
     ]
    }
   ],
   "source": [
    "TCs_EW = calc_TC_EW()"
   ]
  },
  {
   "cell_type": "code",
   "execution_count": 20,
   "metadata": {},
   "outputs": [],
   "source": [
    "TCs_EW_ann = [[annualize_TC(TC) for TC in TC_row] for TC_row in TCs_EW]"
   ]
  },
  {
   "cell_type": "code",
   "execution_count": 21,
   "metadata": {},
   "outputs": [
    {
     "data": {
      "text/plain": [
       "[[0.043599296043518865,\n",
       "  0.008481584089645389,\n",
       "  0.01312667288290481,\n",
       "  0.06357385076324906],\n",
       " [0.05020255378691285,\n",
       "  0.009966997484608497,\n",
       "  0.014707796587701716,\n",
       "  0.08225260437137927],\n",
       " [0.05237439235482899,\n",
       "  0.011340533154792332,\n",
       "  0.01498933624827048,\n",
       "  0.0778527615801684]]"
      ]
     },
     "execution_count": 21,
     "metadata": {},
     "output_type": "execute_result"
    }
   ],
   "source": [
    "TCs_EW_ann"
   ]
  },
  {
   "cell_type": "code",
   "execution_count": null,
   "metadata": {},
   "outputs": [],
   "source": []
  }
 ],
 "metadata": {
  "kernelspec": {
   "display_name": "Python 3",
   "language": "python",
   "name": "python3"
  },
  "language_info": {
   "codemirror_mode": {
    "name": "ipython",
    "version": 3
   },
   "file_extension": ".py",
   "mimetype": "text/x-python",
   "name": "python",
   "nbconvert_exporter": "python",
   "pygments_lexer": "ipython3",
   "version": "3.7.0"
  }
 },
 "nbformat": 4,
 "nbformat_minor": 4
}
