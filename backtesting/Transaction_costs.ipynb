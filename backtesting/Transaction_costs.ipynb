{
 "cells": [
  {
   "cell_type": "markdown",
   "metadata": {},
   "source": [
    "### Measuring transaction costs and trading volume"
   ]
  },
  {
   "cell_type": "code",
   "execution_count": 287,
   "metadata": {},
   "outputs": [],
   "source": [
    "import sys\n",
    "import pandas as pd\n",
    "import matplotlib.pyplot as plt\n",
    "import matplotlib\n",
    "import numpy as np\n",
    "import scipy.stats as scipy\n",
    "sys.path.append(\"utils\")\n",
    "import dynamic_backtesting as db\n",
    "from compare_strategies import calc_transaction_costs as ctc\n",
    "import compare_strategies as cs\n",
    "plt.style.use('seaborn')\n",
    "matplotlib.rcParams['axes.prop_cycle'] = matplotlib.cycler(color=[\"black\", \"green\",  \"deepskyblue\", \"orange\",\"grey\", \"lime\", \"purple\", \"Gold\", \"brown\", \"blue\", \"pink\"]) "
   ]
  },
  {
   "cell_type": "code",
   "execution_count": 288,
   "metadata": {},
   "outputs": [],
   "source": [
    "assets = {\"EEM\": \"Emerging Markets\",\n",
    "           \"IVV\": \"S&P 500\",\n",
    "           \"IEV\": \"MSCI Europe\",\n",
    "           \"IXN\": \"Global Tech\",\n",
    "           \"IYR\": \"US Real Estate\",\n",
    "           \"IXG\": \"Global Financials\",\n",
    "           \"EXI\": \"Global Industrials\",\n",
    "           \"GC=F\": \"Gold Futures\", \n",
    "           \"BZ=F\": \"Brent Crude Oil Futures\",\n",
    "           \"HYG\": \"High-Yield Corporate Bonds\",\n",
    "           \"TLT\": \"20+ Year Treasury Bonds\"}\n",
    "tickers = list(assets.keys())\n",
    "asset_names = list(assets.values())\n",
    "stocks = tickers[:7]\n",
    "commodities = tickers[7:9]\n",
    "bonds = tickers[9:]"
   ]
  },
  {
   "cell_type": "code",
   "execution_count": 271,
   "metadata": {},
   "outputs": [],
   "source": [
    "models = ['sGARCH10', 'sGARCH11', 'gjrGARCH11']\n",
    "tuning_gamma_Ds = [1.52e-6, 1.3e-5, 1e-4]"
   ]
  },
  {
   "cell_type": "code",
   "execution_count": 323,
   "metadata": {},
   "outputs": [],
   "source": [
    "def remove_extreme(num, tolerance):\n",
    "    if num > tolerance:\n",
    "        return tolerance\n",
    "    if num < 0:\n",
    "        return np.nan\n",
    "    return num"
   ]
  },
  {
   "cell_type": "code",
   "execution_count": 324,
   "metadata": {},
   "outputs": [],
   "source": [
    "def calc_TC(model, tuning_gamma_D, assets):\n",
    "    v_t_s, out_of_sample, in_sample, Omega_ts = db.garch_with_trading_cost(tickers=assets, model_type=model, tuning_gamma_D=tuning_gamma_D)\n",
    "    out_of_sample = out_of_sample.divide(100)\n",
    "    \n",
    "    delayed_weights = v_t_s.shift(1).iloc[1:]\n",
    "    portfolio_returns = delayed_weights.multiply(out_of_sample).sum(axis=1).to_frame()\n",
    "    \n",
    "    \n",
    "    TC = ctc(v_t_s, out_of_sample, Omega_ts)\n",
    "    portfolio_returns.columns = ['GARCH']\n",
    "    portfolio_returns['GARCH TC'] = portfolio_returns['GARCH']-TC\n",
    "    cum_portfolio_returns = portfolio_returns.add(1).cumprod()\n",
    "    cum_portfolio_returns = cum_portfolio_returns.divide(cum_portfolio_returns.iloc[0])\n",
    "    cum_portfolio_returns = cum_portfolio_returns.apply(cs.clean_up_returns, axis=0)\n",
    "    \n",
    "    last_valid_index = cum_portfolio_returns.reset_index().loc[:, ['GARCH TC']].last_valid_index()+1\n",
    "    print(f'Model: {model}\\t Tuning_gamma_D: {tuning_gamma_D}\\t Last valid index: {last_valid_index}\\n')\n",
    "    TC = TC[:last_valid_index]\n",
    "    TC = [remove_extreme(x, 1) for x in TC]\n",
    "    \n",
    "    \n",
    "    return TC"
   ]
  },
  {
   "cell_type": "code",
   "execution_count": 325,
   "metadata": {},
   "outputs": [],
   "source": [
    "def calc_multiple_TC(tickers):\n",
    "    TCs = []\n",
    "    for model in models:\n",
    "        row = []\n",
    "        for tuning_gamma_D in tuning_gamma_Ds:\n",
    "            row.append(calc_TC(model, tuning_gamma_D, tickers))\n",
    "        TCs.append(row)\n",
    "    TCs_mean = [[np.nanmean(TC) for TC in TC_row] for TC_row in TCs]\n",
    "    return TCs, TCs_mean"
   ]
  },
  {
   "cell_type": "code",
   "execution_count": 305,
   "metadata": {
    "collapsed": true,
    "jupyter": {
     "outputs_hidden": true
    },
    "tags": []
   },
   "outputs": [
    {
     "name": "stdout",
     "output_type": "stream",
     "text": [
      "['EEM', 'IVV', 'IEV', 'IXN', 'IYR', 'IXG', 'EXI', 'GC=F', 'BZ=F', 'HYG', 'TLT']\n"
     ]
    },
    {
     "name": "stderr",
     "output_type": "stream",
     "text": [
      "R[write to console]: \n",
      "\n"
     ]
    },
    {
     "ename": "RRuntimeError",
     "evalue": "Error in as.POSIXlt.character(x, tz, ...) : \n  character string is not in a standard unambiguous format\n",
     "output_type": "error",
     "traceback": [
      "\u001b[0;31m---------------------------------------------------------------------------\u001b[0m",
      "\u001b[0;31mRRuntimeError\u001b[0m                             Traceback (most recent call last)",
      "\u001b[0;32m<ipython-input-305-df6d0e584648>\u001b[0m in \u001b[0;36m<module>\u001b[0;34m\u001b[0m\n\u001b[0;32m----> 1\u001b[0;31m \u001b[0mTCs_all\u001b[0m\u001b[0;34m,\u001b[0m \u001b[0mTCs_all_mean\u001b[0m \u001b[0;34m=\u001b[0m \u001b[0mcalc_multiple_TC\u001b[0m\u001b[0;34m(\u001b[0m\u001b[0mtickers\u001b[0m\u001b[0;34m)\u001b[0m\u001b[0;34m\u001b[0m\u001b[0m\n\u001b[0m",
      "\u001b[0;32m<ipython-input-304-7f7ded242263>\u001b[0m in \u001b[0;36mcalc_multiple_TC\u001b[0;34m(tickers)\u001b[0m\n\u001b[1;32m      4\u001b[0m         \u001b[0mrow\u001b[0m \u001b[0;34m=\u001b[0m \u001b[0;34m[\u001b[0m\u001b[0;34m]\u001b[0m\u001b[0;34m\u001b[0m\u001b[0m\n\u001b[1;32m      5\u001b[0m         \u001b[0;32mfor\u001b[0m \u001b[0mtuning_gamma_D\u001b[0m \u001b[0;32min\u001b[0m \u001b[0mtuning_gamma_Ds\u001b[0m\u001b[0;34m:\u001b[0m\u001b[0;34m\u001b[0m\u001b[0m\n\u001b[0;32m----> 6\u001b[0;31m             \u001b[0mrow\u001b[0m\u001b[0;34m.\u001b[0m\u001b[0mappend\u001b[0m\u001b[0;34m(\u001b[0m\u001b[0mcalc_TC\u001b[0m\u001b[0;34m(\u001b[0m\u001b[0mmodel\u001b[0m\u001b[0;34m,\u001b[0m \u001b[0mtuning_gamma_D\u001b[0m\u001b[0;34m,\u001b[0m \u001b[0mtickers\u001b[0m\u001b[0;34m)\u001b[0m\u001b[0;34m)\u001b[0m\u001b[0;34m\u001b[0m\u001b[0m\n\u001b[0m\u001b[1;32m      7\u001b[0m         \u001b[0mTCs\u001b[0m\u001b[0;34m.\u001b[0m\u001b[0mappend\u001b[0m\u001b[0;34m(\u001b[0m\u001b[0mrow\u001b[0m\u001b[0;34m)\u001b[0m\u001b[0;34m\u001b[0m\u001b[0m\n\u001b[1;32m      8\u001b[0m     \u001b[0mTCs_mean\u001b[0m \u001b[0;34m=\u001b[0m \u001b[0;34m[\u001b[0m\u001b[0;34m[\u001b[0m\u001b[0mnp\u001b[0m\u001b[0;34m.\u001b[0m\u001b[0mnanmean\u001b[0m\u001b[0;34m(\u001b[0m\u001b[0mTC\u001b[0m\u001b[0;34m)\u001b[0m \u001b[0;32mfor\u001b[0m \u001b[0mTC\u001b[0m \u001b[0;32min\u001b[0m \u001b[0mTC_row\u001b[0m\u001b[0;34m]\u001b[0m \u001b[0;32mfor\u001b[0m \u001b[0mTC_row\u001b[0m \u001b[0;32min\u001b[0m \u001b[0mTCs\u001b[0m\u001b[0;34m]\u001b[0m\u001b[0;34m\u001b[0m\u001b[0m\n",
      "\u001b[0;32m<ipython-input-303-3890a3c8cedc>\u001b[0m in \u001b[0;36mcalc_TC\u001b[0;34m(model, tuning_gamma_D, assets)\u001b[0m\n\u001b[1;32m      1\u001b[0m \u001b[0;32mdef\u001b[0m \u001b[0mcalc_TC\u001b[0m\u001b[0;34m(\u001b[0m\u001b[0mmodel\u001b[0m\u001b[0;34m,\u001b[0m \u001b[0mtuning_gamma_D\u001b[0m\u001b[0;34m,\u001b[0m \u001b[0massets\u001b[0m\u001b[0;34m)\u001b[0m\u001b[0;34m:\u001b[0m\u001b[0;34m\u001b[0m\u001b[0m\n\u001b[0;32m----> 2\u001b[0;31m     \u001b[0mv_t_s\u001b[0m\u001b[0;34m,\u001b[0m \u001b[0mout_of_sample\u001b[0m\u001b[0;34m,\u001b[0m \u001b[0min_sample\u001b[0m\u001b[0;34m,\u001b[0m \u001b[0mOmega_ts\u001b[0m \u001b[0;34m=\u001b[0m \u001b[0mdb\u001b[0m\u001b[0;34m.\u001b[0m\u001b[0mgarch_with_trading_cost\u001b[0m\u001b[0;34m(\u001b[0m\u001b[0mtickers\u001b[0m\u001b[0;34m=\u001b[0m\u001b[0massets\u001b[0m\u001b[0;34m,\u001b[0m \u001b[0mmodel_type\u001b[0m\u001b[0;34m=\u001b[0m\u001b[0mmodel\u001b[0m\u001b[0;34m,\u001b[0m \u001b[0mtuning_gamma_D\u001b[0m\u001b[0;34m=\u001b[0m\u001b[0mtuning_gamma_D\u001b[0m\u001b[0;34m)\u001b[0m\u001b[0;34m\u001b[0m\u001b[0m\n\u001b[0m\u001b[1;32m      3\u001b[0m     \u001b[0mout_of_sample\u001b[0m \u001b[0;34m=\u001b[0m \u001b[0mout_of_sample\u001b[0m\u001b[0;34m.\u001b[0m\u001b[0mdivide\u001b[0m\u001b[0;34m(\u001b[0m\u001b[0;36m100\u001b[0m\u001b[0;34m)\u001b[0m\u001b[0;34m\u001b[0m\u001b[0m\n\u001b[1;32m      4\u001b[0m \u001b[0;34m\u001b[0m\u001b[0m\n\u001b[1;32m      5\u001b[0m     \u001b[0mdelayed_weights\u001b[0m \u001b[0;34m=\u001b[0m \u001b[0mv_t_s\u001b[0m\u001b[0;34m.\u001b[0m\u001b[0mshift\u001b[0m\u001b[0;34m(\u001b[0m\u001b[0;36m1\u001b[0m\u001b[0;34m)\u001b[0m\u001b[0;34m.\u001b[0m\u001b[0miloc\u001b[0m\u001b[0;34m[\u001b[0m\u001b[0;36m1\u001b[0m\u001b[0;34m:\u001b[0m\u001b[0;34m]\u001b[0m\u001b[0;34m\u001b[0m\u001b[0m\n",
      "\u001b[0;32m~/thesis/backtesting/utils/dynamic_backtesting.py\u001b[0m in \u001b[0;36mgarch_with_trading_cost\u001b[0;34m(tickers, start, end, number_of_out_of_sample_days, model_type, tuning_gamma_D)\u001b[0m\n\u001b[1;32m    272\u001b[0m     \u001b[0;32massert\u001b[0m \u001b[0;34m(\u001b[0m\u001b[0mmodel_type\u001b[0m \u001b[0;32min\u001b[0m \u001b[0;34m(\u001b[0m\u001b[0;34m\"sGARCH11\"\u001b[0m\u001b[0;34m,\u001b[0m \u001b[0;34m\"sGARCH10\"\u001b[0m\u001b[0;34m,\u001b[0m \u001b[0;34m\"gjrGARCH11\"\u001b[0m\u001b[0;34m)\u001b[0m\u001b[0;34m)\u001b[0m\u001b[0;34m\u001b[0m\u001b[0m\n\u001b[1;32m    273\u001b[0m     out_of_sample, in_sample, sigmas, residuals, params_dict = split_fit_parse(tickers, start, end,\n\u001b[0;32m--> 274\u001b[0;31m                                                                                number_of_out_of_sample_days, model_type)\n\u001b[0m\u001b[1;32m    275\u001b[0m \u001b[0;34m\u001b[0m\u001b[0m\n\u001b[1;32m    276\u001b[0m     Omega_ts = calc_Omega_ts(out_of_sample_returns=out_of_sample, in_sample_returns=in_sample,\n",
      "\u001b[0;32m~/thesis/backtesting/utils/dynamic_backtesting.py\u001b[0m in \u001b[0;36msplit_fit_parse\u001b[0;34m(tickers, start, end, number_of_out_of_sample_days, model_type)\u001b[0m\n\u001b[1;32m    233\u001b[0m     \u001b[0;31m# Fit model\u001b[0m\u001b[0;34m\u001b[0m\u001b[0;34m\u001b[0m\u001b[0m\n\u001b[1;32m    234\u001b[0m     coef, residuals, sigmas = fit_garch_model(tickers=tickers, len_out_of_sample=number_of_out_of_sample_days,\n\u001b[0;32m--> 235\u001b[0;31m                                               ugarch_model=garch_type, garch_order=garch_order)\n\u001b[0m\u001b[1;32m    236\u001b[0m \u001b[0;34m\u001b[0m\u001b[0m\n\u001b[1;32m    237\u001b[0m     \u001b[0;31m# Parse variables\u001b[0m\u001b[0;34m\u001b[0m\u001b[0;34m\u001b[0m\u001b[0m\n",
      "\u001b[0;32m~/thesis/backtesting/utils/dynamic_backtesting.py\u001b[0m in \u001b[0;36mfit_garch_model\u001b[0;34m(tickers, len_out_of_sample, ugarch_model, garch_order)\u001b[0m\n\u001b[1;32m     64\u001b[0m     \u001b[0;31m# Fit the MGARCH model and receive the result\u001b[0m\u001b[0;34m\u001b[0m\u001b[0;34m\u001b[0m\u001b[0m\n\u001b[1;32m     65\u001b[0m     \u001b[0mugarch_dist_model\u001b[0m \u001b[0;34m=\u001b[0m \u001b[0;34m\"std\"\u001b[0m       \u001b[0;31m# t-distribution for the individual models\u001b[0m\u001b[0;34m\u001b[0m\u001b[0m\n\u001b[0;32m---> 66\u001b[0;31m     \u001b[0mcoef\u001b[0m\u001b[0;34m,\u001b[0m \u001b[0mresiduals\u001b[0m\u001b[0;34m,\u001b[0m \u001b[0msigmas\u001b[0m \u001b[0;34m=\u001b[0m \u001b[0mfit_mgarch_r\u001b[0m\u001b[0;34m(\u001b[0m\u001b[0mtickers\u001b[0m\u001b[0;34m,\u001b[0m \u001b[0mlen_out_of_sample\u001b[0m\u001b[0;34m,\u001b[0m \u001b[0mugarch_model\u001b[0m\u001b[0;34m,\u001b[0m \u001b[0mugarch_dist_model\u001b[0m\u001b[0;34m,\u001b[0m \u001b[0mgarch_order\u001b[0m\u001b[0;34m)\u001b[0m\u001b[0;34m\u001b[0m\u001b[0m\n\u001b[0m\u001b[1;32m     67\u001b[0m     \u001b[0;32mreturn\u001b[0m \u001b[0mcoef\u001b[0m\u001b[0;34m,\u001b[0m \u001b[0mresiduals\u001b[0m\u001b[0;34m,\u001b[0m \u001b[0msigmas\u001b[0m\u001b[0;34m\u001b[0m\u001b[0m\n\u001b[1;32m     68\u001b[0m \u001b[0;34m\u001b[0m\u001b[0m\n",
      "\u001b[0;32m/Library/Frameworks/Python.framework/Versions/3.7/lib/python3.7/site-packages/rpy2/robjects/functions.py\u001b[0m in \u001b[0;36m__call__\u001b[0;34m(self, *args, **kwargs)\u001b[0m\n\u001b[1;32m    197\u001b[0m                 \u001b[0mkwargs\u001b[0m\u001b[0;34m[\u001b[0m\u001b[0mr_k\u001b[0m\u001b[0;34m]\u001b[0m \u001b[0;34m=\u001b[0m \u001b[0mv\u001b[0m\u001b[0;34m\u001b[0m\u001b[0m\n\u001b[1;32m    198\u001b[0m         return (super(SignatureTranslatedFunction, self)\n\u001b[0;32m--> 199\u001b[0;31m                 .__call__(*args, **kwargs))\n\u001b[0m\u001b[1;32m    200\u001b[0m \u001b[0;34m\u001b[0m\u001b[0m\n\u001b[1;32m    201\u001b[0m \u001b[0;34m\u001b[0m\u001b[0m\n",
      "\u001b[0;32m/Library/Frameworks/Python.framework/Versions/3.7/lib/python3.7/site-packages/rpy2/robjects/functions.py\u001b[0m in \u001b[0;36m__call__\u001b[0;34m(self, *args, **kwargs)\u001b[0m\n\u001b[1;32m    123\u001b[0m             \u001b[0;32melse\u001b[0m\u001b[0;34m:\u001b[0m\u001b[0;34m\u001b[0m\u001b[0m\n\u001b[1;32m    124\u001b[0m                 \u001b[0mnew_kwargs\u001b[0m\u001b[0;34m[\u001b[0m\u001b[0mk\u001b[0m\u001b[0;34m]\u001b[0m \u001b[0;34m=\u001b[0m \u001b[0mconversion\u001b[0m\u001b[0;34m.\u001b[0m\u001b[0mpy2rpy\u001b[0m\u001b[0;34m(\u001b[0m\u001b[0mv\u001b[0m\u001b[0;34m)\u001b[0m\u001b[0;34m\u001b[0m\u001b[0m\n\u001b[0;32m--> 125\u001b[0;31m         \u001b[0mres\u001b[0m \u001b[0;34m=\u001b[0m \u001b[0msuper\u001b[0m\u001b[0;34m(\u001b[0m\u001b[0mFunction\u001b[0m\u001b[0;34m,\u001b[0m \u001b[0mself\u001b[0m\u001b[0;34m)\u001b[0m\u001b[0;34m.\u001b[0m\u001b[0m__call__\u001b[0m\u001b[0;34m(\u001b[0m\u001b[0;34m*\u001b[0m\u001b[0mnew_args\u001b[0m\u001b[0;34m,\u001b[0m \u001b[0;34m**\u001b[0m\u001b[0mnew_kwargs\u001b[0m\u001b[0;34m)\u001b[0m\u001b[0;34m\u001b[0m\u001b[0m\n\u001b[0m\u001b[1;32m    126\u001b[0m         \u001b[0mres\u001b[0m \u001b[0;34m=\u001b[0m \u001b[0mconversion\u001b[0m\u001b[0;34m.\u001b[0m\u001b[0mrpy2py\u001b[0m\u001b[0;34m(\u001b[0m\u001b[0mres\u001b[0m\u001b[0;34m)\u001b[0m\u001b[0;34m\u001b[0m\u001b[0m\n\u001b[1;32m    127\u001b[0m         \u001b[0;32mreturn\u001b[0m \u001b[0mres\u001b[0m\u001b[0;34m\u001b[0m\u001b[0m\n",
      "\u001b[0;32m/Library/Frameworks/Python.framework/Versions/3.7/lib/python3.7/site-packages/rpy2/rinterface_lib/conversion.py\u001b[0m in \u001b[0;36m_\u001b[0;34m(*args, **kwargs)\u001b[0m\n\u001b[1;32m     43\u001b[0m \u001b[0;32mdef\u001b[0m \u001b[0m_cdata_res_to_rinterface\u001b[0m\u001b[0;34m(\u001b[0m\u001b[0mfunction\u001b[0m\u001b[0;34m)\u001b[0m\u001b[0;34m:\u001b[0m\u001b[0;34m\u001b[0m\u001b[0m\n\u001b[1;32m     44\u001b[0m     \u001b[0;32mdef\u001b[0m \u001b[0m_\u001b[0m\u001b[0;34m(\u001b[0m\u001b[0;34m*\u001b[0m\u001b[0margs\u001b[0m\u001b[0;34m,\u001b[0m \u001b[0;34m**\u001b[0m\u001b[0mkwargs\u001b[0m\u001b[0;34m)\u001b[0m\u001b[0;34m:\u001b[0m\u001b[0;34m\u001b[0m\u001b[0m\n\u001b[0;32m---> 45\u001b[0;31m         \u001b[0mcdata\u001b[0m \u001b[0;34m=\u001b[0m \u001b[0mfunction\u001b[0m\u001b[0;34m(\u001b[0m\u001b[0;34m*\u001b[0m\u001b[0margs\u001b[0m\u001b[0;34m,\u001b[0m \u001b[0;34m**\u001b[0m\u001b[0mkwargs\u001b[0m\u001b[0;34m)\u001b[0m\u001b[0;34m\u001b[0m\u001b[0m\n\u001b[0m\u001b[1;32m     46\u001b[0m         \u001b[0;31m# TODO: test cdata is of the expected CType\u001b[0m\u001b[0;34m\u001b[0m\u001b[0;34m\u001b[0m\u001b[0m\n\u001b[1;32m     47\u001b[0m         \u001b[0;32mreturn\u001b[0m \u001b[0m_cdata_to_rinterface\u001b[0m\u001b[0;34m(\u001b[0m\u001b[0mcdata\u001b[0m\u001b[0;34m)\u001b[0m\u001b[0;34m\u001b[0m\u001b[0m\n",
      "\u001b[0;32m/Library/Frameworks/Python.framework/Versions/3.7/lib/python3.7/site-packages/rpy2/rinterface.py\u001b[0m in \u001b[0;36m__call__\u001b[0;34m(self, *args, **kwargs)\u001b[0m\n\u001b[1;32m    678\u001b[0m             )\n\u001b[1;32m    679\u001b[0m             \u001b[0;32mif\u001b[0m \u001b[0merror_occured\u001b[0m\u001b[0;34m[\u001b[0m\u001b[0;36m0\u001b[0m\u001b[0;34m]\u001b[0m\u001b[0;34m:\u001b[0m\u001b[0;34m\u001b[0m\u001b[0m\n\u001b[0;32m--> 680\u001b[0;31m                 \u001b[0;32mraise\u001b[0m \u001b[0membedded\u001b[0m\u001b[0;34m.\u001b[0m\u001b[0mRRuntimeError\u001b[0m\u001b[0;34m(\u001b[0m\u001b[0m_rinterface\u001b[0m\u001b[0;34m.\u001b[0m\u001b[0m_geterrmessage\u001b[0m\u001b[0;34m(\u001b[0m\u001b[0;34m)\u001b[0m\u001b[0;34m)\u001b[0m\u001b[0;34m\u001b[0m\u001b[0m\n\u001b[0m\u001b[1;32m    681\u001b[0m         \u001b[0;32mreturn\u001b[0m \u001b[0mres\u001b[0m\u001b[0;34m\u001b[0m\u001b[0m\n\u001b[1;32m    682\u001b[0m \u001b[0;34m\u001b[0m\u001b[0m\n",
      "\u001b[0;31mRRuntimeError\u001b[0m: Error in as.POSIXlt.character(x, tz, ...) : \n  character string is not in a standard unambiguous format\n"
     ]
    }
   ],
   "source": [
    "TCs_all, TCs_all_mean = calc_multiple_TC(tickers)"
   ]
  },
  {
   "cell_type": "code",
   "execution_count": 316,
   "metadata": {
    "collapsed": true,
    "jupyter": {
     "outputs_hidden": true
    },
    "tags": []
   },
   "outputs": [
    {
     "name": "stdout",
     "output_type": "stream",
     "text": [
      "['HYG', 'TLT']\n",
      "Solving problem with trading costs. gamma_D = 1.526988705495546e-06, tuning gamma_D = 1.52e-06\n",
      "Model: sGARCH10\t Tuning_gamma_D: 1.52e-06\t Last valid index: 999\n",
      "\n",
      "['HYG', 'TLT']\n",
      "Solving problem with trading costs. gamma_D = 1.526988705495546e-06, tuning gamma_D = 1.3e-05\n",
      "Model: sGARCH10\t Tuning_gamma_D: 1.3e-05\t Last valid index: 999\n",
      "\n",
      "['HYG', 'TLT']\n",
      "Solving problem with trading costs. gamma_D = 1.526988705495546e-06, tuning gamma_D = 0.0001\n",
      "Model: sGARCH10\t Tuning_gamma_D: 0.0001\t Last valid index: 999\n",
      "\n",
      "['HYG', 'TLT']\n",
      "Solving problem with trading costs. gamma_D = 1.526988705495546e-06, tuning gamma_D = 1.52e-06\n"
     ]
    },
    {
     "name": "stderr",
     "output_type": "stream",
     "text": [
      "utils/compare_strategies.py:52: RuntimeWarning: invalid value encountered in true_divide\n",
      "  relative_transaction_costs = dollar_transaction_costs/portfolio_value  # Divide by port value to get relative loss\n"
     ]
    },
    {
     "name": "stdout",
     "output_type": "stream",
     "text": [
      "Model: sGARCH11\t Tuning_gamma_D: 1.52e-06\t Last valid index: 485\n",
      "\n",
      "['HYG', 'TLT']\n",
      "Solving problem with trading costs. gamma_D = 1.526988705495546e-06, tuning gamma_D = 1.3e-05\n",
      "Model: sGARCH11\t Tuning_gamma_D: 1.3e-05\t Last valid index: 481\n",
      "\n",
      "['HYG', 'TLT']\n",
      "Solving problem with trading costs. gamma_D = 1.526988705495546e-06, tuning gamma_D = 0.0001\n",
      "Model: sGARCH11\t Tuning_gamma_D: 0.0001\t Last valid index: 999\n",
      "\n",
      "['HYG', 'TLT']\n",
      "Solving problem with trading costs. gamma_D = 1.526988705495546e-06, tuning gamma_D = 1.52e-06\n",
      "Model: gjrGARCH11\t Tuning_gamma_D: 1.52e-06\t Last valid index: 999\n",
      "\n",
      "['HYG', 'TLT']\n",
      "Solving problem with trading costs. gamma_D = 1.526988705495546e-06, tuning gamma_D = 1.3e-05\n",
      "Model: gjrGARCH11\t Tuning_gamma_D: 1.3e-05\t Last valid index: 566\n",
      "\n",
      "['HYG', 'TLT']\n",
      "Solving problem with trading costs. gamma_D = 1.526988705495546e-06, tuning gamma_D = 0.0001\n",
      "Model: gjrGARCH11\t Tuning_gamma_D: 0.0001\t Last valid index: 551\n",
      "\n"
     ]
    }
   ],
   "source": [
    "TCs_bonds, TCs_bonds_mean = calc_multiple_TC(bonds)"
   ]
  },
  {
   "cell_type": "code",
   "execution_count": 306,
   "metadata": {
    "collapsed": true,
    "jupyter": {
     "outputs_hidden": true
    },
    "tags": []
   },
   "outputs": [
    {
     "name": "stdout",
     "output_type": "stream",
     "text": [
      "['EEM', 'IVV', 'IEV', 'IXN', 'IYR', 'IXG', 'EXI']\n",
      "Solving problem with trading costs. gamma_D = 1.526988705495546e-06, tuning gamma_D = 1.52e-06\n",
      "Last valid index: 13\n",
      "['EEM', 'IVV', 'IEV', 'IXN', 'IYR', 'IXG', 'EXI']\n",
      "Solving problem with trading costs. gamma_D = 1.526988705495546e-06, tuning gamma_D = 1.3e-05\n",
      "Last valid index: 999\n",
      "['EEM', 'IVV', 'IEV', 'IXN', 'IYR', 'IXG', 'EXI']\n",
      "Solving problem with trading costs. gamma_D = 1.526988705495546e-06, tuning gamma_D = 0.0001\n",
      "Last valid index: 999\n",
      "['EEM', 'IVV', 'IEV', 'IXN', 'IYR', 'IXG', 'EXI']\n",
      "Solving problem with trading costs. gamma_D = 1.526988705495546e-06, tuning gamma_D = 1.52e-06\n",
      "Last valid index: 80\n",
      "['EEM', 'IVV', 'IEV', 'IXN', 'IYR', 'IXG', 'EXI']\n",
      "Solving problem with trading costs. gamma_D = 1.526988705495546e-06, tuning gamma_D = 1.3e-05\n",
      "Last valid index: 999\n",
      "['EEM', 'IVV', 'IEV', 'IXN', 'IYR', 'IXG', 'EXI']\n",
      "Solving problem with trading costs. gamma_D = 1.526988705495546e-06, tuning gamma_D = 0.0001\n",
      "Last valid index: 999\n",
      "['EEM', 'IVV', 'IEV', 'IXN', 'IYR', 'IXG', 'EXI']\n",
      "Solving problem with trading costs. gamma_D = 1.526988705495546e-06, tuning gamma_D = 1.52e-06\n",
      "Last valid index: 610\n",
      "['EEM', 'IVV', 'IEV', 'IXN', 'IYR', 'IXG', 'EXI']\n",
      "Solving problem with trading costs. gamma_D = 1.526988705495546e-06, tuning gamma_D = 1.3e-05\n",
      "Last valid index: 999\n",
      "['EEM', 'IVV', 'IEV', 'IXN', 'IYR', 'IXG', 'EXI']\n",
      "Solving problem with trading costs. gamma_D = 1.526988705495546e-06, tuning gamma_D = 0.0001\n",
      "Last valid index: 999\n"
     ]
    }
   ],
   "source": [
    "TCs_stocks, TCs_stocks_mean = calc_multiple_TC(stocks)"
   ]
  },
  {
   "cell_type": "code",
   "execution_count": 326,
   "metadata": {
    "tags": []
   },
   "outputs": [
    {
     "name": "stdout",
     "output_type": "stream",
     "text": [
      "['GC=F', 'BZ=F']\n",
      "Solving problem with trading costs. gamma_D = 1.526988705495546e-06, tuning gamma_D = 1.52e-06\n",
      "Model: sGARCH10\t Tuning_gamma_D: 1.52e-06\t Last valid index: 1000\n",
      "\n",
      "['GC=F', 'BZ=F']\n",
      "Solving problem with trading costs. gamma_D = 1.526988705495546e-06, tuning gamma_D = 1.3e-05\n",
      "Model: sGARCH10\t Tuning_gamma_D: 1.3e-05\t Last valid index: 1000\n",
      "\n",
      "['GC=F', 'BZ=F']\n",
      "Solving problem with trading costs. gamma_D = 1.526988705495546e-06, tuning gamma_D = 0.0001\n",
      "Model: sGARCH10\t Tuning_gamma_D: 0.0001\t Last valid index: 1000\n",
      "\n",
      "['GC=F', 'BZ=F']\n",
      "Solving problem with trading costs. gamma_D = 1.526988705495546e-06, tuning gamma_D = 1.52e-06\n",
      "Model: sGARCH11\t Tuning_gamma_D: 1.52e-06\t Last valid index: 1000\n",
      "\n",
      "['GC=F', 'BZ=F']\n",
      "Solving problem with trading costs. gamma_D = 1.526988705495546e-06, tuning gamma_D = 1.3e-05\n",
      "Model: sGARCH11\t Tuning_gamma_D: 1.3e-05\t Last valid index: 1000\n",
      "\n",
      "['GC=F', 'BZ=F']\n",
      "Solving problem with trading costs. gamma_D = 1.526988705495546e-06, tuning gamma_D = 0.0001\n",
      "Model: sGARCH11\t Tuning_gamma_D: 0.0001\t Last valid index: 1000\n",
      "\n",
      "['GC=F', 'BZ=F']\n",
      "Solving problem with trading costs. gamma_D = 1.526988705495546e-06, tuning gamma_D = 1.52e-06\n",
      "Model: gjrGARCH11\t Tuning_gamma_D: 1.52e-06\t Last valid index: 1000\n",
      "\n",
      "['GC=F', 'BZ=F']\n",
      "Solving problem with trading costs. gamma_D = 1.526988705495546e-06, tuning gamma_D = 1.3e-05\n",
      "Model: gjrGARCH11\t Tuning_gamma_D: 1.3e-05\t Last valid index: 1000\n",
      "\n",
      "['GC=F', 'BZ=F']\n",
      "Solving problem with trading costs. gamma_D = 1.526988705495546e-06, tuning gamma_D = 0.0001\n",
      "Model: gjrGARCH11\t Tuning_gamma_D: 0.0001\t Last valid index: 1000\n",
      "\n"
     ]
    }
   ],
   "source": [
    "TCs_com, TCs_com_mean = calc_multiple_TC(commodities)"
   ]
  },
  {
   "cell_type": "code",
   "execution_count": 307,
   "metadata": {},
   "outputs": [],
   "source": [
    "def annualize_TC(TC):\n",
    "    TC = np.array(TC)*(-1)\n",
    "    TC += 1\n",
    "    TC_cum = np.cumprod(TC)\n",
    "\n",
    "    total_costs = pd.Series(TC_cum).ffill().iloc[-1]\n",
    "    non_num_nan = len(TC)-np.isnan(TC).sum()\n",
    "    ann_TC = 1-(total_costs ** (250/non_num_nan))\n",
    "    return ann_TC"
   ]
  },
  {
   "cell_type": "code",
   "execution_count": 262,
   "metadata": {
    "tags": []
   },
   "outputs": [],
   "source": [
    "TC_all_ann = [[annualize_TC(TC) for TC in TC_row] for TC_row in TCs_all]"
   ]
  },
  {
   "cell_type": "code",
   "execution_count": 317,
   "metadata": {},
   "outputs": [],
   "source": [
    "TC_bonds_ann = [[annualize_TC(TC) for TC in TC_row] for TC_row in TCs_bonds]"
   ]
  },
  {
   "cell_type": "code",
   "execution_count": 319,
   "metadata": {
    "tags": []
   },
   "outputs": [],
   "source": [
    "TC_stocks_ann = [[annualize_TC(TC) for TC in TC_row] for TC_row in TCs_stocks]"
   ]
  },
  {
   "cell_type": "code",
   "execution_count": 327,
   "metadata": {},
   "outputs": [],
   "source": [
    "TC_com_ann = [[annualize_TC(TC) for TC in TC_row] for TC_row in TCs_com]"
   ]
  },
  {
   "cell_type": "markdown",
   "metadata": {},
   "source": [
    "### Equal weight costs"
   ]
  },
  {
   "cell_type": "code",
   "execution_count": 220,
   "metadata": {},
   "outputs": [],
   "source": [
    "def calc_TC_EW():\n",
    "    TCs = []\n",
    "    assets = [tickers, bonds, stocks, commodities]\n",
    "    for model in models:\n",
    "        row = []\n",
    "        for asset_list in assets:\n",
    "            out_of_sample, in_sample, sigmas, residuals, params_dict = db.split_fit_parse(asset_list, start=\"2008-01-01\", end=\"2021-10-02\",\n",
    "                                                                               number_of_out_of_sample_days=1000, model_type=model)\n",
    "            Omega_ts = db.calc_Omega_ts(out_of_sample_returns=out_of_sample, in_sample_returns=in_sample,\n",
    "                             in_sample_sigmas=sigmas, in_sample_residuals=residuals, **params_dict)\n",
    "            weight_index = in_sample.index[[-1]].union(out_of_sample.index)\n",
    "            \n",
    "            p = len(asset_list)\n",
    "            weights_shape = (1001, p)\n",
    "            EW = pd.DataFrame(np.full(weights_shape, (1/p)), index=weight_index)\n",
    "            out_of_sample = out_of_sample.divide(100)\n",
    "            TC_EW = ctc(weights=EW, returns=out_of_sample, Omega_ts=Omega_ts, portfolio_value=1e9)\n",
    "            TC_EW = [remove_extreme(x, 1) for x in TC_EW]\n",
    "            row.append(TC_EW)\n",
    "        TCs.append(row)\n",
    "    return TCs"
   ]
  },
  {
   "cell_type": "code",
   "execution_count": 221,
   "metadata": {},
   "outputs": [
    {
     "name": "stdout",
     "output_type": "stream",
     "text": [
      "['EEM', 'IVV', 'IEV', 'IXN', 'IYR', 'IXG', 'EXI', 'GC=F', 'BZ=F', 'HYG', 'TLT']\n",
      "['HYG', 'TLT']\n",
      "['EEM', 'IVV', 'IEV', 'IXN', 'IYR', 'IXG', 'EXI']\n",
      "['GC=F', 'BZ=F']\n",
      "['EEM', 'IVV', 'IEV', 'IXN', 'IYR', 'IXG', 'EXI', 'GC=F', 'BZ=F', 'HYG', 'TLT']\n",
      "['HYG', 'TLT']\n",
      "['EEM', 'IVV', 'IEV', 'IXN', 'IYR', 'IXG', 'EXI']\n",
      "['GC=F', 'BZ=F']\n",
      "['EEM', 'IVV', 'IEV', 'IXN', 'IYR', 'IXG', 'EXI', 'GC=F', 'BZ=F', 'HYG', 'TLT']\n",
      "['HYG', 'TLT']\n",
      "['EEM', 'IVV', 'IEV', 'IXN', 'IYR', 'IXG', 'EXI']\n",
      "['GC=F', 'BZ=F']\n"
     ]
    }
   ],
   "source": [
    "TCs_EW = calc_TC_EW()"
   ]
  },
  {
   "cell_type": "code",
   "execution_count": 258,
   "metadata": {},
   "outputs": [],
   "source": [
    "TCs_EW_ann = [[annualize_TC(TC) for TC in TC_row] for TC_row in TCs_EW]"
   ]
  },
  {
   "cell_type": "code",
   "execution_count": 259,
   "metadata": {},
   "outputs": [
    {
     "data": {
      "text/plain": [
       "[[0.04359932591944282,\n",
       "  0.008481584075029525,\n",
       "  0.013126672368225956,\n",
       "  0.06357385076324906],\n",
       " [0.05020247006939704,\n",
       "  0.009966997484608497,\n",
       "  0.014707829180714227,\n",
       "  0.08225260437137927],\n",
       " [0.05237439341486372,\n",
       "  0.011340533154792332,\n",
       "  0.014989338255203766,\n",
       "  0.0778527615750314]]"
      ]
     },
     "execution_count": 259,
     "metadata": {},
     "output_type": "execute_result"
    }
   ],
   "source": [
    "TCs_EW_ann"
   ]
  }
 ],
 "metadata": {
  "kernelspec": {
   "display_name": "Python 3",
   "language": "python",
   "name": "python3"
  },
  "language_info": {
   "codemirror_mode": {
    "name": "ipython",
    "version": 3
   },
   "file_extension": ".py",
   "mimetype": "text/x-python",
   "name": "python",
   "nbconvert_exporter": "python",
   "pygments_lexer": "ipython3",
   "version": "3.7.0"
  }
 },
 "nbformat": 4,
 "nbformat_minor": 4
}
