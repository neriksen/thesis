{
 "cells": [
  {
   "cell_type": "markdown",
   "metadata": {},
   "source": [
    "### Measuring transaction costs and trading volume"
   ]
  },
  {
   "cell_type": "code",
   "execution_count": 195,
   "metadata": {},
   "outputs": [],
   "source": [
    "import sys\n",
    "import pandas as pd\n",
    "import matplotlib.pyplot as plt\n",
    "import matplotlib\n",
    "import numpy as np\n",
    "import scipy.stats as scipy\n",
    "sys.path.append(\"utils\")\n",
    "import dynamic_backtesting as db\n",
    "from compare_strategies import calc_transaction_costs as ctc\n",
    "plt.style.use('seaborn')\n",
    "matplotlib.rcParams['axes.prop_cycle'] = matplotlib.cycler(color=[\"black\", \"green\",  \"deepskyblue\", \"orange\",\"grey\", \"lime\", \"purple\", \"Gold\", \"brown\", \"blue\", \"pink\"]) "
   ]
  },
  {
   "cell_type": "code",
   "execution_count": 196,
   "metadata": {},
   "outputs": [],
   "source": [
    "assets = {\"EEM\": \"Emerging Markets\",\n",
    "           \"IVV\": \"S&P 500\",\n",
    "           \"IEV\": \"MSCI Europe\",\n",
    "           \"IXN\": \"Global Tech\",\n",
    "           \"IYR\": \"US Real Estate\",\n",
    "           \"IXG\": \"Global Financials\",\n",
    "           \"EXI\": \"Global Industrials\",\n",
    "           \"GC=F\": \"Gold Futures\", \n",
    "           \"BZ=F\": \"Brent Crude Oil Futures\",\n",
    "           \"HYG\": \"High-Yield Corporate Bonds\",\n",
    "           \"TLT\": \"20+ Year Treasury Bonds\"}\n",
    "tickers = list(assets.keys())\n",
    "asset_names = list(assets.values())\n",
    "stocks = tickers[:7]\n",
    "commodities = tickers[7:9]\n",
    "bonds = tickers[9:]"
   ]
  },
  {
   "cell_type": "code",
   "execution_count": 197,
   "metadata": {},
   "outputs": [],
   "source": [
    "models = ['sGARCH10', 'sGARCH11', 'gjrGARCH11']\n",
    "tuning_gamma_Ds = [1.52e-6, 1.3e-5, 1e-4]"
   ]
  },
  {
   "cell_type": "code",
   "execution_count": 198,
   "metadata": {},
   "outputs": [],
   "source": [
    "def remove_extreme(num, tolerance):\n",
    "    if num > tolerance:\n",
    "        return tolerance\n",
    "    if num < 0:\n",
    "        return np.nan\n",
    "    return num"
   ]
  },
  {
   "cell_type": "code",
   "execution_count": 199,
   "metadata": {},
   "outputs": [],
   "source": [
    "def calc_TC(model, tuning_gamma_D, assets):\n",
    "    v_t_s, out_of_sample, in_sample, Omega_ts = db.garch_with_trading_cost(tickers=assets, model_type=model, tuning_gamma_D=tuning_gamma_D)\n",
    "    out_of_sample = out_of_sample.divide(100)\n",
    "    TC = ctc(v_t_s, out_of_sample, Omega_ts)\n",
    "    TC = [remove_extreme(x, 1) for x in TC]\n",
    "    return TC"
   ]
  },
  {
   "cell_type": "code",
   "execution_count": 218,
   "metadata": {},
   "outputs": [],
   "source": [
    "def calc_multiple_TC(tickers):\n",
    "    TCs = []\n",
    "    for model in models:\n",
    "        row = []\n",
    "        for tuning_gamma_D in tuning_gamma_Ds:\n",
    "            row.append(calc_TC(model, tuning_gamma_D, tickers))\n",
    "        TCs.append(row)\n",
    "    TCs_mean = [[np.nanmean(TC) for TC in TC_row] for TC_row in TCs]\n",
    "    return TCs, TCs_mean"
   ]
  },
  {
   "cell_type": "code",
   "execution_count": null,
   "metadata": {},
   "outputs": [],
   "source": [
    "TCs_all, TCs_all_mean = calc_multiple_TC(tickers)"
   ]
  },
  {
   "cell_type": "code",
   "execution_count": null,
   "metadata": {},
   "outputs": [],
   "source": [
    "TCs_bonds, TCs_bonds_mean = calc_multiple_TC(bonds)"
   ]
  },
  {
   "cell_type": "code",
   "execution_count": null,
   "metadata": {
    "tags": []
   },
   "outputs": [],
   "source": [
    "TCs_stocks, TCs_stocks_mean = calc_multiple_TC(stocks)"
   ]
  },
  {
   "cell_type": "code",
   "execution_count": null,
   "metadata": {
    "tags": []
   },
   "outputs": [],
   "source": [
    "TCs_com, TCs_com_mean = calc_multiple_TC(commodities)"
   ]
  },
  {
   "cell_type": "code",
   "execution_count": 256,
   "metadata": {},
   "outputs": [],
   "source": [
    "def annualize_TC(TC):\n",
    "    TC = np.array(TC)*(-1)\n",
    "    TC += 1\n",
    "    TC_cum = np.cumprod(TC)\n",
    "\n",
    "    total_costs = pd.Series(TC_cum).ffill().iloc[-1]\n",
    "    non_num_nan = len(TC)-np.isnan(TC).sum()\n",
    "    ann_TC = 1-(total_costs ** (250/non_num_nan))\n",
    "    return ann_TC"
   ]
  },
  {
   "cell_type": "code",
   "execution_count": 260,
   "metadata": {
    "tags": []
   },
   "outputs": [],
   "source": [
    "TC_all_ann = [[annualize_TC(TC) for TC in TC_row] for TC_row in TCs_all]"
   ]
  },
  {
   "cell_type": "code",
   "execution_count": null,
   "metadata": {},
   "outputs": [],
   "source": [
    "TC_bonds_ann = [[annualize_TC(TC) for TC in TC_row] for TC_row in TCs_bonds]"
   ]
  },
  {
   "cell_type": "code",
   "execution_count": null,
   "metadata": {
    "tags": []
   },
   "outputs": [],
   "source": [
    "TC_stocks_ann = [[annualize_TC(TC) for TC in TC_row] for TC_row in TCs_stocks]"
   ]
  },
  {
   "cell_type": "code",
   "execution_count": null,
   "metadata": {},
   "outputs": [],
   "source": [
    "TC_com_ann = [[annualize_TC(TC) for TC in TC_row] for TC_row in TCs_com]"
   ]
  },
  {
   "cell_type": "markdown",
   "metadata": {},
   "source": [
    "### Equal weight costs"
   ]
  },
  {
   "cell_type": "code",
   "execution_count": 220,
   "metadata": {},
   "outputs": [],
   "source": [
    "def calc_TC_EW():\n",
    "    TCs = []\n",
    "    assets = [tickers, bonds, stocks, commodities]\n",
    "    for model in models:\n",
    "        row = []\n",
    "        for asset_list in assets:\n",
    "            out_of_sample, in_sample, sigmas, residuals, params_dict = db.split_fit_parse(asset_list, start=\"2008-01-01\", end=\"2021-10-02\",\n",
    "                                                                               number_of_out_of_sample_days=1000, model_type=model)\n",
    "            Omega_ts = db.calc_Omega_ts(out_of_sample_returns=out_of_sample, in_sample_returns=in_sample,\n",
    "                             in_sample_sigmas=sigmas, in_sample_residuals=residuals, **params_dict)\n",
    "            weight_index = in_sample.index[[-1]].union(out_of_sample.index)\n",
    "            \n",
    "            p = len(asset_list)\n",
    "            weights_shape = (1001, p)\n",
    "            EW = pd.DataFrame(np.full(weights_shape, (1/p)), index=weight_index)\n",
    "            out_of_sample = out_of_sample.divide(100)\n",
    "            TC_EW = ctc(weights=EW, returns=out_of_sample, Omega_ts=Omega_ts, portfolio_value=1e9)\n",
    "            TC_EW = [remove_extreme(x, 1) for x in TC_EW]\n",
    "            row.append(TC_EW)\n",
    "        TCs.append(row)\n",
    "    return TCs"
   ]
  },
  {
   "cell_type": "code",
   "execution_count": 221,
   "metadata": {},
   "outputs": [
    {
     "name": "stdout",
     "output_type": "stream",
     "text": [
      "['EEM', 'IVV', 'IEV', 'IXN', 'IYR', 'IXG', 'EXI', 'GC=F', 'BZ=F', 'HYG', 'TLT']\n",
      "['HYG', 'TLT']\n",
      "['EEM', 'IVV', 'IEV', 'IXN', 'IYR', 'IXG', 'EXI']\n",
      "['GC=F', 'BZ=F']\n",
      "['EEM', 'IVV', 'IEV', 'IXN', 'IYR', 'IXG', 'EXI', 'GC=F', 'BZ=F', 'HYG', 'TLT']\n",
      "['HYG', 'TLT']\n",
      "['EEM', 'IVV', 'IEV', 'IXN', 'IYR', 'IXG', 'EXI']\n",
      "['GC=F', 'BZ=F']\n",
      "['EEM', 'IVV', 'IEV', 'IXN', 'IYR', 'IXG', 'EXI', 'GC=F', 'BZ=F', 'HYG', 'TLT']\n",
      "['HYG', 'TLT']\n",
      "['EEM', 'IVV', 'IEV', 'IXN', 'IYR', 'IXG', 'EXI']\n",
      "['GC=F', 'BZ=F']\n"
     ]
    }
   ],
   "source": [
    "TCs_EW = calc_TC_EW()"
   ]
  },
  {
   "cell_type": "code",
   "execution_count": 258,
   "metadata": {},
   "outputs": [],
   "source": [
    "TCs_EW_ann = [[annualize_TC(TC) for TC in TC_row] for TC_row in TCs_EW]"
   ]
  },
  {
   "cell_type": "code",
   "execution_count": 259,
   "metadata": {},
   "outputs": [
    {
     "data": {
      "text/plain": [
       "[[0.04359932591944282,\n",
       "  0.008481584075029525,\n",
       "  0.013126672368225956,\n",
       "  0.06357385076324906],\n",
       " [0.05020247006939704,\n",
       "  0.009966997484608497,\n",
       "  0.014707829180714227,\n",
       "  0.08225260437137927],\n",
       " [0.05237439341486372,\n",
       "  0.011340533154792332,\n",
       "  0.014989338255203766,\n",
       "  0.0778527615750314]]"
      ]
     },
     "execution_count": 259,
     "metadata": {},
     "output_type": "execute_result"
    }
   ],
   "source": [
    "TCs_EW_ann"
   ]
  },
  {
   "cell_type": "code",
   "execution_count": null,
   "metadata": {},
   "outputs": [],
   "source": []
  }
 ],
 "metadata": {
  "kernelspec": {
   "display_name": "Python 3",
   "language": "python",
   "name": "python3"
  },
  "language_info": {
   "codemirror_mode": {
    "name": "ipython",
    "version": 3
   },
   "file_extension": ".py",
   "mimetype": "text/x-python",
   "name": "python",
   "nbconvert_exporter": "python",
   "pygments_lexer": "ipython3",
   "version": "3.7.0"
  }
 },
 "nbformat": 4,
 "nbformat_minor": 4
}
