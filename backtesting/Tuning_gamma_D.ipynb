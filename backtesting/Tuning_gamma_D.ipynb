{
 "cells": [
  {
   "cell_type": "markdown",
   "metadata": {},
   "source": [
    "Tuning $\\gamma_D$"
   ]
  },
  {
   "cell_type": "code",
   "execution_count": null,
   "metadata": {},
   "outputs": [],
   "source": [
    "import sys\n",
    "sys.path.append(\"utils\")\n",
    "import dynamic_backtesting as db\n",
    "import compare_strategies as cs\n",
    "import matplotlib.pyplot as plt\n",
    "import pandas as pd\n",
    "import matplotlib\n",
    "plt.style.use('seaborn')\n",
    "import seaborn as sns\n",
    "matplotlib.rcParams['axes.prop_cycle'] = matplotlib.cycler(color=sns.color_palette(\"tab20\", 11)) \n",
    "plt.rcParams.update({\n",
    "   \"text.usetex\": True,\n",
    "   \"font.family\": ['Latin Modern Roman'],\n",
    "   \"xtick.labelsize\": 20.0,\n",
    "   \"ytick.labelsize\": 20.0,\n",
    "   \"axes.labelsize\":  20.0,\n",
    "   \"legend.fontsize\": 18.0\n",
    "})  "
   ]
  },
  {
   "cell_type": "code",
   "execution_count": null,
   "metadata": {},
   "outputs": [],
   "source": [
    "assets = {\"EEM\": \"Emerging Markets\",\n",
    "           \"IVV\": \"S&P 500\",\n",
    "           \"IEV\": \"MSCI Europe\",\n",
    "           \"IXN\": \"Global Tech\",\n",
    "           \"IYR\": \"US Real Estate\",\n",
    "           \"IXG\": \"Global Financials\",\n",
    "           \"EXI\": \"Global Industrials\",\n",
    "           \"GC=F\": \"Gold Futures\", \n",
    "           \"BZ=F\": \"Brent Crude Oil Futures\",\n",
    "           \"HYG\": \"High-Yield Corporate Bonds\",\n",
    "           \"TLT\": \"20+ Year Treasury Bonds\"}\n",
    "tickers = list(assets.keys())\n",
    "stocks = tickers[:7]\n",
    "stocks_dic = {asset: assets[asset] for asset in stocks }\n",
    "commodities = tickers[7:9]\n",
    "commodities_dic = {asset: assets[asset] for asset in commodities }\n",
    "bonds = tickers[9:]\n",
    "bonds_dic = {asset: assets[asset] for asset in bonds }"
   ]
  },
  {
   "cell_type": "markdown",
   "metadata": {},
   "source": [
    "**All assets**"
   ]
  },
  {
   "cell_type": "code",
   "execution_count": null,
   "metadata": {
    "collapsed": true,
    "jupyter": {
     "outputs_hidden": true
    },
    "tags": []
   },
   "outputs": [],
   "source": [
    "sharpes_all_ARCH, std_all_ARCH = db.test_gamma_D_params(tickers, number_of_out_of_sample_days=1000, model_type=\"sGARCH10\", portfolio_value=1e9,\n",
    "                                  gamma_start=1e-6, gamma_end=1, gamma_num=200)\n",
    "sharpes_all_GARCH, std_all_GARCH = db.test_gamma_D_params(tickers, number_of_out_of_sample_days=1000, model_type=\"sGARCH11\", portfolio_value=1e9,\n",
    "                                  gamma_start=1e-6, gamma_end=1, gamma_num=200)\n",
    "sharpes_all_GJR, std_all_GJR = db.test_gamma_D_params(tickers, number_of_out_of_sample_days=1000, model_type=\"gjrGARCH11\", portfolio_value=1e9,\n",
    "                                  gamma_start=1e-6, gamma_end=1, gamma_num=200)"
   ]
  },
  {
   "cell_type": "code",
   "execution_count": null,
   "metadata": {},
   "outputs": [],
   "source": [
    "sharpes_all_ARCH_pd = pd.DataFrame(sharpes_all_ARCH, columns=['gamma_D', 'ARCH TC', 'Equal_weight TC', 'BnH TC'])\n",
    "sharpes_all_ARCH_pd.set_index('gamma_D', drop=True, inplace=True)\n",
    "std_all_ARCH_pd = pd.DataFrame(std_all_ARCH, columns=['gamma_D', 'ARCH TC', 'Equal_weight TC', 'BnH TC'])\n",
    "std_all_ARCH_pd.set_index('gamma_D', drop=True, inplace=True)\n",
    "\n",
    "sharpes_all_GARCH_pd = pd.DataFrame(sharpes_all_GARCH, columns=['gamma_D', 'GARCH TC', 'Equal_weight TC', 'BnH TC'])\n",
    "sharpes_all_GARCH_pd.set_index('gamma_D', drop=True, inplace=True)\n",
    "std_all_GARCH_pd = pd.DataFrame(std_all_GARCH, columns=['gamma_D', 'GARCH TC', 'Equal_weight TC', 'BnH TC'])\n",
    "std_all_GARCH_pd.set_index('gamma_D', drop=True, inplace=True)\n",
    "\n",
    "sharpes_all_GJR_pd = pd.DataFrame(sharpes_all_GJR, columns=['gamma_D', 'GJR-GARCH TC', 'Equal_weight TC', 'BnH TC'])\n",
    "sharpes_all_GJR_pd.set_index('gamma_D', drop=True, inplace=True)\n",
    "std_all_GJR_pd = pd.DataFrame(std_all_GJR, columns=['gamma_D', 'GJR-GARCH TC', 'Equal_weight TC', 'BnH TC'])\n",
    "std_all_GJR_pd.set_index('gamma_D', drop=True, inplace=True)"
   ]
  },
  {
   "cell_type": "code",
   "execution_count": null,
   "metadata": {},
   "outputs": [],
   "source": [
    "sharpes_all_pd=sharpes_all_ARCH_pd.drop(columns=['Equal_weight TC', 'BnH TC'])\n",
    "sharpes_all_pd[\"GARCH TC\"]=sharpes_all_GARCH_pd[\"GARCH TC\"]\n",
    "sharpes_all_pd[['GJR-GARCH TC', 'Equal_weight TC', 'BnH TC']]=sharpes_all_GJR_pd[['GJR-GARCH TC', 'Equal_weight TC', 'BnH TC']]\n",
    "\n",
    "std_all_pd=std_all_ARCH_pd.drop(columns=['Equal_weight TC', 'BnH TC'])\n",
    "std_all_pd[\"GARCH TC\"]=std_all_GARCH_pd[\"GARCH TC\"]\n",
    "std_all_pd[['GJR-GARCH TC', 'Equal_weight TC', 'BnH TC']]=std_all_GJR_pd[['GJR-GARCH TC', 'Equal_weight TC', 'BnH TC']]"
   ]
  },
  {
   "cell_type": "code",
   "execution_count": null,
   "metadata": {},
   "outputs": [],
   "source": [
    "# min std gamma\n",
    "min_gamma_all=std_all_pd.loc[std_all_pd[\"GARCH TC\"] == min(std_all_pd[\"GARCH TC\"]) ]\n",
    "# max SR gamma\n",
    "max_gamma_all=sharpes_all_pd.loc[sharpes_all_pd[\"GARCH TC\"] == max(sharpes_all_pd[\"GARCH TC\"]) ]\n",
    "print(str(min_gamma_all)+\"\\n\"+str(max_gamma_all))"
   ]
  },
  {
   "cell_type": "code",
   "execution_count": null,
   "metadata": {},
   "outputs": [],
   "source": [
    "fig, ax = plt.subplots(1, 1, figsize=(9,7), dpi=300)\n",
    "#ax.set_prop_cycle(matplotlib.cycler(color=[\"black\", \"green\",  \"deepskyblue\",\"Red\",\"Gray\"]))\n",
    "ax.plot(std_all_pd)\n",
    "ax.legend([r\"\\textbf{ARCH(1)}\",r\"\\textbf{GARCH(1,1)}\",r\"\\textbf{GJR-GARCH(1,1)}\", r\"\\textbf{Equal weight}\", r\"\\textbf{Buy and hold}\"], loc='upper right')\n",
    "ax.set_xlabel(r\"\\textbf{$\\gamma_D$}\")\n",
    "ax.set_ylabel(r\"\\textbf{Standard Deviation}\",loc='top', rotation = 0, labelpad = -235)\n",
    "ax.set_xscale('log')\n",
    "#ax.set_yscale('log')\n",
    "ax.yaxis.set_major_locator(matplotlib.ticker.LogLocator(base=2,numticks=200))\n",
    "ax.set_xlim(1e-6,1)\n",
    "fig.savefig(\"Tuning_Gamma_std_all.png\", bbox_inches = 'tight', pad_inches = 0.1)\n",
    "\n",
    "fig1, ax1 = plt.subplots(1, 1, figsize=(9,7), dpi=300)\n",
    "#ax1.set_prop_cycle(matplotlib.cycler(color=[\"black\", \"green\",  \"deepskyblue\",\"Red\",\"Gray\"]))\n",
    "ax1.plot(sharpes_all_pd)\n",
    "ax1.legend([r\"\\textbf{ARCH(1)}\",r\"\\textbf{GARCH(1,1)}\",r\"\\textbf{GJR-GARCH(1,1)}\", r\"\\textbf{Equal weight}\", r\"\\textbf{Buy and hold}\"], loc='center right')\n",
    "ax1.set_xlabel(r\"\\textbf{$\\gamma_D$}\")\n",
    "ax1.set_ylabel(r\"\\textbf{Sharpe Ratio}\",loc='top', rotation = 0, labelpad = -175)\n",
    "ax1.set_xscale('log') \n",
    "ax1.set_xlim(1e-6,1)\n",
    "fig1.savefig(\"Tuning_Gamma_sharpes_all.png\", bbox_inches = 'tight', pad_inches = 0.1)"
   ]
  },
  {
   "cell_type": "markdown",
   "metadata": {},
   "source": [
    " **Stocks**"
   ]
  },
  {
   "cell_type": "code",
   "execution_count": null,
   "metadata": {},
   "outputs": [],
   "source": [
    "sharpes_stock_ARCH, std_stock_ARCH = db.test_gamma_D_params(stocks, number_of_out_of_sample_days=1000, model_type=\"sGARCH10\", portfolio_value=1e9,\n",
    "                                  gamma_start=5e-5, gamma_end=1, gamma_num=200)\n",
    "sharpes_stock_GARCH, std_stock_GARCH = db.test_gamma_D_params(stocks, number_of_out_of_sample_days=1000, model_type=\"sGARCH11\", portfolio_value=1e9,\n",
    "                                  gamma_start=5e-5, gamma_end=1, gamma_num=200)\n",
    "sharpes_stock_GJR, std_stock_GJR = db.test_gamma_D_params(stocks, number_of_out_of_sample_days=1000, model_type=\"gjrGARCH11\", portfolio_value=1e9,\n",
    "                                  gamma_start=5e-5, gamma_end=1, gamma_num=200)"
   ]
  },
  {
   "cell_type": "code",
   "execution_count": null,
   "metadata": {},
   "outputs": [],
   "source": [
    "sharpes_stock_ARCH_pd = pd.DataFrame(sharpes_stock_ARCH, columns=['gamma_D', 'ARCH TC', 'Equal_weight TC', 'BnH TC'])\n",
    "sharpes_stock_ARCH_pd.set_index('gamma_D', drop=True, inplace=True)\n",
    "std_stock_ARCH_pd = pd.DataFrame(std_stock_ARCH, columns=['gamma_D', 'ARCH TC', 'Equal_weight TC', 'BnH TC'])\n",
    "std_stock_ARCH_pd.set_index('gamma_D', drop=True, inplace=True)\n",
    "\n",
    "sharpes_stock_GARCH_pd = pd.DataFrame(sharpes_stock_GARCH, columns=['gamma_D', 'GARCH TC', 'Equal_weight TC', 'BnH TC'])\n",
    "sharpes_stock_GARCH_pd.set_index('gamma_D', drop=True, inplace=True)\n",
    "std_stock_GARCH_pd = pd.DataFrame(std_stock_GARCH, columns=['gamma_D', 'GARCH TC', 'Equal_weight TC', 'BnH TC'])\n",
    "std_stock_GARCH_pd.set_index('gamma_D', drop=True, inplace=True)\n",
    "\n",
    "sharpes_stock_GJR_pd = pd.DataFrame(sharpes_stock_GJR, columns=['gamma_D', 'GJR-GARCH TC', 'Equal_weight TC', 'BnH TC'])\n",
    "sharpes_stock_GJR_pd.set_index('gamma_D', drop=True, inplace=True)\n",
    "std_stock_GJR_pd = pd.DataFrame(std_stock_GJR, columns=['gamma_D', 'GJR-GARCH TC', 'Equal_weight TC', 'BnH TC'])\n",
    "std_stock_GJR_pd.set_index('gamma_D', drop=True, inplace=True)"
   ]
  },
  {
   "cell_type": "code",
   "execution_count": null,
   "metadata": {},
   "outputs": [],
   "source": [
    "sharpes_stock_pd=sharpes_stock_ARCH_pd.drop(columns=['Equal_weight TC', 'BnH TC'])\n",
    "sharpes_stock_pd[\"GARCH TC\"]=sharpes_stock_GARCH_pd[\"GARCH TC\"]\n",
    "sharpes_stock_pd[['GJR-GARCH TC', 'Equal_weight TC', 'BnH TC']]=sharpes_stock_GJR_pd[['GJR-GARCH TC', 'Equal_weight TC', 'BnH TC']]\n",
    "\n",
    "std_stock_pd=std_stock_ARCH_pd.drop(columns=['Equal_weight TC', 'BnH TC'])\n",
    "std_stock_pd[\"GARCH TC\"]=std_stock_GARCH_pd[\"GARCH TC\"]\n",
    "std_stock_pd[['GJR-GARCH TC', 'Equal_weight TC', 'BnH TC']]=std_stock_GJR_pd[['GJR-GARCH TC', 'Equal_weight TC', 'BnH TC']]"
   ]
  },
  {
   "cell_type": "code",
   "execution_count": null,
   "metadata": {},
   "outputs": [],
   "source": [
    "# min std gamma\n",
    "min_gamma_stocks=std_stock_pd.loc[std_stock_pd[\"GARCH TC\"] == min(std_stock_pd[\"GARCH TC\"]) ]\n",
    "# max SR gamma\n",
    "max_gamma_stocks=sharpes_stock_pd.loc[sharpes_stock_pd[\"GARCH TC\"] == max(sharpes_stock_pd[\"GARCH TC\"]) ]\n",
    "print(str(min_gamma_stocks)+\"\\n\"+str(max_gamma_stocks))"
   ]
  },
  {
   "cell_type": "code",
   "execution_count": null,
   "metadata": {},
   "outputs": [],
   "source": [
    "fig, ax = plt.subplots(1, 1, figsize=(9,7), dpi=300)\n",
    "ax.plot(std_stock_pd)\n",
    "ax.legend([r\"\\textbf{ARCH(1)}\",r\"\\textbf{GARCH(1,1)}\",r\"\\textbf{GJR-GARCH(1,1)}\", r\"\\textbf{Equal weight}\", r\"\\textbf{Buy and hold}\"], loc='lower right')\n",
    "ax.set_xlabel(r\"\\textbf{$\\gamma_D$}\")\n",
    "ax.set_ylabel(r\"\\textbf{Standard Deviation}\",loc='top', rotation = 0, labelpad = -235)\n",
    "ax.set_xscale('log')\n",
    "ax.set_xlim(5e-5,1e-1)\n",
    "ax.set_ylim(0.195,0.230)\n",
    "fig.savefig(\"Tuning_Gamma_std_stocks.png\", bbox_inches = 'tight', pad_inches = 0.1)\n",
    "\n",
    "fig1, ax1 = plt.subplots(1, 1, figsize=(9,7), dpi=300)\n",
    "ax1.plot(sharpes_stock_pd)\n",
    "ax1.legend([r\"\\textbf{ARCH(1)}\",r\"\\textbf{GARCH(1,1)}\",r\"\\textbf{GJR-GARCH(1,1)}\", r\"\\textbf{Equal weight}\", r\"\\textbf{Buy and hold}\"], loc='lower right')\n",
    "ax1.set_xlabel(r\"\\textbf{$\\gamma_D$}\")\n",
    "ax1.set_ylabel(r\"\\textbf{Sharpe Ratio}\",loc='top', rotation = 0, labelpad = -175)\n",
    "ax1.set_xscale('log')  \n",
    "ax1.set_xlim(5e-5,1e-1)\n",
    "fig1.savefig(\"Tuning_Gamma_sharpes_stocks.png\", bbox_inches = 'tight', pad_inches = 0.1)"
   ]
  },
  {
   "cell_type": "markdown",
   "metadata": {},
   "source": [
    "**commodities**"
   ]
  },
  {
   "cell_type": "code",
   "execution_count": null,
   "metadata": {},
   "outputs": [],
   "source": [
    "sharpes_com_ARCH, std_com_ARCH = db.test_gamma_D_params(commodities, number_of_out_of_sample_days=1000, model_type=\"sGARCH10\", portfolio_value=1e9,\n",
    "                                  gamma_start=1e-6, gamma_end=1, gamma_num=200)\n",
    "sharpes_com_GARCH, std_com_GARCH = db.test_gamma_D_params(commodities, number_of_out_of_sample_days=1000, model_type=\"sGARCH11\", portfolio_value=1e9,\n",
    "                                  gamma_start=1e-6, gamma_end=1, gamma_num=200)\n",
    "sharpes_com_GJR, std_com_GJR = db.test_gamma_D_params(commodities, number_of_out_of_sample_days=1000, model_type=\"gjrGARCH11\", portfolio_value=1e9,\n",
    "                                  gamma_start=1e-6, gamma_end=1, gamma_num=200)"
   ]
  },
  {
   "cell_type": "code",
   "execution_count": null,
   "metadata": {},
   "outputs": [],
   "source": [
    "sharpes_com_ARCH_pd = pd.DataFrame(sharpes_com_ARCH, columns=['gamma_D', 'ARCH TC', 'Equal_weight TC', 'BnH TC'])\n",
    "sharpes_com_ARCH_pd.set_index('gamma_D', drop=True, inplace=True)\n",
    "std_com_ARCH_pd = pd.DataFrame(std_com_ARCH, columns=['gamma_D', 'ARCH TC', 'Equal_weight TC', 'BnH TC'])\n",
    "std_com_ARCH_pd.set_index('gamma_D', drop=True, inplace=True)\n",
    "\n",
    "sharpes_com_GARCH_pd = pd.DataFrame(sharpes_com_GARCH, columns=['gamma_D', 'GARCH TC', 'Equal_weight TC', 'BnH TC'])\n",
    "sharpes_com_GARCH_pd.set_index('gamma_D', drop=True, inplace=True)\n",
    "std_com_GARCH_pd = pd.DataFrame(std_com_GARCH, columns=['gamma_D', 'GARCH TC', 'Equal_weight TC', 'BnH TC'])\n",
    "std_com_GARCH_pd.set_index('gamma_D', drop=True, inplace=True)\n",
    "\n",
    "sharpes_com_GJR_pd = pd.DataFrame(sharpes_com_GJR, columns=['gamma_D', 'GJR-GARCH TC', 'Equal_weight TC', 'BnH TC'])\n",
    "sharpes_com_GJR_pd.set_index('gamma_D', drop=True, inplace=True)\n",
    "std_com_GJR_pd = pd.DataFrame(std_com_GJR, columns=['gamma_D', 'GJR-GARCH TC', 'Equal_weight TC', 'BnH TC'])\n",
    "std_com_GJR_pd.set_index('gamma_D', drop=True, inplace=True)"
   ]
  },
  {
   "cell_type": "code",
   "execution_count": null,
   "metadata": {},
   "outputs": [],
   "source": [
    "sharpes_com_pd=sharpes_com_ARCH_pd.drop(columns=['Equal_weight TC', 'BnH TC'])\n",
    "sharpes_com_pd[\"GARCH TC\"]=sharpes_com_GARCH_pd[\"GARCH TC\"]\n",
    "sharpes_com_pd[['GJR-GARCH TC', 'Equal_weight TC', 'BnH TC']]=sharpes_com_GJR_pd[['GJR-GARCH TC', 'Equal_weight TC', 'BnH TC']]\n",
    "\n",
    "std_com_pd=std_com_ARCH_pd.drop(columns=['Equal_weight TC', 'BnH TC'])\n",
    "std_com_pd[\"GARCH TC\"]=std_com_GARCH_pd[\"GARCH TC\"]\n",
    "std_com_pd[['GJR-GARCH TC', 'Equal_weight TC', 'BnH TC']]=std_com_GJR_pd[['GJR-GARCH TC', 'Equal_weight TC', 'BnH TC']]"
   ]
  },
  {
   "cell_type": "code",
   "execution_count": null,
   "metadata": {},
   "outputs": [],
   "source": [
    "# min std gamma\n",
    "min_gamma_com=std_com_GARCH_pd.loc[std_com_GARCH_pd[\"GARCH TC\"] == min(std_com_GARCH_pd[\"GARCH TC\"]) ]\n",
    "# max SR gamma\n",
    "max_gamma_com=sharpes_com_GARCH_pd.loc[sharpes_com_GARCH_pd[\"GARCH TC\"] == max(sharpes_com_GARCH_pd[\"GARCH TC\"]) ]\n",
    "print(str(min_gamma_com)+\"\\n\"+str(max_gamma_com))"
   ]
  },
  {
   "cell_type": "code",
   "execution_count": null,
   "metadata": {},
   "outputs": [],
   "source": [
    "fig, ax = plt.subplots(1, 1, figsize=(9,7), dpi=300)\n",
    "ax.plot(std_com_pd)\n",
    "ax.legend([r\"\\textbf{ARCH(1)}\",r\"\\textbf{GARCH(1,1)}\",r\"\\textbf{GJR-GARCH(1,1)}\", r\"\\textbf{Equal weight}\", r\"\\textbf{Buy and hold}\"], loc='upper right')\n",
    "ax.set_xlabel(r\"\\textbf{$\\gamma_D$}\")\n",
    "ax.set_ylabel(r\"\\textbf{Standard Deviation}\",loc='top', rotation = 0, labelpad = -235)\n",
    "ax.set_xscale('log')\n",
    "ax.set_xlim(1e-6,1e-1)\n",
    "fig.savefig(\"Tuning_Gamma_std_com.png\", bbox_inches = 'tight', pad_inches = 0.1)\n",
    "\n",
    "\n",
    "fig1, ax1 = plt.subplots(1, 1, figsize=(9,7), dpi=300)\n",
    "ax1.plot(sharpes_com_pd)\n",
    "ax1.legend([r\"\\textbf{ARCH(1)}\",r\"\\textbf{GARCH(1,1)}\",r\"\\textbf{GJR-GARCH(1,1)}\", r\"\\textbf{Equal weight}\", r\"\\textbf{Buy and hold}\"], loc='lower right')\n",
    "ax1.set_xlabel(r\"\\textbf{$\\gamma_D$}\")\n",
    "ax1.set_ylabel(r\"\\textbf{Sharpe Ratio}\",loc='top', rotation = 0, labelpad = -175)\n",
    "ax1.set_xscale('log') \n",
    "ax1.set_xlim(1e-6,1e-1)\n",
    "fig1.savefig(\"Tuning_Gamma_sharpes_com.png\", bbox_inches = 'tight', pad_inches = 0.1)"
   ]
  },
  {
   "cell_type": "markdown",
   "metadata": {},
   "source": [
    "**Bonds**"
   ]
  },
  {
   "cell_type": "code",
   "execution_count": null,
   "metadata": {},
   "outputs": [],
   "source": [
    "sharpes_bonds_ARCH, std_bonds_ARCH = db.test_gamma_D_params(bonds, number_of_out_of_sample_days=1000, model_type=\"sGARCH10\", portfolio_value=1e9,\n",
    "                                  gamma_start=5e-5, gamma_end=1, gamma_num=200)\n",
    "sharpes_bonds_GARCH, std_bonds_GARCH = db.test_gamma_D_params(bonds, number_of_out_of_sample_days=1000, model_type=\"sGARCH11\", portfolio_value=1e9,\n",
    "                                  gamma_start=5e-5, gamma_end=1, gamma_num=200)\n",
    "sharpes_bonds_GJR, std_bonds_GJR = db.test_gamma_D_params(bonds, number_of_out_of_sample_days=1000, model_type=\"gjrGARCH11\", portfolio_value=1e9,\n",
    "                                  gamma_start=5e-5, gamma_end=1, gamma_num=200)"
   ]
  },
  {
   "cell_type": "code",
   "execution_count": null,
   "metadata": {},
   "outputs": [],
   "source": [
    "sharpes_bonds_ARCH_pd = pd.DataFrame(sharpes_bonds_ARCH, columns=['gamma_D', 'ARCH TC', 'Equal_weight TC', 'BnH TC'])\n",
    "sharpes_bonds_ARCH_pd.set_index('gamma_D', drop=True, inplace=True)\n",
    "std_bonds_ARCH_pd = pd.DataFrame(std_bonds_ARCH, columns=['gamma_D', 'ARCH TC', 'Equal_weight TC', 'BnH TC'])\n",
    "std_bonds_ARCH_pd.set_index('gamma_D', drop=True, inplace=True)\n",
    "\n",
    "sharpes_bonds_GARCH_pd = pd.DataFrame(sharpes_bonds_GARCH, columns=['gamma_D', 'GARCH TC', 'Equal_weight TC', 'BnH TC'])\n",
    "sharpes_bonds_GARCH_pd.set_index('gamma_D', drop=True, inplace=True)\n",
    "std_bonds_GARCH_pd = pd.DataFrame(std_bonds_GARCH, columns=['gamma_D', 'GARCH TC', 'Equal_weight TC', 'BnH TC'])\n",
    "std_bonds_GARCH_pd.set_index('gamma_D', drop=True, inplace=True)\n",
    "\n",
    "sharpes_bonds_GJR_pd = pd.DataFrame(sharpes_bonds_GJR, columns=['gamma_D', 'GJR-GARCH TC', 'Equal_weight TC', 'BnH TC'])\n",
    "sharpes_bonds_GJR_pd.set_index('gamma_D', drop=True, inplace=True)\n",
    "std_bonds_GJR_pd = pd.DataFrame(std_bonds_GJR, columns=['gamma_D', 'GJR-GARCH TC', 'Equal_weight TC', 'BnH TC'])\n",
    "std_bonds_GJR_pd.set_index('gamma_D', drop=True, inplace=True)"
   ]
  },
  {
   "cell_type": "code",
   "execution_count": null,
   "metadata": {},
   "outputs": [],
   "source": [
    "sharpes_bonds_pd=sharpes_bonds_ARCH_pd.drop(columns=['Equal_weight TC', 'BnH TC'])\n",
    "sharpes_bonds_pd[\"GARCH TC\"]=sharpes_bonds_GARCH_pd[\"GARCH TC\"]\n",
    "sharpes_bonds_pd[['GJR-GARCH TC', 'Equal_weight TC', 'BnH TC']]=sharpes_bonds_GJR_pd[['GJR-GARCH TC', 'Equal_weight TC', 'BnH TC']]\n",
    "\n",
    "std_bonds_pd=std_bonds_ARCH_pd.drop(columns=['Equal_weight TC', 'BnH TC'])\n",
    "std_bonds_pd[\"GARCH TC\"]=std_bonds_GARCH_pd[\"GARCH TC\"]\n",
    "std_bonds_pd[['GJR-GARCH TC', 'Equal_weight TC', 'BnH TC']]=std_bonds_GJR_pd[['GJR-GARCH TC', 'Equal_weight TC', 'BnH TC']]"
   ]
  },
  {
   "cell_type": "code",
   "execution_count": null,
   "metadata": {},
   "outputs": [],
   "source": [
    "# min std gamma\n",
    "min_gamma_bonds=std_bonds_pd.loc[std_bonds_pd[\"GARCH TC\"] == min(std_bonds_pd[\"GARCH TC\"]) ]\n",
    "# max SR gamma\n",
    "max_gamma_bonds=sharpes_bonds_pd.loc[sharpes_bonds_pd[\"GARCH TC\"] == max(sharpes_bonds_pd[\"GARCH TC\"]) ]\n",
    "print(str(min_gamma_bonds)+\"\\n\"+str(max_gamma_bonds))"
   ]
  },
  {
   "cell_type": "code",
   "execution_count": null,
   "metadata": {},
   "outputs": [],
   "source": [
    "fig, ax = plt.subplots(1, 1, figsize=(9,7), dpi=300)\n",
    "ax.plot(std_bonds_pd)\n",
    "ax.legend([r\"\\textbf{ARCH(1)}\",r\"\\textbf{GARCH(1,1)}\",r\"\\textbf{GJR-GARCH(1,1)}\", r\"\\textbf{Equal weight}\", r\"\\textbf{Buy and hold}\"], loc='lower right')\n",
    "ax.set_xlabel(r\"\\textbf{$\\gamma_D$}\")\n",
    "ax.set_ylabel(r\"\\textbf{Standard Deviation}\",loc='top', rotation = 0, labelpad = -235)\n",
    "ax.set_xscale('log')\n",
    "ax.set_xlim(5e-5,1e-1)\n",
    "fig.savefig(\"Tuning_Gamma_std_bond.png\", bbox_inches = 'tight', pad_inches = 0.1)\n",
    "\n",
    "fig1, ax1 = plt.subplots(1, 1, figsize=(9,7), dpi=300)\n",
    "ax1.plot(sharpes_bonds_pd)\n",
    "ax1.legend([r\"\\textbf{ARCH(1)}\",r\"\\textbf{GARCH(1,1)}\",r\"\\textbf{GJR-GARCH(1,1)}\", r\"\\textbf{Equal weight}\", r\"\\textbf{Buy and hold}\"], loc='center right')\n",
    "ax1.set_xlabel(r\"\\textbf{$\\gamma_D$}\")\n",
    "ax1.set_ylabel(r\"\\textbf{Sharpe Ratio}\",loc='top', rotation = 0, labelpad = -175)\n",
    "ax1.set_xscale('log') \n",
    "ax1.set_xlim(5e-5,1e-1)\n",
    "fig1.savefig(\"Tuning_Gamma_sharpes_bond.png\", bbox_inches = 'tight', pad_inches = 0.1)"
   ]
  },
  {
   "cell_type": "code",
   "execution_count": null,
   "metadata": {},
   "outputs": [],
   "source": []
  }
 ],
 "metadata": {
  "kernelspec": {
   "display_name": "Python 3",
   "language": "python",
   "name": "python3"
  },
  "language_info": {
   "codemirror_mode": {
    "name": "ipython",
    "version": 3
   },
   "file_extension": ".py",
   "mimetype": "text/x-python",
   "name": "python",
   "nbconvert_exporter": "python",
   "pygments_lexer": "ipython3",
   "version": "3.8.5"
  }
 },
 "nbformat": 4,
 "nbformat_minor": 4
}
