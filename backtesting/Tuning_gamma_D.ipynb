{
 "cells": [
  {
   "cell_type": "markdown",
   "metadata": {},
   "source": [
    "Tuning $\\gamma_D$"
   ]
  },
  {
   "cell_type": "code",
   "execution_count": null,
   "metadata": {},
   "outputs": [],
   "source": [
    "import sys\n",
    "sys.path.append(\"utils\")\n",
    "import dynamic_backtesting as db\n",
    "import compare_strategies as cs\n",
    "import matplotlib.pyplot as plt\n",
    "import pandas as pd\n",
    "import matplotlib\n",
    "plt.style.use('seaborn')\n",
    "matplotlib.rcParams['axes.prop_cycle'] = matplotlib.cycler(color=[\"grey\", \"green\", \"black\", \"deepskyblue\", \"orange\", \"lime\", \"purple\", \"Gold\", \"brown\", \"blue\", \"pink\"]) \n",
    "plt.rcParams.update({\n",
    "   \"text.usetex\": True,\n",
    "   \"font.family\": ['Latin Modern Roman'],\n",
    "   \"xtick.labelsize\": 20.0,\n",
    "   \"ytick.labelsize\": 20.0,\n",
    "   \"axes.labelsize\":  20.0,\n",
    "   \"legend.fontsize\": 18.0\n",
    "})  "
   ]
  },
  {
   "cell_type": "code",
   "execution_count": null,
   "metadata": {},
   "outputs": [],
   "source": [
    "assets = {\"EEM\": \"Emerging Markets\",\n",
    "           \"IVV\": \"S&P 500\",\n",
    "           \"IEV\": \"MSCI Europe\",\n",
    "           \"IXN\": \"Global Tech\",\n",
    "           \"IYR\": \"US Real Estate\",\n",
    "           \"IXG\": \"Global Financials\",\n",
    "           \"EXI\": \"Global Industrials\",\n",
    "           \"GC=F\": \"Gold Futures\", \n",
    "           \"BZ=F\": \"Brent Crude Oil Futures\",\n",
    "           \"HYG\": \"High-Yield Corporate Bonds\",\n",
    "           \"TLT\": \"20+ Year Treasury Bonds\"}\n",
    "tickers = list(assets.keys())\n",
    "stocks = tickers[:7]\n",
    "stocks_dic = {asset: assets[asset] for asset in stocks }\n",
    "commodities = tickers[7:9]\n",
    "commodities_dic = {asset: assets[asset] for asset in commodities }\n",
    "bonds = tickers[9:]\n",
    "bonds_dic = {asset: assets[asset] for asset in bonds }"
   ]
  },
  {
   "cell_type": "markdown",
   "metadata": {},
   "source": [
    "**All assets**"
   ]
  },
  {
   "cell_type": "code",
   "execution_count": null,
   "metadata": {
    "collapsed": true,
    "jupyter": {
     "outputs_hidden": true
    },
    "tags": []
   },
   "outputs": [],
   "source": [
    "sharpes_all, std_all = db.test_gamma_D_params(tickers, number_of_out_of_sample_days=1000, model_type=\"sGARCH11\", portfolio_value=1e9,\n",
    "                                  gamma_start=1e-6, gamma_end=1e-1, gamma_num=200)"
   ]
  },
  {
   "cell_type": "code",
   "execution_count": null,
   "metadata": {},
   "outputs": [],
   "source": [
    "sharpes_all_pd = pd.DataFrame(sharpes_all, columns=['gamma_D', 'GARCH TC', 'Equal_weight TC', 'BnH TC'])\n",
    "sharpes_all_pd.set_index('gamma_D', drop=True, inplace=True)\n",
    "std_all_pd = pd.DataFrame(std_all, columns=['gamma_D', 'GARCH TC', 'Equal_weight TC', 'BnH TC'])\n",
    "std_all_pd.set_index('gamma_D', drop=True, inplace=True)"
   ]
  },
  {
   "cell_type": "code",
   "execution_count": null,
   "metadata": {},
   "outputs": [],
   "source": [
    "# min std gamma\n",
    "min_gamma_all=std_all_pd.loc[std_all_pd[\"GARCH TC\"] == min(std_all_pd[\"GARCH TC\"]) ]\n",
    "# max SR gamma\n",
    "max_gamma_all=sharpes_all_pd.loc[sharpes_all_pd[\"GARCH TC\"] == max(sharpes_all_pd[\"GARCH TC\"]) ]\n",
    "print(str(min_gamma_all)+\"\\n\"+str(max_gamma_all))"
   ]
  },
  {
   "cell_type": "code",
   "execution_count": null,
   "metadata": {},
   "outputs": [],
   "source": [
    "fig, ax = plt.subplots(1, 1, figsize=(9,7), dpi=300)\n",
    "ax.set_prop_cycle(matplotlib.cycler(color=[\"black\", \"green\",  \"deepskyblue\",]))\n",
    "ax.plot(std_all_pd)\n",
    "ax.legend([r\"\\textbf{GARCH(1,1)}\", r\"\\textbf{Equal weight}\", r\"\\textbf{Buy and hold}\"], loc='center right')\n",
    "ax.set_xlabel(r\"\\textbf{$\\gamma_D$}\")\n",
    "ax.set_ylabel(r\"\\textbf{Standard Deviation}\",loc='top', rotation = 0, labelpad = -235)\n",
    "ax.set_xscale('log')\n",
    "ax.set_xlim(1e-6,1e-1)\n",
    "fig.savefig(\"Tuning_Gamma_std_all.png\", bbox_inches = 'tight', pad_inches = 0.1)\n",
    "\n",
    "fig1, ax1 = plt.subplots(1, 1, figsize=(9,7), dpi=300)\n",
    "ax1.set_prop_cycle(matplotlib.cycler(color=[\"black\", \"green\",  \"deepskyblue\",]))\n",
    "ax1.plot(sharpes_all_pd)\n",
    "ax1.legend([r\"\\textbf{GARCH(1,1)}\", r\"\\textbf{Equal weight}\", r\"\\textbf{Buy and hold}\"], loc='center right')\n",
    "ax1.set_xlabel(r\"\\textbf{$\\gamma_D$}\")\n",
    "ax1.set_ylabel(r\"\\textbf{Sharpe Ratio}\",loc='top', rotation = 0, labelpad = -175)\n",
    "ax1.set_xscale('log') \n",
    "ax1.set_xlim(1e-6,1e-1)\n",
    "fig1.savefig(\"Tuning_Gamma_sharpes_all.png\", bbox_inches = 'tight', pad_inches = 0.1)"
   ]
  },
  {
   "cell_type": "markdown",
   "metadata": {},
   "source": [
    " **Stocks**"
   ]
  },
  {
   "cell_type": "code",
   "execution_count": null,
   "metadata": {},
   "outputs": [],
   "source": [
    "sharpes_stocks, std_stocks = db.test_gamma_D_params(stocks, number_of_out_of_sample_days=1000, model_type=\"sGARCH11\", portfolio_value=1e9,\n",
    "                                  gamma_start=5e-5, gamma_end=1e-1, gamma_num=200)"
   ]
  },
  {
   "cell_type": "code",
   "execution_count": null,
   "metadata": {},
   "outputs": [],
   "source": [
    "sharpes_stocks_pd = pd.DataFrame(sharpes_stocks, columns=['gamma_D', 'GARCH TC', 'Equal_weight TC', 'BnH TC'])\n",
    "sharpes_stocks_pd.set_index('gamma_D', drop=True, inplace=True)\n",
    "std_stocks_pd = pd.DataFrame(std_stocks, columns=['gamma_D', 'GARCH TC', 'Equal_weight TC', 'BnH TC'])\n",
    "std_stocks_pd.set_index('gamma_D', drop=True, inplace=True)"
   ]
  },
  {
   "cell_type": "code",
   "execution_count": null,
   "metadata": {},
   "outputs": [],
   "source": [
    "fig, ax = plt.subplots(1, 1, figsize=(9,7), dpi=300)\n",
    "ax.set_prop_cycle(matplotlib.cycler(color=[\"black\", \"green\",  \"deepskyblue\",]))\n",
    "ax.plot(std_stocks_pd)\n",
    "ax.legend([r\"\\textbf{GARCH(1,1)}\", r\"\\textbf{Equal weight}\", r\"\\textbf{Buy and hold}\"], loc='center right')\n",
    "ax.set_xlabel(r\"\\textbf{$\\gamma_D$}\")\n",
    "ax.set_ylabel(r\"\\textbf{Standard Deviation}\",loc='top', rotation = 0, labelpad = -235)\n",
    "ax.set_xscale('log')\n",
    "ax.set_xlim(5e-5,1e-1)\n",
    "fig.savefig(\"Tuning_Gamma_std_stocks.png\", bbox_inches = 'tight', pad_inches = 0.1)\n",
    "\n",
    "fig1, ax1 = plt.subplots(1, 1, figsize=(9,7), dpi=300)\n",
    "ax1.set_prop_cycle(matplotlib.cycler(color=[\"black\", \"green\",  \"deepskyblue\",]))\n",
    "ax1.plot(sharpes_stocks_pd)\n",
    "ax1.legend([r\"\\textbf{GARCH(1,1)}\", r\"\\textbf{Equal weight}\", r\"\\textbf{Buy and hold}\"], loc='center right')\n",
    "ax1.set_xlabel(r\"\\textbf{$\\gamma_D$}\")\n",
    "ax1.set_ylabel(r\"\\textbf{Sharpe Ratio}\",loc='top', rotation = 0, labelpad = -175)\n",
    "ax1.set_xscale('log')  \n",
    "ax1.set_xlim(5e-5,1e-1)\n",
    "fig1.savefig(\"Tuning_Gamma_sharpes_stocks.png\", bbox_inches = 'tight', pad_inches = 0.1)"
   ]
  },
  {
   "cell_type": "markdown",
   "metadata": {},
   "source": [
    "**Commodities**"
   ]
  },
  {
   "cell_type": "code",
   "execution_count": null,
   "metadata": {},
   "outputs": [],
   "source": [
    "sharpes_commodities, std_commodities = db.test_gamma_D_params(commodities, number_of_out_of_sample_days=1000, model_type=\"sGARCH11\", portfolio_value=1e9,\n",
    "                                  gamma_start=1e-6, gamma_end=1e-1, gamma_num=200)"
   ]
  },
  {
   "cell_type": "code",
   "execution_count": null,
   "metadata": {},
   "outputs": [],
   "source": [
    "sharpes_commodities_pd = pd.DataFrame(sharpes_commodities, columns=['gamma_D', 'GARCH TC', 'Equal_weight TC', 'BnH TC'])\n",
    "sharpes_commodities_pd.set_index('gamma_D', drop=True, inplace=True)\n",
    "std_commodities_pd = pd.DataFrame(std_commodities, columns=['gamma_D', 'GARCH TC', 'Equal_weight TC', 'BnH TC'])\n",
    "std_commodities_pd.set_index('gamma_D', drop=True, inplace=True)"
   ]
  },
  {
   "cell_type": "code",
   "execution_count": null,
   "metadata": {},
   "outputs": [],
   "source": [
    "# min std gamma\n",
    "min_gamma_com=std_commodities_pd.loc[std_commodities_pd[\"GARCH TC\"] == min(std_commodities_pd[\"GARCH TC\"]) ]\n",
    "# max SR gamma\n",
    "max_gamma_com=sharpes_commodities_pd.loc[sharpes_commodities_pd[\"GARCH TC\"] == max(sharpes_commodities_pd[\"GARCH TC\"]) ]\n",
    "print(str(min_gamma_com)+\"\\n\"+str(max_gamma_com))"
   ]
  },
  {
   "cell_type": "code",
   "execution_count": null,
   "metadata": {},
   "outputs": [],
   "source": [
    "fig, ax = plt.subplots(1, 1, figsize=(9,7), dpi=300)\n",
    "ax.set_prop_cycle(matplotlib.cycler(color=[\"black\", \"green\",  \"deepskyblue\",]))\n",
    "ax.plot(std_commodities_pd)\n",
    "ax.legend([r\"\\textbf{GARCH(1,1)}\", r\"\\textbf{Equal weight}\", r\"\\textbf{Buy and hold}\"], loc='center right')\n",
    "ax.set_xlabel(r\"\\textbf{$\\gamma_D$}\")\n",
    "ax.set_ylabel(r\"\\textbf{Standard Deviation}\",loc='top', rotation = 0, labelpad = -235)\n",
    "ax.set_xscale('log')\n",
    "ax.set_xlim(1e-6,1e-1)\n",
    "fig.savefig(\"Tuning_Gamma_std_com.png\", bbox_inches = 'tight', pad_inches = 0.1)\n",
    "\n",
    "\n",
    "fig1, ax1 = plt.subplots(1, 1, figsize=(9,7), dpi=300)\n",
    "ax1.set_prop_cycle(matplotlib.cycler(color=[\"black\", \"green\",  \"deepskyblue\",]))\n",
    "ax1.plot(sharpes_commodities_pd)\n",
    "ax1.legend([r\"\\textbf{GARCH(1,1)}\", r\"\\textbf{Equal weight}\", r\"\\textbf{Buy and hold}\"], loc='center right')\n",
    "ax1.set_xlabel(r\"\\textbf{$\\gamma_D$}\")\n",
    "ax1.set_ylabel(r\"\\textbf{Sharpe Ratio}\",loc='top', rotation = 0, labelpad = -175)\n",
    "ax1.set_xscale('log') \n",
    "ax1.set_xlim(1e-6,1e-1)\n",
    "fig1.savefig(\"Tuning_Gamma_sharpes_com.png\", bbox_inches = 'tight', pad_inches = 0.1)"
   ]
  },
  {
   "cell_type": "markdown",
   "metadata": {},
   "source": [
    "**Bonds**"
   ]
  },
  {
   "cell_type": "code",
   "execution_count": null,
   "metadata": {},
   "outputs": [],
   "source": [
    "sharpes_bonds, std_bonds = db.test_gamma_D_params(bonds, number_of_out_of_sample_days=1000, model_type=\"sGARCH11\", portfolio_value=1e9,\n",
    "                                  gamma_start=5e-5, gamma_end=1e-1, gamma_num=200)"
   ]
  },
  {
   "cell_type": "code",
   "execution_count": null,
   "metadata": {},
   "outputs": [],
   "source": [
    "sharpes_bonds_pd = pd.DataFrame(sharpes_bonds, columns=['gamma_D', 'GARCH TC', 'Equal_weight TC', 'BnH TC'])\n",
    "sharpes_bonds_pd.set_index('gamma_D', drop=True, inplace=True)\n",
    "std_bonds_pd = pd.DataFrame(std_bonds, columns=['gamma_D', 'GARCH TC', 'Equal_weight TC', 'BnH TC'])\n",
    "std_bonds_pd.set_index('gamma_D', drop=True, inplace=True)"
   ]
  },
  {
   "cell_type": "code",
   "execution_count": null,
   "metadata": {},
   "outputs": [],
   "source": [
    "fig, ax = plt.subplots(1, 1, figsize=(9,7), dpi=300)\n",
    "ax.set_prop_cycle(matplotlib.cycler(color=[\"black\", \"green\",  \"deepskyblue\",]))\n",
    "ax.plot(std_bonds_pd)\n",
    "ax.legend([r\"\\textbf{GARCH(1,1)}\", r\"\\textbf{Equal weight}\", r\"\\textbf{Buy and hold}\"], loc='center right')\n",
    "ax.set_xlabel(r\"\\textbf{$\\gamma_D$}\")\n",
    "ax.set_ylabel(r\"\\textbf{Standard Deviation}\",loc='top', rotation = 0, labelpad = -235)\n",
    "ax.set_xscale('log')\n",
    "ax.set_xlim(5e-5,1e-1)\n",
    "fig.savefig(\"Tuning_Gamma_std_bond.png\", bbox_inches = 'tight', pad_inches = 0.1)\n",
    "\n",
    "fig1, ax1 = plt.subplots(1, 1, figsize=(9,7), dpi=300)\n",
    "ax1.set_prop_cycle(matplotlib.cycler(color=[\"black\", \"green\",  \"deepskyblue\",]))\n",
    "ax1.plot(sharpes_bonds_pd)\n",
    "ax1.legend([r\"\\textbf{GARCH(1,1)}\", r\"\\textbf{Equal weight}\", r\"\\textbf{Buy and hold}\"], loc='center right')\n",
    "ax1.set_xlabel(r\"\\textbf{$\\gamma_D$}\")\n",
    "ax1.set_ylabel(r\"\\textbf{Sharpe Ratio}\",loc='top', rotation = 0, labelpad = -175)\n",
    "ax1.set_xscale('log') \n",
    "ax1.set_xlim(5e-5,1e-1)\n",
    "fig1.savefig(\"Tuning_Gamma_sharpes_bond.png\", bbox_inches = 'tight', pad_inches = 0.1)"
   ]
  },
  {
   "cell_type": "code",
   "execution_count": null,
   "metadata": {},
   "outputs": [],
   "source": []
  },
  {
   "cell_type": "code",
   "execution_count": null,
   "metadata": {},
   "outputs": [],
   "source": []
  }
 ],
 "metadata": {
  "kernelspec": {
   "display_name": "Python 3",
   "language": "python",
   "name": "python3"
  },
  "language_info": {
   "codemirror_mode": {
    "name": "ipython",
    "version": 3
   },
   "file_extension": ".py",
   "mimetype": "text/x-python",
   "name": "python",
   "nbconvert_exporter": "python",
   "pygments_lexer": "ipython3",
   "version": "3.8.5"
  }
 },
 "nbformat": 4,
 "nbformat_minor": 4
}
