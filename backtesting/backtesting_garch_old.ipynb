{
 "cells": [
  {
   "cell_type": "markdown",
   "metadata": {},
   "source": [
    "## Backtesting using historical prices"
   ]
  },
  {
   "cell_type": "code",
   "execution_count": null,
   "metadata": {},
   "outputs": [],
   "source": [
    "import datetime as dt\n",
    "from datetime import timedelta\n",
    "import numpy as np\n",
    "import pandas as pd\n",
    "from numpy import dot\n",
    "from numpy import divide\n",
    "from numpy.linalg import multi_dot as mdot\n",
    "from numpy.linalg import inv\n",
    "import matplotlib.pyplot as plt\n",
    "from matplotlib import rc\n",
    "import quadprog\n",
    "import yfinance\n",
    "import os\n",
    "from weights import Portfolio\n",
    "np.set_printoptions(precision = 3, suppress = True, linewidth = 400)\n",
    "os.chdir('/Users/nielseriksen/thesis/')"
   ]
  },
  {
   "cell_type": "markdown",
   "metadata": {},
   "source": [
    "### Downloading historical data"
   ]
  },
  {
   "cell_type": "code",
   "execution_count": null,
   "metadata": {},
   "outputs": [],
   "source": [
    "tickers = ['IVV', 'HYG', 'GC=F', 'IYT']\n",
    "etfs = yfinance.download(tickers, auto_adjust = True, start = \"2011-9-1\", end='2019-9-1')['Close']\n",
    "#etfs = yfinance.download(tickers, start = \"2011-9-1\")['Close']"
   ]
  },
  {
   "cell_type": "code",
   "execution_count": null,
   "metadata": {},
   "outputs": [],
   "source": [
    "etfs = etfs/etfs.iloc[0]\n",
    "etfs = etfs.pct_change().iloc[1:]*100"
   ]
  },
  {
   "cell_type": "code",
   "execution_count": null,
   "metadata": {},
   "outputs": [],
   "source": [
    "etfs.to_csv(\"data/etfs.csv\", sep=\";\")\n",
    "#etfs = pd.read_csv(\"../data/etfs.csv\", sep=\";\", index_col = 0)"
   ]
  },
  {
   "cell_type": "markdown",
   "metadata": {},
   "source": [
    "## Steps in GARCH backtesting"
   ]
  },
  {
   "cell_type": "markdown",
   "metadata": {
    "tags": []
   },
   "source": [
    "---- Inital setup----\n",
    "\n",
    "$t_{-1}$ is last period/yesterday - all information about this period is known when in period $t$\n",
    "\n",
    "\n",
    "$t$ is our current period/today - this is where weights are decided\n",
    "\n",
    "$t_{+1}$ is next period/tomorrow - we attempt to forecast the volatility of this period\n",
    "\n",
    "\n",
    "0. Fit model\n",
    "1. Receive variables and parse them: sigma ($\\sigma$), dcca (a), dccb (b), residuals ($\\epsilon$), alpha ($\\alpha$), beta ($\\beta$), omega ($\\omega$)\n",
    "2. Calculate Qbar = $\\frac{1}{T}\\sum_{t=1}^T\\eta_t\\eta_t'$\n",
    "---- Enter loop ---- \n",
    "\n",
    "0. Get variables from current period for all assets: $\\epsilon^2_{t}$, $\\sigma^2_{t}$\n",
    "1. Calculate for all assets $\\epsilon_t = r_t - \\mu$\n",
    "2. Calculate for all assets $ \\sigma_{i,t+1}^2=\\omega_i+\\alpha_i\\epsilon_{i,t}^2+\\beta_i\\sigma_{i,t}^2$\n",
    "3. Calculate $Var_{t} = diag(\\sigma_{t}^2)$\n",
    "3. Calculate $Var_{t+1} = diag(\\sigma_{t+1}^2)$\n",
    "4. Calculate $\\eta_t = inv(Var_t)*\\epsilon_t$\n",
    "5. Calculate $Q_{t+1} = Qbar*(1-dcca-dccb) + dcca*\\eta_{t}*\\eta_{t}' + b*Q_{t}$\n",
    "6. Calculate $Q_{t+1}^{*-1} = diag(Q_{t+1}^{-1})$ \n",
    "7. Calculate $\\Gamma_{t+1}=Q_{t+1}^{*-1}Q_{t+1}Q_{t+1}^{*-1}$\n",
    "8. Calculate $\\Omega_{t+1}=\\text{Var}_{t+1}\\Gamma_{t+1}\\text{Var}_{t+1}$"
   ]
  },
  {
   "cell_type": "markdown",
   "metadata": {},
   "source": [
    "## Obtain params from R"
   ]
  },
  {
   "cell_type": "markdown",
   "metadata": {},
   "source": [
    "### Fitting initial model"
   ]
  },
  {
   "cell_type": "code",
   "execution_count": null,
   "metadata": {},
   "outputs": [],
   "source": [
    "import rpy2.robjects as ro\n",
    "from rpy2.robjects import pandas2ri\n",
    "from rpy2.robjects.conversion import localconverter\n",
    "pandas2ri.activate()\n",
    "os.chdir('/Users/nielseriksen/thesis/')\n",
    "# Defining the R script and loading the instance in Python\n",
    "r = ro.r\n",
    "r['source']('backtesting/fitting_mgarch.R')"
   ]
  },
  {
   "cell_type": "markdown",
   "metadata": {},
   "source": [
    "### Initial setup"
   ]
  },
  {
   "cell_type": "code",
   "execution_count": null,
   "metadata": {
    "tags": []
   },
   "outputs": [],
   "source": [
    "# 0. Fit model\n",
    "length_sample_period = len(etfs)-1000\n",
    "out_of_sample = etfs.iloc[length_sample_period:,]\n",
    "in_sample = etfs.iloc[:length_sample_period,]\n",
    "# Loading the function we have defined in R.\n",
    "fit_mgarch_r = ro.globalenv['fit_mgarch']\n",
    "#Fitting the mgarch model and receiving the result\n",
    "ugarch_model = \"sGARCH\"\n",
    "ugarch_dist_model = \"norm\"\n",
    "coef, residuals, sigmas = fit_mgarch_r(length_sample_period, ugarch_model, ugarch_dist_model)"
   ]
  },
  {
   "cell_type": "code",
   "execution_count": null,
   "metadata": {},
   "outputs": [],
   "source": [
    "def calculate_Qbar(epsilons, sigmas):\n",
    "    assert np.size(epsilons, axis=0) == np.size(sigmas, axis=0)\n",
    "    eta = []\n",
    "    p = np.size(epsilons, 1)\n",
    "    for epsilon_t, sigma_t in zip(epsilons, sigmas):\n",
    "        # Ensure epsilon_t is px1 dimensions so eta becomes px1\n",
    "        epsilon_t = np.reshape(epsilon_t, (p, 1))\n",
    "        Var_t, Var_t_inv = inv(calculate_Var_t(sigma_t))\n",
    "        eta.append(dot(Var_t_inv, epsilon_t))\n",
    "\n",
    "    eta = np.array(eta)\n",
    "    Qbar = 1/len(epsilons) * sum([dot(eta, eta.T) for eta in eta])\n",
    "    assert np.size(Qbar, 1) == np.size(epsilons, 1)\n",
    "    return Qbar"
   ]
  },
  {
   "cell_type": "code",
   "execution_count": null,
   "metadata": {
    "tags": []
   },
   "outputs": [],
   "source": [
    "#Receive variables from model\n",
    "asset_names = etfs.columns.values\n",
    "p = len(asset_names)\n",
    "\n",
    "# How elegant\n",
    "mu, o, al, be = np.hsplit(coef[:-2].reshape((len(asset_names), 4)), 4)\n",
    "mu, o, al, be = map(np.ravel, (mu, o, al, be))  # Flattening to 1d array\n",
    "mu, o, al, be = map(np.reshape, (mu, o, al, be), [(p, 1)]*4)  # Reshaping to px1\n",
    "dcca = coef[-2]\n",
    "dccb = coef[-1]\n",
    "epsilons = residuals\n",
    "_sigmas = sigmas\n",
    "\n",
    "# 5. Calculate Qbar\n",
    "Qbar = calculate_Qbar(epsilons, sigmas)\n",
    "Q_t = Qbar"
   ]
  },
  {
   "cell_type": "markdown",
   "metadata": {},
   "source": [
    "### Enter loop"
   ]
  },
  {
   "cell_type": "code",
   "execution_count": null,
   "metadata": {
    "tags": []
   },
   "outputs": [],
   "source": [
    "Omega_ts = []\n",
    "for t, r_t in enumerate(out_of_sample.values):\n",
    "    r_t = np.reshape(r_t, (p, 1))\n",
    "    # 0. Get current sigma^2\n",
    "    s_t_squared = np.reshape(_sigmas[-1], (p, 1))\n",
    "\n",
    "    # 1. Calculate current period epsilon\n",
    "    e_t, e_t_squared, epsilons = calculate_epsilon(epsilons, r_t, mu)\n",
    "\n",
    "    # 2. Calculate for all assets sigma_^2\n",
    "    s_t_squared_plus_1 = calculate_sigma(o, al, e_t_squared, be, s_t_squared)\n",
    "\n",
    "    # 3. Calculate Var_t, Var_t_inv\n",
    "    Var_t, Var_t_inv = calculate_Var_t(s_t_squared)\n",
    "    Var_t_plus_1, Var_t_plus_1_inv = calculate_Var_t(s_t_squared_plus_1)\n",
    "    \n",
    "    # 4. Calculate eta_t\n",
    "    eta_t = dot(Var_t_inv, e_t)\n",
    "    \n",
    "    # 6. Calculate Q_t_plus_1\n",
    "    Q_t_plus_1, Q_t_plus_1_s_inv = calculate_Q_t_plus_1(Qbar, dcca, dccb, eta_t, Q_t)\n",
    "    \n",
    "    # 8. Calulate Gamma_t\n",
    "    Gamma_t_plus_1 = calculate_Gamma_t_plus_1(Q_t_plus_1_s_inv, Q_t_plus_1)\n",
    "    \n",
    "    # 9. \n",
    "    Omega_t_plus_1 = calculate_Omega_t_plus_1(Var_t_plus_1, Gamma_t_plus_1)\n",
    "    \n",
    "    # Storing\n",
    "    Omega_ts.append(Omega_t_plus_1)\n",
    "    _sigmas = np.append(_sigmas, np.reshape(s_t_squared, (1, p)), axis = 0)\n",
    "    \n",
    "    # Iterate on period\n",
    "    Q_t = Q_t_plus_1\n"
   ]
  },
  {
   "cell_type": "code",
   "execution_count": null,
   "metadata": {},
   "outputs": [],
   "source": [
    "def values_from_last_period(epsilons, sigmas):\n",
    "    e_t = epsilons[-1]\n",
    "    e_t_squared = epsilons[-1]**2\n",
    "    s_t_squared = sigmas[-1]\n",
    "    return e_t, e_t_squared, s_t_squared"
   ]
  },
  {
   "cell_type": "code",
   "execution_count": null,
   "metadata": {},
   "outputs": [],
   "source": [
    "def calculate_epsilon(epsilons, r_t, mu):\n",
    "    p = np.size(epsilons, 1)\n",
    "    \n",
    "    # Ensure e_t is px1\n",
    "    e_t = np.reshape(np.array([r_t - mu]).T, (p, 1))\n",
    "    e_t_squared = e_t**2\n",
    "    epsilons = np.append(epsilons, e_t.T, axis=0)\n",
    "    return e_t, e_t_squared, epsilons"
   ]
  },
  {
   "cell_type": "code",
   "execution_count": null,
   "metadata": {},
   "outputs": [],
   "source": [
    "def calculate_sigma(o, al, e_t_1_squared, be, s_t_1_squared):\n",
    "    \n",
    "    next_sigma = np.array([o + al*e_t_1_squared + be*s_t_1_squared])\n",
    "    return next_sigma"
   ]
  },
  {
   "cell_type": "code",
   "execution_count": null,
   "metadata": {},
   "outputs": [],
   "source": [
    "def calculate_Var_t(s_t_squared):\n",
    "    Var_t = np.diag(np.ravel(s_t_squared))\n",
    "    Var_t_inv = inv(Var_t)\n",
    "    return Var_t, Var_t_inv"
   ]
  },
  {
   "cell_type": "code",
   "execution_count": null,
   "metadata": {},
   "outputs": [],
   "source": [
    "def calculate_Q_t_plus_1(Qbar, dcca, dccb, eta_t, Q_t):\n",
    "    assert np.size(dcca) == 1\n",
    "    assert np.size(dccb) == 1\n",
    "    Q_t_plus_1 = np.array(Qbar*(1-dcca-dccb) + dcca*eta_t*eta_t.T + dccb*Q_t)\n",
    "    #print(Q_t_plus_1)\n",
    "    Q_t_plus_1_s_inv = inv(np.diag(np.diag(Q_t_plus_1)))\n",
    "    return Q_t_plus_1, Q_t_plus_1_s_inv"
   ]
  },
  {
   "cell_type": "code",
   "execution_count": null,
   "metadata": {},
   "outputs": [],
   "source": [
    "def calculate_Gamma_t_plus_1(Q_t_plus_1_s_inv, Q_t_plus_1):\n",
    "    Gamma_t_plus_1 = mdot([Q_t_plus_1_s_inv, Q_t_plus_1, Q_t_plus_1_s_inv])\n",
    "    return Gamma_t_plus_1"
   ]
  },
  {
   "cell_type": "code",
   "execution_count": null,
   "metadata": {},
   "outputs": [],
   "source": [
    "def calculate_Omega_t_plus_1(Var_t_plus_1, Gamma_t_plus_1):\n",
    "    Omega_t_plus_1 = mdot([Var_t_plus_1, Gamma_t_plus_1, Var_t_plus_1])\n",
    "    return Omega_t_plus_1"
   ]
  },
  {
   "cell_type": "markdown",
   "metadata": {},
   "source": [
    "### Generating weigths from this"
   ]
  },
  {
   "cell_type": "code",
   "execution_count": null,
   "metadata": {},
   "outputs": [],
   "source": [
    "ones = np.ones((p, 1))\n",
    "v_t = [np.ravel(divide(dot(Omega, ones), mdot([ones.T, Omega, ones]))) for Omega in Omega_ts]"
   ]
  },
  {
   "cell_type": "code",
   "execution_count": null,
   "metadata": {
    "tags": []
   },
   "outputs": [],
   "source": [
    "plt.plot(v_t)\n",
    "#plt.legend(labels=[\"IVV\", \"HYG\"])"
   ]
  },
  {
   "cell_type": "code",
   "execution_count": null,
   "metadata": {},
   "outputs": [],
   "source": [
    "etfs.std()"
   ]
  },
  {
   "cell_type": "code",
   "execution_count": null,
   "metadata": {},
   "outputs": [],
   "source": [
    "method_two = pd.DataFrame(v_t*out_of_sample.values).sum(axis=1)"
   ]
  },
  {
   "cell_type": "code",
   "execution_count": null,
   "metadata": {
    "tags": []
   },
   "outputs": [],
   "source": [
    "plt.plot(method_two)"
   ]
  },
  {
   "cell_type": "code",
   "execution_count": null,
   "metadata": {},
   "outputs": [],
   "source": [
    "garch_strategy = (pd.DataFrame(v_t*out_of_sample.values).sum(axis=1)/100+1).cumprod()"
   ]
  },
  {
   "cell_type": "code",
   "execution_count": null,
   "metadata": {
    "tags": []
   },
   "outputs": [],
   "source": [
    "out_of_sample.mean(axis=1).values"
   ]
  },
  {
   "cell_type": "code",
   "execution_count": null,
   "metadata": {},
   "outputs": [],
   "source": [
    "garch_strategy.std()"
   ]
  },
  {
   "cell_type": "code",
   "execution_count": null,
   "metadata": {},
   "outputs": [],
   "source": [
    "one_over_n_strategy = (out_of_sample.mean(axis=1)/100 +1).cumprod()"
   ]
  },
  {
   "cell_type": "code",
   "execution_count": null,
   "metadata": {},
   "outputs": [],
   "source": [
    "one_over_n_strategy.std()"
   ]
  },
  {
   "cell_type": "code",
   "execution_count": null,
   "metadata": {},
   "outputs": [],
   "source": [
    "garch_strategy.index = one_over_n_strategy.index"
   ]
  },
  {
   "cell_type": "code",
   "execution_count": null,
   "metadata": {},
   "outputs": [],
   "source": [
    "fig, ax = plt.subplots(1, 1)\n",
    "ax.plot(garch_strategy, label = \"stationary GARCH\")\n",
    "ax.plot(one_over_n_strategy, label = \"$1/N$\")\n",
    "ax.legend()"
   ]
  },
  {
   "cell_type": "markdown",
   "metadata": {},
   "source": [
    "### GARCH with trading costs"
   ]
  },
  {
   "cell_type": "code",
   "execution_count": null,
   "metadata": {},
   "outputs": [],
   "source": [
    "dot(np.full((1, p), 0.5), Omega_ts[-1])"
   ]
  },
  {
   "cell_type": "code",
   "execution_count": null,
   "metadata": {},
   "outputs": [],
   "source": [
    "Omega_ts[-1]**2"
   ]
  },
  {
   "cell_type": "code",
   "execution_count": null,
   "metadata": {},
   "outputs": [],
   "source": [
    "def Avv(rho, lambda_, Omega_t_plus_1):\n",
    "    r = rho\n",
    "    l = lambda_\n",
    "    O = Omega_t_plus_1\n",
    "    \n",
    "    res = np.sqrt(l*(O**2)+0.25*((rho**2)*((1-rho)**(-2))*(l*O)**2 + 2*rho*((1-rho)**(-1))*l*(O**2)+O**2))-0.5*(O+rho*((1-rho)**(-1))*l*O)\n",
    "    return res\n",
    "    \n",
    "rho = 0.0001    \n",
    "Omega_t_plus_1 = Omega_ts[-1]     # Picking a random Omega\n",
    "lambda_ = 0.95\n",
    "test_Avv = Avv(rho, lambda_, Omega_t_plus_1)"
   ]
  },
  {
   "cell_type": "markdown",
   "metadata": {},
   "source": [
    "## Testing $v_t= v_{t-1}(1+\\Lambda^{-1}A_{vv})$"
   ]
  },
  {
   "cell_type": "code",
   "execution_count": null,
   "metadata": {},
   "outputs": [],
   "source": [
    "v_t_minus_1 = np.full((p, 1), 1/p)"
   ]
  },
  {
   "cell_type": "code",
   "execution_count": null,
   "metadata": {},
   "outputs": [],
   "source": [
    "dot((1/(lambda_*Omega_t_plus_1)), test_Avv)"
   ]
  },
  {
   "cell_type": "code",
   "execution_count": null,
   "metadata": {},
   "outputs": [],
   "source": [
    "v_t = dot(v_t_minus_1.T, (1+dot((1/(lambda_*Omega_t_plus_1)), test_Avv)))"
   ]
  },
  {
   "cell_type": "code",
   "execution_count": null,
   "metadata": {},
   "outputs": [],
   "source": [
    "v_t = v_t/v_t.sum()\n",
    "v_t = v_t.reshape((p, 1))"
   ]
  },
  {
   "cell_type": "code",
   "execution_count": null,
   "metadata": {},
   "outputs": [],
   "source": [
    "mdot([v_t.T, Omega_t_plus_1, v_t])"
   ]
  },
  {
   "cell_type": "code",
   "execution_count": null,
   "metadata": {},
   "outputs": [],
   "source": [
    "mdot([v_t_minus_1.T, Omega_t_plus_1, v_t_minus_1])"
   ]
  },
  {
   "cell_type": "code",
   "execution_count": null,
   "metadata": {},
   "outputs": [],
   "source": [
    "Lambda_inv = (1/(lambda_*Omega_t_plus_1))"
   ]
  },
  {
   "cell_type": "code",
   "execution_count": null,
   "metadata": {},
   "outputs": [],
   "source": [
    "aim = dot(inv(test_Avv), np.ones((p, 1)))/mdot([np.ones((p, 1)).T, inv(test_Avv), np.ones((p, 1))])\n",
    "aim = dot(inv(test_Avv), np.ones((p, 1)))"
   ]
  },
  {
   "cell_type": "code",
   "execution_count": null,
   "metadata": {},
   "outputs": [],
   "source": [
    "aim"
   ]
  },
  {
   "cell_type": "code",
   "execution_count": null,
   "metadata": {},
   "outputs": [],
   "source": [
    "v_t = v_t_minus_1 + dot(dot(Lambda_inv, test_Avv), (aim - v_t_minus_1))"
   ]
  },
  {
   "cell_type": "code",
   "execution_count": null,
   "metadata": {},
   "outputs": [],
   "source": [
    "v_t"
   ]
  },
  {
   "cell_type": "code",
   "execution_count": null,
   "metadata": {},
   "outputs": [],
   "source": [
    "test = np.array([1, 2, 5, -3])"
   ]
  },
  {
   "cell_type": "markdown",
   "metadata": {},
   "source": [
    "\n",
    "### Misc "
   ]
  },
  {
   "cell_type": "code",
   "execution_count": null,
   "metadata": {},
   "outputs": [],
   "source": []
  },
  {
   "cell_type": "code",
   "execution_count": null,
   "metadata": {},
   "outputs": [],
   "source": [
    "rcov_forecast_r = ro.globalenv['rcov_forecast']\n",
    "rcov = rcov_forecast_r()[0][0]"
   ]
  },
  {
   "cell_type": "code",
   "execution_count": null,
   "metadata": {},
   "outputs": [],
   "source": [
    "tri = np.zeros((10, 10))\n",
    "tri[np.triu_indices(n = 10, k=0, m=10)] = rcov"
   ]
  },
  {
   "cell_type": "code",
   "execution_count": null,
   "metadata": {},
   "outputs": [],
   "source": [
    "Omega = tri + tri.T - np.diag(np.diag(tri))"
   ]
  }
 ],
 "metadata": {
  "kernelspec": {
   "display_name": "Python 3",
   "language": "python",
   "name": "python3"
  },
  "language_info": {
   "codemirror_mode": {
    "name": "ipython",
    "version": 3
   },
   "file_extension": ".py",
   "mimetype": "text/x-python",
   "name": "python",
   "nbconvert_exporter": "python",
   "pygments_lexer": "ipython3",
   "version": "3.7.0"
  }
 },
 "nbformat": 4,
 "nbformat_minor": 4
}
