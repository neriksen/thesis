{
 "cells": [
  {
   "cell_type": "code",
   "execution_count": null,
   "metadata": {},
   "outputs": [],
   "source": [
    "import datetime as dt\n",
    "import numpy as np\n",
    "import pandas as pd\n",
    "import matplotlib.pyplot as plt\n",
    "import scipy.stats as scipy\n",
    "from matplotlib import rc\n",
    "import matplotlib\n",
    "import yfinance\n",
    "import seaborn as sns\n",
    "plt.style.use('seaborn')\n",
    "matplotlib.rcParams['axes.prop_cycle'] = matplotlib.cycler(color=[\"grey\", \"green\", \"black\", \"deepskyblue\", \"orange\", \"lime\", \"purple\", \"Gold\", \"brown\", \"blue\", \"pink\"])\n",
    "plt.rcParams.update({\n",
    "   \"text.usetex\": True,\n",
    "   \"font.family\": ['Latin Modern Roman'],\n",
    "   \"xtick.labelsize\": 20.0,\n",
    "   \"ytick.labelsize\": 20.0,\n",
    "   \"axes.labelsize\":  20.0,\n",
    "   \"legend.fontsize\": 20.0\n",
    "}) "
   ]
  },
  {
   "cell_type": "code",
   "execution_count": null,
   "metadata": {},
   "outputs": [],
   "source": [
    "assets = {\"EEM\": \"Emerging Markets\",\n",
    "           \"IVV\": \"S&P 500\",\n",
    "           \"IEV\": \"MSCI Europe\",\n",
    "           \"IXN\": \"Global Tech\",\n",
    "           \"IYR\": \"US Real Estate\",\n",
    "           \"IXG\": \"Global Financials\",\n",
    "           \"EXI\": \"Global Industrials\",\n",
    "           \"GC=F\": \"Gold Futures\", \n",
    "           \"BZ=F\": \"Brent Crude Oil Futures\",\n",
    "           \"HYG\": \"High-Yield Corporate Bonds\",\n",
    "           \"TLT\": \"20+ Year Treasury Bonds\"}\n",
    "tickers = list(assets.keys())\n",
    "asset_names = list(assets.values())\n",
    "#spx = pd.read_csv('../data/spx.csv').stack().tolist()"
   ]
  },
  {
   "cell_type": "markdown",
   "metadata": {},
   "source": [
    "**Downloading data and calculating returns**"
   ]
  },
  {
   "cell_type": "code",
   "execution_count": null,
   "metadata": {},
   "outputs": [],
   "source": [
    "raw_data = yfinance.download(tickers, start=\"2008-1-1\", end=\"2021-10-02\", back_adjust=True, auto_adjust=True)\n",
    "closing_prices = raw_data['Close']\n",
    "closing_prices = closing_prices[tickers]\n",
    "returns = closing_prices.pct_change().iloc[1:].ffill()*100 #returns\n",
    "index = closing_prices/closing_prices.iloc[0]*100 #index"
   ]
  },
  {
   "cell_type": "markdown",
   "metadata": {},
   "source": [
    "**Plotter index figur med alle aktiver**"
   ]
  },
  {
   "cell_type": "code",
   "execution_count": null,
   "metadata": {
    "tags": []
   },
   "outputs": [],
   "source": [
    "fig, ax = plt.subplots(1, 1,  figsize=(9,7),dpi=200)\n",
    "ax.plot(index, linewidth=1)\n",
    "ax.legend([r\"\\textbf{Emerging Markets}\",r\"\\textbf{S\\&P 500}\",r\"\\textbf{MSCI Europe}\",r\"\\textbf{Global Tech}\",r\"\\textbf{US Real Estate}\"\n",
    ",r\"\\textbf{Global Financials}\",r\"\\textbf{Global Industrials}\",r\"\\textbf{Gold Futures}\",r\"\\textbf{Brent Crude Oil Futures}\"\n",
    ",r\"\\textbf{High-Yield Corporate Bonds}\",r\"\\textbf{20+ Year Treasury Bonds}\"],ncol=2,fontsize=14)\n",
    "ax.set_ylabel(r\"\\textbf{Index, 2008=100}\",loc='top', rotation = 0, labelpad = -200) \n",
    "ax.set_xlim(\"2008\",\"2021-10-02\")\n",
    "fig.savefig(\"Stocks_index_plot.png\", bbox_inches = 'tight', pad_inches = 0.1)"
   ]
  },
  {
   "cell_type": "markdown",
   "metadata": {},
   "source": [
    "**Fitter fordelinger og laver PDF'er for udvalgte tickers, samt plotter PDF med real world data**"
   ]
  },
  {
   "cell_type": "code",
   "execution_count": null,
   "metadata": {},
   "outputs": [],
   "source": [
    "ticker_list=[\"IVV\",\"GC=F\",\"HYG\"]"
   ]
  },
  {
   "cell_type": "code",
   "execution_count": null,
   "metadata": {},
   "outputs": [],
   "source": [
    "\n",
    "\n",
    "for ticker in ticker_list:\n",
    "    mu, std = scipy.norm.fit(returns[ticker]) #normal distribution fi#t\n",
    "    beta, loc_ged, scale_ged = scipy.gennorm.fit(returns[ticker]) #GED f#it\n",
    "    df, nc_t, loc_t, scale_t = scipy.nct.fit(returns[ticker]) #non central student's t distrubiton fit\n",
    "\n",
    "    #draw data\n",
    "    xmin = returns[ticker].min()\n",
    "    xmax = returns[ticker].max()\n",
    "    x = np.linspace(xmin, xmax, 1000)\n",
    "\n",
    "    normal_data=scipy.norm.pdf(x, mu, std)\n",
    "    GED_data=scipy.gennorm.pdf(x, beta,loc_ged,scale_ged)\n",
    "    t_data=scipy.nct.pdf(x, df,nc_t,loc_t,scale_t)\n",
    "    \n",
    "    fig, ax = plt.subplots(1, 1, figsize=(9,7), dpi=190)\n",
    "    ax.plot(x, normal_data, label=r\"\\textbf{Fitted gaussian}\")#, c=\"blue\")\n",
    "    ax.plot(x, GED_data, label=r\"\\textbf{Fitted GED}\")#, c = \"black\")\n",
    "    ax.plot(x, t_data, label =r\"\\textbf{Fitted NC-t}\")#, c=\"red\")\n",
    "    ax.hist(returns[ticker], bins=100, alpha=0.6, density = True)\n",
    "    ax.set_xlim(-7.5, 7.5)\n",
    "    ax.legend()\n",
    "    ax.set_xlabel(r\"\\textbf{Returns}\") \n",
    "    ax.set_ylabel(r\"\\textbf{Probability Density}\",loc='top', rotation = 0, labelpad = -233) \n",
    "    fig.savefig(f\"Density_{ticker}.png\", bbox_inches = 'tight', pad_inches = 0.1)"
   ]
  },
  {
   "cell_type": "markdown",
   "metadata": {},
   "source": [
    "Fitter GARCH model og plotter data"
   ]
  },
  {
   "cell_type": "code",
   "execution_count": null,
   "metadata": {},
   "outputs": [],
   "source": [
    "import arch\n",
    "for ticker in ticker_list:\n",
    "    #set up model:\n",
    "    dist = arch.univariate.SkewStudent()\n",
    "    vol = arch.univariate.GARCH(p=1, o=1, q=1)\n",
    "    model = arch.univariate.ConstantMean(returns[ticker], volatility=vol, distribution=dist)\n",
    "    #estimate model\n",
    "    results = model.fit(disp = 'off')\n",
    "    params = results.params\n",
    "    #simulate data\n",
    "    sim_returns = model.simulate(params, len(returns[ticker])).iloc[:,0]\n",
    "    #plot simulated data\n",
    "    f, ax1 = plt.subplots(1, 1, figsize=(9,7), dpi=190)\n",
    "    ax1.plot(sim_returns, alpha=.8 , label=r\"\\textbf{Simulated}\",c='gray')\n",
    "    ax1.plot(returns[ticker].values, alpha=.7,label=r\"\\textbf{Real Data}\",c=\"Green\")\n",
    "    ax1.set_ylabel(r\"\\textbf{Daily Returns}\",loc='top', rotation = 0, labelpad = -180)\n",
    "    ax1.legend()\n",
    "    ax1.set_ylim((-30,30))\n",
    "    ax1.set_xlim((0,3000))\n",
    "    f.savefig(f\"Garch_timeseries_{ticker}.png\", bbox_inches = 'tight', pad_inches = 0.1)"
   ]
  },
  {
   "cell_type": "markdown",
   "metadata": {},
   "source": [
    "**Laver Jarque bera normalitets test**"
   ]
  },
  {
   "cell_type": "code",
   "execution_count": null,
   "metadata": {},
   "outputs": [],
   "source": [
    "mean = returns.mean()*250\n",
    "std = returns.std()*(250**0.5)\n",
    "#normality test\n",
    "jarque = returns.apply(scipy.jarque_bera, axis=0)\n",
    "p_values = jarque.iloc[1]\n",
    "#skewed students t parameters\n",
    "t_dist= returns.apply(scipy.nct.fit, axis=0) \n",
    "df_t=t_dist.iloc[0]\n",
    "nc_t=t_dist.iloc[1]\n",
    "loc_t=t_dist.iloc[2]\n",
    "scale_t=t_dist.iloc[3]\n",
    "\n",
    "row_names = pd.Index(['Mean', 'Std', 'P_value Jarque', 'Degrees of freedom','Non central','Location','Scale'])\n",
    "stat = pd.DataFrame([mean, std, p_values, df_t, nc_t, loc_t, scale_t], columns = tickers, index = row_names)"
   ]
  },
  {
   "cell_type": "code",
   "execution_count": null,
   "metadata": {},
   "outputs": [],
   "source": [
    "trans = stat.transpose().sort_values(\"Mean\", ascending=False)"
   ]
  },
  {
   "cell_type": "code",
   "execution_count": null,
   "metadata": {},
   "outputs": [],
   "source": [
    "(trans.Mean/trans.Std).sort_values()"
   ]
  },
  {
   "cell_type": "code",
   "execution_count": null,
   "metadata": {},
   "outputs": [],
   "source": [
    "plt.scatter(y = avg, x = std)"
   ]
  },
  {
   "cell_type": "markdown",
   "metadata": {},
   "source": [
    "**Laver cool covariance matrix**"
   ]
  },
  {
   "cell_type": "code",
   "execution_count": null,
   "metadata": {},
   "outputs": [],
   "source": [
    "cov = returns.corr()\n",
    "cmap = sns.light_palette(\"purple\", as_cmap=True, reverse = True)\n",
    "s = cov.style\n",
    "s.background_gradient(cmap=cmap, axis=None)\n",
    "s.format({\n",
    "   (\"Numeric\", \"Integers\"): '\\${}',\n",
    "   (\"Numeric\", \"Floats\"): '{:.3f}',\n",
    "   (\"Non-Numeric\", \"Strings\"): str.upper\n",
    "})\n",
    "s.set_precision(2)"
   ]
  },
  {
   "cell_type": "code",
   "execution_count": null,
   "metadata": {
    "tags": []
   },
   "outputs": [],
   "source": [
    "avg = returns.resample(\"Y\").mean()*250\n",
    "std = returns.resample(\"Y\").std()*np.sqrt(250)"
   ]
  },
  {
   "cell_type": "code",
   "execution_count": null,
   "metadata": {},
   "outputs": [],
   "source": [
    "plt.plot(avg)"
   ]
  },
  {
   "cell_type": "code",
   "execution_count": null,
   "metadata": {},
   "outputs": [],
   "source": []
  }
 ],
 "metadata": {
  "interpreter": {
   "hash": "035a4835455b69dd03d840b7a1daac0c5382153a24200b5f58c2216ec44fc40f"
  },
  "kernelspec": {
   "display_name": "Python 3.8.5 64-bit ('base': conda)",
   "name": "python3"
  },
  "language_info": {
   "codemirror_mode": {
    "name": "ipython",
    "version": 3
   },
   "file_extension": ".py",
   "mimetype": "text/x-python",
   "name": "python",
   "nbconvert_exporter": "python",
   "pygments_lexer": "ipython3",
   "version": "3.8.5"
  }
 },
 "nbformat": 4,
 "nbformat_minor": 4
}
