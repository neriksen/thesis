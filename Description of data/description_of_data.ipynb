{
 "cells": [
  {
   "cell_type": "code",
   "execution_count": null,
   "metadata": {},
   "outputs": [],
   "source": [
    "import datetime as dt\n",
    "import numpy as np\n",
    "import pandas as pd\n",
    "import matplotlib.pyplot as plt\n",
    "import scipy.stats as scipy\n",
    "from matplotlib import rc\n",
    "import matplotlib\n",
    "import yfinance\n",
    "import seaborn as sns\n",
    "plt.style.use('seaborn')"
   ]
  },
  {
   "cell_type": "code",
   "execution_count": null,
   "metadata": {},
   "outputs": [],
   "source": [
    "spx = pd.read_csv('../data/spx.csv').stack().tolist()"
   ]
  },
  {
   "cell_type": "markdown",
   "metadata": {},
   "source": [
    "**Downloading data and calculating returns**"
   ]
  },
  {
   "cell_type": "code",
   "execution_count": null,
   "metadata": {},
   "outputs": [],
   "source": [
    "raw_data = yfinance.download(spx, start=\"2013-1-1\", back_adjust=True, auto_adjust=True)\n",
    "closing_prices = raw_data['Close']\n",
    "returns = closing_prices.pct_change().iloc[1:].ffill()-(1**(1/250)-1)"
   ]
  },
  {
   "cell_type": "markdown",
   "metadata": {},
   "source": [
    "**Fitting distribution to data and drawing data**"
   ]
  },
  {
   "cell_type": "code",
   "execution_count": null,
   "metadata": {},
   "outputs": [],
   "source": [
    "ticker=\"AAPL\"\n",
    "\n",
    "mu, std = scipy.norm.fit(returns[ticker]) #normal distribution fi#t\n",
    "beta, loc_ged, scale_ged = scipy.gennorm.fit(returns[ticker]) #GED f#it\n",
    "df, nc_t, loc_t, scale_t = scipy.nct.fit(returns[ticker]) #skewed student's t distrubiton fit\n",
    "\n",
    "#draw data\n",
    "xmin = returns[ticker].min()\n",
    "xmax = returns[ticker].max()\n",
    "x = np.linspace(xmin, xmax, 1000)\n",
    "\n",
    "normal_data=scipy.norm.pdf(x, mu, std)\n",
    "GED_data=scipy.gennorm.pdf(x, beta,loc_ged,scale_ged)\n",
    "t_data=scipy.nct.pdf(x, df,nc_t,loc_t,scale_t)"
   ]
  },
  {
   "cell_type": "markdown",
   "metadata": {},
   "source": [
    "**Plotting data**"
   ]
  },
  {
   "cell_type": "code",
   "execution_count": null,
   "metadata": {},
   "outputs": [],
   "source": [
    "plt.style.use('seaborn')\n",
    "fig, ax = plt.subplots(1, 1, figsize=(7, 7), dpi=190)\n",
    "ax.plot(x, normal_data, label=\"Fitted gaussian\")#, c=\"blue\")\n",
    "ax.plot(x, GED_data, label=\"Fitted GED\")#, c = \"black\")\n",
    "ax.plot(x, t_data, label =\"Fitted skewed-t\")#, c=\"red\")\n",
    "ax.hist(returns[ticker], bins=100, alpha=0.6, density = True)\n",
    "ax.set_xlim(-0.075, 0.075)\n",
    "ax.legend()\n",
    "ax.set_xlabel('Returns') \n",
    "ax.set_ylabel('Probability Density',loc='top', rotation = 0, labelpad = -110) \n",
    "fig.savefig(\"Density.png\", bbox_inches = 'tight', pad_inches = 0.1)"
   ]
  },
  {
   "cell_type": "code",
   "execution_count": null,
   "metadata": {},
   "outputs": [],
   "source": [
    "f, ax1 = plt.subplots(1, 1, figsize=(15,12))\n",
    "ax1.plot(returns[ticker], alpha=.8)\n",
    "ax1.set_ylabel('Yearly Returns',loc='top', rotation = 0, labelpad = -100)\n",
    "ax1.set_ylim((-0.35,0.35))\n",
    "#plt.savefig(\"Empirical timeseries.png\", bbox_inches = 'tight', pad_inches = 0.1)\n",
    "\n",
    "f, ax2 = plt.subplots(1, 1, figsize=(15,12))\n",
    "ax2.plot(normal_data, alpha=.8)\n",
    "ax2.set_ylabel('Yearly Returns',loc='top', rotation = 0, labelpad = -100)\n",
    "ax2.set_ylim((-0.35,0.35))\n",
    "#plt.savefig(\"Gaussian timeseries.png\", bbox_inches = 'tight', pad_inches = 0.1)\n",
    "\n",
    "f, ax3 = plt.subplots(1, 1, figsize=(15,12))\n",
    "ax3.plot(GED_data, alpha=.8)\n",
    "ax3.set_ylabel('Yearly Returns',loc='top', rotation = 0, labelpad = -100)\n",
    "ax3.set_ylim((-0.35,0.35))\n",
    "#plt.savefig(\"GED timeseries.png\", bbox_inches = 'tight', pad_inches = 0.1)\n",
    "\n",
    "f, ax4 = plt.subplots(1, 1, figsize=(15,12))\n",
    "ax4.plot(t_data, alpha=.8)\n",
    "ax4.set_ylabel('Yearly Returns',loc='top', rotation = 0, labelpad = -100)\n",
    "ax4.set_ylim((-0.35,0.35))\n",
    "#plt.savefig(\"Skewed Student's t timeseries.png\", bbox_inches = 'tight', pad_inches = 0.1)"
   ]
  },
  {
   "cell_type": "code",
   "execution_count": null,
   "metadata": {},
   "outputs": [],
   "source": []
  }
 ],
 "metadata": {
  "interpreter": {
   "hash": "035a4835455b69dd03d840b7a1daac0c5382153a24200b5f58c2216ec44fc40f"
  },
  "kernelspec": {
   "display_name": "Python 3",
   "language": "python",
   "name": "python3"
  },
  "language_info": {
   "codemirror_mode": {
    "name": "ipython",
    "version": 3
   },
   "file_extension": ".py",
   "mimetype": "text/x-python",
   "name": "python",
   "nbconvert_exporter": "python",
   "pygments_lexer": "ipython3",
   "version": "3.7.0"
  }
 },
 "nbformat": 4,
 "nbformat_minor": 4
}
