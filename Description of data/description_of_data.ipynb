{
 "cells": [
  {
   "cell_type": "code",
   "execution_count": null,
   "source": [
    "import datetime as dt\r\n",
    "import numpy as np\r\n",
    "import pandas as pd\r\n",
    "import matplotlib.pyplot as plt\r\n",
    "import scipy.stats as scipy\r\n",
    "from matplotlib import rc\r\n",
    "import matplotlib\r\n",
    "import yfinance\r\n",
    "import seaborn as sns\r\n",
    "plt.style.use('seaborn')"
   ],
   "outputs": [],
   "metadata": {}
  },
  {
   "cell_type": "code",
   "execution_count": null,
   "source": [
    "tickers = [\"EEM\", \"IVV\", \"IEV\", \"IXN\", \"IYR\", \"IXG\", \"IYR\", \"GC=F\", \"HYG\",\"TLT\"]\r\n",
    "#spx = pd.read_csv('../data/spx.csv').stack().tolist()"
   ],
   "outputs": [],
   "metadata": {}
  },
  {
   "cell_type": "markdown",
   "source": [
    "**Downloading data and calculating returns**"
   ],
   "metadata": {}
  },
  {
   "cell_type": "code",
   "execution_count": null,
   "source": [
    "raw_data = yfinance.download(tickers, start=\"2008-1-1\", back_adjust=True, auto_adjust=True)\r\n",
    "closing_prices = raw_data['Close']\r\n",
    "returns = closing_prices.pct_change().iloc[1:].ffill()*100 #returns\r\n",
    "index = closing_prices/closing_prices.iloc[0]*100 #index"
   ],
   "outputs": [],
   "metadata": {}
  },
  {
   "cell_type": "markdown",
   "source": [
    "**Plotter index figur med alle aktiver**"
   ],
   "metadata": {}
  },
  {
   "cell_type": "code",
   "execution_count": null,
   "source": [
    "fig, ax = plt.subplots(1, 1, dpi=190)\r\n",
    "ax.plot(index[\"EEM\"], label=\"Emerging Markets\", c=\"red\",linewidth=1)\r\n",
    "ax.plot(index[\"IVV\"], label=\"S&P 500\", c=\"grey\",linewidth=1)\r\n",
    "ax.plot(index[\"IEV\"], label=\"MSCI Europe\", c=\"green\",linewidth=1)\r\n",
    "ax.plot(index[\"IXN\"], label=\"Global Tech\", c=\"black\",linewidth=1)\r\n",
    "ax.plot(index[\"IYR\"], label=\"US Real Estate\", c=\"aqua\",linewidth=1)\r\n",
    "ax.plot(index[\"IXG\"], label=\"Global Financials\", c=\"orange\",linewidth=1)\r\n",
    "ax.plot(index[\"EXI\"], label=\"Global Industrials\", c=\"purple\",linewidth=1)\r\n",
    "ax.plot(index[\"GC=F\"], label=\"Gold\", c=\"Gold\",linewidth=1)\r\n",
    "ax.plot(index[\"BZ=F\"], label=\"Brent Crude Oil\", c=\"brown\",linewidth=1)\r\n",
    "ax.plot(index[\"HYG\"], label=\"High-yield Bonds\", c=\"blue\",linewidth=1)\r\n",
    "ax.plot(index[\"TLT\"], label=\"20+ Year Treasuries\", c=\"pink\",linewidth=1)\r\n",
    "ax.set_ylabel('Index (2008=index 100)',loc='top', rotation = 0, labelpad = -140) \r\n",
    "ax.legend()\r\n",
    "fig.savefig(\"Stocks_index_plot.png\", bbox_inches = 'tight', pad_inches = 0.1)"
   ],
   "outputs": [],
   "metadata": {
    "tags": []
   }
  },
  {
   "cell_type": "markdown",
   "source": [
    "**Fitter fordelinger og laver PDF'er for udvalgte tickers**"
   ],
   "metadata": {}
  },
  {
   "cell_type": "code",
   "execution_count": null,
   "source": [
    "ticker=\"IXG\"\r\n",
    "\r\n",
    "mu, std = scipy.norm.fit(returns[ticker]) #normal distribution fi#t\r\n",
    "beta, loc_ged, scale_ged = scipy.gennorm.fit(returns[ticker]) #GED f#it\r\n",
    "df, nc_t, loc_t, scale_t = scipy.nct.fit(returns[ticker]) #skewed student's t distrubiton fit\r\n",
    "\r\n",
    "#draw data\r\n",
    "xmin = returns[ticker].min()\r\n",
    "xmax = returns[ticker].max()\r\n",
    "x = np.linspace(xmin, xmax, 1000)\r\n",
    "\r\n",
    "normal_data=scipy.norm.pdf(x, mu, std)\r\n",
    "GED_data=scipy.gennorm.pdf(x, beta,loc_ged,scale_ged)\r\n",
    "t_data=scipy.nct.pdf(x, df,nc_t,loc_t,scale_t)"
   ],
   "outputs": [],
   "metadata": {}
  },
  {
   "cell_type": "markdown",
   "source": [
    "**Plotter PDF mod histogram af faktisk data**"
   ],
   "metadata": {}
  },
  {
   "cell_type": "code",
   "execution_count": null,
   "source": [
    "plt.style.use('seaborn')\r\n",
    "fig, ax = plt.subplots(1, 1, figsize=(7, 7), dpi=190)\r\n",
    "ax.plot(x, normal_data, label=\"Fitted gaussian\")#, c=\"blue\")\r\n",
    "ax.plot(x, GED_data, label=\"Fitted GED\")#, c = \"black\")\r\n",
    "ax.plot(x, t_data, label =\"Fitted skewed-t\")#, c=\"red\")\r\n",
    "ax.hist(returns[ticker], bins=100, alpha=0.6, density = True)\r\n",
    "#ax.set_xlim(-0.075, 0.075)\r\n",
    "ax.legend()\r\n",
    "ax.set_xlabel('Returns') \r\n",
    "ax.set_ylabel('Probability Density',loc='top', rotation = 0, labelpad = -110) \r\n",
    "#fig.savefig(\"Density.png\", bbox_inches = 'tight', pad_inches = 0.1)"
   ],
   "outputs": [],
   "metadata": {}
  },
  {
   "cell_type": "markdown",
   "source": [
    "Fitter GARCH model og plotter data"
   ],
   "metadata": {}
  },
  {
   "cell_type": "code",
   "execution_count": null,
   "source": [
    "#indsæt GARCH del"
   ],
   "outputs": [],
   "metadata": {}
  },
  {
   "cell_type": "code",
   "execution_count": null,
   "source": [
    "f, ax1 = plt.subplots(1, 1, figsize=(15,12))\r\n",
    "ax1.plot(returns[ticker], alpha=.8)\r\n",
    "ax1.set_ylabel('Yearly Returns',loc='top', rotation = 0, labelpad = -100)\r\n",
    "ax1.set_ylim((-0.35,0.35))\r\n",
    "#plt.savefig(\"Empirical timeseries.png\", bbox_inches = 'tight', pad_inches = 0.1)\r\n",
    "\r\n",
    "f, ax2 = plt.subplots(1, 1, figsize=(15,12))\r\n",
    "ax2.plot(normal_data, alpha=.8)\r\n",
    "ax2.set_ylabel('Yearly Returns',loc='top', rotation = 0, labelpad = -100)\r\n",
    "ax2.set_ylim((-0.35,0.35))\r\n",
    "#plt.savefig(\"Gaussian timeseries.png\", bbox_inches = 'tight', pad_inches = 0.1)\r\n",
    "\r\n",
    "f, ax3 = plt.subplots(1, 1, figsize=(15,12))\r\n",
    "ax3.plot(GED_data, alpha=.8)\r\n",
    "ax3.set_ylabel('Yearly Returns',loc='top', rotation = 0, labelpad = -100)\r\n",
    "ax3.set_ylim((-0.35,0.35))\r\n",
    "#plt.savefig(\"GED timeseries.png\", bbox_inches = 'tight', pad_inches = 0.1)\r\n",
    "\r\n",
    "f, ax4 = plt.subplots(1, 1, figsize=(15,12))\r\n",
    "ax4.plot(t_data, alpha=.8)\r\n",
    "ax4.set_ylabel('Yearly Returns',loc='top', rotation = 0, labelpad = -100)\r\n",
    "ax4.set_ylim((-0.35,0.35))\r\n",
    "#plt.savefig(\"Skewed Student's t timeseries.png\", bbox_inches = 'tight', pad_inches = 0.1)"
   ],
   "outputs": [],
   "metadata": {}
  },
  {
   "cell_type": "markdown",
   "source": [
    "**Laver Jarque bera normalitets test**"
   ],
   "metadata": {}
  },
  {
   "cell_type": "code",
   "execution_count": 86,
   "source": [
    "descriptive_statistics\r\n",
    "\r\n",
    "for ticker in tickers:\r\n",
    "    teststatic, p_value= scipy.jarque_bera(returns[ticker])\r\n",
    "    print(ticker,p_value)"
   ],
   "outputs": [
    {
     "output_type": "stream",
     "name": "stdout",
     "text": [
      "EEM 0.0\n",
      "IVV 0.0\n",
      "IEV 0.0\n",
      "GC=F 0.0\n",
      "HYG 0.0\n",
      "IXG 0.0\n",
      "IYR 0.0\n",
      "EXI 0.0\n",
      "BZ=F 0.0\n",
      "IXN 0.0\n",
      "TLT 0.0\n"
     ]
    }
   ],
   "metadata": {}
  },
  {
   "cell_type": "code",
   "execution_count": null,
   "source": [],
   "outputs": [],
   "metadata": {}
  }
 ],
 "metadata": {
  "interpreter": {
   "hash": "035a4835455b69dd03d840b7a1daac0c5382153a24200b5f58c2216ec44fc40f"
  },
  "kernelspec": {
   "name": "python3",
   "display_name": "Python 3.8.5 64-bit ('base': conda)"
  },
  "language_info": {
   "codemirror_mode": {
    "name": "ipython",
    "version": 3
   },
   "file_extension": ".py",
   "mimetype": "text/x-python",
   "name": "python",
   "nbconvert_exporter": "python",
   "pygments_lexer": "ipython3",
   "version": "3.8.5"
  }
 },
 "nbformat": 4,
 "nbformat_minor": 4
}